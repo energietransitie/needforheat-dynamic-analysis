{
 "cells": [
  {
   "cell_type": "markdown",
   "id": "49c9a204-182b-4ff0-aead-93786011a330",
   "metadata": {},
   "source": [
    "# Convert home addresses weather zones (H3 cells of level 4)"
   ]
  },
  {
   "cell_type": "code",
   "execution_count": null,
   "id": "11058c78-217d-43e2-b8b8-a9ced6fa200d",
   "metadata": {},
   "outputs": [],
   "source": [
    "import pandas as pd\n",
    "import numpy as np\n",
    "import requests\n",
    "\n",
    "from pyproj import Transformer\n",
    "\n",
    "import h3\n",
    "import folium\n",
    "from folium.plugins import MarkerCluster\n",
    "\n",
    "import sys\n",
    "sys.path.append('../data/')\n",
    "sys.path.append('../view/')\n",
    "from plotter import Plot\n",
    "\n",
    "excel_file = \"nfh_addresses.xlsx\"\n",
    "extended_excel_file = 'nfh_addresses_extended.xlsx'\n",
    "home_weather_locations_file_path = \"home_weather_locations.parquet\"\n",
    "home_weather_locations_excel_path = \"home_weather_locations.xlsx\"\n",
    "# student_file_output_path = \"students_data_science_weather_interpolation_locations.parquet\"\n",
    "# student_file_output_excel = \"students_data_science_weather_interpolation_locations.xlsx\"\n",
    "\n",
    "# BAG API endpoint\n",
    "BAG_API_URL = \"https://api.bag.kadaster.nl/lvbag/individuelebevragingen/v2/adressen\"\n",
    "\n",
    "# NB You also need a production API key for BAG and put it in a file with the name below and one line KADASTER_API_KEY=your_BAG_API_key \n",
    "api_keys_file='bag_api_key.txt'\n",
    "# If your organistion does not have one yet, request one here: https://www.kadaster.nl/zakelijk/producten/adressen-en-gebouwen/bag-api-individuele-bevragingen\n",
    "\n",
    "#striking a balance between precision for of geospatoial weather interpolation and privacy \n",
    "resolution = 4 "
   ]
  },
  {
   "cell_type": "code",
   "execution_count": null,
   "id": "aadf52bc-d2d5-4fa3-a243-0c4f32265dcc",
   "metadata": {},
   "outputs": [],
   "source": [
    "# Read API keys from a text file\n",
    "def read_api_keys(file_path):\n",
    "    api_keys = {}\n",
    "    with open(file_path, 'r') as file:\n",
    "        for line in file:\n",
    "            key, value = line.strip().split('=')\n",
    "            api_keys[key] = value\n",
    "    return api_keys"
   ]
  },
  {
   "cell_type": "code",
   "execution_count": null,
   "id": "29f423ba-507d-491d-9f29-85c261389954",
   "metadata": {},
   "outputs": [],
   "source": [
    "# Lezen van API keys uit het tekstbestand\n",
    "api_keys = read_api_keys(api_keys_file)\n",
    "API_KEY = api_keys.get('KADASTER_API_KEY')"
   ]
  },
  {
   "cell_type": "code",
   "execution_count": null,
   "id": "447bf7f7-3aa5-400e-b1ca-491424b184a6",
   "metadata": {},
   "outputs": [],
   "source": [
    "# Functie om RD-coördinaten om te zetten naar GPS-coördinaten\n",
    "def rd_to_gps(rd_x, rd_y):\n",
    "    transformer = Transformer.from_crs(\"epsg:28992\", \"epsg:4326\")  # RD naar WGS84\n",
    "    lat, lon = transformer.transform(rd_x, rd_y)\n",
    "    return lat, lon"
   ]
  },
  {
   "cell_type": "code",
   "execution_count": null,
   "id": "4c2dc886-c5a8-4e95-8863-fa18c6b956e0",
   "metadata": {},
   "outputs": [],
   "source": [
    "# Functie om adresdetails op te halen van de BAG API\n",
    "def get_address_details(postcode, huisnummer, huisletter=None):\n",
    "    headers = {\n",
    "        'X-Api-Key': API_KEY\n",
    "    }\n",
    "    params = {\n",
    "        'postcode': postcode.replace(' ', ''),\n",
    "        'huisnummer': huisnummer,\n",
    "    }\n",
    "    if huisletter:\n",
    "        params['huisletter'] = huisletter\n",
    "\n",
    "    response = requests.get(BAG_API_URL, headers=headers, params=params)\n",
    "    response.raise_for_status()\n",
    "    data = response.json()\n",
    "    \n",
    "\n",
    "    # Check whether key 'adressen' is present\n",
    "    if '_embedded' in data and 'adressen' in data['_embedded']:\n",
    "        address = data['_embedded']['adressen'][0]\n",
    "        rd_x = None\n",
    "        rd_y = None\n",
    "        street = address['openbareRuimteNaam']\n",
    "        city = address['woonplaatsNaam']\n",
    "        \n",
    "        # Get RD-coordinates via the link adresseerbaarObject \n",
    "        if 'adresseerbaarObject' in address['_links']:\n",
    "            adresseerbaarObject_url = address['_links']['adresseerbaarObject']['href']\n",
    "            headers['Accept-Crs'] = 'epsg:28992'\n",
    "            adresseerbaarObject_response = requests.get(adresseerbaarObject_url, headers=headers)\n",
    "            adresseerbaarObject_response.raise_for_status()\n",
    "            adresseerbaarObject_data = adresseerbaarObject_response.json()\n",
    "            if 'geometrie' in adresseerbaarObject_data['verblijfsobject']:\n",
    "                coordinates = adresseerbaarObject_data['verblijfsobject']['geometrie']['punt']['coordinates']\n",
    "                rd_x, rd_y = coordinates[0], coordinates[1]\n",
    "                \n",
    "        return rd_x, rd_y, street, city\n",
    "    else:\n",
    "        raise KeyError(\"De sleutel 'adressen' ontbreekt in de respons\")"
   ]
  },
  {
   "cell_type": "code",
   "execution_count": null,
   "id": "d9415fe1-42d9-42d8-bd0b-d3dd10b0d03e",
   "metadata": {},
   "outputs": [],
   "source": [
    "# Function to add location information to an address consisting of only PC6, home number and home letter\n",
    "def add_addres_location_to_pc6homenr(row):\n",
    "    try:\n",
    "        huisletter = row['home_nr_add_on']\n",
    "        if pd.isna(huisletter):  # Check whether value is NaN\n",
    "            huisletter = None  # If NaN convert to None\n",
    "        rd_x, rd_y, street, city = get_address_details(row['pc6'], row['home_nr'], huisletter)\n",
    "        lat, lon = rd_to_gps(rd_x, rd_y)\n",
    "        return pd.Series([street, city, rd_x, rd_y, lat, lon])\n",
    "    except Exception as e:\n",
    "        print(f\"Error processing row: {e}\")\n",
    "        return pd.Series([None, None, None, None, None])"
   ]
  },
  {
   "cell_type": "markdown",
   "id": "33f56560-3ecd-499a-8c49-98dd9186b67f",
   "metadata": {},
   "source": [
    "## Read addresses"
   ]
  },
  {
   "cell_type": "code",
   "execution_count": null,
   "id": "952dc74e-b302-4eb7-b89e-b9de7ba026e7",
   "metadata": {},
   "outputs": [],
   "source": [
    "# Read Excel file\n",
    "df = pd.read_excel('nfh_addresses.xlsx')"
   ]
  },
  {
   "cell_type": "code",
   "execution_count": null,
   "id": "b9c0554a-1a80-4a45-ab27-d4132f4d7162",
   "metadata": {},
   "outputs": [],
   "source": [
    "df = df.set_index('id')"
   ]
  },
  {
   "cell_type": "code",
   "execution_count": null,
   "id": "71e674ea-2715-4173-b1c4-f70e43403a1d",
   "metadata": {},
   "outputs": [],
   "source": [
    "# Convert NaN values in 'home_nr_add_on' to empty strings\n",
    "df['home_nr_add_on'] = df['home_nr_add_on'].replace(np.nan, '')\n"
   ]
  },
  {
   "cell_type": "code",
   "execution_count": null,
   "id": "c48d84e2-3cc7-4187-a7e0-50820153e5a4",
   "metadata": {},
   "outputs": [],
   "source": [
    "df"
   ]
  },
  {
   "cell_type": "markdown",
   "id": "e6ba38b4-bff0-498c-b45b-35fa2abde93d",
   "metadata": {},
   "source": [
    "## Add location"
   ]
  },
  {
   "cell_type": "code",
   "execution_count": null,
   "id": "46924fa8-c1d9-47c5-a2c1-4dd225827ab6",
   "metadata": {},
   "outputs": [],
   "source": [
    "# Apply add_addres_location_to_pc6homenr function to each row\n",
    "df[['street', 'city', 'rd_x', 'rd_y', 'gps_lat__degN', 'gps_lon__degE']] = df.apply(add_addres_location_to_pc6homenr, axis=1)"
   ]
  },
  {
   "cell_type": "code",
   "execution_count": null,
   "id": "875fe99b-3e51-483b-a107-06840bcdfadb",
   "metadata": {},
   "outputs": [],
   "source": [
    "df"
   ]
  },
  {
   "cell_type": "code",
   "execution_count": null,
   "id": "1e93b136-2f31-4aac-ab0c-59bdcf99dd0f",
   "metadata": {},
   "outputs": [],
   "source": [
    "# Function to convert latitude and longitude to H3 index\n",
    "def lat_lon_to_h3(lat, lon, resolution):\n",
    "    return h3.geo_to_h3(lat, lon, resolution)\n",
    "\n",
    "# Function to get the center of H3 cell\n",
    "def h3_to_lat_lon(h3_index):\n",
    "    lat, lon = h3.h3_to_geo(h3_index)\n",
    "    return lat, lon"
   ]
  },
  {
   "cell_type": "code",
   "execution_count": null,
   "id": "9fc7a471-2654-4e02-8b98-51615cd4fc37",
   "metadata": {},
   "outputs": [],
   "source": [
    "# Main function to convert addresses to H3\n",
    "def adresses_lat_lon_to_h3(addresses, resolution=4):\n",
    "    results = []\n",
    "    for index, row in addresses.iterrows():\n",
    "        h3_index = lat_lon_to_h3(row['gps_lat__degN'], row['gps_lon__degE'], resolution)\n",
    "        h3_center = h3_to_lat_lon(h3_index)\n",
    "        results.append({\n",
    "            'H3_cell_id': h3_index,\n",
    "            'H3_cell_gps_lat__degN': h3_center[0],\n",
    "            'H3_cell_gps_lon__degE': h3_center[1]\n",
    "        })\n",
    "    return results"
   ]
  },
  {
   "cell_type": "code",
   "execution_count": null,
   "id": "643e1bd6-ecef-46bd-899a-e0f2a7d395df",
   "metadata": {},
   "outputs": [],
   "source": [
    "# Main function to convert addresses to H3\n",
    "def addresses_to_h3(addresses, resolution=4):\n",
    "    results = []\n",
    "    for index, row in addresses.iterrows():\n",
    "        address = f'{row[\"PC6\"]}, {row[\"home_nr\"]}{row[\"home_nr_add_on\"]}, Netherlands'\n",
    "        lat_lon = geocode_address(row['PC6'], row['home_nr'], row['home_nr_add_on'])\n",
    "        if lat_lon:\n",
    "            h3_index = lat_lon_to_h3(lat_lon[0], lat_lon[1], resolution)\n",
    "            h3_center = h3_to_lat_lon(h3_index)\n",
    "            results.append({\n",
    "                'address': address,\n",
    "                'gps_lat__degN': lat_lon[0],\n",
    "                'gps_lon__degE': lat_lon[1],\n",
    "                'H3_cell_id': h3_index,\n",
    "                'H3_cell_gps_lat__degN': h3_center[0],\n",
    "                'H3_cell_gps_lon__degE': h3_center[1]\n",
    "            })\n",
    "    return results"
   ]
  },
  {
   "cell_type": "code",
   "execution_count": null,
   "id": "50a02ffe-d738-499c-8691-feb1a01c0f6e",
   "metadata": {},
   "outputs": [],
   "source": [
    "# Function to add weather_lat and weather_lon to DataFrame\n",
    "def add_weather_coordinates(addresses_df, h3_coordinates):\n",
    "    weather_lat = [coord['H3_cell_gps_lat__degN'] for coord in h3_coordinates]\n",
    "    weather_lon = [coord['H3_cell_gps_lon__degE'] for coord in h3_coordinates]\n",
    "    weather_H3_cell_id = [coord['H3_cell_id'] for coord in h3_coordinates]\n",
    "    addresses_df['weather_lat__degN'] = weather_lat\n",
    "    addresses_df['weather_lon__degE'] = weather_lon\n",
    "    addresses_df['weather_H3_cell_id'] = weather_H3_cell_id\n",
    "    return addresses_df"
   ]
  },
  {
   "cell_type": "markdown",
   "id": "ff4d5188-ae76-4229-9d42-3d8c2015a689",
   "metadata": {},
   "source": [
    "## Add H3 weather zone"
   ]
  },
  {
   "cell_type": "code",
   "execution_count": null,
   "id": "d55804a3-b566-45ad-b095-c33561e76fd7",
   "metadata": {},
   "outputs": [],
   "source": [
    "# Convert addresses to H3 coordinates\n",
    "h3_coordinates  = adresses_lat_lon_to_h3(df, resolution)\n"
   ]
  },
  {
   "cell_type": "code",
   "execution_count": null,
   "id": "0998cd1c-8e02-4274-a188-6f23ee6e3a36",
   "metadata": {},
   "outputs": [],
   "source": [
    "# Add weather coordinates to the DataFrame\n",
    "df = add_weather_coordinates(df, h3_coordinates)"
   ]
  },
  {
   "cell_type": "code",
   "execution_count": null,
   "id": "10fe985d-f167-44b9-9af5-df98f93f2a54",
   "metadata": {},
   "outputs": [],
   "source": [
    "df"
   ]
  },
  {
   "cell_type": "code",
   "execution_count": null,
   "id": "5a57fcf9-3ea2-4799-9f45-c1dd62f71f41",
   "metadata": {},
   "outputs": [],
   "source": [
    "# Save file with extended data as Excel\n",
    "df.to_excel(extended_excel_file, index=True)"
   ]
  },
  {
   "cell_type": "markdown",
   "id": "3e8cdfc8-9298-40b5-be7d-d41d5c29ef17",
   "metadata": {},
   "source": [
    "## Draw weather zones on map "
   ]
  },
  {
   "cell_type": "code",
   "execution_count": null,
   "id": "49427877-2068-420a-83a2-084c854adc5f",
   "metadata": {
    "scrolled": true
   },
   "outputs": [],
   "source": [
    "# Create a list of H3 cell IDs\n",
    "h3_cell_ids = df['weather_H3_cell_id'].tolist()\n",
    "\n",
    "# Create a DataFrame for the marker information\n",
    "marker_data = {\n",
    "    'lat__degN': df['gps_lat__degN'],\n",
    "    'lon__degE': df['gps_lon__degE'],\n",
    "    'popup_text': df.apply(lambda row: f\"{row['street']} {row['home_nr']} {row['home_nr_add_on']} {row['pc6']} {row['city']}\", axis=1)\n",
    "}\n",
    "marker_df = pd.DataFrame(marker_data)\n",
    "\n",
    "# Call the plot_h3_cells_and_markers function\n",
    "Plot.plot_h3_cells_and_markers(h3_cell_ids, marker_df, output_file=\"map_with_real_home_locations_and_h3_cells.html\")"
   ]
  },
  {
   "cell_type": "markdown",
   "id": "de7268c3-6dae-4313-bc11-e675827aa2ed",
   "metadata": {},
   "source": [
    "## Convert to pseudonymous mapping"
   ]
  },
  {
   "cell_type": "code",
   "execution_count": null,
   "id": "173b8e60-7c20-4e29-94bd-535737901235",
   "metadata": {},
   "outputs": [],
   "source": [
    "df_pseudonymous = df[['weather_lat__degN', 'weather_lon__degE', 'weather_H3_cell_id']]"
   ]
  },
  {
   "cell_type": "code",
   "execution_count": null,
   "id": "cbb1a83c-2fe8-4663-bbec-3cfe6b0706eb",
   "metadata": {},
   "outputs": [],
   "source": [
    "df_pseudonymous"
   ]
  },
  {
   "cell_type": "code",
   "execution_count": null,
   "id": "a3900ed7-cc30-457f-a5fd-34b1b2a5a975",
   "metadata": {},
   "outputs": [],
   "source": [
    "%%time \n",
    "df_pseudonymous.to_parquet(home_weather_locations_file_path, index=True, engine='pyarrow')"
   ]
  },
  {
   "cell_type": "code",
   "execution_count": null,
   "id": "b10de702-723d-4cef-9409-a1305a21d222",
   "metadata": {},
   "outputs": [],
   "source": [
    "# Save the DataFrame back to Excel\n",
    "df_pseudonymous.to_excel(home_weather_locations_excel_path, index=True)"
   ]
  },
  {
   "cell_type": "markdown",
   "id": "8c9c7ccc-9396-4c3d-a090-ca918bc4d160",
   "metadata": {},
   "source": [
    "## Convert to student mapping"
   ]
  },
  {
   "cell_type": "code",
   "execution_count": null,
   "id": "34d21879-16cd-4211-85e2-33fd2846fb1f",
   "metadata": {},
   "outputs": [],
   "source": [
    "# # Read the mapping DataFrame from the Excel file\n",
    "# mapping_df = pd.read_excel('pseudonym_id_student_mapping.xlsx')"
   ]
  },
  {
   "cell_type": "code",
   "execution_count": null,
   "id": "7540b924-6921-4ed3-bab7-8cc510817ec1",
   "metadata": {},
   "outputs": [],
   "source": [
    "# mapping_df"
   ]
  },
  {
   "cell_type": "code",
   "execution_count": null,
   "id": "85798c94-15da-4d06-9832-c5b3aad902ee",
   "metadata": {},
   "outputs": [],
   "source": [
    "# df_pseudonymous.index.get_level_values(0).unique()"
   ]
  },
  {
   "cell_type": "code",
   "execution_count": null,
   "id": "0595ad83-3f97-4927-ab73-7a3607980fe5",
   "metadata": {},
   "outputs": [],
   "source": [
    "# # Convert the mapping DataFrame to a dictionary with 'id' as key and 'random_id' as value\n",
    "# id_mapping_dict = dict(zip(mapping_df['id'], mapping_df['random_id']))\n",
    "\n",
    "# # Replace 'id' values in the DataFrame using the dictionary\n",
    "# df_pseudonymous.index = df_pseudonymous.index.map(id_mapping_dict)"
   ]
  },
  {
   "cell_type": "code",
   "execution_count": null,
   "id": "9484bfe4-053e-4705-846d-10c9ad4e9c89",
   "metadata": {},
   "outputs": [],
   "source": [
    "# df_pseudonymous.index"
   ]
  },
  {
   "cell_type": "code",
   "execution_count": null,
   "id": "a3b68c5b-bda2-4233-a367-bbc3f59b90f8",
   "metadata": {},
   "outputs": [],
   "source": [
    "# df_pseudonymous.index = df_pseudonymous.index.astype('Int64')"
   ]
  },
  {
   "cell_type": "code",
   "execution_count": null,
   "id": "f8374b9e-001f-4391-a363-f0611d2d1744",
   "metadata": {},
   "outputs": [],
   "source": [
    "# df_pseudonymous"
   ]
  },
  {
   "cell_type": "code",
   "execution_count": null,
   "id": "b9a9a0ec-6f30-4c91-afb0-5abb16472e03",
   "metadata": {},
   "outputs": [],
   "source": [
    "# df_pseudonymous.index.unique()"
   ]
  },
  {
   "cell_type": "code",
   "execution_count": null,
   "id": "1c39bced-507b-477a-9319-816c1326a993",
   "metadata": {},
   "outputs": [],
   "source": [
    "# df_pseudonymous = df_pseudonymous.reset_index().dropna(axis=0, subset=['id']).set_index('id')"
   ]
  },
  {
   "cell_type": "code",
   "execution_count": null,
   "id": "2b439299-956e-4bc6-9d44-78886b0c0d20",
   "metadata": {},
   "outputs": [],
   "source": [
    "# df_pseudonymous"
   ]
  },
  {
   "cell_type": "code",
   "execution_count": null,
   "id": "1095a0f9-4b5f-4469-ad76-b502963002c5",
   "metadata": {},
   "outputs": [],
   "source": [
    "# %%time \n",
    "# df_pseudonymous.to_parquet(student_file_output_path, index=True, engine='pyarrow')"
   ]
  },
  {
   "cell_type": "code",
   "execution_count": null,
   "id": "9ea84884-607b-42f6-b52b-c83dc47565af",
   "metadata": {},
   "outputs": [],
   "source": [
    "# Save the DataFrame back to Excel\n",
    "# df_pseudonymous.to_excel(student_file_output_excel, index=True)"
   ]
  }
 ],
 "metadata": {
  "kernelspec": {
   "display_name": "Python 3 (ipykernel)",
   "language": "python",
   "name": "python3"
  },
  "language_info": {
   "codemirror_mode": {
    "name": "ipython",
    "version": 3
   },
   "file_extension": ".py",
   "mimetype": "text/x-python",
   "name": "python",
   "nbconvert_exporter": "python",
   "pygments_lexer": "ipython3",
   "version": "3.11.6"
  }
 },
 "nbformat": 4,
 "nbformat_minor": 5
}
