{
 "cells": [
  {
   "cell_type": "markdown",
   "id": "02aa6298-301d-4d2f-b59e-7bc2432c67d4",
   "metadata": {},
   "source": [
    "# REDUCEDHEATCARB analysis\n",
    "\n",
    "This JupyterLabs notebook can be used for physics ifnormed machine learning analysis in the REDUCEDHEATCAB project.\n",
    "Don't forget to install the requirements listed in [requirements.txt](../requirements.txt) first!"
   ]
  },
  {
   "cell_type": "markdown",
   "id": "40e8f82e-93a6-4156-b4cb-4744c4cc8c13",
   "metadata": {},
   "source": [
    "## Setting the stage\n",
    "\n",
    "First several imports and variables need to be defined\n"
   ]
  },
  {
   "cell_type": "markdown",
   "id": "b276aade-cd93-4e8a-957d-fdc2d3a84336",
   "metadata": {},
   "source": [
    "### Imports and generic settings"
   ]
  },
  {
   "cell_type": "code",
   "execution_count": null,
   "id": "08d2d6ec-cf03-47d6-a505-bf37716c4700",
   "metadata": {},
   "outputs": [],
   "source": [
    "import numpy as np\n",
    "import pandas as pd\n",
    "from datetime import datetime, timedelta\n",
    "\n",
    "%load_ext autoreload\n",
    "\n",
    "    \n",
    "from tqdm.notebook import tqdm\n",
    "from bspline.interpolate import RectBivariateSpline\n",
    "\n",
    "from gekko import GEKKO\n",
    "\n",
    "import sys\n",
    "sys.path.append('../data/')\n",
    "sys.path.append('../view/')\n",
    "sys.path.append('../analysis/')\n",
    "\n",
    "from plotter import Plot\n",
    "import matplotlib.pyplot as plt\n",
    "from matplotlib import cm\n",
    "from matplotlib.colors import Normalize\n",
    "from ipywidgets import interact, FloatSlider, SelectMultiple, VBox, HBox, Output, Checkbox\n",
    "from IPython.display import display\n",
    "from scipy.stats import linregress\n",
    "\n",
    "%matplotlib inline\n",
    "%matplotlib widget\n",
    "\n",
    "\n",
    "from nfh_utils import *\n",
    "\n",
    "# usually, two decimals suffice for displaying DataFrames (NB internally, precision may be higher)\n",
    "pd.options.display.precision = 2\n",
    "\n",
    "from rhc_analysis import BoilerEfficiency, Learner, Model, Comfort, Simulator\n",
    "\n",
    "# rhc_preprocessed_poperties_file='rhc_preprocessed_properties_intv_5_min.parquet'\n",
    "rhc_preprocessed_poperties_file='rhc_preprocessed_properties_intv_1_min.parquet'\n",
    "\n",
    "home_BAG_data_file_path = 'buildings_properties_detailed.xlsx'\n",
    "home_metadata_file_path = 'home_properties_detailed.parquet'\n",
    "boilers_excel_file_path = \"boilers.xlsx\"\n",
    "homes_boilers_excel_file_path = \"homes_boilers.xlsx\"\n",
    "\n",
    "# Initialize the class with the path to your Parquet file\n",
    "boiler_returntemp_load_efficiency_file_path = 'boiler_returntemp_load_efficiency.parquet'\n",
    "boiler_efficiency = BoilerEfficiency(boiler_returntemp_load_efficiency_file_path)\n",
    "\n",
    "regime_change_A1_file_path = 'homes_interventions_A1.xlsx'\n",
    "regime_change_B1_file_path = 'homes_interventions_B1.xlsx'\n",
    "\n",
    "# File for intermediate output (including preprocessing that may likely needs to migrate to the GEKKO model code for the what-if simulations)\n",
    "rhc_heat_dstr_preprocessed_poperties_file='rhc_heat_dstr_preprocessed_properties.parquet'\n",
    "\n",
    "rhc_analysis_results_file = 'rhc_results.parquet'\n",
    "rhc_analysis_results_per_period_file = 'rhc_results_per_period.xlsx'\n",
    "\n",
    "rhc_dstr_analysis_results_per_period_file = 'rhc_dstr_results_per_period.parquet'\n",
    "rhc_dstr_analysis_results_per_period_excel_file = 'rhc_dstr_results_per_period.xlsx'\n",
    "\n",
    "import logging \n",
    "\n",
    "# Clear any existing handlers to avoid duplicate logs\n",
    "for handler in logging.root.handlers[:]:\n",
    "    logging.root.removeHandler(handler)\n",
    "\n",
    "# Set up logging to the console only\n",
    "logging.basicConfig(\n",
    "    level=logging.WARNING,  # Adjust log level as necessary (DEBUG, INFO, WARNING, etc.)\n",
    "    # level=logging.INFO,  # Adjust log level as necessary (DEBUG, INFO, WARNING, etc.)\n",
    "    # level=logging.DEBUG,  # Adjust log level as necessary (DEBUG, INFO, WARNING, etc.)\n",
    "    stream=sys.stderr,    # Send logs to stdout (you can also use sys.stderr if needed)\n",
    "    format='%(asctime)s - %(name)s - %(levelname)s - %(message)s',\n",
    ")"
   ]
  },
  {
   "cell_type": "code",
   "execution_count": null,
   "id": "aa218f9d-4ae8-43ab-b88d-6d15a89e614c",
   "metadata": {},
   "outputs": [],
   "source": [
    "units_to_mathtext = property_types = {\n",
    "    'degC' : r'$°C$',\n",
    "    'ppm' : r'$ppm$',\n",
    "    '0' : r'$[-]$',\n",
    "    'bool': r'$0 = False; 1 = True$',\n",
    "    'p' : r'$persons$',\n",
    "    'W' : r'$W$',\n",
    "    'W_m_2' : r'$W/m^{2}$',\n",
    "    'm_s_1' : r'$m/s$',\n",
    "    'W0' : r'$W^{0}$',\n",
    "    'l_min_1' : r'$L/min$',\n",
    "    'dm3_s_1' : r'$dm^{3}/s$',\n",
    "    'pct': '%',\n",
    "    'min_1' : r'$min^{-1}$',\n",
    "    'K' : r'$K$',\n",
    "}"
   ]
  },
  {
   "cell_type": "markdown",
   "id": "67602115-22ca-4ea5-a6ee-58d851205533",
   "metadata": {},
   "source": [
    "### Reading building and installation parameters"
   ]
  },
  {
   "cell_type": "code",
   "execution_count": null,
   "id": "a5c1c695-60a9-461a-b5c8-58aad03cb378",
   "metadata": {},
   "outputs": [],
   "source": [
    "df_bldng_data  = pd.read_excel(home_BAG_data_file_path,  index_col='id')"
   ]
  },
  {
   "cell_type": "code",
   "execution_count": null,
   "id": "9e154f9e-ecd8-4df5-ba9a-8c8cde61dffe",
   "metadata": {},
   "outputs": [],
   "source": [
    "with pd.option_context('display.float_format', '{:.2f}'.format):\n",
    "    display(df_bldng_data.T)"
   ]
  },
  {
   "cell_type": "code",
   "execution_count": null,
   "id": "64427453-439b-47d0-ac9d-e5dabf095aec",
   "metadata": {},
   "outputs": [],
   "source": [
    "df_boilers = pd.read_excel(boilers_excel_file_path)[['brand_model',\n",
    "                                                     'fan_min_ch_rotations__min_1',\n",
    "                                                     'fan_max_ch_rotations__min_1',\n",
    "                                                     'Qnh_min_lhv__kW',\n",
    "                                                     'Qnh_max_lhv__kW', \n",
    "                                                     'desired_delta_t_flow_ret__K',\n",
    "                                                     'overheat_hysteresis__K',\n",
    "                                                     'pump_brand__str',\n",
    "                                                     'pump_model__str',\n",
    "                                                     'pump_head_max__m',\n",
    "                                                    ]]"
   ]
  },
  {
   "cell_type": "code",
   "execution_count": null,
   "id": "eab46ba0-9538-4309-bfdf-5e55ad5d86ac",
   "metadata": {},
   "outputs": [],
   "source": [
    "df_homes_boilers = pd.read_excel(homes_boilers_excel_file_path).rename(columns={'pseudonym': 'id'})\n",
    "\n",
    "df_homes_boilers = pd.merge(df_homes_boilers, df_boilers, on='brand_model', how='left').set_index('id')"
   ]
  },
  {
   "cell_type": "code",
   "execution_count": null,
   "id": "e6121a14-9557-4068-90da-9c4c0e2d057d",
   "metadata": {},
   "outputs": [],
   "source": [
    "df_boilers"
   ]
  },
  {
   "cell_type": "code",
   "execution_count": null,
   "id": "c791f947-d5c2-42ff-a7c2-7766459d4145",
   "metadata": {},
   "outputs": [],
   "source": [
    "df_homes_boilers"
   ]
  },
  {
   "cell_type": "code",
   "execution_count": null,
   "id": "331b9a54-353e-4131-873c-4db21039c0b8",
   "metadata": {},
   "outputs": [],
   "source": [
    "df_bldng_data = pd.merge(df_bldng_data, df_homes_boilers[['fan_min_ch_rotations__min_1',\n",
    "                                                          'fan_max_ch_rotations__min_1',\n",
    "                                                          'Qnh_min_lhv__kW',\n",
    "                                                          'Qnh_max_lhv__kW', \n",
    "                                                          'desired_delta_t_flow_ret__K',\n",
    "                                                          'overheat_hysteresis__K',\n",
    "                                                          'floor_heating__bool',\n",
    "                                                          'brand_model',\n",
    "                                                          'pump_brand__str',\n",
    "                                                          'pump_model__str',\n",
    "                                                          'pump_head_max__m',\n",
    "                                                         ]], on='id', how='left')\n"
   ]
  },
  {
   "cell_type": "code",
   "execution_count": null,
   "id": "190e4a9d-d44b-4b49-bf7d-6cbb4fc55be7",
   "metadata": {},
   "outputs": [],
   "source": [
    "with pd.option_context('display.float_format', '{:.2f}'.format):\n",
    "    display(df_bldng_data.T)"
   ]
  },
  {
   "cell_type": "code",
   "execution_count": null,
   "id": "fb2cc151-3260-4706-9ead-e4324d93515a",
   "metadata": {},
   "outputs": [],
   "source": [
    "df_bldng_data.columns.to_list()"
   ]
  },
  {
   "cell_type": "code",
   "execution_count": null,
   "id": "be24a135-722f-4719-9056-4fd1a40a2ee0",
   "metadata": {},
   "outputs": [],
   "source": [
    "df_bldng_data.describe().T"
   ]
  },
  {
   "cell_type": "markdown",
   "id": "e93ca82e-1b3a-4f8f-95c3-5a2a0ffeba0c",
   "metadata": {},
   "source": [
    "### Reading preprocessed interpolated properties from a parquet file"
   ]
  },
  {
   "cell_type": "code",
   "execution_count": null,
   "id": "b8547a2a-b7cd-465a-a94d-a5bf10c88ea7",
   "metadata": {},
   "outputs": [],
   "source": [
    "%%time\n",
    "\n",
    "# Attempt to read the Parquet file\n",
    "try:\n",
    "    df_prep = pd.read_parquet(\n",
    "        rhc_preprocessed_poperties_file, \n",
    "        engine='pyarrow',\n",
    "        dtype_backend='numpy_nullable'\n",
    "        )\n",
    "    print(\"File was successfully read without specifying compression codec.\")\n",
    "except Exception as e:\n",
    "    print(f\"Error reading file: {e}\")"
   ]
  },
  {
   "cell_type": "code",
   "execution_count": null,
   "id": "25260ecc-713e-4436-a9ec-43090f878782",
   "metadata": {},
   "outputs": [],
   "source": [
    "#sorting the DataFrame index is needed to get good performance on certain filters\n",
    "#this guarding code to check whether DataFrames are properly sorted\n",
    "if not df_prep.index.is_monotonic_increasing:\n",
    "    print('df needed index sorting')\n",
    "    df_prep = df_prep.sort_index()  "
   ]
  },
  {
   "cell_type": "code",
   "execution_count": null,
   "id": "dd0fda48-4033-401e-9378-9f33c8d02f32",
   "metadata": {},
   "outputs": [],
   "source": [
    "# Create masks\n",
    "boiler_burning_mask = ((df_prep['batch_import_remeha_boiler_status_burning_ch__bool'] == True) | (df_prep['batch_import_remeha_boiler_status_burning_dhw__bool'] == True)) & (df_prep['batch_import_remeha_gas_valve_open__bool'] == True)\n",
    "ch_gas_mask = (df_prep['batch_import_remeha_boiler_status_burning_ch__bool'] == True) & (df_prep['batch_import_remeha_gas_valve_open__bool'] == True)\n",
    "dhw_gas_mask = (df_prep['batch_import_remeha_boiler_status_burning_dhw__bool'] == True) & (df_prep['batch_import_remeha_gas_valve_open__bool'] == True)\n",
    "remeha_data_notna_mask = (df_prep['batch_import_remeha_temp_indoor__degC'].notna()) & (df_prep['device_p1-reader_g_use_hhv__W'].notna())\n",
    "boiler_valve_closed_mask = (df_prep['batch_import_remeha_temp_indoor__degC'].notna()) & (df_prep['batch_import_remeha_gas_valve_closed__bool'] == True)"
   ]
  },
  {
   "cell_type": "code",
   "execution_count": null,
   "id": "eda4ab11-d12c-4241-b820-9eea541fd35b",
   "metadata": {},
   "outputs": [],
   "source": [
    "print(f\"df_prep.count().sum(): {df_prep.count().sum():_}\")"
   ]
  },
  {
   "cell_type": "code",
   "execution_count": null,
   "id": "a7fd00c9-b0fa-470f-a99b-0afd761f86ee",
   "metadata": {},
   "outputs": [],
   "source": [
    "df_prep.info()"
   ]
  },
  {
   "cell_type": "markdown",
   "id": "6da14c91-96cc-4b9a-ab66-819a93e16204",
   "metadata": {},
   "source": [
    "## Determine post_pump_run__pct"
   ]
  },
  {
   "cell_type": "code",
   "execution_count": null,
   "id": "451f99c2-91d1-4858-8923-1b477ea97570",
   "metadata": {},
   "outputs": [],
   "source": [
    "Plot.nfh_property_per_id_boxplot(df_prep[df_prep['batch_import_remeha_boiler_status_pump_post_run__bool'] == True]['batch_import_remeha_flow_dstr_pump_speed__pct'].to_frame(), property_col='batch_import_remeha_flow_dstr_pump_speed__pct')"
   ]
  },
  {
   "cell_type": "code",
   "execution_count": null,
   "id": "6a9a6a8c-9c66-4423-9244-243e78d70a45",
   "metadata": {},
   "outputs": [],
   "source": [
    "%%time\n",
    "median_pump_speeds = (\n",
    "    df_prep[df_prep['batch_import_remeha_boiler_status_pump_post_run__bool'] == True]\n",
    "    ['batch_import_remeha_flow_dstr_pump_speed__pct']\n",
    "    .groupby('id')\n",
    "    .median()\n",
    ")\n"
   ]
  },
  {
   "cell_type": "code",
   "execution_count": null,
   "id": "f93e843f-7411-459d-b0af-730663f62322",
   "metadata": {},
   "outputs": [],
   "source": [
    "%%time\n",
    "if 'post_pump_run__pct' not in df_bldng_data.columns:\n",
    "    df_bldng_data['post_pump_run__pct'] = df_bldng_data.index.map(median_pump_speeds)\n"
   ]
  },
  {
   "cell_type": "code",
   "execution_count": null,
   "id": "81105acf-4b7b-4c9d-84b3-3308e7f64a62",
   "metadata": {},
   "outputs": [],
   "source": [
    "with pd.option_context('display.float_format', '{:.2f}'.format):\n",
    "    display(df_bldng_data.sort_values('brand_model').T)"
   ]
  },
  {
   "cell_type": "markdown",
   "id": "ef037b1c-f77c-4038-985a-c30d8cda299c",
   "metadata": {},
   "source": [
    "## Do other data inspections"
   ]
  },
  {
   "cell_type": "code",
   "execution_count": null,
   "id": "db7c0226-4b5d-4395-aab5-b9b29257c251",
   "metadata": {},
   "outputs": [],
   "source": [
    "%%time\n",
    "boolean_cols = [col for col in df_prep.columns if df_prep[col].dtype.name == 'boolean']\n",
    "\n",
    "summary = (\n",
    "    df_prep[boolean_cols]\n",
    "    .apply(lambda col: col.value_counts(dropna=False).reindex([True, False, pd.NA], fill_value=0))\n",
    "    .T\n",
    "    # .rename(columns={True: '% True', False: '% False', pd.NA: '% NA'})\n",
    ")"
   ]
  },
  {
   "cell_type": "code",
   "execution_count": null,
   "id": "0b6face3-2524-446b-93bd-52cecd24768f",
   "metadata": {},
   "outputs": [],
   "source": [
    "display(summary.style.format(\"{:,}\"))"
   ]
  },
  {
   "cell_type": "code",
   "execution_count": null,
   "id": "06cd43f9-c511-44b8-992f-038491c32a12",
   "metadata": {},
   "outputs": [],
   "source": [
    "summary__pct = (\n",
    "    df_prep[boolean_cols]\n",
    "    .apply(lambda col: col.value_counts(dropna=False).reindex([True, False, pd.NA], fill_value=0))\n",
    "    .T\n",
    "    .rename(columns={True: '% True', False: '% False', pd.NA: '% NA'})\n",
    ")\n",
    "\n",
    "summary__pct = (summary__pct.div(summary__pct.sum(axis=1), axis=0) * 100).round(2)  # Convert to percentages"
   ]
  },
  {
   "cell_type": "code",
   "execution_count": null,
   "id": "20891cfb-61f7-48ca-9778-9f9dc216ef77",
   "metadata": {},
   "outputs": [],
   "source": [
    "with pd.option_context('display.float_format', '{:.4f}'.format):\n",
    "    display(summary__pct.sort_values(by='% True', ascending=False))"
   ]
  },
  {
   "cell_type": "code",
   "execution_count": null,
   "id": "5f6e7e09-8b31-4cce-8ed4-7a1b98145fb2",
   "metadata": {},
   "outputs": [],
   "source": [
    "%%time\n",
    "%autoreload 2\n",
    "# df_prep['is_post_pump_running__bool'] = df_prep['batch_import_remeha_boiler_status_pump_post_run__bool'].replace(False, pd.NA)\n",
    "df_prep['is_post_pump_running__bool'] = df_prep['batch_import_remeha_boiler_status_burning_ch__bool'].replace(False, pd.NA)\n",
    "\n",
    "df_post_pump_run_streaks = Learner.valid_learn_list(\n",
    "    df_data=df_prep,\n",
    "    req_props=['is_post_pump_running__bool'],  # Use the temporary column\n",
    "    property_sources={'is_post_pump_running__bool': 'is_post_pump_running__bool'},\n",
    "    duration_threshold=timedelta(minutes=0)\n",
    ")"
   ]
  },
  {
   "cell_type": "code",
   "execution_count": null,
   "id": "604c1951-c38c-407c-b566-bf516060085f",
   "metadata": {},
   "outputs": [],
   "source": [
    "df_post_pump_run_streaks"
   ]
  },
  {
   "cell_type": "code",
   "execution_count": null,
   "id": "71d0b52e-c447-491a-83a4-05fcbaadc2f7",
   "metadata": {},
   "outputs": [],
   "source": [
    "# Compute describe stats\n",
    "stats = df_post_pump_run_streaks.reset_index(level='duration')['duration'].describe()\n",
    "\n",
    "# Add median column (redundant since median is already in .describe(), but explicit calculation shown)\n",
    "stats['median'] = df_post_pump_run_streaks.reset_index(level='duration')['duration'].median()\n",
    "\n",
    "# Transpose and display with float formatting\n",
    "with pd.option_context('display.float_format', '{:.1f}'.format):\n",
    "    display(stats.T.to_frame())"
   ]
  },
  {
   "cell_type": "code",
   "execution_count": null,
   "id": "67fb894b-0654-42b6-97e4-62977b4b55f6",
   "metadata": {},
   "outputs": [],
   "source": [
    "%matplotlib inline\n",
    "%matplotlib widget\n",
    "df_post_pump_run_streaks.reset_index()['duration'].dt.total_seconds().div(60).plot.hist(bins=100, edgecolor='black',  title = \"pump streak duration (minutes)\")"
   ]
  },
  {
   "cell_type": "code",
   "execution_count": null,
   "id": "56245efb-3074-4aa8-a573-37cb9c5b5c97",
   "metadata": {},
   "outputs": [],
   "source": [
    "# Compute describe stats\n",
    "grouped_stats = df_post_pump_run_streaks.reset_index(level='duration')['duration'].groupby('id').describe()\n",
    "\n",
    "# Add median column (redundant since median is already in .describe(), but explicit calculation shown)\n",
    "grouped_stats['median'] = df_post_pump_run_streaks.reset_index(level='duration')['duration'].groupby('id').median()\n",
    "\n",
    "# Transpose and display with float formatting\n",
    "with pd.option_context('display.float_format', '{:.1f}'.format):\n",
    "    display(grouped_stats.T)"
   ]
  },
  {
   "cell_type": "code",
   "execution_count": null,
   "id": "01aab88a-0a6e-49b3-bd39-714c10355aba",
   "metadata": {},
   "outputs": [],
   "source": [
    "# Boxplot per id\n",
    "\n",
    "# Reset index to bring 'id' as a column (if it's part of MultiIndex)\n",
    "df_plot = df_post_pump_run_streaks.reset_index()\n",
    "# Convert 'duration' to minutes\n",
    "df_plot['duration__min'] = df_plot['duration'].dt.total_seconds() / s_min_1\n",
    "# Create the figure and axis\n",
    "fig, ax = plt.subplots(figsize=(12, 6))\n",
    "\n",
    "# Prepare data: Group durations by 'id'\n",
    "data = [df_plot[df_plot['id'] == id_]['duration__min']\n",
    "        for id_ in df_plot['id'].unique()]\n",
    "\n",
    "# Create the boxplot\n",
    "ax.boxplot(data, labels=df_plot['id'].unique())\n",
    "\n",
    "# Customize the plot\n",
    "ax.set_title('Boxplot of Durations per ID')\n",
    "ax.set_xlabel('ID')\n",
    "ax.set_ylabel('Duration (minutes)')\n",
    "ax.tick_params(axis='x', rotation=90)  # Rotate x-axis labels if needed\n",
    "\n",
    "# Display the plot\n",
    "plt.tight_layout()\n",
    "plt.show()"
   ]
  },
  {
   "cell_type": "code",
   "execution_count": null,
   "id": "a6cb0567-e80c-4326-8bdb-d2e13fb71479",
   "metadata": {
    "tags": []
   },
   "outputs": [],
   "source": [
    "# # visualize all input data\n",
    "# df_plot = df_prep\n",
    "\n",
    "# list(df_plot.index.unique('id').dropna())\n",
    "\n",
    "# df_plot.index.unique('id').dropna()\n",
    "\n",
    "# # df_plot.loc[[401632]][[prop for prop in df_plot.columns.values if prop.split('__')[-1] in ('degC', 'W', '0', 'bool', 'ppm', 'W_m_2')]]\n",
    "\n",
    "# #Plot all properties from all sources for all ids\n",
    "# Plot.dataframe_preprocessed_plot(df_plot.loc[[401632]][[prop for prop in df_plot.columns.values if prop.split('__')[-1] in ('degC', 'ppm', 'W_m_2')]], units_to_mathtext)"
   ]
  },
  {
   "cell_type": "code",
   "execution_count": null,
   "id": "745a29cd-4502-48c6-85f7-774c7fedb3da",
   "metadata": {},
   "outputs": [],
   "source": [
    "mandatory_sourceprops =  ['batch_import_KNMI_temp_outdoor__degC', \n",
    "                          'batch_import_KNMI_sol_ghi__W_m_2',\n",
    "                          'batch_import_KNMI_wind__m_s_1',\n",
    "                          'batch_import_KNMI_air_outdoor__Pa',\n",
    "                          'batch_import_remeha_temp_indoor__degC',\n",
    "                          'batch_import_remeha_temp_ret__degC',\n",
    "                          'batch_import_remeha_temp_flow__degC',\n",
    "                          'batch_import_remeha_fan_rotations__min_1',\n",
    "                          'batch_import_EDSN_actual_gas_std_hhv__J_m_3',\n",
    "                          # 'device_p1-reader_g_use_cum__m3'\n",
    "                         ]"
   ]
  },
  {
   "cell_type": "code",
   "execution_count": null,
   "id": "8e239a19-398a-4c5e-bfec-a7e8e57e9b53",
   "metadata": {},
   "outputs": [],
   "source": [
    "Plot.plot_missing_data_overview(df_prep, properties_include=mandatory_sourceprops, freq='1W', title_fontsize=8)"
   ]
  },
  {
   "cell_type": "markdown",
   "id": "7dbc9ea1-4a4c-4adf-a52d-a10a6adc2ed4",
   "metadata": {},
   "source": [
    "# Calculate additional properties \n",
    "We may have to move some of these calculations to inside the GEKKO Python model code (e.g. for the what-if scenario simulation)"
   ]
  },
  {
   "cell_type": "markdown",
   "id": "ec7e923b-0716-48f3-a944-ff4e41620e40",
   "metadata": {},
   "source": [
    "## Calculate comfortable__bool"
   ]
  },
  {
   "cell_type": "code",
   "execution_count": null,
   "id": "1d4eccf9-c228-4516-8f0d-85ae07fd45d6",
   "metadata": {},
   "outputs": [],
   "source": [
    "%%time\n",
    "%autoreload 2\n",
    "# initially, we do not use occupancy yet\n",
    "df_prep.loc[:,'comfortable__bool'] = Comfort.is_comfortable(\n",
    "    df_prep['batch_import_remeha_temp_indoor__degC'], \n",
    "    df_prep['batch_import_remeha_temp_set__degC'], \n",
    "    target_ppd__pct=10, \n",
    "    # occupancy__bool=(df_prep['device_living_room_occupancy__p'] > 0)\n",
    ")"
   ]
  },
  {
   "cell_type": "code",
   "execution_count": null,
   "id": "fa296237-687c-4e81-b4be-fa7e412a0f5c",
   "metadata": {},
   "outputs": [],
   "source": [
    "# Get an overview of True, False, and NaN values\n",
    "df_prep['comfortable__bool'].value_counts(normalize=True, dropna=False).to_frame().T"
   ]
  },
  {
   "cell_type": "code",
   "execution_count": null,
   "id": "0b01b4e8-2aaa-4e0b-bbbd-5fab1795bc5d",
   "metadata": {},
   "outputs": [],
   "source": [
    "# Get an overview of True, False, and NaN values\n",
    "df_prep['comfortable__bool'].value_counts(normalize=True, dropna=False).to_frame().T"
   ]
  },
  {
   "cell_type": "code",
   "execution_count": null,
   "id": "a64da17a-a045-4086-a249-c0e73b8d6c6c",
   "metadata": {},
   "outputs": [],
   "source": [
    "# Get an overview of True, False, and NaN values\n",
    "df_prep['comfortable__bool'].groupby('id').value_counts(normalize=True, dropna=False).to_frame().unstack().T"
   ]
  },
  {
   "cell_type": "markdown",
   "id": "f5990edf-a5c1-4958-9475-792e7f6fc296",
   "metadata": {},
   "source": [
    "## Use boiler-specific efficiency to calculate heat__W, heat_ch__W and flow_dstr__dm3_s_1"
   ]
  },
  {
   "cell_type": "code",
   "execution_count": null,
   "id": "855ae34e-5257-44ec-bc07-46cf34c81264",
   "metadata": {},
   "outputs": [],
   "source": [
    "%matplotlib inline\n",
    "%matplotlib widget\n",
    "prop = 'batch_import_remeha_temp_ret__degC'\n",
    "df_prep[ch_gas_mask][prop].plot.hist(bins=200, alpha=0.5, title = prop)"
   ]
  },
  {
   "cell_type": "code",
   "execution_count": null,
   "id": "3b25f578-8c2a-4180-873a-a6f50828a873",
   "metadata": {},
   "outputs": [],
   "source": [
    "%matplotlib inline\n",
    "%matplotlib widget\n",
    "prop = 'g_use_fan_load__pct'\n",
    "df_prep[ch_gas_mask][prop].plot.hist(bins=200, alpha=0.5, title = prop)"
   ]
  },
  {
   "cell_type": "markdown",
   "id": "f99b51d9-1839-4ca0-8ad9-2a1d7ab03dc9",
   "metadata": {},
   "source": [
    "### Calculate eta_scipy_hhv__W0, heat_scipy__W based on scipy.interpolate.RectBivariateSpline"
   ]
  },
  {
   "cell_type": "code",
   "execution_count": null,
   "id": "89543e38-8538-4083-898c-05a592555958",
   "metadata": {},
   "outputs": [],
   "source": [
    "%%time\n",
    "# Get unique ids from df_prep\n",
    "unique_ids = df_prep.index.get_level_values('id').unique()\n",
    "\n",
    "# Prepare an empty array for results\n",
    "eta_values = np.full(df_prep.shape[0], np.nan, dtype=np.float32)\n",
    "\n",
    "# Process in batch instead of iterating over groupby\n",
    "for idx in tqdm(unique_ids):\n",
    "    if idx in df_bldng_data.index:\n",
    "        brand_model = df_bldng_data.at[idx, 'brand_model']\n",
    "    \n",
    "        # Get mask for this id\n",
    "        mask = df_prep.index.get_level_values('id') == idx\n",
    "    \n",
    "        # Select valid rows\n",
    "        valid_mask = mask & df_prep['g_use_fan_load__pct'].notna() & df_prep['batch_import_remeha_temp_ret__degC'].notna()\n",
    "    \n",
    "        if valid_mask.any():\n",
    "            boiler_efficiency_hhv = boiler_efficiency.get_efficiency_hhv_interpolator(brand_model)\n",
    "            eta_values[valid_mask] = boiler_efficiency_hhv(\n",
    "                df_prep.loc[valid_mask, 'g_use_fan_load__pct'].values, \n",
    "                df_prep.loc[valid_mask, 'batch_import_remeha_temp_ret__degC'].values\n",
    "            )\n",
    "\n",
    "df_prep.loc[~np.isnan(eta_values), 'eta_scipy_hhv__W0'] = eta_values[~np.isnan(eta_values)]"
   ]
  },
  {
   "cell_type": "code",
   "execution_count": null,
   "id": "3b5f8189-756d-41fb-9807-254dd95f8651",
   "metadata": {},
   "outputs": [],
   "source": [
    "%%time\n",
    "# Initialize column with NaN\n",
    "df_prep['heat_scipy__W'] = np.nan\n",
    "\n",
    "# Perform selective assignment\n",
    "non_nan_mask = df_prep['g_use_fan_hhv__W'].notna() & df_prep['eta_scipy_hhv__W0'].notna()\n",
    "df_prep.loc[non_nan_mask, 'heat_scipy__W'] = (\n",
    "    df_prep.loc[non_nan_mask, 'g_use_fan_hhv__W'] * \n",
    "    df_prep.loc[non_nan_mask, 'eta_scipy_hhv__W0']\n",
    ")"
   ]
  },
  {
   "cell_type": "markdown",
   "id": "4d328306-f62d-4cee-b960-a4943f74d647",
   "metadata": {},
   "source": [
    "### Calculate eta_bspline_hhv__W0, heat_bspline__W based on GEKKO classmethod bspline()"
   ]
  },
  {
   "cell_type": "code",
   "execution_count": null,
   "id": "4cf4add4-3312-4f7b-b0c8-9fd81fa7669f",
   "metadata": {},
   "outputs": [],
   "source": [
    "try:\n",
    "    df_boiler_efficiency = pd.read_parquet(\n",
    "        boiler_returntemp_load_efficiency_file_path,\n",
    "        engine='pyarrow',\n",
    "        dtype_backend='numpy_nullable'\n",
    "    )\n",
    "except Exception as e:\n",
    "    raise IOError(f\"Error reading Parquet file: {e}\")"
   ]
  },
  {
   "cell_type": "code",
   "execution_count": null,
   "id": "3220e819-1c91-4398-b181-c5b9f53202b4",
   "metadata": {},
   "outputs": [],
   "source": [
    "df_boiler_efficiency"
   ]
  },
  {
   "cell_type": "code",
   "execution_count": null,
   "id": "2a3ccac0-96bc-4184-bb33-79a7d379a36c",
   "metadata": {},
   "outputs": [],
   "source": [
    "%%time\n",
    "# Get unique ids from df_prep\n",
    "unique_ids = df_prep.index.get_level_values('id').unique()\n",
    "\n",
    "# Prepare an empty array for results\n",
    "eta_values = np.full(df_prep.shape[0], np.nan, dtype=np.float32)\n",
    "\n",
    "# Process in batch instead of iterating over groupby\n",
    "# for idx in tqdm(unique_ids[0:1]):  # TODO: remove this line after testing \n",
    "for idx in tqdm(unique_ids):\n",
    "    if idx in df_bldng_data.index:\n",
    "        brand_model = df_bldng_data.at[idx, 'brand_model']\n",
    "    \n",
    "        # Get mask for this id\n",
    "        mask = df_prep.index.get_level_values('id') == idx\n",
    "    \n",
    "        # Select valid rows\n",
    "        valid_mask = mask & df_prep['g_use_fan_load__pct'].notna() & df_prep['batch_import_remeha_temp_ret__degC'].notna()\n",
    "    \n",
    "        if valid_mask.any():\n",
    "            # boiler_efficiency_hhv = boiler_efficiency.get_efficiency_hhv_interpolator(brand_model)\n",
    "            # eta_values[valid_mask] = boiler_efficiency_hhv(\n",
    "            #     df_prep.loc[valid_mask, 'g_use_fan_load__pct'].values, \n",
    "            #     df_prep.loc[valid_mask, 'batch_import_remeha_temp_ret__degC'].values\n",
    "            # )\n",
    "\n",
    "            boiler_specific_efficiency = df_boiler_efficiency.loc[brand_model]\n",
    "            \n",
    "            data_gas_load__pct = np.asarray(boiler_specific_efficiency.index.get_level_values('rounded_load__pct').unique().astype(float))\n",
    "            data_temp_ret__degC = np.asarray(boiler_specific_efficiency.index.get_level_values('rounded_temp_ret__degC').unique().astype(float))\n",
    "            data_eta_ch_hhv__W0 = np.asarray(boiler_specific_efficiency.unstack(level='rounded_temp_ret__degC').values.astype(float))\n",
    "            \n",
    "            # Evaluate GEKKO spline\n",
    "            from gekko import GEKKO\n",
    "            m = GEKKO(remote=False)\n",
    "            \n",
    "            # Define Manipulated Variables (MVs)\n",
    "            # Gas load percentage\n",
    "            gas_load__pct = m.MV(value=df_prep.loc[valid_mask, 'g_use_fan_load__pct'].astype('float32').values, name='gas_load__pct')\n",
    "            gas_load__pct.STATUS = 0  # No optimization\n",
    "            gas_load__pct.FSTATUS = 1 # Use the measured values\n",
    "            \n",
    "            # Return temperature in °C\n",
    "            temp_ret__degC = m.MV(value=df_prep.loc[valid_mask, 'batch_import_remeha_temp_ret__degC'].values, name='temp_ret__degC')  \n",
    "            temp_ret__degC.STATUS = 0  # No optimization\n",
    "            temp_ret__degC.FSTATUS = 1 # Use the measured value\n",
    "            \n",
    "            eta_ch_hhv__W0 = m.Var()\n",
    "            kx=3\n",
    "            ky=3\n",
    "            m.bspline(gas_load__pct, temp_ret__degC, eta_ch_hhv__W0, \n",
    "                      data_gas_load__pct, data_temp_ret__degC, data_eta_ch_hhv__W0, \n",
    "                      data=True,\n",
    "                      kx=kx,\n",
    "                      ky=ky\n",
    "                     )\n",
    "            m.Obj(eta_ch_hhv__W0)\n",
    "            m.options.IMODE=2\n",
    "            m.solve(disp=False)\n",
    "            \n",
    "            eta_values[valid_mask] = np.asarray(eta_ch_hhv__W0.value).astype(float)\n",
    "            \n",
    "\n",
    "df_prep.loc[~np.isnan(eta_values), 'eta_bspline_hhv__W0'] = eta_values[~np.isnan(eta_values)]\n"
   ]
  },
  {
   "cell_type": "code",
   "execution_count": null,
   "id": "4cf48250-756e-432f-a2c2-ebd06897633b",
   "metadata": {},
   "outputs": [],
   "source": [
    "df_prep['eta_bspline_hhv__W0'].describe()"
   ]
  },
  {
   "cell_type": "code",
   "execution_count": null,
   "id": "d5d5d489-29a2-4c02-a5b7-4b6f8eb1a596",
   "metadata": {},
   "outputs": [],
   "source": [
    "%%time\n",
    "# Initialize the column with NaN, ensuring it's fully NaN regardless of existing values\n",
    "df_prep['heat_bspline__W'] = np.nan\n",
    "\n",
    "# Compute valid mask for rows without NaNs in the input columns\n",
    "non_nan_mask = df_prep['g_use_fan_hhv__W'].notna() & df_prep['eta_bspline_hhv__W0'].notna()\n",
    "\n",
    "# Assign computed values only for valid rows\n",
    "df_prep.loc[non_nan_mask, 'heat_bspline__W'] = (\n",
    "    df_prep.loc[non_nan_mask, 'g_use_fan_hhv__W'] * \n",
    "    df_prep.loc[non_nan_mask, 'eta_bspline_hhv__W0']\n",
    ")"
   ]
  },
  {
   "cell_type": "markdown",
   "id": "7c719d24-8aaf-455c-be89-17517959acf8",
   "metadata": {},
   "source": [
    "#### Calculate efficiency error if we would only have temp_dstr__degC as input for efficiency lookup"
   ]
  },
  {
   "cell_type": "code",
   "execution_count": null,
   "id": "f765911e-b9dd-40c2-8956-fe1bb6e9bc26",
   "metadata": {},
   "outputs": [],
   "source": [
    "%%time\n",
    "\n",
    "# Get unique ids from df_prep\n",
    "unique_ids = df_prep.index.get_level_values('id').unique()\n",
    "\n",
    "# Prepare an empty array for results\n",
    "eta_values = np.full(df_prep.shape[0], np.nan, dtype=np.float32)\n",
    "\n",
    "# Process in batch instead of iterating over groupby\n",
    "for idx in tqdm(unique_ids):\n",
    "    if idx in df_bldng_data.index:\n",
    "        brand_model = df_bldng_data.at[idx, 'brand_model']\n",
    "        boiler_efficiency_hhv = boiler_efficiency.get_efficiency_hhv_interpolator(brand_model)\n",
    "    \n",
    "        # Get mask for this id\n",
    "        mask = df_prep.index.get_level_values('id') == idx\n",
    "    \n",
    "        # Compute valid rows \n",
    "        valid_mask = mask & df_prep['g_use_fan_load__pct'].notna() & (\n",
    "            df_prep['batch_import_remeha_temp_ret__degC'].notna() &\n",
    "            df_prep['batch_import_remeha_temp_flow__degC'].notna()\n",
    "        )\n",
    "    \n",
    "        if valid_mask.any():\n",
    "            temp_dstr_degC_values = (\n",
    "                df_prep.loc[valid_mask, 'batch_import_remeha_temp_ret__degC'].values + \n",
    "                df_prep.loc[valid_mask, 'batch_import_remeha_temp_flow__degC'].values\n",
    "            ) / 2\n",
    "            \n",
    "            eta_values[valid_mask] = boiler_efficiency_hhv(\n",
    "                df_prep.loc[valid_mask, 'g_use_fan_load__pct'].values,\n",
    "                temp_dstr_degC_values\n",
    "            )\n",
    "\n",
    "\n",
    "df_prep['eta_temp_dstr_hhv__W0'] = eta_values\n",
    "\n",
    "# Calculate heat_temp_dstr__W\n",
    "df_prep['heat_temp_dstr__W'] = df_prep['g_use_fan_hhv__W'] * df_prep['eta_temp_dstr_hhv__W0']"
   ]
  },
  {
   "cell_type": "markdown",
   "id": "296036d7-b797-47bb-bf57-b58ad0312d1a",
   "metadata": {},
   "source": [
    "#### Compare alternate cases (use bspline, use temp_dstr__degC) versus base case (use temp_ret__degC & scipy.interpolate.RectBivariateSpline) "
   ]
  },
  {
   "cell_type": "code",
   "execution_count": null,
   "id": "2b3caa71-63a4-4780-aeea-0c16b0e4cf8a",
   "metadata": {},
   "outputs": [],
   "source": [
    "# List of method identifiers (short names)\n",
    "methods = ['scipy', 'bspline', 'temp_dstr']"
   ]
  },
  {
   "cell_type": "code",
   "execution_count": null,
   "id": "cf05cef8-fc7d-4ce0-b89b-ef20b6f442ad",
   "metadata": {},
   "outputs": [],
   "source": [
    "df_boiler_efficiency_calc = ((df_prep[ch_gas_mask][['heat_scipy__W', 'heat_bspline__W',  'heat_temp_dstr__W']].mean()/df_prep[ch_gas_mask]['g_use_fan_hhv__W'].mean())\n",
    "                             .to_frame(name='wmean_eta_ch_hhv__W0')\n",
    "                             .set_index(pd.Index(methods))\n",
    "                            )"
   ]
  },
  {
   "cell_type": "code",
   "execution_count": null,
   "id": "a62994ae-4578-4119-9d8d-dacd235dd76e",
   "metadata": {},
   "outputs": [],
   "source": [
    "df_boiler_efficiency_calc['mean_eta_ch_hhv__W0'] = list(df_prep[ch_gas_mask][['eta_scipy_hhv__W0', 'eta_bspline_hhv__W0', 'eta_temp_dstr_hhv__W0']].mean())"
   ]
  },
  {
   "cell_type": "code",
   "execution_count": null,
   "id": "1be16d3a-ff13-409a-8a17-c6676021d32a",
   "metadata": {},
   "outputs": [],
   "source": [
    "df_boiler_efficiency_calc[f'wme_{methods[0]}_eta_ch_hhv__W0'] = df_boiler_efficiency_calc['wmean_eta_ch_hhv__W0'] - df_boiler_efficiency_calc.at['scipy', 'wmean_eta_ch_hhv__W0']"
   ]
  },
  {
   "cell_type": "code",
   "execution_count": null,
   "id": "7fdac080-7ccf-4193-b38d-d6d161d597d5",
   "metadata": {},
   "outputs": [],
   "source": [
    "df_boiler_efficiency_calc[f'me_{methods[0]}_eta_ch_hhv__W0'] = df_boiler_efficiency_calc['mean_eta_ch_hhv__W0'] - df_boiler_efficiency_calc.at['scipy', 'mean_eta_ch_hhv__W0']"
   ]
  },
  {
   "cell_type": "code",
   "execution_count": null,
   "id": "dd6123c1-93ac-4460-a200-032b4b1b9f3f",
   "metadata": {},
   "outputs": [],
   "source": [
    "# Dynamically generate the column names for the methods\n",
    "method_columns = [f'heat_{method}__W' for method in methods]\n",
    "\n",
    "# Initialize the absolute errors DataFrame (norm method will always be subtracted from each method)\n",
    "abs_errors_df = df_prep.loc[ch_gas_mask, method_columns].sub(df_prep.loc[ch_gas_mask, method_columns[0]], axis=0).abs()\n",
    "\n",
    "# Calculate the total energy (sum of g_use_fan_hhv__W)\n",
    "total_energy = df_prep.loc[ch_gas_mask, 'g_use_fan_hhv__W'].sum()\n",
    "\n",
    "# Calculate MAE for each method (starting from the second method onward)\n",
    "mae_results = {\n",
    "    f'wmae_{methods[0]}_eta_{method}_ch_hhv__W0': abs_errors_df[method_col].sum() / total_energy\n",
    "    for method, method_col in zip(methods, method_columns)\n",
    "}\n",
    "\n",
    "# Convert results to a pandas Series for better presentation\n",
    "wmae = pd.Series(mae_results)"
   ]
  },
  {
   "cell_type": "code",
   "execution_count": null,
   "id": "f4b66ade-6dd2-4a50-9889-7b8c534a5a9f",
   "metadata": {},
   "outputs": [],
   "source": [
    "df_boiler_efficiency_calc[f'wmae_{methods[0]}_eta_ch_hhv__W0'] = list(wmae)"
   ]
  },
  {
   "cell_type": "code",
   "execution_count": null,
   "id": "5fdd50dc-7b71-4f79-878f-f8963bba172e",
   "metadata": {},
   "outputs": [],
   "source": [
    "with pd.option_context('display.float_format', '{:.4f}'.format):\n",
    "    display(df_boiler_efficiency_calc)"
   ]
  },
  {
   "cell_type": "code",
   "execution_count": null,
   "id": "fc4a6ccc-5544-4a27-8a78-14a64763390a",
   "metadata": {},
   "outputs": [],
   "source": [
    "with pd.option_context('display.float_format', '{:.2f}'.format):\n",
    "    display((df_boiler_efficiency_calc * 100).rename(columns={col: col.replace('__W0', '__pct') for col in df_boiler_efficiency_calc.columns if col.endswith('__W0')}))"
   ]
  },
  {
   "cell_type": "markdown",
   "id": "76ec4e30-0523-4ec9-b6c9-9704ee584088",
   "metadata": {},
   "source": [
    "### Select which variant to use for eta_hhv__W0, heat__W, eta_ch_hhv__W0, heat_ch__W, eta_ch_hhv__W0, heat_dhw_W"
   ]
  },
  {
   "cell_type": "code",
   "execution_count": null,
   "id": "84cbdbeb-a00d-49e4-a746-6b6f3d33c07d",
   "metadata": {},
   "outputs": [],
   "source": [
    "%%time\n",
    "df_prep.loc[:,'eta_ch_hhv__W0'] = df_prep[ch_gas_mask]['eta_scipy_hhv__W0']"
   ]
  },
  {
   "cell_type": "code",
   "execution_count": null,
   "id": "6989b07a-0499-49e1-b336-4750f649f44d",
   "metadata": {},
   "outputs": [],
   "source": [
    "%%time\n",
    "df_prep.loc[:,'heat_ch__W'] = df_prep[ch_gas_mask]['heat_scipy__W']"
   ]
  },
  {
   "cell_type": "code",
   "execution_count": null,
   "id": "0619c2b2-fe91-487e-9606-7338943d9d36",
   "metadata": {},
   "outputs": [],
   "source": [
    "%%time\n",
    "df_prep.loc[:,'eta_dhw_hhv__W0'] = df_prep[dhw_gas_mask]['eta_scipy_hhv__W0']"
   ]
  },
  {
   "cell_type": "code",
   "execution_count": null,
   "id": "38178f27-fe22-4acb-9571-abafdc9de59c",
   "metadata": {},
   "outputs": [],
   "source": [
    "%%time\n",
    "df_prep.loc[:,'heat_dhw__W'] = df_prep[dhw_gas_mask]['heat_scipy__W']"
   ]
  },
  {
   "cell_type": "markdown",
   "id": "d637ecb2-262b-47a0-8146-50e0cdf39c9d",
   "metadata": {},
   "source": [
    "### Calculate flow_dstr__dm3_s_1"
   ]
  },
  {
   "cell_type": "code",
   "execution_count": null,
   "id": "14ee522a-81da-4e04-9b09-871b2dc1fcef",
   "metadata": {},
   "outputs": [],
   "source": [
    "df_prep[[\n",
    "    'batch_import_remeha_temp_flow__degC',\n",
    "    'batch_import_remeha_temp_flow_ch__degC',\n",
    "    'interpolated_batch_import_remeha_temp_flow_ch__degC',\n",
    "    'batch_import_remeha_temp_ret__degC',\n",
    "    'batch_import_remeha_temp_ret_ch__degC',\n",
    "    'interpolated_batch_import_remeha_temp_ret_ch__degC',\n",
    "]].describe().T"
   ]
  },
  {
   "cell_type": "code",
   "execution_count": null,
   "id": "fe65ce82-b1a3-4e54-ade8-bdc4db0d8302",
   "metadata": {},
   "outputs": [],
   "source": [
    "%%time\n",
    "# Ensure the temperature difference column is present\n",
    "df_prep['delta_t_flow_ret__K'] = (\n",
    "    # df_prep['batch_import_remeha_temp_flow_ch__degC'] - df_prep['batch_import_remeha_temp_ret_ch__degC']\n",
    "    df_prep['interpolated_batch_import_remeha_temp_flow_ch__degC'] - df_prep['interpolated_batch_import_remeha_temp_ret_ch__degC']\n",
    ")"
   ]
  },
  {
   "cell_type": "code",
   "execution_count": null,
   "id": "664db018-5fa7-4d4b-9d65-ee3e0f6ea132",
   "metadata": {},
   "outputs": [],
   "source": [
    "vectorized_water_volumetric_heat_capacity__J_dm_3_K_1 = np.vectorize(water_volumetric_heat_capacity__J_dm_3_K_1)"
   ]
  },
  {
   "cell_type": "code",
   "execution_count": null,
   "id": "550b0a1a-2e2d-49dc-a99f-cfa45c310aec",
   "metadata": {},
   "outputs": [],
   "source": [
    "%%time\n",
    "# Use np.where to conditionally replace results based on the temperature difference\n",
    "df_prep.loc[:, 'flow_dstr__dm3_s_1'] = np.where(\n",
    "    (df_prep['delta_t_flow_ret__K'] <= 0) | pd.isna(df_prep['delta_t_flow_ret__K']),  # Check if the temperature difference is NA, zero, or below zero\n",
    "    np.nan,  # Use np.nan for missing values\n",
    "    (\n",
    "        df_prep['heat_ch__W']\n",
    "        / (\n",
    "            vectorized_water_volumetric_heat_capacity__J_dm_3_K_1(\n",
    "                # (df_prep['batch_import_remeha_temp_flow_ch__degC'] + df_prep['batch_import_remeha_temp_ret_ch__degC'])/2,\n",
    "                (df_prep['interpolated_batch_import_remeha_temp_flow_ch__degC'] + df_prep['interpolated_batch_import_remeha_temp_ret_ch__degC'])/2,\n",
    "                heat_dstr_nl_avg_abs__Pa\n",
    "            ) \n",
    "            * df_prep['delta_t_flow_ret__K']\n",
    "        )\n",
    "    )\n",
    ")"
   ]
  },
  {
   "cell_type": "code",
   "execution_count": null,
   "id": "0f37a963-aa7b-4e36-a637-bdd7cc3492af",
   "metadata": {},
   "outputs": [],
   "source": [
    "# Clipping the calculated flow values, based on maximum flow of 6.5 [m³/h] \n",
    "df_prep['flow_dstr__dm3_s_1'] = df_prep['flow_dstr__dm3_s_1'].clip(lower=0, upper=flow_ch_max__dm3_s_1).astype('float32')"
   ]
  },
  {
   "cell_type": "markdown",
   "id": "486add66-4539-4e1d-9e7a-0f0c9bc20f67",
   "metadata": {},
   "source": [
    "## Inspect results "
   ]
  },
  {
   "cell_type": "code",
   "execution_count": null,
   "id": "40372771-67ff-437d-9e41-1947010215c6",
   "metadata": {},
   "outputs": [],
   "source": [
    "# Select mask\n",
    "boiler_status_mask = remeha_data_notna_mask \n"
   ]
  },
  {
   "cell_type": "markdown",
   "id": "2fb17d55-5ed6-4afe-aa37-599e9bb6486d",
   "metadata": {},
   "source": [
    "### Check heat distribution descriptive statistics"
   ]
  },
  {
   "cell_type": "code",
   "execution_count": null,
   "id": "53ee9a93-e878-4b2c-b8c2-0db247a02cf3",
   "metadata": {},
   "outputs": [],
   "source": [
    "heat_distribtion_cols = ['batch_import_remeha_flow_dstr_pump_speed__pct',\n",
    "                         'flow_dstr__dm3_s_1',\n",
    "                         'batch_import_remeha_temp_flow__degC',\n",
    "                         'batch_import_remeha_temp_flow_ch__degC',\n",
    "                         'interpolated_batch_import_remeha_temp_flow_ch__degC',\n",
    "                         'batch_import_remeha_temp_ret__degC',\n",
    "                         'batch_import_remeha_temp_ret_ch__degC',\n",
    "                         'interpolated_batch_import_remeha_temp_ret_ch__degC',\n",
    "                         'heat_ch__W',\n",
    "                         'flow_dstr__dm3_s_1',\n",
    "                         'batch_import_remeha_dhw_flow__l_min_1',\n",
    "                        ]"
   ]
  },
  {
   "cell_type": "code",
   "execution_count": null,
   "id": "6cda8f9a-61b4-4b93-b6ab-d945a1adc48d",
   "metadata": {},
   "outputs": [],
   "source": [
    "with pd.option_context('display.float_format', '{:.4f}'.format):\n",
    "    display(df_prep[heat_distribtion_cols].describe().T)"
   ]
  },
  {
   "cell_type": "code",
   "execution_count": null,
   "id": "1241e89f-5230-4970-bb9c-0cc9ee92dc6a",
   "metadata": {},
   "outputs": [],
   "source": [
    "with pd.option_context('display.float_format', '{:.4f}'.format):\n",
    "    display(df_prep[remeha_data_notna_mask][heat_distribtion_cols].describe().T)"
   ]
  },
  {
   "cell_type": "code",
   "execution_count": null,
   "id": "54f3ec3a-8267-4872-9e61-b89f99c8984b",
   "metadata": {},
   "outputs": [],
   "source": [
    "with pd.option_context('display.float_format', '{:.4f}'.format):\n",
    "    display(df_prep[ch_gas_mask][heat_distribtion_cols].describe().T)"
   ]
  },
  {
   "cell_type": "code",
   "execution_count": null,
   "id": "335d2b21-2d0e-4ea1-9b01-13ee4cc4b407",
   "metadata": {},
   "outputs": [],
   "source": [
    "%matplotlib inline\n",
    "%matplotlib widget\n",
    "prop = 'flow_dstr__dm3_s_1'\n",
    "df_prep[prop].plot.hist(bins=200, alpha=0.5, title = prop)\n"
   ]
  },
  {
   "cell_type": "code",
   "execution_count": null,
   "id": "2c0f1055-3acb-4480-8988-f9bcf057a2b6",
   "metadata": {},
   "outputs": [],
   "source": [
    "df_prep[['batch_import_remeha_dhw_flow__l_min_1']].groupby('id').count()"
   ]
  },
  {
   "cell_type": "markdown",
   "id": "e90c46d9-0e5e-4999-b48d-a8b674d56d61",
   "metadata": {},
   "source": [
    "### Inspecting gas power based on various sources: fan, boilercounter and P1 device"
   ]
  },
  {
   "cell_type": "code",
   "execution_count": null,
   "id": "34b6126e-6b6f-480d-8925-c1650ed78311",
   "metadata": {},
   "outputs": [],
   "source": [
    "with pd.option_context('display.float_format', '{:.4f}'.format):\n",
    "    display(df_prep[remeha_data_notna_mask][[\n",
    "        'fan_speed__pct',\n",
    "        'g_use_fan_load__pct',\n",
    "        'g25_3_use_fan_lhv__W',\n",
    "        'device_p1-reader_g_use_hhv__W',\n",
    "        'batch_import_EDSN_actual_gas_std_hhv__J_m_3',\n",
    "        'gas_calorific_factor_g25_3_lhv_to_actual_hhv__J0',\n",
    "        'gas_calorific_factor_groningen_hhv_to_actual_hhv__J0',\n",
    "        'gas_temp_factor_ref_to_actual__J0',\n",
    "        'gas_pressure_factor_ref_to_actual__J0',\n",
    "        'gas_pressure_factor_correct_smart_meter_to_actual__J0',\n",
    "        'g_use_fan_ch_hhv__W',\n",
    "        'g_use_fan_dhw_hhv__W',\n",
    "        'g_use_fan_hhv__W',\n",
    "        'g_use_boilercounter_ch_hhv__W',\n",
    "        'g_use_boilercounter_dhw_hhv__W',\n",
    "        'g_use_boilercounter_hhv__W', \n",
    "        'g_use_p1_hhv__W',\n",
    "    ]].describe().T)"
   ]
  },
  {
   "cell_type": "code",
   "execution_count": null,
   "id": "5cead3c2-55cb-4a93-b0da-c83d09ef3d26",
   "metadata": {},
   "outputs": [],
   "source": [
    "with pd.option_context('display.float_format', '{:.4f}'.format):\n",
    "    display(df_prep[ch_gas_mask][[\n",
    "        'fan_speed__pct',\n",
    "        'g_use_fan_load__pct',\n",
    "        'g25_3_use_fan_lhv__W',\n",
    "        'device_p1-reader_g_use_hhv__W',\n",
    "        'batch_import_EDSN_actual_gas_std_hhv__J_m_3',\n",
    "        'gas_calorific_factor_g25_3_lhv_to_actual_hhv__J0',\n",
    "        'gas_calorific_factor_groningen_hhv_to_actual_hhv__J0',\n",
    "        'gas_temp_factor_ref_to_actual__J0',\n",
    "        'gas_pressure_factor_ref_to_actual__J0',\n",
    "        'gas_pressure_factor_correct_smart_meter_to_actual__J0',\n",
    "        'g_use_fan_ch_hhv__W',\n",
    "        'g_use_fan_dhw_hhv__W',\n",
    "        'g_use_fan_hhv__W',\n",
    "        'g_use_boilercounter_ch_hhv__W',\n",
    "        'g_use_boilercounter_dhw_hhv__W',\n",
    "        'g_use_boilercounter_hhv__W', \n",
    "        'g_use_p1_hhv__W',\n",
    "    ]].describe().T)"
   ]
  },
  {
   "cell_type": "markdown",
   "id": "b7eacfbe-afc4-491a-9cda-bf028ff1df5d",
   "metadata": {},
   "source": [
    "#### Inspecting weighted conversion factors"
   ]
  },
  {
   "cell_type": "code",
   "execution_count": null,
   "id": "efe49e76-2275-4d4d-b7b1-9d059e76ee8f",
   "metadata": {},
   "outputs": [],
   "source": [
    "(df_prep[boiler_status_mask]['batch_import_EDSN_actual_gas_std_hhv__J_m_3'] * df_prep[boiler_status_mask]['g_use_fan_hhv__W']).sum() / df_prep[boiler_status_mask]['g_use_fan_hhv__W'].sum() / 1e6"
   ]
  },
  {
   "cell_type": "code",
   "execution_count": null,
   "id": "aafdad9f-a7df-4a5d-8b37-fe06c9160f95",
   "metadata": {},
   "outputs": [],
   "source": [
    "df_prep[boiler_status_mask]['batch_import_EDSN_actual_gas_std_hhv__J_m_3'].mean()/ gas_g25_3_ref_lhv__J_m_3"
   ]
  },
  {
   "cell_type": "code",
   "execution_count": null,
   "id": "9451f0a4-3621-4217-b89b-ba6e7af15d85",
   "metadata": {},
   "outputs": [],
   "source": [
    "df_prep[boiler_status_mask]['batch_import_EDSN_actual_gas_std_hhv__J_m_3'].mean()/gas_groningen_nl_avg_std_hhv__J_m_3"
   ]
  },
  {
   "cell_type": "code",
   "execution_count": null,
   "id": "b75f58c1-abb4-4dff-8b18-1cee04680feb",
   "metadata": {},
   "outputs": [],
   "source": [
    "gas_groningen_nl_avg_std_hhv__J_m_3 / gas_g25_3_ref_lhv__J_m_3"
   ]
  },
  {
   "cell_type": "code",
   "execution_count": null,
   "id": "42bac316-b8f0-4540-9301-08685371a5bb",
   "metadata": {},
   "outputs": [],
   "source": [
    "conversion_factor = (\n",
    "    df_prep[boiler_status_mask]['gas_calorific_factor_g25_3_lhv_to_actual_hhv__J0'].mean()\n",
    "    * df_prep[boiler_status_mask]['gas_pressure_factor_ref_to_actual__J0'].mean()\n",
    "    * df_prep[boiler_status_mask]['gas_temp_factor_ref_to_actual__J0'].mean()\n",
    ")\n",
    "conversion_factor"
   ]
  },
  {
   "cell_type": "code",
   "execution_count": null,
   "id": "6dc253b4-28de-4a82-aa33-3f639b6ad9d7",
   "metadata": {},
   "outputs": [],
   "source": [
    "conversion_factor_smart_meter = (\n",
    "    df_prep[boiler_status_mask]['gas_calorific_factor_groningen_hhv_to_actual_hhv__J0'].mean()\n",
    "    * df_prep[boiler_status_mask]['gas_pressure_factor_correct_smart_meter_to_actual__J0'].mean()\n",
    ")\n",
    "conversion_factor_smart_meter"
   ]
  },
  {
   "cell_type": "code",
   "execution_count": null,
   "id": "098be277-4eff-4725-aa15-3b8a530d97f2",
   "metadata": {},
   "outputs": [],
   "source": [
    "average_gas_smart_meter__W = df_prep[boiler_status_mask]['g_use_p1_hhv__W'].mean()\n",
    "average_gas_smart_meter__W"
   ]
  },
  {
   "cell_type": "markdown",
   "id": "a00610ca-1114-48c3-88a2-ff0be4d59a6f",
   "metadata": {},
   "source": [
    "### Inspecting gas power based used by boiler, based on boiler counters"
   ]
  },
  {
   "cell_type": "markdown",
   "id": "cf28f370-426c-4ad3-b61b-d3bd2d01f6ef",
   "metadata": {},
   "source": [
    "#### Inspecting boiler counters while valve is closed"
   ]
  },
  {
   "cell_type": "code",
   "execution_count": null,
   "id": "3d92ac04-8d99-4626-a325-a897f22f91cb",
   "metadata": {},
   "outputs": [],
   "source": [
    "with pd.option_context('display.float_format', '{:.4f}'.format):\n",
    "    display(df_prep[boiler_valve_closed_mask][[\n",
    "        'fan_speed__pct',\n",
    "        'g_use_fan_load__pct',\n",
    "        'g25_3_use_fan_lhv__W',\n",
    "        'device_p1-reader_g_use_hhv__W',\n",
    "        'batch_import_EDSN_actual_gas_std_hhv__J_m_3',\n",
    "        'gas_calorific_factor_g25_3_lhv_to_actual_hhv__J0',\n",
    "        'gas_calorific_factor_groningen_hhv_to_actual_hhv__J0',\n",
    "        'gas_temp_factor_ref_to_actual__J0',\n",
    "        'gas_pressure_factor_ref_to_actual__J0',\n",
    "        'gas_pressure_factor_correct_smart_meter_to_actual__J0',\n",
    "        'g_use_fan_ch_hhv__W',\n",
    "        'g_use_fan_dhw_hhv__W',\n",
    "        'g_use_fan_hhv__W',\n",
    "        'g_use_boilercounter_ch_hhv__W',\n",
    "        'g_use_boilercounter_dhw_hhv__W',\n",
    "        'g_use_boilercounter_hhv__W', \n",
    "        'g_use_p1_hhv__W',\n",
    "    ]].describe().T) "
   ]
  },
  {
   "cell_type": "markdown",
   "id": "259343d6-c560-46d5-b918-f8c949953bfb",
   "metadata": {},
   "source": [
    "#### Compare gas power calculated in various ways"
   ]
  },
  {
   "cell_type": "code",
   "execution_count": null,
   "id": "8bae7c8b-2dd6-4620-bf52-f7223a3e0a4a",
   "metadata": {},
   "outputs": [],
   "source": [
    "# Group by 'id' and calculate the means\n",
    "df_prep[boiler_status_mask].groupby(level='id').agg({\n",
    "    'batch_import_remeha_temp_flow_ch_max__degC': 'mean',\n",
    "    'batch_import_remeha_temp_flow_ch__degC': 'mean',\n",
    "    'batch_import_remeha_temp_ret_ch__degC': 'mean',\n",
    "    'eta_ch_hhv__W0': 'mean',\n",
    "}).sort_values(by='eta_ch_hhv__W0', ascending=False)"
   ]
  },
  {
   "cell_type": "code",
   "execution_count": null,
   "id": "3b28a822-0bd9-43f0-8f9d-6a6637d46425",
   "metadata": {},
   "outputs": [],
   "source": [
    "df_prep[ch_gas_mask & (df_prep['batch_import_remeha_temp_ret_ch__degC'] <30)]['batch_import_remeha_temp_ret_ch__degC'].count() / df_prep[ch_gas_mask]['batch_import_remeha_temp_ret_ch__degC'].count()"
   ]
  },
  {
   "cell_type": "code",
   "execution_count": null,
   "id": "0eecbe67-fd2b-4023-9e55-8789969a8dbb",
   "metadata": {},
   "outputs": [],
   "source": [
    "# average efficiency on higher heating value, NOT weighted by gas input\n",
    "df_prep[ch_gas_mask]['eta_ch_hhv__W0'].mean() "
   ]
  },
  {
   "cell_type": "code",
   "execution_count": null,
   "id": "1134151d-a409-4f33-a755-159fc56603e1",
   "metadata": {},
   "outputs": [],
   "source": [
    "# average efficiency on higher heating value, weighted by gas input\n",
    "(df_prep.loc[ch_gas_mask, 'eta_ch_hhv__W0'] * df_prep.loc[ch_gas_mask, 'g_use_boilercounter_hhv__W']).sum() / df_prep.loc[ch_gas_mask, 'g_use_boilercounter_hhv__W'].sum()\n"
   ]
  },
  {
   "cell_type": "code",
   "execution_count": null,
   "id": "73d13d7b-206a-469c-8ad0-0ea5215d5ab3",
   "metadata": {},
   "outputs": [],
   "source": [
    "mask_efficiency_over_1 = (df_prep['eta_ch_hhv__W0'] > 1.0) & ch_gas_mask"
   ]
  },
  {
   "cell_type": "code",
   "execution_count": null,
   "id": "6ab3943a-ffb9-4a9d-a27d-c05c44ab5904",
   "metadata": {},
   "outputs": [],
   "source": [
    "df_prep[mask_efficiency_over_1]['eta_ch_hhv__W0'].count() / df_prep[ch_gas_mask]['eta_ch_hhv__W0'].count()"
   ]
  },
  {
   "cell_type": "code",
   "execution_count": null,
   "id": "f38f8521-4120-4844-b714-7af44abdb68d",
   "metadata": {},
   "outputs": [],
   "source": [
    "df_prep[mask_efficiency_over_1]['g_use_fan_hhv__W'].sum() / df_prep[ch_gas_mask]['g_use_fan_hhv__W'].sum()"
   ]
  },
  {
   "cell_type": "code",
   "execution_count": null,
   "id": "e1bf557b-6ba0-4dbc-940d-290ea2485077",
   "metadata": {},
   "outputs": [],
   "source": [
    "# Filter the DataFrame based on boiler_status_mask\n",
    "df_filtered = df_prep.loc[boiler_status_mask]\n",
    "\n",
    "# Group by 'id' and calculate the sum of the relevant columns\n",
    "grouped = df_filtered.groupby('id').agg(\n",
    "    mean_boiler_use=('g_use_fan_hhv__W', 'mean'),\n",
    "    mean_smart_meter_use=('g_use_p1_hhv__W', 'mean'),\n",
    "    dsmr_version=('device_p1-reader_dsmr_version__0', 'first')  # Assuming the DSMR version doesn't change within an id\n",
    ")\n",
    "\n",
    "# Calculate the ratio\n",
    "grouped['ratio'] = grouped['mean_boiler_use'] / grouped['mean_smart_meter_use']"
   ]
  },
  {
   "cell_type": "code",
   "execution_count": null,
   "id": "e1cfe3a9-2c31-4710-b0bd-62e78ee6009e",
   "metadata": {},
   "outputs": [],
   "source": [
    "grouped"
   ]
  },
  {
   "cell_type": "code",
   "execution_count": null,
   "id": "2ec27ec3-e574-4155-a957-a4286613d7bd",
   "metadata": {},
   "outputs": [],
   "source": [
    "# Now, group by DSMR version and calculate the mean ratio for each version\n",
    "version_grouped = grouped.groupby('dsmr_version').agg(\n",
    "    sum_mean_boiler_use=('mean_boiler_use', 'sum'),\n",
    "    sum_mean_smart_meter_use=('mean_smart_meter_use', 'sum'),\n",
    "    mean_ratio=('ratio', 'mean'),\n",
    "    count=('ratio', 'size'))\n",
    "\n",
    "version_grouped['ratio_sums'] =  version_grouped['sum_mean_boiler_use'] / version_grouped['sum_mean_smart_meter_use']\n"
   ]
  },
  {
   "cell_type": "code",
   "execution_count": null,
   "id": "41ff175f-71fa-438a-9641-b8934adfca31",
   "metadata": {},
   "outputs": [],
   "source": [
    "version_grouped"
   ]
  },
  {
   "cell_type": "markdown",
   "id": "e764cee6-475f-4e93-a73b-de838d8f17e4",
   "metadata": {},
   "source": [
    "### Boxplots per home (when boiler is burning for central heating & gas value is open)"
   ]
  },
  {
   "cell_type": "code",
   "execution_count": null,
   "id": "fbb96ea3-ff1d-4c46-bf64-f3b2b248a391",
   "metadata": {},
   "outputs": [],
   "source": [
    "# Group by 'id' and calculate the mean for both 'eta_ch_hhv__W0' and 'batch_import_remeha_temp_ret__degC'\n",
    "df_prep[ch_gas_mask].groupby(level='id').agg({\n",
    "    'batch_import_remeha_temp_flow_ch_max__degC': 'mean',\n",
    "    'batch_import_remeha_temp_flow__degC': 'mean',\n",
    "    'batch_import_remeha_temp_ret__degC': 'mean',\n",
    "    'eta_ch_hhv__W0': 'mean',\n",
    "    'heat_ch__W': 'max',\n",
    "}).sort_values(by='eta_ch_hhv__W0', ascending=False)"
   ]
  },
  {
   "cell_type": "code",
   "execution_count": null,
   "id": "4857842e-0ca3-4261-8ece-b11b0c109f58",
   "metadata": {},
   "outputs": [],
   "source": [
    "Plot.nfh_property_per_id_boxplot(df_prep[ch_gas_mask], property_col='batch_import_remeha_temp_ret_ch__degC')"
   ]
  },
  {
   "cell_type": "code",
   "execution_count": null,
   "id": "06f61765-0576-416a-ae8c-7666f4fd4ab5",
   "metadata": {},
   "outputs": [],
   "source": [
    "Plot.nfh_property_per_id_boxplot(df_prep[ch_gas_mask], property_col='g_use_fan_load__pct')"
   ]
  },
  {
   "cell_type": "code",
   "execution_count": null,
   "id": "3f96329c-c1c1-4b9c-8bff-986664dd1016",
   "metadata": {},
   "outputs": [],
   "source": [
    "Plot.nfh_property_per_id_boxplot(df_prep[ch_gas_mask], property_col='eta_ch_hhv__W0')"
   ]
  },
  {
   "cell_type": "code",
   "execution_count": null,
   "id": "3ffbfb88-25eb-416b-9743-5116e8075643",
   "metadata": {},
   "outputs": [],
   "source": [
    "Plot.nfh_property_per_id_boxplot(df_prep[ch_gas_mask], property_col='heat_ch__W')"
   ]
  },
  {
   "cell_type": "code",
   "execution_count": null,
   "id": "2b319769-0027-4a1d-8249-66946788b5d9",
   "metadata": {},
   "outputs": [],
   "source": [
    "Plot.nfh_property_per_id_boxplot(df_prep[ch_gas_mask], property_col='batch_import_remeha_temp_flow_ch__degC')"
   ]
  },
  {
   "cell_type": "code",
   "execution_count": null,
   "id": "6a9988aa-9e51-490a-98b9-beaab4db56f5",
   "metadata": {},
   "outputs": [],
   "source": [
    "Plot.nfh_property_per_id_boxplot(df_prep[ch_gas_mask], property_col='batch_import_remeha_temp_outdoor__degC')"
   ]
  },
  {
   "cell_type": "code",
   "execution_count": null,
   "id": "f30753c4-ccfd-4fde-85e1-b3e6eeaffde5",
   "metadata": {},
   "outputs": [],
   "source": [
    "%matplotlib inline\n",
    "%matplotlib widget\n",
    "prop = 'batch_import_remeha_temp_outdoor__degC'\n",
    "df_prep[prop].plot.hist(bins=200, alpha=0.5, title = prop)\n"
   ]
  },
  {
   "cell_type": "markdown",
   "id": "86d4b55e-c30d-48ea-8aba-a9f83fb838a2",
   "metadata": {},
   "source": [
    "## Inspect internal heat from electrical energy\n"
   ]
  },
  {
   "cell_type": "code",
   "execution_count": null,
   "id": "8bb4c0f6-ad8f-492a-853e-9bfa8b4091f5",
   "metadata": {},
   "outputs": [],
   "source": [
    "df_prep[['device_p1-reader_e__W', 'device_p1-reader_e_use__W', 'device_p1-reader_e_ret__W']].describe().T"
   ]
  },
  {
   "cell_type": "code",
   "execution_count": null,
   "id": "6a31acd7-be3a-4397-8a34-742b2b65cacb",
   "metadata": {},
   "outputs": [],
   "source": [
    "df_prep[['device_p1-reader_e__W', 'device_p1-reader_e_use__W', 'device_p1-reader_e_ret__W']].groupby('id').describe().T"
   ]
  },
  {
   "cell_type": "code",
   "execution_count": null,
   "id": "4040c14e-0924-4e9b-870f-e508e0671bf8",
   "metadata": {},
   "outputs": [],
   "source": [
    "%%time\n",
    "# Calculate the fraction of time across al homes that net electricity usage is less than zero (which results into a relative 'cooling' effect: the sun is less effectively heating the home)\n",
    "(df_prep['device_p1-reader_e__W'] < 0).mean()"
   ]
  },
  {
   "cell_type": "code",
   "execution_count": null,
   "id": "9998d099-1bdb-483f-aea6-94fc82ac51f2",
   "metadata": {},
   "outputs": [],
   "source": [
    "%%time\n",
    "# Calculate the fraction of time per home that net electricity usage is less than zero (which reaslts into a relative 'cooling' effect: the sun is less effectively heating the home)\n",
    "df_prep.groupby('id')['device_p1-reader_e__W'].apply(lambda x: (x < 0).mean())"
   ]
  },
  {
   "cell_type": "markdown",
   "id": "9a0d8967-cc17-47f7-92fe-6863c9f88a61",
   "metadata": {},
   "source": [
    "## Optional: write heat distribution preprocessing results"
   ]
  },
  {
   "cell_type": "markdown",
   "id": "24ced4f0-4565-4a32-a8dd-3a58204dd976",
   "metadata": {},
   "source": [
    "### Writing heat distribution preprocessing results results to parquet file"
   ]
  },
  {
   "cell_type": "code",
   "execution_count": null,
   "id": "9c3927c3-a174-4376-98d8-52fbcbb76fb8",
   "metadata": {},
   "outputs": [],
   "source": [
    "df_heat_dist = df_prep\n",
    "\n",
    "# # optional: subset\n",
    "# df_heat_dist = df_prep[['batch_import_KNMI_sol_ghi__W_m_2',\n",
    "#                         'batch_import_KNMI_temp_outdoor__degC',\n",
    "#                         'batch_import_KNMI_wind__m_s_1',\n",
    "#                         'device_p1-reader_g_use_hhv__W',\n",
    "#                         'batch_import_remeha_boiler_status_burning_ch__bool',\n",
    "#                         'batch_import_remeha_boiler_status_burning_dhw__bool', \n",
    "#                         'batch_import_remeha_gas_valve_closed__bool',\n",
    "#                         'batch_import_remeha_gas_valve_open__bool',\n",
    "#                         'batch_import_remeha_fan_rotations__min_1', \n",
    "#                         'batch_import_remeha_flow_dstr_pump_speed__pct', \n",
    "#                         'batch_import_remeha_g_use_ch_lhv__W',\n",
    "#                         'batch_import_remeha_g_use_dhw_lhv__W',\n",
    "#                         'batch_import_remeha_temp_set__degC',\n",
    "#                         'batch_import_remeha_temp_indoor__degC',\n",
    "#                         'device_living_room_calibrated_temp_indoor__degC',\n",
    "#                         'batch_import_remeha_temp_flow__degC',\n",
    "#                         'batch_import_remeha_temp_ret__degC',\n",
    "#                         'batch_import_remeha_temp_flow_ch__degC',\n",
    "#                         'batch_import_remeha_temp_ret_ch__degC',\n",
    "#                         'interpolated_batch_import_remeha_temp_flow_ch__degC',\n",
    "#                         'interpolated_batch_import_remeha_temp_ret_ch__degC',\n",
    "#                         'batch_import_remeha_temp_flow_ch_max__degC', \n",
    "#                         'g_use_p1_hhv__W',\n",
    "#                         'g_use_fan_hhv__W',\n",
    "#                         'g_use_fan_dhw_hhv__W',\n",
    "#                         'g_use_fan_ch_hhv__W',\n",
    "#                         'eta_ch_hhv__W0',\n",
    "#                         'heat_ch__W',\n",
    "#                         'g_use_fan_load__pct',\n",
    "#                        ]]"
   ]
  },
  {
   "cell_type": "code",
   "execution_count": null,
   "id": "3b31d206-5506-4c35-94f4-f5a8d5114872",
   "metadata": {},
   "outputs": [],
   "source": [
    "df_heat_dist.info()"
   ]
  },
  {
   "cell_type": "code",
   "execution_count": null,
   "id": "55ecdfe4-f2e7-43b8-a0bb-24e6899f9d7c",
   "metadata": {},
   "outputs": [],
   "source": [
    "%%time \n",
    "df_heat_dist.to_parquet(rhc_heat_dstr_preprocessed_poperties_file, index=True, engine='pyarrow')"
   ]
  },
  {
   "cell_type": "markdown",
   "id": "53c0199e-739e-41c6-baaa-f4f89bcaaff6",
   "metadata": {},
   "source": [
    "### Optional: writing heat distribution preprocessing results to multiple zipped CSV files"
   ]
  },
  {
   "cell_type": "code",
   "execution_count": null,
   "id": "9026b78c-6225-49ad-b4c1-f74703aba354",
   "metadata": {},
   "outputs": [],
   "source": [
    "# %%time \n",
    "# # uncomment this entire block of code to enable it \n",
    "# # for home_id in tqdm(df_heat_dist.index.get_level_values('id').unique()[:3]):\n",
    "# # for home_id in tqdm(df_heat_dist.index.get_level_values('id').unique()[3:]):\n",
    "# # for home_id in [483173]:\n",
    "# for home_id in tqdm(df_heat_dist.index.get_level_values('id').unique()):\n",
    "#     df_heat_dist.xs(home_id, drop_level=False).to_csv(\n",
    "#         f'{home_id}_heat_dstr_preprocessed_properties.zip',\n",
    "#         encoding='utf-8',\n",
    "#         compression= dict(method='zip',\n",
    "#                           archive_name=f'{home_id}_heat_dstr_preprocessed_properties.csv'),\n",
    "#         date_format='%Y-%m-%dT%H:%M:%S%z'\n",
    "#     )\n"
   ]
  },
  {
   "cell_type": "markdown",
   "id": "996d4ede-47a5-4b0a-b0cc-213f66a90eb4",
   "metadata": {},
   "source": [
    "## Inspect  return temperatures"
   ]
  },
  {
   "cell_type": "code",
   "execution_count": null,
   "id": "58460792-c0b4-440a-acd1-94386f3fe8b7",
   "metadata": {},
   "outputs": [],
   "source": [
    "# time mask for one week in winter with almost all ids having data\n",
    "returntemp_mask = (\n",
    "    # (df_prep.index.get_level_values('id') == 483173)\n",
    "    (df_prep.index.get_level_values('id') == 403603)\n",
    "    & \n",
    "    (df_prep.index.get_level_values('timestamp') >= pd.to_datetime('2024-02-04 00:00:00+01:00'))\n",
    "    & \n",
    "    (df_prep.index.get_level_values('timestamp') < pd.to_datetime('2024-03-11 00:00:00+01:00'))\n",
    ")\n"
   ]
  },
  {
   "cell_type": "code",
   "execution_count": null,
   "id": "b671915b-bfa7-4b71-a3cc-0489534ab678",
   "metadata": {},
   "outputs": [],
   "source": [
    "replace_boolprops = ['batch_import_remeha_boiler_status_burning_ch__bool',\n",
    "                     'batch_import_remeha_boiler_status_pump_post_run__bool', \n",
    "                     'batch_import_remeha_boiler_status_burning_dhw__bool',\n",
    "                    ]"
   ]
  },
  {
   "cell_type": "code",
   "execution_count": null,
   "id": "6042a25b-bfea-45de-8347-e071036e606c",
   "metadata": {},
   "outputs": [],
   "source": [
    "%%time\n",
    "for prop in replace_boolprops:\n",
    "    df_prep[f\"{prop}01\"] = df_prep[prop].astype('Int8')"
   ]
  },
  {
   "cell_type": "code",
   "execution_count": null,
   "id": "ecdd0234-d2e9-4916-8d2b-05b463bfcd1e",
   "metadata": {},
   "outputs": [],
   "source": [
    "replaced_boolprops = [f\"{prop}01\" for prop in replace_boolprops]"
   ]
  },
  {
   "cell_type": "code",
   "execution_count": null,
   "id": "98a5d0ea-b1d0-4f13-89c1-e2b62ad27b8f",
   "metadata": {},
   "outputs": [],
   "source": [
    "df_prep[replaced_boolprops].describe()"
   ]
  },
  {
   "cell_type": "code",
   "execution_count": null,
   "id": "1ab26cbf-7a61-42be-bf51-9e14973433f9",
   "metadata": {},
   "outputs": [],
   "source": [
    "Plot.dataframe_preprocessed_plot(df_prep[returntemp_mask][['batch_import_remeha_flow_dstr_pump_speed__pct',\n",
    "                                                           'batch_import_remeha_temp_flow__degC',\n",
    "                                                           'batch_import_remeha_temp_ret__degC',\n",
    "                                                           'batch_import_remeha_temp_flow_ch__degC',\n",
    "                                                           'batch_import_remeha_temp_ret_ch__degC',\n",
    "                                                           'interpolated_batch_import_remeha_temp_flow_ch__degC',\n",
    "                                                           'interpolated_batch_import_remeha_temp_ret_ch__degC',\n",
    "                                                           'batch_import_remeha_boiler_status_burning_ch__bool01',\n",
    "                                                           'batch_import_remeha_boiler_status_pump_post_run__bool01', \n",
    "                                                           'batch_import_remeha_boiler_status_burning_dhw__bool01',\n",
    "                                                           'batch_import_remeha_dhw_flow__l_min_1',\n",
    "                                                           'g_use_fan_ch_hhv__W',\n",
    "                                                           'g_use_fan_dhw_hhv__W']\n",
    "                                 ], units_to_mathtext)"
   ]
  },
  {
   "cell_type": "code",
   "execution_count": null,
   "id": "b65dddea-bc1c-4fa0-8828-8326c6866408",
   "metadata": {},
   "outputs": [],
   "source": [
    "returntemp_plot_columns = ['batch_import_remeha_temp_flow__degC',\n",
    "                           'batch_import_remeha_temp_ret__degC',\n",
    "                           'interpolated_batch_import_remeha_temp_flow_ch__degC',\n",
    "                           'interpolated_batch_import_remeha_temp_ret_ch__degC',\n",
    "                           'g_use_fan_ch_hhv__W',\n",
    "                           'g_use_fan_dhw_hhv__W',\n",
    "                           'batch_import_remeha_boiler_status_burning_ch__bool01',\n",
    "                           'batch_import_remeha_boiler_status_pump_post_run__bool01', \n",
    "                           'batch_import_remeha_boiler_status_burning_dhw__bool01',\n",
    "                           # 'batch_import_remeha_flow_dstr_pump_speed__pct',\n",
    "                           ]"
   ]
  },
  {
   "cell_type": "code",
   "execution_count": null,
   "id": "e2242a26-90a6-43bd-9567-d65e3b0f3389",
   "metadata": {},
   "outputs": [],
   "source": [
    "df_prep[returntemp_mask][returntemp_plot_columns].describe().T"
   ]
  },
  {
   "cell_type": "code",
   "execution_count": null,
   "id": "6977694a-c084-45dd-839d-03c43d83ada6",
   "metadata": {},
   "outputs": [],
   "source": [
    "%autoreload 2\n",
    "Plot.dataframe_preprocessed_plot(df_prep[returntemp_mask][returntemp_plot_columns], units_to_mathtext)"
   ]
  },
  {
   "cell_type": "code",
   "execution_count": null,
   "id": "ef63c086-c9f1-4878-8492-a0a26bfeaa1e",
   "metadata": {},
   "outputs": [],
   "source": [
    "df_prep[returntemp_mask][returntemp_plot_columns].describe().T"
   ]
  },
  {
   "cell_type": "code",
   "execution_count": null,
   "id": "ce0e331c-ad78-4682-beed-e50ab801e52a",
   "metadata": {},
   "outputs": [],
   "source": [
    "filtered_returntemp_plot_columns = ['interpolated_batch_import_remeha_temp_flow_ch__degC',\n",
    "                                    'interpolated_batch_import_remeha_temp_ret_ch__degC',\n",
    "                                    'g_use_fan_ch_hhv__W',\n",
    "                                    'g_use_fan_dhw_hhv__W',\n",
    "                                    'batch_import_remeha_boiler_status_burning_ch__bool01',\n",
    "                                    'batch_import_remeha_boiler_status_pump_post_run__bool01', \n",
    "                                    'batch_import_remeha_boiler_status_burning_dhw__bool01',\n",
    "                                    'batch_import_remeha_flow_dstr_pump_speed__pct',\n",
    "                                   ]"
   ]
  },
  {
   "cell_type": "code",
   "execution_count": null,
   "id": "66dc6f2a-4827-4280-a3ae-b332f317bc12",
   "metadata": {},
   "outputs": [],
   "source": [
    "Plot.dataframe_preprocessed_plot(df_prep[returntemp_mask][filtered_returntemp_plot_columns], units_to_mathtext)"
   ]
  },
  {
   "cell_type": "markdown",
   "id": "e7e67911-5709-4fc7-80a4-651f4daea508",
   "metadata": {},
   "source": [
    "## Inspect relation between flow_dstr_pump_speed__pct and calculated_flow_ch__dm3_min_1"
   ]
  },
  {
   "cell_type": "markdown",
   "id": "2ef14fdb-c72f-4aae-8c14-23b1fa112e24",
   "metadata": {},
   "source": [
    "### Histogram and frequently occurring values"
   ]
  },
  {
   "cell_type": "code",
   "execution_count": null,
   "id": "d07908f3-8625-4073-9a9c-7d0bdf5f9e40",
   "metadata": {},
   "outputs": [],
   "source": [
    "df_prep['batch_import_remeha_flow_dstr_pump_speed__pct'].value_counts().nlargest(10)"
   ]
  },
  {
   "cell_type": "code",
   "execution_count": null,
   "id": "ccc442ce-9c52-46c7-99ec-1df1274f633e",
   "metadata": {},
   "outputs": [],
   "source": [
    "%matplotlib inline\n",
    "%matplotlib widget\n",
    "prop = 'batch_import_remeha_flow_dstr_pump_speed__pct'\n",
    "df_prep[prop].plot.hist(bins=200, alpha=0.5, title = prop)\n"
   ]
  },
  {
   "cell_type": "markdown",
   "id": "8e4382ae-1f37-41f9-ade9-1b246330033c",
   "metadata": {},
   "source": [
    "### Histogram and frequently occurring values: burning for DHW"
   ]
  },
  {
   "cell_type": "code",
   "execution_count": null,
   "id": "3d4be86a-f455-43f0-94b2-825bb06802ed",
   "metadata": {},
   "outputs": [],
   "source": [
    "dhw_gas_mask = (df_prep['batch_import_remeha_boiler_status_burning_dhw__bool']==True) & (df_prep['batch_import_remeha_gas_valve_open__bool'] == True)"
   ]
  },
  {
   "cell_type": "code",
   "execution_count": null,
   "id": "d444acc0-44dc-4506-b8b5-d5a6bce62231",
   "metadata": {},
   "outputs": [],
   "source": [
    "df_prep[dhw_gas_mask]['batch_import_remeha_flow_dstr_pump_speed__pct'].value_counts().nlargest(10)"
   ]
  },
  {
   "cell_type": "code",
   "execution_count": null,
   "id": "284578be-62d8-4321-9e95-0fd8904c35fd",
   "metadata": {},
   "outputs": [],
   "source": [
    "%matplotlib inline\n",
    "%matplotlib widget\n",
    "prop = 'batch_import_remeha_flow_dstr_pump_speed__pct'\n",
    "df_prep[dhw_gas_mask][prop].plot.hist(bins=200, alpha=0.5, title = prop)\n"
   ]
  },
  {
   "cell_type": "markdown",
   "id": "4435e5aa-911f-4d4f-8cf5-0ecc5529f06a",
   "metadata": {},
   "source": [
    "### Histogram and frequently occurring values: burning for CH"
   ]
  },
  {
   "cell_type": "code",
   "execution_count": null,
   "id": "c7533a75-1dca-42a3-aead-2a55ce980b8a",
   "metadata": {},
   "outputs": [],
   "source": [
    "df_prep[ch_gas_mask]['batch_import_remeha_flow_dstr_pump_speed__pct'].value_counts().nlargest(10)"
   ]
  },
  {
   "cell_type": "code",
   "execution_count": null,
   "id": "957af0a6-1c35-44a2-9c85-16e5f2618dc3",
   "metadata": {},
   "outputs": [],
   "source": [
    "%matplotlib inline\n",
    "%matplotlib widget\n",
    "prop = 'batch_import_remeha_flow_dstr_pump_speed__pct'\n",
    "df_prep[ch_gas_mask][prop].plot.hist(bins=200, alpha=0.5, title = prop)\n"
   ]
  },
  {
   "cell_type": "markdown",
   "id": "395492bb-33c8-454b-b79f-d94d87d69547",
   "metadata": {},
   "source": [
    "### Scatterplot flow vs pump_speed: colored by pump model"
   ]
  },
  {
   "cell_type": "code",
   "execution_count": null,
   "id": "ed172b82-3a3b-4ba9-b974-88583e49255a",
   "metadata": {},
   "outputs": [],
   "source": [
    "# Ensure the required columns are present\n",
    "required_columns = ['batch_import_remeha_flow_dstr_pump_speed__pct', 'flow_dstr__dm3_s_1']\n",
    "if not all(col in df_prep.columns for col in required_columns):\n",
    "    print(\"Some required columns are missing!\")\n",
    "\n",
    "# Sample the data based on the desired filtering\n",
    "df_sample = df_prep[ch_gas_mask].sample(n=100000, random_state=42)\n",
    "\n",
    "# Extract unique IDs from df_sample\n",
    "ids = df_sample.index.get_level_values('id').unique()\n",
    "\n",
    "# Retrieve corresponding pump models for these IDs\n",
    "id_to_pump_model = {id_: df_bldng_data.loc[id_]['pump_model__str'] for id_ in ids}\n",
    "\n",
    "# Get unique pump models and assign colors\n",
    "unique_pump_models = list(set(id_to_pump_model.values()))\n",
    "num_pump_models = len(unique_pump_models)\n",
    "cmap = plt.get_cmap('tab10', num_pump_models)\n",
    "pump_model_to_color = {model: cmap(idx) for idx, model in enumerate(unique_pump_models)}\n",
    "\n",
    "# Plot the scatter plot\n",
    "plt.figure(figsize=(10, 6))\n",
    "for id_ in ids:\n",
    "    # Get data for this ID\n",
    "    id_data = df_sample[df_sample.index.get_level_values('id') == id_]\n",
    "    pump_model = id_to_pump_model.get(id_, None)\n",
    "    if pump_model:  # Skip if pump model not found\n",
    "        plt.scatter(\n",
    "            id_data['batch_import_remeha_flow_dstr_pump_speed__pct'], \n",
    "            id_data['flow_dstr__dm3_s_1'], \n",
    "            color=pump_model_to_color[pump_model], \n",
    "            alpha=0.5, s=1, label=pump_model if pump_model not in plt.gca().get_legend_handles_labels()[1] else None\n",
    "        )\n",
    "\n",
    "# Customize the plot\n",
    "plt.title('Scatter plot of Water Pump Speed vs. Calculated Flow (all ids)')\n",
    "plt.xlabel('batch_import_remeha_flow_dstr_pump_speed__pct')\n",
    "plt.ylabel('flow_dstr__dm3_s_1')\n",
    "plt.grid(True)\n",
    "\n",
    "# Add a legend\n",
    "plt.legend(title='Pump Model', loc='best', markerscale=5)\n",
    "plt.show()"
   ]
  },
  {
   "cell_type": "code",
   "execution_count": null,
   "id": "9704024a-97ca-417f-b8f0-1b1e6e65d892",
   "metadata": {},
   "outputs": [],
   "source": [
    "flow_props = [\n",
    "    'delta_t_flow_ret__K',\n",
    "    'batch_import_remeha_flow_dstr_pump_speed__pct', \n",
    "    'flow_dstr__dm3_s_1',\n",
    "    'eta_ch_hhv__W0',\n",
    "]"
   ]
  },
  {
   "cell_type": "code",
   "execution_count": null,
   "id": "d355712d-dc3d-4178-9afc-0a443d7200c4",
   "metadata": {},
   "outputs": [],
   "source": [
    "# Filter the data as needed\n",
    "df_sample = df_prep[ch_gas_mask][flow_props]\n",
    "\n",
    "# df_sample = df_sample.sample(n=100000, random_state=42)"
   ]
  },
  {
   "cell_type": "code",
   "execution_count": null,
   "id": "7d0c4459-3e59-439a-a8d8-11128aaaaf9b",
   "metadata": {},
   "outputs": [],
   "source": [
    "df_sample.describe()"
   ]
  },
  {
   "cell_type": "code",
   "execution_count": null,
   "id": "54c4a994-d314-497b-a345-3157bf546276",
   "metadata": {},
   "outputs": [],
   "source": [
    "%matplotlib inline\n",
    "%matplotlib widget\n",
    "for prop in flow_props:\n",
    "    plt.figure()  # Create a new figure for each plot\n",
    "    df_sample[prop].plot.hist(\n",
    "        bins=200, alpha=0.5, title=prop, density=True\n",
    "    )\n",
    "    plt.xlabel(prop)\n",
    "    plt.ylabel(\"Density\")\n",
    "    plt.title(f\"Histogram of {prop}\")\n",
    "    plt.grid(True)\n",
    "    plt.show()"
   ]
  },
  {
   "cell_type": "markdown",
   "id": "031c49f5-3292-4ad0-9d38-6eec9d9adf52",
   "metadata": {},
   "source": [
    "### Scatterplot flow vs pump_speed: colored by delta_t_flow_ret__K"
   ]
  },
  {
   "cell_type": "code",
   "execution_count": null,
   "id": "27f6cdde-fe44-4faf-8832-59bd624534d9",
   "metadata": {},
   "outputs": [],
   "source": [
    "# Helper function to calculate metrics, plot the graph, and optionally add the regression line\n",
    "def update_graph(threshold, selected_ids, color_min, color_max, show_regression_line):\n",
    "    # Filter data based on temp_diff threshold\n",
    "    df_filtered = df_sample[df_sample['delta_t_flow_ret__K'] >= threshold]\n",
    "    \n",
    "    # Calculate percentage of dots left compared to unfiltered\n",
    "    total_dots_left_pct = len(df_filtered) / len(df_sample) * 100\n",
    "    \n",
    "    # Calculate smallest percentage of dots left for any ID\n",
    "    group_sizes_original = df_sample.groupby(level='id').size()\n",
    "    group_sizes_filtered = df_filtered.groupby(level='id').size()\n",
    "    id_with_smallest_pct = (group_sizes_filtered / group_sizes_original).fillna(0).idxmin()\n",
    "    smallest_pct_per_id = (group_sizes_filtered / group_sizes_original).fillna(0).min() * 100\n",
    "\n",
    "    # Display metrics dynamically\n",
    "    print(f\"Threshold: {threshold:.2f} K\")\n",
    "    print(f\"Percentage of dots left: {total_dots_left_pct:.2f}%\")\n",
    "    print(f\"Smallest percentage of dots left for a specific ID: {smallest_pct_per_id:.2f}%\")\n",
    "    print(f\"ID with the smallest percentage: {id_with_smallest_pct}\")\n",
    "    \n",
    "    # Filter based on selected IDs\n",
    "    if selected_ids:\n",
    "        df_filtered = df_filtered[df_filtered.index.get_level_values('id').isin(selected_ids)]\n",
    "        pump_ids = list(selected_ids)\n",
    "    else:\n",
    "        pump_ids = list(df_prep.index.get_level_values('id').unique())\n",
    "\n",
    "    pump_brandmodels__str = ', '.join(set(df_bldng_data.loc[pump_ids].apply(lambda row: f\"{row['pump_brand__str']} {row['pump_model__str']}\", axis=1)))\n",
    "    print(f\"Pump(s): {pump_brandmodels__str}\")\n",
    "    \n",
    "\n",
    "    # Scatter plot\n",
    "    plt.figure(figsize=(10, 6))\n",
    "    scatter = plt.scatter(\n",
    "        df_filtered['batch_import_remeha_flow_dstr_pump_speed__pct'],\n",
    "        df_filtered['flow_dstr__dm3_s_1'],\n",
    "        c=df_filtered['delta_t_flow_ret__K'], \n",
    "        cmap='jet',\n",
    "        norm=Normalize(vmin=color_min, vmax=color_max),  # Dynamic color scale\n",
    "        alpha=0.5, \n",
    "        s=1\n",
    "    )\n",
    "\n",
    "    if selected_ids and len(selected_ids)==1:\n",
    "        plt.title(f\"Pump Speed vs. Flow Rate for ID {selected_ids[0]} based on ΔT>{threshold:.1f} K\")\n",
    "    else:\n",
    "        plt.title(f\"Pump Speed vs. Flow Rate based on ΔT>{threshold:.1f} K\")\n",
    "    plt.xlabel('Pump Speed (%)')\n",
    "    plt.ylabel('Flow Rate (L/s)')\n",
    "    plt.grid(True)\n",
    "    \n",
    "    # Color bar with intermediary labels\n",
    "    cbar = plt.colorbar(scatter)\n",
    "    cbar.set_label('ΔT:flow-return [K]')\n",
    "    cbar.set_ticks(np.linspace(color_min, color_max, 5))  # Intermediary labels\n",
    "    cbar.set_ticklabels([f\"{x:.1f}\" for x in np.linspace(color_min, color_max, 5)])  # Custom labels\n",
    "\n",
    "    # Optionally add linear regression line\n",
    "    if show_regression_line:\n",
    "        # Perform linear regression on the filtered data\n",
    "        slope, intercept, _, _, _ = linregress(df_filtered['batch_import_remeha_flow_dstr_pump_speed__pct'],\n",
    "                                                df_filtered['flow_dstr__dm3_s_1'])\n",
    "        # Calculate the estimated flow at 100% pump speed\n",
    "        flow_at_100_pct = slope * 100 + intercept\n",
    "        \n",
    "        # Plot the regression line\n",
    "        x_vals = np.linspace(df_filtered['batch_import_remeha_flow_dstr_pump_speed__pct'].min(),\n",
    "                             df_filtered['batch_import_remeha_flow_dstr_pump_speed__pct'].max(), 100)\n",
    "        y_vals = slope * x_vals + intercept\n",
    "        plt.plot(x_vals, y_vals, 'r--', label='Linear Fit', linewidth=2)  # Dotted red line\n",
    "        print(f\"Slope: {slope:.4f} L/s per %\")\n",
    "        print(f\"Intercept: {intercept:.4f} L/s\")\n",
    "        print(f\"Flow at 100%: {flow_at_100_pct:.4f} L/s\")\n",
    "    else:\n",
    "        print(\"Slope: None\")\n",
    "        print(\"Intercept: None\")\n",
    "        print(\"Flow at 100%: None\")\n",
    "        \n",
    "    plt.show()\n",
    "\n",
    "# Create a list of unique IDs\n",
    "unique_ids = tuple(df_prep.index.get_level_values('id').unique())\n",
    "\n",
    "# Create interactive widgets\n",
    "threshold_slider = FloatSlider(\n",
    "    value=0, min=0, max=40, step=0.2, \n",
    "    description='Threshold (K)', continuous_update=False\n",
    ")\n",
    "\n",
    "id_selector = SelectMultiple(\n",
    "    options=unique_ids,\n",
    "    value=unique_ids,  # Default: all IDs selected\n",
    "    description=\"IDs\",\n",
    "    disabled=False,\n",
    "    layout={'height': '400px'}  # Set height for 20 items\n",
    ")\n",
    "\n",
    "# Sliders for dynamic color scale limits\n",
    "color_min_slider = FloatSlider(\n",
    "    value=0, min=0, max=40, step=0.5, \n",
    "    description='Color Min (K)', continuous_update=False\n",
    ")\n",
    "\n",
    "color_max_slider = FloatSlider(\n",
    "    value=10, min=0, max=40, step=0.5, \n",
    "    description='Color Max (K)', continuous_update=False\n",
    ")\n",
    "\n",
    "# Checkbox for toggling regression line\n",
    "show_regression_checkbox = Checkbox(\n",
    "    value=True,\n",
    "    description='Show Linear Fit',\n",
    "    disabled=False\n",
    ")\n",
    "\n",
    "# Create an Output widget to capture the graph output\n",
    "output = Output()\n",
    "\n",
    "# Function to handle widget interactions and plot updates\n",
    "def interactive_update(threshold, selected_ids, color_min, color_max, show_regression_line):\n",
    "    with output:\n",
    "        output.clear_output(wait=True)\n",
    "        update_graph(threshold, selected_ids, color_min, color_max, show_regression_line)\n",
    "\n",
    "# Display widgets and graph side by side using HBox and VBox\n",
    "display(HBox([VBox([threshold_slider, id_selector, color_min_slider, color_max_slider, show_regression_checkbox]), output]))\n",
    "\n",
    "# Interact with the updated function\n",
    "interact(interactive_update, \n",
    "         threshold=threshold_slider, \n",
    "         selected_ids=id_selector, \n",
    "         color_min=color_min_slider, \n",
    "         color_max=color_max_slider,\n",
    "         show_regression_line=show_regression_checkbox)\n"
   ]
  },
  {
   "cell_type": "markdown",
   "id": "853852f6-2758-4272-a57d-7d0661040cd3",
   "metadata": {},
   "source": [
    "### Scatterplot flow vs pump_speed: colored by eta_hhv_ch__W0"
   ]
  },
  {
   "cell_type": "code",
   "execution_count": null,
   "id": "0c3aba6c-6feb-4cf4-b300-5d9d22e21b52",
   "metadata": {},
   "outputs": [],
   "source": [
    "# Helper function to calculate metrics, plot the graph, and optionally add the regression line\n",
    "def update_graph(threshold, selected_ids, color_min, color_max, show_regression_line):\n",
    "    # Filter data based on temp_diff threshold\n",
    "    df_filtered = df_sample[df_sample['delta_t_flow_ret__K'] >= threshold]\n",
    "    \n",
    "    # Calculate percentage of dots left compared to unfiltered\n",
    "    total_dots_left_pct = len(df_filtered) / len(df_sample) * 100\n",
    "    \n",
    "    # Calculate smallest percentage of dots left for any ID\n",
    "    group_sizes_original = df_sample.groupby(level='id').size()\n",
    "    group_sizes_filtered = df_filtered.groupby(level='id').size()\n",
    "    id_with_smallest_pct = (group_sizes_filtered / group_sizes_original).fillna(0).idxmin()\n",
    "    smallest_pct_per_id = (group_sizes_filtered / group_sizes_original).fillna(0).min() * 100\n",
    "\n",
    "    # Display metrics dynamically\n",
    "    print(f\"Threshold: {threshold:.2f} K\")\n",
    "    print(f\"Percentage of dots left: {total_dots_left_pct:.2f}%\")\n",
    "    print(f\"Smallest percentage of dots left for a specific ID: {smallest_pct_per_id:.2f}%\")\n",
    "    print(f\"ID with the smallest percentage: {id_with_smallest_pct}\")\n",
    "    \n",
    "    # Filter based on selected IDs\n",
    "    if selected_ids:\n",
    "        df_filtered = df_filtered[df_filtered.index.get_level_values('id').isin(selected_ids)]\n",
    "        pump_ids = list(selected_ids)\n",
    "    else:\n",
    "        pump_ids = list(df_prep.index.get_level_values('id').unique())\n",
    "\n",
    "    pump_brandmodels__str = ', '.join(set(df_bldng_data.loc[pump_ids].apply(lambda row: f\"{row['pump_brand__str']} {row['pump_model__str']}\", axis=1)))\n",
    "    print(f\"Pump(s): {pump_brandmodels__str}\")\n",
    "    \n",
    "\n",
    "    # Scatter plot\n",
    "    plt.figure(figsize=(10, 6))\n",
    "    scatter = plt.scatter(\n",
    "        df_filtered['batch_import_remeha_flow_dstr_pump_speed__pct'],\n",
    "        df_filtered['flow_dstr__dm3_s_1'],\n",
    "        c=df_filtered['eta_ch_hhv__W0'], \n",
    "        # cmap='jet',\n",
    "        cmap='RdYlGn',\n",
    "        norm=Normalize(vmin=color_min, vmax=color_max),  # Dynamic color scale\n",
    "        alpha=0.5, \n",
    "        s=1\n",
    "    )\n",
    "\n",
    "    if selected_ids and len(selected_ids)==1:\n",
    "        plt.title(f\"Pump Speed vs. Flow Rate for ID {selected_ids[0]} based on ΔT>{threshold:.1f} K\")\n",
    "    else:\n",
    "        plt.title(f\"Pump Speed vs. Flow Rate based on ΔT>{threshold:.1f} K\")\n",
    "    plt.xlabel('Pump Speed (%)')\n",
    "    plt.ylabel('Flow Rate (L/s)')\n",
    "    plt.grid(True)\n",
    "    \n",
    "    # Color bar with intermediary labels\n",
    "    cbar = plt.colorbar(scatter)\n",
    "    cbar.set_label('eta_hhv [W^0]')\n",
    "    cbar.set_ticks(np.linspace(color_min, color_max, 5))  # Intermediary labels\n",
    "    cbar.set_ticklabels([f\"{x:.1f}\" for x in np.linspace(color_min, color_max, 5)])  # Custom labels\n",
    "\n",
    "    # Optionally add linear regression line\n",
    "    if show_regression_line:\n",
    "        # Perform linear regression on the filtered data\n",
    "        slope, intercept, _, _, _ = linregress(df_filtered['batch_import_remeha_flow_dstr_pump_speed__pct'],\n",
    "                                                df_filtered['flow_dstr__dm3_s_1'])\n",
    "        # Calculate the estimated flow at 100% pump speed\n",
    "        flow_at_100_pct = slope * 100 + intercept\n",
    "        \n",
    "        # Plot the regression line\n",
    "        x_vals = np.linspace(df_filtered['batch_import_remeha_flow_dstr_pump_speed__pct'].min(),\n",
    "                             df_filtered['batch_import_remeha_flow_dstr_pump_speed__pct'].max(), 100)\n",
    "        y_vals = slope * x_vals + intercept\n",
    "        plt.plot(x_vals, y_vals, 'r--', label='Linear Fit', linewidth=2)  # Dotted red line\n",
    "        print(f\"Slope: {slope:.4f} L/s per %\")\n",
    "        print(f\"Intercept: {intercept:.4f} L/s\")\n",
    "        print(f\"Flow at 100%: {flow_at_100_pct:.4f} L/s\")\n",
    "    else:\n",
    "        print(\"Slope: None\")\n",
    "        print(\"Intercept: None\")\n",
    "        print(\"Flow at 100%: None\")\n",
    "        \n",
    "    plt.show()\n",
    "\n",
    "# Create a list of unique IDs\n",
    "unique_ids = tuple(df_prep.index.get_level_values('id').unique())\n",
    "\n",
    "# Create interactive widgets\n",
    "threshold_slider = FloatSlider(\n",
    "    value=0, min=0, max=40, step=0.2, \n",
    "    description='Threshold (K)', continuous_update=False\n",
    ")\n",
    "\n",
    "id_selector = SelectMultiple(\n",
    "    options=unique_ids,\n",
    "    value=unique_ids,  # Default: all IDs selected\n",
    "    description=\"IDs\",\n",
    "    disabled=False,\n",
    "    layout={'height': '400px'}  # Set height for 20 items\n",
    ")\n",
    "\n",
    "# Sliders for dynamic color scale limits\n",
    "color_min_slider = FloatSlider(\n",
    "    value=0.8, min=0.80, max=1.10, step=0.01, \n",
    "    description='eta min (W^0)', continuous_update=False\n",
    ")\n",
    "\n",
    "color_max_slider = FloatSlider(\n",
    "    value=1.1, min=0.80, max=1.10, step=0.01, \n",
    "    description='eta max (W^0)', continuous_update=False\n",
    ")\n",
    "\n",
    "# Checkbox for toggling regression line\n",
    "show_regression_checkbox = Checkbox(\n",
    "    value=True,\n",
    "    description='Show Linear Fit',\n",
    "    disabled=False\n",
    ")\n",
    "\n",
    "# Create an Output widget to capture the graph output\n",
    "output = Output()\n",
    "\n",
    "# Function to handle widget interactions and plot updates\n",
    "def interactive_update(threshold, selected_ids, color_min, color_max, show_regression_line):\n",
    "    with output:\n",
    "        output.clear_output(wait=True)\n",
    "        update_graph(threshold, selected_ids, color_min, color_max, show_regression_line)\n",
    "\n",
    "# Display widgets and graph side by side using HBox and VBox\n",
    "display(HBox([VBox([threshold_slider, id_selector, color_min_slider, color_max_slider, show_regression_checkbox]), output]))\n",
    "\n",
    "# Interact with the updated function\n",
    "interact(interactive_update, \n",
    "         threshold=threshold_slider, \n",
    "         selected_ids=id_selector, \n",
    "         color_min=color_min_slider, \n",
    "         color_max=color_max_slider,\n",
    "         show_regression_line=show_regression_checkbox)\n"
   ]
  },
  {
   "cell_type": "markdown",
   "id": "86b3ad93-33e7-43d7-9978-5d605aa925cd",
   "metadata": {},
   "source": [
    "### Learn flow rate parameters"
   ]
  },
  {
   "cell_type": "code",
   "execution_count": null,
   "id": "34f07570-7afd-4ac3-ac3f-b9c46b678255",
   "metadata": {},
   "outputs": [],
   "source": [
    "%%time\n",
    "# Apply selected filter\n",
    "threshold_delta_t_flow_return__k = 12.0\n",
    "flow_learn_mask_delta_t_flow_return__K = df_sample['delta_t_flow_ret__K'] >= threshold_delta_t_flow_return__k\n",
    "df_learn_flow = df_sample[flow_learn_mask_delta_t_flow_return__K]"
   ]
  },
  {
   "cell_type": "code",
   "execution_count": null,
   "id": "d08397b0-a71c-474e-9357-cf694b12112f",
   "metadata": {},
   "outputs": [],
   "source": [
    "df_learn_flow.describe()"
   ]
  },
  {
   "cell_type": "code",
   "execution_count": null,
   "id": "80b41cff-9e68-4b0c-9714-2219a1a9ff97",
   "metadata": {},
   "outputs": [],
   "source": [
    "# Function to calculate slope, intercept, and R² for each home\n",
    "def calculate_linear_fit(group):\n",
    "    # Filter data\n",
    "    threshold_delta_t_flow_return__k = 8.0\n",
    "    mask = group['delta_t_flow_ret__K'] >= threshold_delta_t_flow_return__k\n",
    "    df_filtered = group[mask]\n",
    "    \n",
    "    # Check if sufficient data points exist\n",
    "    if len(df_filtered) > 1:\n",
    "        # Perform linear regression\n",
    "        slope, intercept, r_value, _, _ = linregress(\n",
    "            df_filtered['batch_import_remeha_flow_dstr_pump_speed__pct'],\n",
    "            df_filtered['flow_dstr__dm3_s_1']\n",
    "        )\n",
    "        flow_dstr_mean__kg_m_3 = water_density__kg_dm_3(df_filtered['batch_import_remeha_temp_ret_ch__degC'].mean(), heat_dstr_nl_avg_abs__Pa)\n",
    "        # Calculate flow at 100% pump speed\n",
    "        flow_at_100_pct = slope * 100 + intercept\n",
    "        return pd.Series({\n",
    "            'flow_dstr_slope__dm3_s_1_pct_1': slope,\n",
    "            'flow_dstr_intercept__dm3_s_1': intercept,\n",
    "            'flow_dstr_cap__dm3_s_1': flow_at_100_pct,\n",
    "            'flow_dstr_r_squared': r_value**2,\n",
    "            'flow_dstr_mean__kg_m_3': flow_dstr_mean__kg_m_3\n",
    "            \n",
    "        })\n",
    "    else:\n",
    "        return pd.Series({\n",
    "            'flow_dstr_slope__dm3_s_1_pct_1': np.nan,\n",
    "            'flow_dstr_intercept__dm3_s_1': np.nan,\n",
    "            'flow_dstr_cap__dm3_s_1': np.nan,\n",
    "            'flow_dstr_r_squared': np.nan,\n",
    "            'flow_dstr_mean__kg_m_3': np.nan,\n",
    "        })"
   ]
  },
  {
   "cell_type": "code",
   "execution_count": null,
   "id": "224c2270-170d-49a5-889d-df802caa52ae",
   "metadata": {},
   "outputs": [],
   "source": [
    "# Group by home ID and apply the function\n",
    "df_learn_flow = df_prep[\n",
    "    (df_prep['batch_import_remeha_boiler_status_burning_ch__bool']) & \n",
    "    (df_prep['batch_import_remeha_gas_valve_open__bool'])\n",
    "]\n",
    "df_learn_flow = df_learn_flow[[\n",
    "    'batch_import_remeha_flow_dstr_pump_speed__pct', \n",
    "    'flow_dstr__dm3_s_1',\n",
    "    'delta_t_flow_ret__K',\n",
    "    'batch_import_remeha_temp_flow_ch__degC', \n",
    "    'batch_import_remeha_temp_ret_ch__degC'\n",
    "]]"
   ]
  },
  {
   "cell_type": "code",
   "execution_count": null,
   "id": "8ae40cb2-8096-4eff-96b0-5e4840a3c0ba",
   "metadata": {},
   "outputs": [],
   "source": [
    "%%time\n",
    "flow_parameter_results = df_learn_flow.groupby('id').apply(calculate_linear_fit)"
   ]
  },
  {
   "cell_type": "code",
   "execution_count": null,
   "id": "bb069bfc-3714-467c-9c8b-79c170c496c3",
   "metadata": {},
   "outputs": [],
   "source": [
    " with pd.option_context('display.float_format', '{:.4f}'.format):\n",
    "     display(flow_parameter_results.T)"
   ]
  },
  {
   "cell_type": "code",
   "execution_count": null,
   "id": "a8231a3a-1f92-4083-816c-18da899a5574",
   "metadata": {},
   "outputs": [],
   "source": [
    "# Merge flow_parameter_results into `df_bldng_data`\n",
    "flow_result_subset = [\n",
    "    'flow_dstr_slope__dm3_s_1_pct_1',\n",
    "    'flow_dstr_intercept__dm3_s_1',\n",
    "    'flow_dstr_cap__dm3_s_1',\n",
    "    'flow_dstr_mean__kg_m_3',\n",
    "]\n",
    "df_bldng_data = pd.merge(df_bldng_data, flow_parameter_results[flow_result_subset], on='id', how='left')"
   ]
  },
  {
   "cell_type": "code",
   "execution_count": null,
   "id": "d94cbf6f-0667-4522-8ecc-1f4ccfd10a96",
   "metadata": {},
   "outputs": [],
   "source": [
    "# Calculate pump head pressure and flow resistance\n",
    "df_bldng_data['pump_max__Pa'] = (\n",
    "    df_bldng_data['flow_dstr_mean__kg_m_3'] * dm3_m_3 \n",
    "    * g__m_s_2 \n",
    "    * df_bldng_data['pump_head_max__m']\n",
    ")\n",
    "\n",
    "df_bldng_data['flow_dstr_resistance__Pa_dm_6_s2'] = df_bldng_data['pump_max__Pa'] / (df_bldng_data['flow_dstr_slope__dm3_s_1_pct_1'] * 100)**2"
   ]
  },
  {
   "cell_type": "code",
   "execution_count": null,
   "id": "b568323d-7151-432b-802f-fde4176a6d9d",
   "metadata": {},
   "outputs": [],
   "source": [
    "df_bldng_data.T"
   ]
  },
  {
   "cell_type": "code",
   "execution_count": null,
   "id": "191b42a9-05cd-48ff-a535-98c7279768c9",
   "metadata": {},
   "outputs": [],
   "source": [
    "df_bldng_data.describe().T"
   ]
  },
  {
   "cell_type": "markdown",
   "id": "a44e2fbf-4a02-4f46-adda-eb0cc315e883",
   "metadata": {},
   "source": [
    "# Optional: Read heat distribution preprocessing results\n",
    "This step can be used to test learning algorithms without having to do the analysis perprocessing."
   ]
  },
  {
   "cell_type": "code",
   "execution_count": null,
   "id": "9a7dcec9-26f8-45f6-a27c-884a9db6f8b4",
   "metadata": {},
   "outputs": [],
   "source": [
    "%%time\n",
    "\n",
    "# Attempt to read the Parquet file\n",
    "try:\n",
    "    df_prep = pd.read_parquet(\n",
    "        rhc_heat_dstr_preprocessed_poperties_file, \n",
    "        engine='pyarrow',\n",
    "        dtype_backend='numpy_nullable'\n",
    "        )\n",
    "    print(\"File was successfully read without specifying compression codec.\")\n",
    "except Exception as e:\n",
    "    print(f\"Error reading file: {e}\")"
   ]
  },
  {
   "cell_type": "markdown",
   "id": "bffda6fb-9c44-481d-a187-66704d4544ac",
   "metadata": {
    "tags": []
   },
   "source": [
    "# Learn heat performance signature parameters\n",
    "Most of the heavy lifting is done by the `learn_system_prameters()` function, which again uses the [GEKKO Python](https://machinelearning.byu.edu/) dynamic optimization toolkit."
   ]
  },
  {
   "cell_type": "code",
   "execution_count": null,
   "id": "dea53886-5b45-4212-91f5-73c0e9efdb77",
   "metadata": {
    "tags": []
   },
   "outputs": [],
   "source": [
    "%autoreload 2\n",
    "\n",
    "# select which property columns in df_prep are used as properties needed by the learning algorithm\n",
    "property_sources = {\n",
    "    'temp_indoor__degC':        'batch_import_remeha_temp_indoor__degC',\n",
    "    'temp_set__degC':           'batch_import_remeha_temp_set__degC',\n",
    "    'comfortable__bool':        'comfortable__bool',\n",
    "    'temp_outdoor__degC':       'batch_import_KNMI_temp_outdoor__degC',\n",
    "    'wind__m_s_1':              'batch_import_KNMI_wind__m_s_1',\n",
    "    'sol_ghi__W_m_2':           'batch_import_KNMI_sol_ghi__W_m_2', \n",
    "    'g_use_ch_hhv__W':          'g_use_fan_ch_hhv__W',\n",
    "    'eta_ch_hhv__W0':           'eta_ch_hhv__W0', \n",
    "    'g_use_dhw_hhv__W':         'g_use_fan_dhw_hhv__W',\n",
    "    'e__W':                     'device_p1-reader_e__W',    \n",
    "    'occupancy__p':             'device_living_room_occupancy__p',\n",
    "    'co2_indoor__ppm':          'device_living_room_co2_indoor__ppm',\n",
    "    'temp_flow__degC':          'batch_import_remeha_temp_flow__degC',\n",
    "    'temp_ret__degC':           'batch_import_remeha_temp_ret__degC',\n",
    "    'temp_flow_ch__degC':       'interpolated_batch_import_remeha_temp_flow_ch__degC',\n",
    "    'temp_ret_ch__degC':        'interpolated_batch_import_remeha_temp_ret_ch__degC',\n",
    "    'temp_flow_ch_max__degC':   'batch_import_remeha_temp_flow_ch_max__degC', \n",
    "    'fan_rotations__min_1':     'batch_import_remeha_fan_rotations__min_1', \n",
    "    'fan_speed__pct':           'fan_speed__pct', \n",
    "    'flow_dstr_pump_speed__pct':'batch_import_remeha_flow_dstr_pump_speed__pct',\n",
    "    'temp_dstr__degC':          'temp_dstr__degC', # added to get mae and rmse values\n",
    "    'ventilation__dm3_s_1':     'predicted_ventilation__dm3_s_1',\n",
    "    'temp_flow_ch_set__degC':   'predicted_temp_flow_ch_set__degC',\n",
    "    'heat_ch__W':               'heat_ch__W',\n",
    "    'flow_dstr__dm3_s_1':       'flow_dstr__dm3_s_1',\n",
    "}"
   ]
  },
  {
   "cell_type": "markdown",
   "id": "defa7bec-6dec-49f7-85fe-7e0340d189ad",
   "metadata": {},
   "source": [
    "### Define (subsets of) learning periods and (subsets of) home ids to perform the learning on"
   ]
  },
  {
   "cell_type": "code",
   "execution_count": null,
   "id": "0686fb89-8da2-401b-9e74-393016a4511c",
   "metadata": {},
   "outputs": [],
   "source": [
    "# time mask for core of winter with most data\n",
    "janfebmrt24_mask = ((df_prep.index.get_level_values('timestamp') >= pd.to_datetime('2024-01-01 00:00:00+01:00')) \n",
    "                    & \n",
    "                    (df_prep.index.get_level_values('timestamp') < pd.to_datetime('2024-04-01 00:00:00+02:00'))\n",
    "                   )"
   ]
  },
  {
   "cell_type": "code",
   "execution_count": null,
   "id": "09d1900c-fd9c-450c-b9d6-1670dd91b054",
   "metadata": {},
   "outputs": [],
   "source": [
    "# time mask for one week in winter with almost all ids having data\n",
    "febwk3_mask = ((df_prep.index.get_level_values('timestamp') >= pd.to_datetime('2024-02-18 00:00:00+01:00'))\n",
    "               & \n",
    "               (df_prep.index.get_level_values('timestamp') < pd.to_datetime('2024-02-25 00:00:00+01:00'))\n",
    "              )\n"
   ]
  },
  {
   "cell_type": "code",
   "execution_count": null,
   "id": "e9de2ad4-daee-4981-b376-7f465d00e9fa",
   "metadata": {},
   "outputs": [],
   "source": [
    "# time mask for one week in winter with almost all ids having data\n",
    "feb_mask = ((df_prep.index.get_level_values('timestamp') >= pd.to_datetime('2024-02-01 00:00:00+01:00'))\n",
    "            & \n",
    "            (df_prep.index.get_level_values('timestamp') < pd.to_datetime('2024-02-29 00:00:00+01:00'))\n",
    "           )\n"
   ]
  },
  {
   "cell_type": "code",
   "execution_count": null,
   "id": "4435ca99-9f15-44a7-a0c2-7ce0c71b258c",
   "metadata": {},
   "outputs": [],
   "source": [
    "specific_id = 434931\n",
    "specific_ids = [434931, 450298, 495906]"
   ]
  },
  {
   "cell_type": "markdown",
   "id": "048a43ff-5a50-4525-9720-9882d7bea3dd",
   "metadata": {},
   "source": [
    "### Optional: Restrict the analysis size"
   ]
  },
  {
   "cell_type": "code",
   "execution_count": null,
   "id": "c3314b0e-4027-4047-bd4e-e01867494f33",
   "metadata": {
    "tags": []
   },
   "outputs": [],
   "source": [
    "# Slim dataset down for testing (work on full df_prep during final analysis)\n",
    "idx = pd.IndexSlice\n",
    "# df_prep = df_prep[febwk3_mask].loc[idx[[specific_id]], :]\n",
    "# df_prep = df_prep[febwk3_mask].loc[idx[specific_ids], :]\n",
    "# df_prep = df_prep[feb_mask].loc[idx[specific_ids], :]                                                                \n",
    "df_prep = df_prep[janfebmrt24_mask]   "
   ]
  },
  {
   "cell_type": "code",
   "execution_count": null,
   "id": "62c445f7-ab19-4100-9f8e-c5ae6e0d71de",
   "metadata": {
    "tags": []
   },
   "outputs": [],
   "source": [
    "# max_periods = 10 # set max_periods to a value other than None, e.g. 10 or 100 during testing of learning algorithms\n",
    "# max_periods = 100 # set max_periods to a value other than None, e.g. 10 or 100 during testing of learning algorithms\n",
    "# max_periods = 1000 # set max_periods to a value other than None, e.g. 10 or 100 during testing of learning algorithms\n",
    "max_periods = None # set max_periods to a None for full learning"
   ]
  },
  {
   "cell_type": "markdown",
   "id": "ded25fb1-b13d-4075-be3a-51db292a87e0",
   "metadata": {},
   "source": [
    "## Learn thermostat parameters"
   ]
  },
  {
   "cell_type": "markdown",
   "id": "082d11ac-64a7-4c68-8417-10e981522c17",
   "metadata": {},
   "source": [
    "### Initial explorations to discover the type of thermostat control"
   ]
  },
  {
   "cell_type": "code",
   "execution_count": null,
   "id": "1443496e-3c6e-4ddc-9fd1-08f0c2666fbb",
   "metadata": {},
   "outputs": [],
   "source": [
    "# Example: Assuming df_prep is your DataFrame with relevant columns\n",
    "# 'batch_import_remeha_boiler_status_burning_ch__bool' and the temperature data\n",
    "df_prep['error_delta_t_indoor_set__K'] = df_prep[property_sources['temp_set__degC']] - df_prep[property_sources['temp_indoor__degC']]"
   ]
  },
  {
   "cell_type": "code",
   "execution_count": null,
   "id": "39e92a74-2249-4c8e-8f8f-800cd1370221",
   "metadata": {},
   "outputs": [],
   "source": [
    "# Create a column to mark transitions\n",
    "status_col = 'batch_import_remeha_boiler_status_burning_ch__bool'"
   ]
  },
  {
   "cell_type": "code",
   "execution_count": null,
   "id": "635612fe-6922-4962-8e1c-7ad1caf1c2db",
   "metadata": {},
   "outputs": [],
   "source": [
    "df_prep[status_col].info()"
   ]
  },
  {
   "cell_type": "code",
   "execution_count": null,
   "id": "a30e93bc-b0e1-48ee-a67a-e79f8d079d29",
   "metadata": {},
   "outputs": [],
   "source": [
    "# Shift the boolean status column directly\n",
    "df_prep['prev_status'] = df_prep[status_col].shift(1, fill_value=False)\n",
    "df_prep['next_status'] = df_prep[status_col].shift(-1, fill_value=False)"
   ]
  },
  {
   "cell_type": "code",
   "execution_count": null,
   "id": "091575e7-fa84-4f63-b627-768dd5860516",
   "metadata": {},
   "outputs": [],
   "source": [
    "# Detect transitions\n",
    "df_prep['is_ON_minus_1'] = (~df_prep[status_col]) & (df_prep['next_status'])\n",
    "df_prep['is_ON_plus_0'] = (~df_prep['prev_status']) & (df_prep[status_col])\n",
    "\n",
    "df_prep['is_OFF_minus_1'] = (df_prep[status_col]) & (~df_prep['next_status'])\n",
    "df_prep['is_OFF_plus_0'] = (df_prep['prev_status']) & (~df_prep[status_col])"
   ]
  },
  {
   "cell_type": "code",
   "execution_count": null,
   "id": "e5e64311-847b-4a04-bba6-a9d307fbce87",
   "metadata": {},
   "outputs": [],
   "source": [
    "# Extract rows for each transition type\n",
    "ON_minus_1 = df_prep.loc[df_prep['is_ON_minus_1'], 'error_delta_t_indoor_set__K']\n",
    "ON_plus_0 = df_prep.loc[df_prep['is_ON_plus_0'], 'error_delta_t_indoor_set__K']\n",
    "\n",
    "OFF_minus_1 = df_prep.loc[df_prep['is_OFF_minus_1'], 'error_delta_t_indoor_set__K']\n",
    "OFF_plus_0 = df_prep.loc[df_prep['is_OFF_plus_0'], 'error_delta_t_indoor_set__K']"
   ]
  },
  {
   "cell_type": "code",
   "execution_count": null,
   "id": "18649452-88f2-4e6b-95c0-3caeb5194f78",
   "metadata": {},
   "outputs": [],
   "source": [
    "# Calculate median and mean for each situation\n",
    "hysteresis_values = {\n",
    "    'TURN-ON-1': {'median': ON_minus_1.median(), 'mean': ON_minus_1.mean()},\n",
    "    'TURN-ON+0': {'median': ON_plus_0.median(), 'mean': ON_plus_0.mean()},\n",
    "    'TURN-OFF-1': {'median': OFF_minus_1.median(), 'mean': OFF_minus_1.mean()},\n",
    "    'TURN-OFF+0': {'median': OFF_plus_0.median(), 'mean': OFF_plus_0.mean()},\n",
    "}"
   ]
  },
  {
   "cell_type": "code",
   "execution_count": null,
   "id": "b20e5726-f2ef-4b79-8aac-8f4a32fa8d96",
   "metadata": {},
   "outputs": [],
   "source": [
    "# Print the results\n",
    "for key, values in hysteresis_values.items():\n",
    "    print(f\"{key}: Median = {values['median']}, Mean = {values['mean']}\")"
   ]
  },
  {
   "cell_type": "code",
   "execution_count": null,
   "id": "3515dff0-b156-4674-bf30-05179e84cc8d",
   "metadata": {},
   "outputs": [],
   "source": [
    "# Collect the data for the boxplots\n",
    "data = [\n",
    "    ON_minus_1.dropna(),  # Drop NaN to avoid issues with boxplot\n",
    "    ON_plus_0.dropna(),\n",
    "    OFF_minus_1.dropna(),\n",
    "    OFF_plus_0.dropna()\n",
    "]\n",
    "\n",
    "# Define labels for the boxplots\n",
    "labels = ['TURN-ON-1', 'TURN-ON+0', 'TURN-OFF-1', 'TURN-OFF+0']\n",
    "\n",
    "# Create the figure and axis\n",
    "plt.figure(figsize=(10, 6))\n",
    "plt.boxplot(data, labels=labels, patch_artist=True, boxprops=dict(facecolor=\"lightblue\"))\n",
    "\n",
    "# Add title and labels\n",
    "plt.title(\"Boxplots of error_delta_t_indoor_set__K by Transition Type\")\n",
    "plt.ylabel(\"error_delta_t_indoor_set__K (K)\")\n",
    "plt.xlabel(\"Transition Type\")\n",
    "\n",
    "# Show the grid for better readability\n",
    "plt.grid(axis='y', linestyle='--', alpha=0.7)\n",
    "\n",
    "# Display the plot\n",
    "plt.show()"
   ]
  },
  {
   "cell_type": "code",
   "execution_count": null,
   "id": "9a759752-eb9a-405b-a440-df2cc1cf54c7",
   "metadata": {},
   "outputs": [],
   "source": [
    "%%time\n",
    "# TO DO: make sure that dataframe_preprocessed_plot can deal with nullable pandas datatype 'Boolean', so this boolean convertion is no longer needed\n",
    "# Create converted columns with the desired naming convention\n",
    "convert_column_names = ['batch_import_remeha_boiler_status_burning_ch__bool', 'batch_import_remeha_boiler_status_burning_dhw__bool']\n",
    "converted_column_names = [col+'01' for col in convert_column_names]\n",
    "for col in convert_column_names:\n",
    "    converted_column_name = f'converted_{col}'\n",
    "    df_prep[converted_column_name] = df_prep[col].astype('Float32')\n",
    "    "
   ]
  },
  {
   "cell_type": "code",
   "execution_count": null,
   "id": "ed9691af-d7bd-4e51-8258-aa1a4ccc9c8d",
   "metadata": {},
   "outputs": [],
   "source": [
    "df_prep['delta_t_error_delta_t_set_indoor__K'] = -df_prep['error_delta_t_indoor_set__K']"
   ]
  },
  {
   "cell_type": "code",
   "execution_count": null,
   "id": "83cabc9f-824f-4c95-9a4f-a7d1adb8bc99",
   "metadata": {},
   "outputs": [],
   "source": [
    "converted_column_names"
   ]
  },
  {
   "cell_type": "code",
   "execution_count": null,
   "id": "9ea0aa2f-af35-4267-9a30-a7e017ae9097",
   "metadata": {},
   "outputs": [],
   "source": [
    "# Display the first few rows to confirm\n",
    "df_prep[converted_column_names].describe()"
   ]
  },
  {
   "cell_type": "code",
   "execution_count": null,
   "id": "405c69f8-5e7e-4717-a9a6-e74b9b9daf2f",
   "metadata": {},
   "outputs": [],
   "source": [
    "hysteresis_cols = ['delta_t_error_delta_t_set_indoor__K', property_sources['temp_set__degC'], property_sources['temp_indoor__degC']] + converted_column_names"
   ]
  },
  {
   "cell_type": "code",
   "execution_count": null,
   "id": "17884b41-0d92-45dc-ab59-e5700b590564",
   "metadata": {},
   "outputs": [],
   "source": [
    "%autoreload 2\n",
    "Plot.dataframe_preprocessed_plot(df_prep[hysteresis_cols].xs(specific_id, level='id', drop_level=False), units_to_mathtext)"
   ]
  },
  {
   "cell_type": "markdown",
   "id": "0019c30d-6ab0-4207-8ba4-b3167a4826d1",
   "metadata": {},
   "source": [
    "### Learn thermostat control parameters"
   ]
  },
  {
   "cell_type": "code",
   "execution_count": null,
   "id": "bb83fed2-a0cf-4fa8-a2c3-90136ea9d562",
   "metadata": {},
   "outputs": [],
   "source": [
    "%%time\n",
    "# We did not measure the temperature flow setpoint. However, we can create a proxy for learning thermostat based on the correspondence of flow temperatures and flow temperature setpoints\n",
    "# Ensure the 'temp_flow_ch_set__degC' column exists\n",
    "if property_sources['temp_flow_ch_set__degC'] not in df_prep.columns:\n",
    "    df_prep[property_sources['temp_flow_ch_set__degC']] = df_prep[property_sources['temp_flow_ch__degC']]\n",
    "\n",
    "    # Modify the function to return only the updated column\n",
    "    def process_group(group):\n",
    "        temp_flow_ch_set = group[property_sources['temp_flow_ch_set__degC']].shift(\n",
    "            -1, fill_value=group[property_sources['temp_flow_ch_set__degC']].iloc[-1]\n",
    "        )\n",
    "        temp_flow_ch_set[group[property_sources['temp_indoor__degC']] > group[property_sources['temp_set__degC']]] = 0\n",
    "        return temp_flow_ch_set\n",
    "    \n",
    "    # Apply and directly update the column\n",
    "    df_prep[property_sources['temp_flow_ch_set__degC']] = df_prep.groupby('id').apply(process_group).droplevel(0)\n"
   ]
  },
  {
   "cell_type": "code",
   "execution_count": null,
   "id": "39bc15ea-4d68-465d-87aa-1acc5a981d8c",
   "metadata": {},
   "outputs": [],
   "source": [
    "df_prep[[property_sources['temp_flow_ch_set__degC'], property_sources['temp_flow_ch__degC']]].describe()"
   ]
  },
  {
   "cell_type": "code",
   "execution_count": null,
   "id": "09d4a619-0cbf-4676-a951-d7d49115e21d",
   "metadata": {},
   "outputs": [],
   "source": [
    "# optionally change the selection which property columns in df_prep are used as properties needed by the learning algorithm\n",
    "property_sources = {\n",
    "    'temp_indoor__degC':        'batch_import_remeha_temp_indoor__degC',\n",
    "    'temp_set__degC':           'batch_import_remeha_temp_set__degC',\n",
    "    'comfortable__bool':        'comfortable__bool',\n",
    "    'temp_outdoor__degC':       'batch_import_KNMI_temp_outdoor__degC',\n",
    "    'wind__m_s_1':              'batch_import_KNMI_wind__m_s_1',\n",
    "    'sol_ghi__W_m_2':           'batch_import_KNMI_sol_ghi__W_m_2', \n",
    "    'g_use_ch_hhv__W':          'g_use_fan_ch_hhv__W',\n",
    "    'eta_ch_hhv__W0':           'eta_ch_hhv__W0', \n",
    "    'g_use_dhw_hhv__W':         'g_use_fan_dhw_hhv__W',\n",
    "    'e__W':                     'device_p1-reader_e__W',    \n",
    "    'occupancy__p':             'device_living_room_occupancy__p',\n",
    "    'co2_indoor__ppm':          'device_living_room_co2_indoor__ppm',\n",
    "    'temp_flow__degC':          'batch_import_remeha_temp_flow__degC',\n",
    "    'temp_ret__degC':           'batch_import_remeha_temp_ret__degC',\n",
    "    'temp_flow_ch__degC':       'batch_import_remeha_temp_flow_ch__degC', # choose between interpolated or not depending on needs of the analysis algorithm\n",
    "    'temp_ret_ch__degC':        'batch_import_remeha_temp_ret_ch__degC',  # choose between interpolated or not depending on needs of the analysis algorithm\n",
    "    # 'temp_flow_ch__degC':       'interpolated_batch_import_remeha_temp_flow_ch__degC', # choose between interpolated or not depending on needs of the analysis algorithm\n",
    "    # 'temp_ret_ch__degC':        'interpolated_batch_import_remeha_temp_ret_ch__degC',  # choose between interpolated or not depending on needs of the analysis algorithm\n",
    "    'temp_flow_ch_max__degC':   'batch_import_remeha_temp_flow_ch_max__degC', \n",
    "    'fan_rotations__min_1':     'batch_import_remeha_fan_rotations__min_1', \n",
    "    'fan_speed__pct':           'fan_speed__pct', \n",
    "    'flow_dstr_pump_speed__pct':'batch_import_remeha_flow_dstr_pump_speed__pct',\n",
    "    'temp_dstr__degC':          'temp_dstr__degC', # added to get mae and rmse values\n",
    "    'ventilation__dm3_s_1':     'predicted_ventilation__dm3_s_1',\n",
    "    'temp_flow_ch_set__degC':   'predicted_temp_flow_ch_set__degC',\n",
    "    'heat_ch__W':               'heat_ch__W',\n",
    "}"
   ]
  },
  {
   "cell_type": "code",
   "execution_count": null,
   "id": "4e252d41-12ac-472b-96d8-5bd6e7101cd5",
   "metadata": {},
   "outputs": [],
   "source": [
    "req_props_thrm = {'temp_indoor__degC',\n",
    "                  'temp_set__degC',\n",
    "                  'temp_flow_ch_max__degC',\n",
    "                 }\n",
    "\n",
    "# Parameters that are learned\n",
    "learn_params_thrm = {'thermostat_hysteresis__K'}\n",
    "learned_params_thrm = {'learned_' + param for param in learn_params_thrm}\n",
    "\n",
    "# properties to be predicted\n",
    "predict_props_thrm = {'temp_flow_ch_set__degC'}\n",
    "\n",
    "minimum_duration__min = 20"
   ]
  },
  {
   "cell_type": "code",
   "execution_count": null,
   "id": "e38c97f0-074b-4bfe-88b3-dc7614a8ec69",
   "metadata": {},
   "outputs": [],
   "source": [
    "req_cols_thrm = {property_sources[prop] for prop in req_props_thrm & property_sources.keys()}"
   ]
  },
  {
   "cell_type": "code",
   "execution_count": null,
   "id": "9d35a586-8fc8-4161-90be-4ac580b2ae4e",
   "metadata": {},
   "outputs": [],
   "source": [
    "req_cols_thrm"
   ]
  },
  {
   "cell_type": "markdown",
   "id": "5cae84cb-d1f6-4316-a5fd-a67a8663e182",
   "metadata": {},
   "source": [
    "#### Assuming algorithmic control (hysteresis)"
   ]
  },
  {
   "cell_type": "code",
   "execution_count": null,
   "id": "3e402231-6571-48f9-b7ce-5ceead469e1f",
   "metadata": {},
   "outputs": [],
   "source": [
    "param_hints_thrm = dict()\n",
    "\n",
    "mode= Model.ControlMode.ALGORITHMIC"
   ]
  },
  {
   "cell_type": "code",
   "execution_count": null,
   "id": "74cc7841-84e4-420f-af95-388003e13adb",
   "metadata": {},
   "outputs": [],
   "source": [
    "#define the length of the learning period\n",
    "learn_period__d=7\n",
    "# learn_period__d=3\n"
   ]
  },
  {
   "cell_type": "code",
   "execution_count": null,
   "id": "f06e0327-9e78-476e-9496-0ac5f88b9e16",
   "metadata": {},
   "outputs": [],
   "source": [
    "# %%time\n",
    "# %autoreload 2\n",
    "# df_learned_parameters_per_period, df_predicted_properties = Learner.learn_system_parameters(\n",
    "#     df_prep,\n",
    "#     df_bldng_data=df_bldng_data,\n",
    "#     system_model_fn = Model.thermostat,\n",
    "#     job_identification_fn = Learner.periodic_learn_list,\n",
    "#     property_sources=property_sources,\n",
    "#     learn_params=learn_params_thrm,\n",
    "#     param_hints=param_hints_thrm,\n",
    "#     predict_props=predict_props_thrm,\n",
    "#     req_props=req_props_thrm,\n",
    "#     duration_threshold=timedelta(minutes=minimum_duration__min),\n",
    "#     learn_period__d=learn_period__d,\n",
    "#     max_periods=10, # set max_periods to a value other than None, e.g. 100 during testing of learning algorithms\n",
    "#     mode=mode,\n",
    "#     max_iter=10,\n",
    "# )\n"
   ]
  },
  {
   "cell_type": "markdown",
   "id": "52318b3f-7ed6-40e6-b8fd-e8dcfb0bb025",
   "metadata": {},
   "source": [
    "#### Process learned parameters"
   ]
  },
  {
   "cell_type": "code",
   "execution_count": null,
   "id": "4ff9da6d-fa5b-422b-b356-ecf4174b95d6",
   "metadata": {},
   "outputs": [],
   "source": [
    "# print(f\"We learned parameters for {0 if df_learned_parameters_per_period.empty else len(df_learned_parameters_per_period.index.get_level_values('id').unique())} out of {len(df_prep.index.get_level_values('id').unique())} homes\")"
   ]
  },
  {
   "cell_type": "code",
   "execution_count": null,
   "id": "4b7f5cbb-ca5f-46fb-bf3e-83b558e57d56",
   "metadata": {},
   "outputs": [],
   "source": [
    "# with pd.option_context('display.float_format', '{:.2f}'.format):\n",
    "#     error_cols = [prop for prop in df_learned_parameters_per_period.columns if prop.startswith('mae_') or prop.startswith('rmse_')]\n",
    "#     if error_cols:\n",
    "#         display(df_learned_parameters_per_period[error_cols].describe())"
   ]
  },
  {
   "cell_type": "code",
   "execution_count": null,
   "id": "0493a284-f37a-466b-ad75-f2fbe3920fc4",
   "metadata": {},
   "outputs": [],
   "source": [
    "# df_learned_parameters_per_period"
   ]
  },
  {
   "cell_type": "code",
   "execution_count": null,
   "id": "079b13e4-9252-4880-a58c-dade66ef5bfc",
   "metadata": {},
   "outputs": [],
   "source": [
    "# # Determine learned parameters \n",
    "# df_learned_parameters = df_learned_parameters_per_period.groupby('id').median()"
   ]
  },
  {
   "cell_type": "code",
   "execution_count": null,
   "id": "2c450ec4-6473-472a-be71-e50382fe5601",
   "metadata": {},
   "outputs": [],
   "source": [
    "# with pd.option_context('display.float_format', '{:.2f}'.format):\n",
    "#     display(df_learned_parameters.describe())"
   ]
  },
  {
   "cell_type": "code",
   "execution_count": null,
   "id": "9e5b6f8e-2721-4189-8887-2a46e2830068",
   "metadata": {},
   "outputs": [],
   "source": [
    "# # merge learned data into building metadata\n",
    "# df_bldng_data = df_bldng_data.merge(df_learned_parameters[[prop for prop in df_learned_parameters.columns if prop.startswith('learned_')]],\n",
    "#                                     how='left',\n",
    "#                                     left_on='id',\n",
    "#                                     right_index=True\n",
    "#                                    )"
   ]
  },
  {
   "cell_type": "code",
   "execution_count": null,
   "id": "684d03ee-c51d-47a2-9db6-b9d3baad5e0b",
   "metadata": {},
   "outputs": [],
   "source": [
    "# with pd.option_context('display.float_format', '{:.2f}'.format):\n",
    "#     display(df_bldng_data.T)"
   ]
  },
  {
   "cell_type": "code",
   "execution_count": null,
   "id": "955fa49b-0050-4eea-ab15-03b081dc730b",
   "metadata": {},
   "outputs": [],
   "source": [
    "# df_bldng_data.to_parquet(home_metadata_file_path, index=True, engine='pyarrow')"
   ]
  },
  {
   "cell_type": "markdown",
   "id": "d0634bbe-c1d8-4041-94f7-3e3c7e43b6e5",
   "metadata": {},
   "source": [
    "#### Process predicted properties"
   ]
  },
  {
   "cell_type": "code",
   "execution_count": null,
   "id": "c0d17dcf-0f20-459a-992b-18be0a4424e9",
   "metadata": {},
   "outputs": [],
   "source": [
    "# # Merge predicted properties back into the main DataFrame\n",
    "# if not df_predicted_properties.empty:\n",
    "#     df_prep = df_prep.drop(columns=df_prep.columns.intersection(df_predicted_properties.columns))\n",
    "#     df_prep = df_prep.merge(df_predicted_properties, left_index=True, right_index=True, how=\"left\")"
   ]
  },
  {
   "cell_type": "code",
   "execution_count": null,
   "id": "6d8b45c7-40dd-47bd-9cb1-86d4cf9360f2",
   "metadata": {},
   "outputs": [],
   "source": [
    "# df_prep.columns"
   ]
  },
  {
   "cell_type": "markdown",
   "id": "1f5c138d-f4d4-4faa-b7df-f1469dc7c18f",
   "metadata": {},
   "source": [
    "#### Assuming PID control\n",
    "(NB Code disabled by default because learning takes too long)"
   ]
  },
  {
   "cell_type": "code",
   "execution_count": null,
   "id": "b8e4b687-725d-40ee-a83b-7add4126ded9",
   "metadata": {},
   "outputs": [],
   "source": [
    "# param_hints_thrm = {\n",
    "#     'thermostat': {\n",
    "#         'p': {'initial_guess': 1.0, 'lower_bound': 0.1, 'upper_bound': 10.0},\n",
    "#         'i': {'initial_guess': 0.1, 'lower_bound': 0.0, 'upper_bound': 1.0},\n",
    "#         'd': {'initial_guess': 0.01, 'lower_bound': 0.0, 'upper_bound': 1.0},\n",
    "#     }\n",
    "# }\n",
    "\n",
    "# mode= Model.ControlMode.PID"
   ]
  },
  {
   "cell_type": "code",
   "execution_count": null,
   "id": "72a0574b-2f0b-4309-a38b-75d3eba3129d",
   "metadata": {},
   "outputs": [],
   "source": [
    "# %%time\n",
    "# %autoreload 2\n",
    "# df_learned_parameters_per_period, df_predicted_properties = Learner.learn_system_parameters(\n",
    "#     df_prep,\n",
    "#     df_bldng_data=df_bldng_data,\n",
    "#     system_model_fn = Model.thermostat,\n",
    "#     job_identification_fn = Learner.periodic_learn_list,\n",
    "#     property_sources=property_sources,\n",
    "#     learn_params=learn_params_thrm,\n",
    "#     param_hints=param_hints_thrm,\n",
    "#     predict_props=predict_props_thrm,\n",
    "#     req_props=req_props_thrm,\n",
    "#     duration_threshold=timedelta(minutes=minimum_duration__min),\n",
    "#     learn_period__d=learn_period__d,\n",
    "#     max_periods=max_periods, # set max_periods to a value other than None, e.g. 100 during testing of learning algorithms\n",
    "#     mode=mode,\n",
    "# )\n"
   ]
  },
  {
   "cell_type": "markdown",
   "id": "e4ad9025-608b-4361-9a1b-ebe186d6ec9c",
   "metadata": {},
   "source": [
    "#### Process learned parameters"
   ]
  },
  {
   "cell_type": "code",
   "execution_count": null,
   "id": "1be0e883-93af-4d76-a9de-f97f4c42e649",
   "metadata": {},
   "outputs": [],
   "source": [
    "# print(f\"We learned parameters for {0 if df_learned_parameters_per_period.empty else len(df_learned_parameters_per_period.index.get_level_values('id').unique())} out of {len(df_prep.index.get_level_values('id').unique())} homes\")"
   ]
  },
  {
   "cell_type": "code",
   "execution_count": null,
   "id": "81d1f462-25cc-41e9-836b-8e2ce7d5ebe8",
   "metadata": {},
   "outputs": [],
   "source": [
    "# with pd.option_context('display.float_format', '{:.2f}'.format):\n",
    "#     error_cols = [prop for prop in df_learned_parameters_per_period.columns if prop.startswith('mae_') or prop.startswith('rmse_')]\n",
    "#     if error_cols:\n",
    "#         display(df_learned_parameters_per_period[error_cols].describe())"
   ]
  },
  {
   "cell_type": "code",
   "execution_count": null,
   "id": "c70b8ac1-5fef-4668-8808-b39e0bf10f88",
   "metadata": {},
   "outputs": [],
   "source": [
    "# df_learned_parameters_per_period"
   ]
  },
  {
   "cell_type": "code",
   "execution_count": null,
   "id": "37add68e-ffb0-45c1-ae59-c757543bc765",
   "metadata": {},
   "outputs": [],
   "source": [
    "# # Determine learned parameters \n",
    "# if not df_learned_parameters_per_period.empty:\n",
    "#     df_learned_parameters = df_learned_parameters_per_period.groupby('id').median()"
   ]
  },
  {
   "cell_type": "code",
   "execution_count": null,
   "id": "21428aa1-3e24-44d4-a32f-2aee09586241",
   "metadata": {},
   "outputs": [],
   "source": [
    "# if not df_learned_parameters_per_period.empty:\n",
    "#     with pd.option_context('display.float_format', '{:.2f}'.format):\n",
    "#         display(df_learned_parameters.describe())"
   ]
  },
  {
   "cell_type": "code",
   "execution_count": null,
   "id": "ae05e286-a43f-4fa5-91fd-96c37b68fa31",
   "metadata": {},
   "outputs": [],
   "source": [
    "# if not df_learned_parameters_per_period.empty:\n",
    "#     # merge learned data into building metadata\n",
    "#     df_bldng_data = df_bldng_data.merge(df_learned_parameters[[prop for prop in df_learned_parameters.columns if prop.startswith('learned_')]],\n",
    "#                                         how='left',\n",
    "#                                         left_on='id',\n",
    "#                                         right_index=True\n",
    "#                                        )"
   ]
  },
  {
   "cell_type": "code",
   "execution_count": null,
   "id": "04daf644-e647-4b23-b9c7-1194635fbfd4",
   "metadata": {},
   "outputs": [],
   "source": [
    "# with pd.option_context('display.float_format', '{:.2f}'.format):\n",
    "#     display(df_bldng_data.T)"
   ]
  },
  {
   "cell_type": "code",
   "execution_count": null,
   "id": "4ef75d7d-bc62-4729-a39e-03a92c298016",
   "metadata": {},
   "outputs": [],
   "source": [
    "# df_bldng_data.to_parquet(home_metadata_file_path, index=True, engine='pyarrow')"
   ]
  },
  {
   "cell_type": "markdown",
   "id": "3b7943a7-5485-45de-a574-8c07416c30b1",
   "metadata": {},
   "source": [
    "#### Process predicted properties"
   ]
  },
  {
   "cell_type": "code",
   "execution_count": null,
   "id": "b84604db-1a74-46c3-a1c1-5eeb453249f3",
   "metadata": {},
   "outputs": [],
   "source": [
    "# # Merge predicted properties back into the main DataFrame\n",
    "# if not df_predicted_properties.empty:\n",
    "#     df_prep = df_prep.drop(columns=df_prep.columns.intersection(df_predicted_properties.columns))\n",
    "#     df_prep = df_prep.merge(df_predicted_properties, left_index=True, right_index=True, how=\"left\")"
   ]
  },
  {
   "cell_type": "code",
   "execution_count": null,
   "id": "f65ad8b8-0753-4a72-8148-0d0e069a61c5",
   "metadata": {},
   "outputs": [],
   "source": [
    "# df_prep.columns"
   ]
  },
  {
   "cell_type": "markdown",
   "id": "323e8795-a942-48a2-b151-2b13883a0a8e",
   "metadata": {},
   "source": [
    "## Learn boiler control characteristics"
   ]
  },
  {
   "cell_type": "code",
   "execution_count": null,
   "id": "d5d8726c-b82c-41e2-8fe5-2dbf27ada647",
   "metadata": {},
   "outputs": [],
   "source": [
    "# optionally change the selection which property columns in df_prep are used as properties needed by the learning algorithm\n",
    "property_sources = {\n",
    "    'temp_indoor__degC':        'batch_import_remeha_temp_indoor__degC',\n",
    "    'temp_set__degC':           'batch_import_remeha_temp_set__degC',\n",
    "    'comfortable__bool':        'comfortable__bool',\n",
    "    'temp_outdoor__degC':       'batch_import_KNMI_temp_outdoor__degC',\n",
    "    'wind__m_s_1':              'batch_import_KNMI_wind__m_s_1',\n",
    "    'sol_ghi__W_m_2':           'batch_import_KNMI_sol_ghi__W_m_2', \n",
    "    'g_use_ch_hhv__W':          'g_use_fan_ch_hhv__W',\n",
    "    'eta_ch_hhv__W0':           'eta_ch_hhv__W0', \n",
    "    'g_use_dhw_hhv__W':         'g_use_fan_dhw_hhv__W',\n",
    "    'e__W':                     'device_p1-reader_e__W',    \n",
    "    'occupancy__p':             'device_living_room_occupancy__p',\n",
    "    'co2_indoor__ppm':          'device_living_room_co2_indoor__ppm',\n",
    "    'temp_flow__degC':          'batch_import_remeha_temp_flow__degC',\n",
    "    'temp_ret__degC':           'batch_import_remeha_temp_ret__degC',\n",
    "    'temp_flow_ch__degC':       'batch_import_remeha_temp_flow_ch__degC', # choose between interpolated or not depending on needs of the analysis algorithm\n",
    "    'temp_ret_ch__degC':        'batch_import_remeha_temp_ret_ch__degC',  # choose between interpolated or not depending on needs of the analysis algorithm\n",
    "    # 'temp_flow_ch__degC':       'interpolated_batch_import_remeha_temp_flow_ch__degC', # choose between interpolated or not depending on needs of the analysis algorithm\n",
    "    # 'temp_ret_ch__degC':        'interpolated_batch_import_remeha_temp_ret_ch__degC',  # choose between interpolated or not depending on needs of the analysis algorithm\n",
    "    'temp_flow_ch_max__degC':   'batch_import_remeha_temp_flow_ch_max__degC', \n",
    "    'fan_rotations__min_1':     'batch_import_remeha_fan_rotations__min_1', \n",
    "    # 'fan_speed__pct':           'fan_speed__pct', \n",
    "    'flow_dstr_pump_speed__pct':'batch_import_remeha_flow_dstr_pump_speed__pct',\n",
    "    'temp_dstr__degC':          'temp_dstr__degC', # added to get mae and rmse values\n",
    "    'ventilation__dm3_s_1':     'predicted_ventilation__dm3_s_1',\n",
    "    'temp_flow_ch_set__degC':   'predicted_temp_flow_ch_set__degC',\n",
    "    'heat_ch__W':               'heat_ch__W',\n",
    "}"
   ]
  },
  {
   "cell_type": "code",
   "execution_count": null,
   "id": "9d674170-25db-40f8-8d15-4618e7a8242d",
   "metadata": {},
   "outputs": [],
   "source": [
    "req_props_boiler = {\n",
    "    'temp_flow_ch_set__degC', \n",
    "    'temp_flow_ch__degC',\n",
    "    'temp_ret_ch__degC',\n",
    "    'temp_flow_ch_max__degC',\n",
    "    'fan_speed__pct', \n",
    "    'flow_dstr_pump_speed__pct',\n",
    "}\n",
    "\n",
    "predict_props_boiler = {\n",
    "    'fan_speed__pct',\n",
    "    'flow_dstr_pump_speed__pct'\n",
    "} \n",
    "\n",
    "minimum_duration__min = 20\n",
    "# minimum_duration__min = 5\n",
    "\n",
    "learn_period__d=None\n",
    "\n"
   ]
  },
  {
   "cell_type": "code",
   "execution_count": null,
   "id": "22d5dabe-3f0e-4d1c-b262-fa36e8f8da74",
   "metadata": {},
   "outputs": [],
   "source": [
    "# use calulated flow setpoint from the thermostat, but if not learnt, set flow setpoint to 60 degC for learning boiler control\n",
    "if property_sources['temp_flow_ch_set__degC'] not in df_prep.columns:\n",
    "    print(\"temp_flow_ch_set_-degC temperatures not learned; setting to 60 degrees\")\n",
    "    df_prep[property_sources['temp_flow_ch_set__degC']] = 60 "
   ]
  },
  {
   "cell_type": "markdown",
   "id": "a5f78021-b262-4a35-851e-9d7af4ec56ea",
   "metadata": {},
   "source": [
    "### Assuming algorithmic control \n",
    "(NB Code disabled by default because learning takes too long)"
   ]
  },
  {
   "cell_type": "code",
   "execution_count": null,
   "id": "3cbfb9cc-2c96-4e11-b839-e1bbdcdbe444",
   "metadata": {},
   "outputs": [],
   "source": [
    "# mode = Model.ControlMode.ALGORITHMIC\n",
    "\n",
    "# learn_params_boiler = {\n",
    "#     'fan_rotations_max_gain__pct_min_1',\n",
    "#     'error_threshold_delta_t_flow_flowset__K',\n",
    "#     'flow_dstr_pump_speed_max_gain__pct_min_1',\n",
    "#     'error_threshold_delta_t_flow_ret__K',\n",
    "# } \n",
    "\n",
    "# learned_params_boiler = {'learned_' + param for param in learn_params_boiler}"
   ]
  },
  {
   "cell_type": "code",
   "execution_count": null,
   "id": "3c2cdf76-53dc-4a19-9928-196a30cb8c55",
   "metadata": {},
   "outputs": [],
   "source": [
    "# %%time\n",
    "# %autoreload 2\n",
    "# df_learned_parameters_per_period, df_predicted_properties = Learner.learn_system_parameters(\n",
    "#     df_prep,\n",
    "#     df_bldng_data=df_bldng_data,\n",
    "#     system_model_fn = Model.boiler,\n",
    "#     job_identification_fn = Learner.valid_learn_list,\n",
    "#     property_sources=property_sources,\n",
    "#     learn_params=learn_params_boiler,\n",
    "#     param_hints=None,\n",
    "#     predict_props=predict_props_boiler,\n",
    "#     req_props=req_props_boiler,\n",
    "#     duration_threshold=timedelta(minutes=minimum_duration__min),\n",
    "#     learn_period__d=learn_period__d,\n",
    "#     max_periods=10, # set max_periods to a value other than None, e.g. 100 during testing of learning algorithms\n",
    "#     mode=mode,\n",
    "#     max_iter=10, # Limit iterations to prevent long runtimes if the optimizer struggles to converge due to discontinuities in algorithmic models.\n",
    "# )"
   ]
  },
  {
   "cell_type": "markdown",
   "id": "48e0e340-c84b-4a0c-8677-8d30f072584b",
   "metadata": {},
   "source": [
    "#### Process learned parameters"
   ]
  },
  {
   "cell_type": "code",
   "execution_count": null,
   "id": "f135a381-37ea-420e-8938-6bcae0ffc0ad",
   "metadata": {},
   "outputs": [],
   "source": [
    "# print(f\"We learned parameters for {0 if df_learned_parameters_per_period.empty else len(df_learned_parameters_per_period.index.get_level_values('id').unique())} out of {len(df_prep.index.get_level_values('id').unique())} homes\")"
   ]
  },
  {
   "cell_type": "code",
   "execution_count": null,
   "id": "4e7577f7-25dd-43e1-9649-1a583e794306",
   "metadata": {},
   "outputs": [],
   "source": [
    "# with pd.option_context('display.float_format', '{:.2f}'.format):\n",
    "#     error_cols = [prop for prop in df_learned_parameters_per_period.columns if prop.startswith('mae_') or prop.startswith('rmse_')]\n",
    "#     if error_cols:\n",
    "#         display(df_learned_parameters_per_period[error_cols].describe())"
   ]
  },
  {
   "cell_type": "code",
   "execution_count": null,
   "id": "36825cb1-0b31-4e7a-b24a-6c3a04c77af4",
   "metadata": {},
   "outputs": [],
   "source": [
    "# df_learned_parameters_per_period"
   ]
  },
  {
   "cell_type": "code",
   "execution_count": null,
   "id": "858ff2cd-827c-4b15-9127-7faa50dcd328",
   "metadata": {},
   "outputs": [],
   "source": [
    "# # Determine learned parameters \n",
    "# if not df_learned_parameters_per_period.empty:\n",
    "#     df_learned_parameters = df_learned_parameters_per_period.groupby('id').median()"
   ]
  },
  {
   "cell_type": "code",
   "execution_count": null,
   "id": "5ee35417-ebed-4119-b9cf-d8107c790aad",
   "metadata": {},
   "outputs": [],
   "source": [
    "# if not df_learned_parameters_per_period.empty:\n",
    "#     with pd.option_context('display.float_format', '{:.2f}'.format):\n",
    "#         display(df_learned_parameters.describe())"
   ]
  },
  {
   "cell_type": "code",
   "execution_count": null,
   "id": "53bb8766-09d9-4f16-be32-c2476325354a",
   "metadata": {},
   "outputs": [],
   "source": [
    "# if not df_learned_parameters_per_period.empty:\n",
    "#     for learned_param in df_learned_parameters_per_period:\n",
    "#         Plot.nfh_property_per_id_boxplot(df_learned_parameters_per_period, property_col=learned_param)"
   ]
  },
  {
   "cell_type": "code",
   "execution_count": null,
   "id": "c1e64687-2b54-4aa1-84cc-cf9e25406a29",
   "metadata": {},
   "outputs": [],
   "source": [
    "# if not df_learned_parameters_per_period.empty:\n",
    "#     # merge learned data into building metadata\n",
    "#     df_bldng_data = df_bldng_data.merge(df_learned_parameters[[prop for prop in df_learned_parameters.columns if prop.startswith('learned_')]],\n",
    "#                                         how='left',\n",
    "#                                         left_on='id',\n",
    "#                                         right_index=True\n",
    "#                                        )"
   ]
  },
  {
   "cell_type": "code",
   "execution_count": null,
   "id": "63af2072-4750-4df0-97db-5980a897e454",
   "metadata": {},
   "outputs": [],
   "source": [
    "# with pd.option_context('display.float_format', '{:.2f}'.format):\n",
    "#     display(df_bldng_data.T)"
   ]
  },
  {
   "cell_type": "code",
   "execution_count": null,
   "id": "99585942-5d92-4033-a34f-98632f4beb5e",
   "metadata": {},
   "outputs": [],
   "source": [
    "# df_bldng_data.to_parquet(home_metadata_file_path, index=True, engine='pyarrow')"
   ]
  },
  {
   "cell_type": "markdown",
   "id": "3d285413-54e4-47a3-8fbc-202b0c731716",
   "metadata": {},
   "source": [
    "#### Process predicted properties"
   ]
  },
  {
   "cell_type": "code",
   "execution_count": null,
   "id": "89adfc6f-8cda-4b29-b719-6b69a5b10671",
   "metadata": {},
   "outputs": [],
   "source": [
    "# # Merge predicted properties back into the main DataFrame\n",
    "# if not df_predicted_properties.empty:\n",
    "#     df_prep = df_prep.drop(columns=df_prep.columns.intersection(df_predicted_properties.columns))\n",
    "#     df_prep = df_prep.merge(df_predicted_properties, left_index=True, right_index=True, how=\"left\")"
   ]
  },
  {
   "cell_type": "code",
   "execution_count": null,
   "id": "ca38adfb-5025-4440-a2a9-e1c4f56b9bcd",
   "metadata": {},
   "outputs": [],
   "source": [
    "# df_prep.columns"
   ]
  },
  {
   "cell_type": "markdown",
   "id": "60584208-884e-43e8-b844-6419a78a2c8a",
   "metadata": {},
   "source": [
    "### Assuming PID control"
   ]
  },
  {
   "cell_type": "code",
   "execution_count": null,
   "id": "222ae1cb-40b1-4afe-9bfc-e8c01c925537",
   "metadata": {},
   "outputs": [],
   "source": [
    "boiler_pid_hints_bounds = {\n",
    "    # 'thermostat': {\n",
    "    #     'p': {'initial_guess': 1.0, 'lower_bound': 0.1, 'upper_bound': 10.0},\n",
    "    #     'i': {'initial_guess': 0.1, 'lower_bound': 0.0, 'upper_bound': 1.0},\n",
    "    #     'd': {'initial_guess': 0.01, 'lower_bound': 0.0, 'upper_bound': 1.0},\n",
    "    # },\n",
    "    'fan': {\n",
    "        'p': {'initial_guess': 0.5, 'lower_bound': 0.1, 'upper_bound': 2.0},\n",
    "        'i': {'initial_guess': 0.1, 'lower_bound': 0.01, 'upper_bound': 1.0},\n",
    "        'd': {'initial_guess': 0.01, 'lower_bound': 0.001, 'upper_bound': 0.1},\n",
    "    },\n",
    "    'pump': {\n",
    "        'p': {'initial_guess': 0.7, 'lower_bound': 0.2, 'upper_bound': 3.0},\n",
    "        'i': {'initial_guess': 0.2, 'lower_bound': 0.05, 'upper_bound': 1.5},\n",
    "        'd': {'initial_guess': 0.02, 'lower_bound': 0.005, 'upper_bound': 0.2},\n",
    "    }\n",
    "}\n",
    "\n",
    "\n",
    "mode = Model.ControlMode.PID\n",
    "\n",
    "# learn_params_boiler and learned_params_boiler are currently actually determined inside the boiler() function, but learn_params_boiler cannot be None otherwise it is switching to simulation mode\n",
    "learn_params_boiler = {\n",
    "    'fan_Kp',\n",
    "    'fan_Ki',\n",
    "    'fan_Kd',\n",
    "    'pump_Kp',\n",
    "    'pump_Ki',\n",
    "    'pump_Kd',\n",
    "}\n",
    "\n",
    "learned_params_boiler = {'learned_' + param for param in learn_params_boiler}\n"
   ]
  },
  {
   "cell_type": "code",
   "execution_count": null,
   "id": "2b4c09fb-e467-4c72-b140-23b29d030787",
   "metadata": {},
   "outputs": [],
   "source": [
    "# %%time\n",
    "# %autoreload 2\n",
    "# df_learned_parameters_per_period, df_predicted_properties = Learner.learn_system_parameters(\n",
    "#     df_prep,\n",
    "#     df_bldng_data=df_bldng_data,\n",
    "#     system_model_fn = Model.boiler,\n",
    "#     job_identification_fn = Learner.valid_learn_list,\n",
    "#     property_sources=property_sources,\n",
    "#     learn_params=learn_params_boiler,\n",
    "#     param_hints=boiler_pid_hints_bounds,\n",
    "#     predict_props=predict_props_boiler,\n",
    "#     req_props=req_props_boiler,\n",
    "#     duration_threshold=timedelta(minutes=minimum_duration__min),\n",
    "#     learn_period__d=learn_period__d,\n",
    "#     max_periods=max_periods, # set max_periods to a value other than None, e.g. 100 during testing of learning algorithms\n",
    "#     mode=mode,\n",
    "#     # max_iter=10, # Limit iterations to prevent long runtimes if the optimizer struggles to converge due to discontinuities in algorithmic models.\n",
    "# )"
   ]
  },
  {
   "cell_type": "markdown",
   "id": "0508ccd6-0a9d-41ec-8c67-53dd11c8a2f4",
   "metadata": {},
   "source": [
    "#### Process learned parameters"
   ]
  },
  {
   "cell_type": "code",
   "execution_count": null,
   "id": "33f79041-bf57-4ed8-be5b-6437ed9c94a1",
   "metadata": {},
   "outputs": [],
   "source": [
    "# print(f\"We learned parameters for {0 if df_learned_parameters_per_period.empty else len(df_learned_parameters_per_period.index.get_level_values('id').unique())} out of {len(df_prep.index.get_level_values('id').unique())} homes\")"
   ]
  },
  {
   "cell_type": "code",
   "execution_count": null,
   "id": "23a9f684-a3a7-47e3-b7a3-5629a4d12cd3",
   "metadata": {},
   "outputs": [],
   "source": [
    "# with pd.option_context('display.float_format', '{:.2f}'.format):\n",
    "#     error_cols = [prop for prop in df_learned_parameters_per_period.columns if prop.startswith('mae_') or prop.startswith('rmse_')]\n",
    "#     if error_cols:\n",
    "#         display(df_learned_parameters_per_period[error_cols].describe())"
   ]
  },
  {
   "cell_type": "code",
   "execution_count": null,
   "id": "54e24960-46c9-4ed8-89d4-4d83bd3bf5a5",
   "metadata": {},
   "outputs": [],
   "source": [
    "# df_learned_parameters_per_period"
   ]
  },
  {
   "cell_type": "code",
   "execution_count": null,
   "id": "c3e767f7-e994-4c1f-8971-9784b5cb2979",
   "metadata": {},
   "outputs": [],
   "source": [
    "# # Determine learned parameters \n",
    "# if not df_learned_parameters_per_period.empty:\n",
    "#     df_learned_parameters = df_learned_parameters_per_period.groupby('id').median()"
   ]
  },
  {
   "cell_type": "code",
   "execution_count": null,
   "id": "7ba93601-dd6d-4fa6-ad28-09a417fbe5f2",
   "metadata": {},
   "outputs": [],
   "source": [
    "# if not df_learned_parameters_per_period.empty:\n",
    "#     with pd.option_context('display.float_format', '{:.2f}'.format):\n",
    "#         display(df_learned_parameters.describe())"
   ]
  },
  {
   "cell_type": "code",
   "execution_count": null,
   "id": "127c700b-7250-4e59-99af-d0196bffc240",
   "metadata": {},
   "outputs": [],
   "source": [
    "# if not df_learned_parameters_per_period.empty:\n",
    "#     for learned_param in df_learned_parameters_per_period:\n",
    "#         if df_learned_parameters_per_period[learned_param].notna().any():\n",
    "#             Plot.nfh_property_per_id_boxplot(df_learned_parameters_per_period, property_col=learned_param)"
   ]
  },
  {
   "cell_type": "code",
   "execution_count": null,
   "id": "536068d5-2b4c-4251-bf86-e363a3e4670e",
   "metadata": {},
   "outputs": [],
   "source": [
    "# if not df_learned_parameters_per_period.empty:\n",
    "#     # merge learned data into building metadata\n",
    "#     df_bldng_data = df_bldng_data.merge(df_learned_parameters[[prop for prop in df_learned_parameters.columns if prop.startswith('learned_')]],\n",
    "#                                         how='left',\n",
    "#                                         left_on='id',\n",
    "#                                         right_index=True\n",
    "#                                        )"
   ]
  },
  {
   "cell_type": "code",
   "execution_count": null,
   "id": "7a426a88-f93e-4d17-8fb3-589c81b31f7b",
   "metadata": {},
   "outputs": [],
   "source": [
    "# with pd.option_context('display.float_format', '{:.2f}'.format):\n",
    "#     display(df_bldng_data.T)"
   ]
  },
  {
   "cell_type": "code",
   "execution_count": null,
   "id": "1eb1d0df-77fa-46da-9ac6-2a07f8da2a93",
   "metadata": {},
   "outputs": [],
   "source": [
    "# df_bldng_data.to_parquet(home_metadata_file_path, index=True, engine='pyarrow')"
   ]
  },
  {
   "cell_type": "markdown",
   "id": "1d0ad82d-8b3f-4649-bba3-d821af430e5b",
   "metadata": {},
   "source": [
    "#### Process predicted properties"
   ]
  },
  {
   "cell_type": "code",
   "execution_count": null,
   "id": "fafe5c17-cbf8-44c6-b6c3-fe97373f2abd",
   "metadata": {},
   "outputs": [],
   "source": [
    "# # Merge predicted properties back into the main DataFrame\n",
    "# if not df_predicted_properties.empty:\n",
    "#     df_prep = df_prep.drop(columns=df_prep.columns.intersection(df_predicted_properties.columns))\n",
    "#     df_prep = df_prep.merge(df_predicted_properties, left_index=True, right_index=True, how=\"left\")"
   ]
  },
  {
   "cell_type": "code",
   "execution_count": null,
   "id": "d23be8a9-4302-4ff4-9ec1-a6dc6ad0b118",
   "metadata": {},
   "outputs": [],
   "source": [
    "# df_prep.columns"
   ]
  },
  {
   "cell_type": "markdown",
   "id": "01291808-50bc-4965-8e25-7d8e7dccfb76",
   "metadata": {},
   "source": [
    "## Learn heat distribution characteristics"
   ]
  },
  {
   "cell_type": "code",
   "execution_count": null,
   "id": "55c96c38-5688-4904-a069-b3bd68964b5c",
   "metadata": {},
   "outputs": [],
   "source": [
    "# optionally change the selection which property columns in df_prep are used as properties needed by the learning algorithm\n",
    "property_sources = {\n",
    "    'temp_indoor__degC':        'batch_import_remeha_temp_indoor__degC',\n",
    "    'temp_set__degC':           'batch_import_remeha_temp_set__degC',\n",
    "    'comfortable__bool':        'comfortable__bool',\n",
    "    'temp_outdoor__degC':       'batch_import_KNMI_temp_outdoor__degC',\n",
    "    'wind__m_s_1':              'batch_import_KNMI_wind__m_s_1',\n",
    "    'sol_ghi__W_m_2':           'batch_import_KNMI_sol_ghi__W_m_2', \n",
    "    'g_use_ch_hhv__W':          'g_use_fan_ch_hhv__W',\n",
    "    'eta_ch_hhv__W0':           'eta_ch_hhv__W0', \n",
    "    'g_use_dhw_hhv__W':         'g_use_fan_dhw_hhv__W',\n",
    "    'e__W':                     'device_p1-reader_e__W',    \n",
    "    'occupancy__p':             'device_living_room_occupancy__p',\n",
    "    'co2_indoor__ppm':          'device_living_room_co2_indoor__ppm',\n",
    "    'temp_flow__degC':          'batch_import_remeha_temp_flow__degC',\n",
    "    'temp_ret__degC':           'batch_import_remeha_temp_ret__degC',\n",
    "    # 'temp_flow_ch__degC':       'batch_import_remeha_temp_flow_ch__degC', # choose between interpolated or not depending on needs of the analysis algorithm\n",
    "    # 'temp_ret_ch__degC':        'batch_import_remeha_temp_ret_ch__degC',  # choose between interpolated or not depending on needs of the analysis algorithm\n",
    "    'temp_flow_ch__degC':       'interpolated_batch_import_remeha_temp_flow_ch__degC', # choose between interpolated or not depending on needs of the analysis algorithm\n",
    "    'temp_ret_ch__degC':        'interpolated_batch_import_remeha_temp_ret_ch__degC',  # choose between interpolated or not depending on needs of the analysis algorithm\n",
    "    'temp_flow_ch_max__degC':   'batch_import_remeha_temp_flow_ch_max__degC', \n",
    "    'fan_rotations__min_1':     'batch_import_remeha_fan_rotations__min_1', \n",
    "    'fan_speed__pct':           'fan_speed__pct', \n",
    "    'flow_dstr_pump_speed__pct':'batch_import_remeha_flow_dstr_pump_speed__pct',\n",
    "    'temp_dstr__degC':          'temp_dstr__degC', # added to get mae and rmse values\n",
    "    'ventilation__dm3_s_1':     'predicted_ventilation__dm3_s_1',\n",
    "    'temp_flow_ch_set__degC':   'predicted_temp_flow_ch_set__degC',\n",
    "    'heat_ch__W':               'heat_ch__W',\n",
    "    'flow_dstr__dm3_s_1':       'flow_dstr__dm3_s_1',\n",
    "}"
   ]
  },
  {
   "cell_type": "code",
   "execution_count": null,
   "id": "49fa84a6-bbd6-4b6e-8b1f-66ad2a5f358f",
   "metadata": {},
   "outputs": [],
   "source": [
    "%%time\n",
    "df_prep['delta_dstr']=df_prep[property_sources['temp_dstr__degC']]-df_prep[property_sources['temp_indoor__degC']]\n",
    "df_prep['delta_inout']=df_prep[property_sources['temp_indoor__degC']]-df_prep[property_sources['temp_outdoor__degC']]"
   ]
  },
  {
   "cell_type": "code",
   "execution_count": null,
   "id": "034b05fa-0eca-46ac-a928-67651586f39b",
   "metadata": {},
   "outputs": [],
   "source": [
    "df_prep[['delta_dstr', 'delta_inout']].describe().T"
   ]
  },
  {
   "cell_type": "code",
   "execution_count": null,
   "id": "0b4231cb-a1e2-4447-89e6-1fc01b893aba",
   "metadata": {},
   "outputs": [],
   "source": [
    "df_prep[['delta_dstr', 'delta_inout']].groupby('id').describe().T"
   ]
  },
  {
   "cell_type": "code",
   "execution_count": null,
   "id": "a55cf02c-fe2c-4f17-b801-2a42fcbded05",
   "metadata": {},
   "outputs": [],
   "source": [
    "req_props_dstr = {'temp_indoor__degC',\n",
    "                  'temp_flow_ch__degC',\n",
    "                  'temp_ret_ch__degC',\n",
    "                  'heat_ch__W',\n",
    "                  # 'flow_dstr_pump_speed__pct',\n",
    "                  # 'flow_dstr__dm3_s_1',\n",
    "                 }\n",
    "\n",
    "# Parameters that are learned\n",
    "learn_params_dstr = {'heat_tr_dstr__W_K_1',\n",
    "                     'th_mass_dstr__Wh_K_1',\n",
    "                     'th_inert_dstr__h',\n",
    "                     # 'flow_dstr_capacity__dm3_s_1',\n",
    "                     # 'flow_dstr_resistance__Pa_dm_6_s2',  # this can only be learnt if df_bldng_data['pump_head_max__m'] is available\n",
    "                    }\n",
    "\n",
    "\n",
    "param_hints_dstr = {'heat_tr_dstr__W_K_1': heat_tr_dstr_nl_avg__W_K_1,  # Use average value\n",
    "                    'th_mass_dstr__Wh_K_1': th_mass_dstr_nl_avg__Wh_K_1,  # Use average value\n",
    "                    'th_inert_dstr__h': th_mass_dstr_nl_avg__Wh_K_1/heat_tr_dstr_nl_avg__W_K_1,\n",
    "                    'flow_dstr_capacity__dm3_s_1': flow_dstr_capacity_nl_avg__dm3_s_1,\n",
    "                   }\n",
    "\n",
    "learned_params_dstr = {'learned_' + param for param in learn_params_dstr}\n",
    "\n",
    "# properties to be predicted\n",
    "predict_props_dstr = {'temp_ret_ch__degC',\n",
    "                      'temp_dstr__degC',\n",
    "                     }\n",
    "minimum_duration__min = 20\n",
    "# minimum_duration__min = 5\n",
    "\n",
    "learn_period__d=7\n",
    "# learn_period__d=3\n"
   ]
  },
  {
   "cell_type": "code",
   "execution_count": null,
   "id": "c03f006a-e9ee-4b89-a903-be452e105cc1",
   "metadata": {},
   "outputs": [],
   "source": [
    "df_prep[property_sources['heat_ch__W']].describe()"
   ]
  },
  {
   "cell_type": "code",
   "execution_count": null,
   "id": "0124523d-b2dd-4fb2-a4a2-0ae4ec101723",
   "metadata": {},
   "outputs": [],
   "source": [
    "req_cols_dstr = {property_sources[prop] for prop in req_props_dstr & property_sources.keys()}"
   ]
  },
  {
   "cell_type": "code",
   "execution_count": null,
   "id": "8471ec4b-3d14-459d-9134-393bd83d3496",
   "metadata": {},
   "outputs": [],
   "source": [
    "df_prep[list(req_cols_dstr)].describe().T"
   ]
  },
  {
   "cell_type": "code",
   "execution_count": null,
   "id": "283dd688-e74e-43e7-95c4-2c87e23ba686",
   "metadata": {},
   "outputs": [],
   "source": [
    "df_prep[list(req_cols_dstr)][boiler_burning_mask].describe().T"
   ]
  },
  {
   "cell_type": "code",
   "execution_count": null,
   "id": "1d6b2c71-04ba-4597-9247-6bf9bb33820b",
   "metadata": {},
   "outputs": [],
   "source": [
    "df_prep[list(req_cols_dstr)][ch_gas_mask].describe().T"
   ]
  },
  {
   "cell_type": "code",
   "execution_count": null,
   "id": "9b2dbd30-fe5c-4d63-beb6-85ec506d1ef6",
   "metadata": {},
   "outputs": [],
   "source": [
    "%%time\n",
    "%autoreload 2\n",
    "df_learned_parameters_per_period, df_predicted_properties = Learner.learn_system_parameters(\n",
    "    df_prep,\n",
    "    df_bldng_data=df_bldng_data,\n",
    "    system_model_fn = Model.heat_distribution,\n",
    "    job_identification_fn = Learner.valid_learn_list,\n",
    "    property_sources=property_sources,\n",
    "    learn_params=learn_params_dstr,\n",
    "    param_hints=param_hints_dstr,\n",
    "    predict_props=predict_props_dstr,\n",
    "    req_props=req_props_dstr,\n",
    "    duration_threshold=timedelta(minutes=minimum_duration__min),\n",
    "    learn_period__d=learn_period__d,\n",
    "    max_periods=max_periods, # set max_periods to a value other than None, e.g. 100 during testing of learning algorithms\n",
    ")"
   ]
  },
  {
   "cell_type": "markdown",
   "id": "e8f43da7-1116-48c9-8f9c-ee71646287b9",
   "metadata": {},
   "source": [
    "#### Process learned parameters"
   ]
  },
  {
   "cell_type": "code",
   "execution_count": null,
   "id": "170bb4bb-bd75-4c1b-8253-4f1e15a5d135",
   "metadata": {},
   "outputs": [],
   "source": [
    "print(f\"We learned parameters for {0 if df_learned_parameters_per_period.empty else len(df_learned_parameters_per_period.index.get_level_values('id').unique())} out of {len(df_prep.index.get_level_values('id').unique())} homes\")"
   ]
  },
  {
   "cell_type": "code",
   "execution_count": null,
   "id": "913f60c7-21cb-49b8-8fd4-7a866bf7c73f",
   "metadata": {},
   "outputs": [],
   "source": [
    "with pd.option_context('display.float_format', '{:.2f}'.format):\n",
    "    error_cols = [prop for prop in df_learned_parameters_per_period.columns if prop.startswith('mae_') or prop.startswith('rmse_')]\n",
    "    if error_cols:\n",
    "        display(df_learned_parameters_per_period[error_cols].describe())"
   ]
  },
  {
   "cell_type": "code",
   "execution_count": null,
   "id": "6fabd341-c20b-4468-ae44-7c8973ae6462",
   "metadata": {},
   "outputs": [],
   "source": [
    "df_learned_parameters_per_period"
   ]
  },
  {
   "cell_type": "code",
   "execution_count": null,
   "id": "2e9910f5-e75c-4e86-a16d-8b1dc5b0a41d",
   "metadata": {},
   "outputs": [],
   "source": [
    "# Determine learned parameters \n",
    "threshold_duration = pd.Timedelta(minutes=20)\n",
    "df_learned_parameters = df_learned_parameters_per_period[df_learned_parameters_per_period.index.get_level_values('duration') >= threshold_duration].groupby('id').median()"
   ]
  },
  {
   "cell_type": "code",
   "execution_count": null,
   "id": "c0b55f7d-279c-4f5e-8680-a6d61da8ce25",
   "metadata": {},
   "outputs": [],
   "source": [
    "if not df_learned_parameters_per_period.empty:\n",
    "    with pd.option_context('display.float_format', '{:.2f}'.format):\n",
    "        display(df_learned_parameters.describe())"
   ]
  },
  {
   "cell_type": "code",
   "execution_count": null,
   "id": "9009a8c5-760f-4d21-8cf0-144d0646893b",
   "metadata": {},
   "outputs": [],
   "source": [
    "if not df_learned_parameters_per_period.empty:\n",
    "    for learned_param in df_learned_parameters_per_period:\n",
    "        Plot.nfh_property_per_id_boxplot(df_learned_parameters_per_period, property_col=learned_param)"
   ]
  },
  {
   "cell_type": "code",
   "execution_count": null,
   "id": "3e681bbc-3a19-4b58-b1fa-ce2892f5c42c",
   "metadata": {},
   "outputs": [],
   "source": [
    "if not df_learned_parameters_per_period.empty:\n",
    "    # merge learned data into building metadata\n",
    "    df_bldng_data = df_bldng_data.merge(df_learned_parameters[[prop for prop in df_learned_parameters.columns if prop.startswith('learned_')]],\n",
    "                                        how='left',\n",
    "                                        left_on='id',\n",
    "                                        right_index=True\n",
    "                                       )"
   ]
  },
  {
   "cell_type": "code",
   "execution_count": null,
   "id": "2ef0afe6-fe8e-445d-ba98-98bbabb74f7f",
   "metadata": {},
   "outputs": [],
   "source": [
    "with pd.option_context('display.float_format', '{:.2f}'.format):\n",
    "    display(df_bldng_data.T)"
   ]
  },
  {
   "cell_type": "code",
   "execution_count": null,
   "id": "b251ba35-e9c9-497a-8f22-e914b1a412cb",
   "metadata": {},
   "outputs": [],
   "source": [
    "df_bldng_data.to_parquet(home_metadata_file_path, index=True, engine='pyarrow')"
   ]
  },
  {
   "cell_type": "markdown",
   "id": "4eca13df-6ec2-4d62-8e94-5964a59ea53b",
   "metadata": {},
   "source": [
    "#### Process predicted properties"
   ]
  },
  {
   "cell_type": "code",
   "execution_count": null,
   "id": "61e6ec01-d606-42ea-a70a-b938f2fc71a8",
   "metadata": {},
   "outputs": [],
   "source": [
    "# Merge predicted properties back into the main DataFrame\n",
    "if not df_predicted_properties.empty:\n",
    "    df_prep = df_prep.drop(columns=df_prep.columns.intersection(df_predicted_properties.columns))\n",
    "    df_prep = df_prep.merge(df_predicted_properties, left_index=True, right_index=True, how=\"left\")"
   ]
  },
  {
   "cell_type": "code",
   "execution_count": null,
   "id": "119ec06a-478b-4ed7-91ec-4c08f767f384",
   "metadata": {},
   "outputs": [],
   "source": [
    "df_prep.columns"
   ]
  },
  {
   "cell_type": "markdown",
   "id": "a77a2f88-5e82-443b-a9ed-937830e2a323",
   "metadata": {},
   "source": [
    "### Visualize distribution of learn duration for distribution system parameters"
   ]
  },
  {
   "cell_type": "code",
   "execution_count": null,
   "id": "44a71b4b-4ca2-45cc-9966-2713b0cb850e",
   "metadata": {},
   "outputs": [],
   "source": [
    "df_dstr_results_per_period = df_learned_parameters_per_period"
   ]
  },
  {
   "cell_type": "code",
   "execution_count": null,
   "id": "75f30519-64be-4c38-aa5e-b6897f1b5d08",
   "metadata": {},
   "outputs": [],
   "source": [
    "df_dstr_results_per_period.head()"
   ]
  },
  {
   "cell_type": "markdown",
   "id": "da8bd21c-bc86-4b53-a988-b58b238736b4",
   "metadata": {},
   "source": [
    "### Compare heat distribution parameters floor_heating or not"
   ]
  },
  {
   "cell_type": "code",
   "execution_count": null,
   "id": "e856f155-63ca-4d64-97bd-c5ec9931ace9",
   "metadata": {},
   "outputs": [],
   "source": [
    "%%time\n",
    "# Merging info about floor heating from df_homes_boilers\n",
    "if 'floor_heating__bool' not in df_dstr_results_per_period.index.names:\n",
    "    df_dstr_results_per_period= df_dstr_results_per_period.merge(df_homes_boilers[['floor_heating__bool']],\n",
    "                                                                 how='left',\n",
    "                                                                 left_on='id',\n",
    "                                                                 right_index=True\n",
    "                                                                 ).set_index('floor_heating__bool', append=True)"
   ]
  },
  {
   "cell_type": "code",
   "execution_count": null,
   "id": "5e12ab25-ac5c-4129-b8de-407b37e8f3f7",
   "metadata": {},
   "outputs": [],
   "source": [
    "with pd.option_context('display.float_format', '{:.2f}'.format):\n",
    "    display(df_dstr_results_per_period.groupby(['floor_heating__bool']).agg(['median', 'mean', 'std']).T)"
   ]
  },
  {
   "cell_type": "code",
   "execution_count": null,
   "id": "6c1ceb18-3034-494c-b493-ae4c44b48157",
   "metadata": {},
   "outputs": [],
   "source": [
    "# hint for heat dissipation capacity of the heat distribution system\n",
    "heat_tr_dstr_nl_avg__W_K_1"
   ]
  },
  {
   "cell_type": "code",
   "execution_count": null,
   "id": "10ffda9e-7e08-4716-94ea-b9a31329b3d9",
   "metadata": {},
   "outputs": [],
   "source": [
    "# hint for thermal mass of the heat distribution system\n",
    "th_mass_dstr_nl_avg__Wh_K_1"
   ]
  },
  {
   "cell_type": "code",
   "execution_count": null,
   "id": "eabf7171-8f5e-4d17-886d-e213a52d3fac",
   "metadata": {},
   "outputs": [],
   "source": [
    "# hint for thermal inertia of the heat distribution system\n",
    "th_mass_dstr_nl_avg__Wh_K_1 / heat_tr_dstr_nl_avg__W_K_1"
   ]
  },
  {
   "cell_type": "code",
   "execution_count": null,
   "id": "0a8e3671-616a-4b20-a8c0-0e979cc344a2",
   "metadata": {},
   "outputs": [],
   "source": [
    "with pd.option_context('display.float_format', '{:.2f}'.format):\n",
    "    display(df_dstr_results_per_period.groupby(['floor_heating__bool']).median().T)"
   ]
  },
  {
   "cell_type": "code",
   "execution_count": null,
   "id": "fd9b156e-627d-4766-ab8f-d434bebfc10c",
   "metadata": {},
   "outputs": [],
   "source": [
    "with pd.option_context('display.float_format', '{:.2f}'.format):\n",
    "    display(df_dstr_results_per_period.groupby(['floor_heating__bool', 'id']).median().T)"
   ]
  },
  {
   "cell_type": "code",
   "execution_count": null,
   "id": "765124bc-319f-47de-a4ba-125b1ee6dc1e",
   "metadata": {},
   "outputs": [],
   "source": [
    "with pd.option_context('display.float_format', '{:.2f}'.format):\n",
    "    display(df_dstr_results_per_period.groupby(['floor_heating__bool', 'id']).mean().T)"
   ]
  },
  {
   "cell_type": "code",
   "execution_count": null,
   "id": "3ba97da9-aee9-4ddd-a5bc-c9c5703256ee",
   "metadata": {},
   "outputs": [],
   "source": [
    "learned_params_dstr"
   ]
  },
  {
   "cell_type": "code",
   "execution_count": null,
   "id": "d36d9ebd-add2-4dd9-96d6-e52fb369b264",
   "metadata": {},
   "outputs": [],
   "source": [
    "for learned_param in learned_params_dstr:\n",
    "        Plot.nfh_property_per_id_boxplot(df_dstr_results_per_period[df_dstr_results_per_period.index.get_level_values('duration') >= threshold_duration], property_col=learned_param)"
   ]
  },
  {
   "cell_type": "code",
   "execution_count": null,
   "id": "531f2e69-dc5c-4746-a614-e4a765cf0e0c",
   "metadata": {},
   "outputs": [],
   "source": [
    "%autoreload 2\n",
    "for learned_param in learned_params_dstr:\n",
    "    Plot.nfh_property_grouped_boxplot(df_dstr_results_per_period[df_dstr_results_per_period.index.get_level_values('duration') >= threshold_duration],\n",
    "                                      property_col=learned_param,\n",
    "                                      groupby_level='floor_heating__bool'\n",
    "                                     )"
   ]
  },
  {
   "cell_type": "markdown",
   "id": "11f68e0a-8245-4208-9911-09893c7ef5e8",
   "metadata": {},
   "source": [
    "### Inspect influence of duration minimum"
   ]
  },
  {
   "cell_type": "code",
   "execution_count": null,
   "id": "c96e93a8-c538-41ce-9442-2da25da95aeb",
   "metadata": {},
   "outputs": [],
   "source": [
    "%%time\n",
    "# Initialize a dictionary to store results\n",
    "results = {'duration': []}\n",
    "\n",
    "# Dynamically add keys for each parameter\n",
    "for learned_param in learned_params_dstr:\n",
    "    results[f'median_{learned_param}'] = []\n",
    "    results[f'weighted_mean_{learned_param}'] = []\n",
    "    results[f'weighted_std_{learned_param}'] = []\n",
    "\n",
    "\n",
    "# Loop over duration thresholds\n",
    "for threshold in range(minimum_duration__min, 241, 5):  # From 15 to 240, steps of 5\n",
    "    # Filter DataFrame based on duration__min\n",
    "    filtered_df = df_dstr_results_per_period[\n",
    "        df_dstr_results_per_period.index.get_level_values('duration') >= pd.Timedelta(minutes=threshold)\n",
    "    ]\n",
    "    \n",
    "    if not filtered_df.empty:\n",
    "        # Extract weights (duration__min)\n",
    "        weights = filtered_df.index.get_level_values('duration').total_seconds() / 60\n",
    "\n",
    "        # Loop through the properties\n",
    "        for learned_param in learned_params_dstr:\n",
    "            values = filtered_df[learned_param]\n",
    "            # Calculate median\n",
    "            median = np.median(values)\n",
    "            # Calculate weighted mean\n",
    "            weighted_mean = np.average(values, weights=weights)\n",
    "            # Calculate weighted standard deviation\n",
    "            weighted_std = np.sqrt(np.average((values - weighted_mean) ** 2, weights=weights))\n",
    "            # Store results\n",
    "            results[f'median_{learned_param}'].append(median)\n",
    "            results[f'weighted_mean_{learned_param}'].append(weighted_mean)\n",
    "            results[f'weighted_std_{learned_param}'].append(weighted_std)\n",
    "\n",
    "        # Store the threshold\n",
    "        results['duration'].append(threshold)\n",
    "\n",
    "# Convert results dictionary to a DataFrame for plotting\n",
    "results_df = pd.DataFrame(results)"
   ]
  },
  {
   "cell_type": "markdown",
   "id": "94bce220-8737-40a5-a381-d212507c8ef0",
   "metadata": {},
   "source": [
    "#### Inspect influence of duration__min minimum on weighted mean and weighted standard deviation"
   ]
  },
  {
   "cell_type": "code",
   "execution_count": null,
   "id": "408db100-2c72-4518-b70c-8ea0205e5b25",
   "metadata": {},
   "outputs": [],
   "source": [
    "# Plot the results\n",
    "\n",
    "# Clear the current figure if it exists\n",
    "plt.clf()\n",
    "\n",
    "plt.figure(figsize=(10, 6))\n",
    "for learned_param in learned_params_dstr:\n",
    "    for metric in ['median', 'weighted_mean', 'weighted_std']:\n",
    "        plt.plot(\n",
    "            results_df['duration'], \n",
    "            results_df[f\"{metric}_{learned_param}\"],\n",
    "            '.--',\n",
    "            label=f\"{metric}__{learned_param}\",\n",
    "        )\n",
    "\n",
    "# Customize plot\n",
    "plt.xlabel('Minimum Duration (minutes)')\n",
    "plt.ylabel('Wighted Mean /  Standard Deviation')\n",
    "plt.title('Impact of Minimum Duration on Learned Parameters')\n",
    "plt.legend()\n",
    "plt.grid(True, linestyle='--', alpha=0.7)\n",
    "plt.tight_layout()\n",
    "\n",
    "# Show plot\n",
    "plt.show()"
   ]
  },
  {
   "cell_type": "code",
   "execution_count": null,
   "id": "acb52a67-3d2b-4c26-af87-22d075da2c25",
   "metadata": {},
   "outputs": [],
   "source": [
    "for learned_parameter in learned_params_dstr:\n",
    "\n",
    "    #select ids\n",
    "    # all ids learned: only uncomment the line below\n",
    "    unique_ids = df_dstr_results_per_period.index.get_level_values('id').unique()\n",
    "    # ids learned WITHOUT floor heating: only uncomment the line below\n",
    "    # unique_ids = [id for id in df_dstr_results_per_period.index.get_level_values('id').unique() if df_bldng_data.loc[id]['floor_heating__bool'] == False]\n",
    "    # ids learned WITH floor heating: only uncomment the line below\n",
    "    # unique_ids = [id for id in df_dstr_results_per_period.index.get_level_values('id').unique() if df_bldng_data.loc[id]['floor_heating__bool'] == True]\n",
    "\n",
    "    # Prepare a colormap for distinct IDs\n",
    "    colors = plt.cm.tab20(np.linspace(0, 1, len(unique_ids)))\n",
    "    \n",
    "    # Start a new figure\n",
    "    # Clear the current figure if it exists\n",
    "    plt.figure(figsize=(12, 8))\n",
    "    \n",
    "    # Iterate over unique IDs to create separate lines per ID\n",
    "    for idx, (id_value, color) in enumerate(zip(unique_ids, colors)):\n",
    "        # Filter the DataFrame for the current ID\n",
    "        df_id = df_dstr_results_per_period.loc[df_dstr_results_per_period.index.get_level_values('id') == id_value]\n",
    "    \n",
    "        # Initialize lists for thresholds, weighted means, and weighted stds\n",
    "        thresholds = []\n",
    "        weighted_means = []\n",
    "        weighted_stds = []\n",
    "    \n",
    "        # Loop over duration thresholds\n",
    "        for threshold in range(minimum_duration__min, 241, 1):  # From 15 to 240, steps of 1\n",
    "            # Filter DataFrame based on duration__min\n",
    "            filtered_df = df_id[df_id.index.get_level_values('duration') >= pd.Timedelta(minutes=threshold)]\n",
    "    \n",
    "            if not filtered_df.empty:\n",
    "                # Extract weights (duration__min)\n",
    "                weights = filtered_df.index.get_level_values('duration').total_seconds() / 60\n",
    "    \n",
    "                # Compute weighted mean and std for the chosen learned parameter\n",
    "                values = filtered_df[learned_parameter]\n",
    "                \n",
    "                weighted_mean = np.average(values, weights=weights)\n",
    "                weighted_std = np.sqrt(np.average((values - weighted_mean)**2, weights=weights))\n",
    "    \n",
    "                # Append the results\n",
    "                thresholds.append(threshold)\n",
    "                weighted_means.append(weighted_mean)\n",
    "                weighted_stds.append(weighted_std)\n",
    "    \n",
    "        # Plot the weighted mean for the current ID\n",
    "        plt.plot(thresholds, weighted_means, '.--', color=color, label=f'ID: {id_value}')\n",
    "    \n",
    "        # Add the shaded region for the weighted standard deviation\n",
    "        plt.fill_between(\n",
    "            thresholds,\n",
    "            np.array(weighted_means) - np.array(weighted_stds),\n",
    "            np.array(weighted_means) + np.array(weighted_stds),\n",
    "            color=color,\n",
    "            alpha=0.2,\n",
    "        )\n",
    "    \n",
    "    # Customize the plot\n",
    "    plt.xlabel('Minimum Duration (minutes)')\n",
    "    plt.ylabel(f'Learned {learned_parameter}')\n",
    "    plt.title('Impact of Minimum Duration on Weighted Mean and StDev per ID')\n",
    "    plt.legend(bbox_to_anchor=(1.05, 1), loc='upper left', title='ID')\n",
    "    plt.grid(True, linestyle='--', alpha=0.7)\n",
    "    plt.tight_layout()\n",
    "    \n",
    "    # Show the plot\n",
    "    plt.show()\n"
   ]
  },
  {
   "cell_type": "markdown",
   "id": "a7ec490a-3ba0-4479-8a26-0ffb9c4177c8",
   "metadata": {},
   "source": [
    "#### Inspect influence of duration minimum on median and interquartile range"
   ]
  },
  {
   "cell_type": "code",
   "execution_count": null,
   "id": "c26445cb-ef16-46f8-8f04-59bb92efc658",
   "metadata": {},
   "outputs": [],
   "source": [
    "for learned_parameter in learned_params_dstr:\n",
    "\n",
    "    #select ids\n",
    "    # all ids learned: only uncomment the line below\n",
    "    unique_ids = df_dstr_results_per_period.index.get_level_values('id').unique()\n",
    "    # ids learned WITHOUT floor heating: only uncomment the line below\n",
    "    # unique_ids = [id for id in df_dstr_results_per_period.index.get_level_values('id').unique() if df_bldng_data.loc[id]['floor_heating__bool'] == False]\n",
    "    # ids learned WITH floor heating: only uncomment the line below\n",
    "    # unique_ids = [id for id in df_dstr_results_per_period.index.get_level_values('id').unique() if df_bldng_data.loc[id]['floor_heating__bool'] == True]\n",
    "\n",
    "    # Prepare a colormap for distinct IDs\n",
    "    colors = plt.cm.tab20(np.linspace(0, 1, len(unique_ids)))\n",
    "    \n",
    "    # Start a new figure\n",
    "    # Clear the current figure if it exists\n",
    "    plt.figure(figsize=(12, 8))\n",
    "    \n",
    "    # Iterate over unique IDs to create separate lines per ID\n",
    "    for idx, (id_value, color) in enumerate(zip(unique_ids, colors)):\n",
    "        # Filter the DataFrame for the current ID\n",
    "        df_id = df_dstr_results_per_period.loc[df_dstr_results_per_period.index.get_level_values('id') == id_value]\n",
    "    \n",
    "        # Initialize lists for thresholds, weighted means, and weighted stds\n",
    "        thresholds = []\n",
    "        medians = []\n",
    "        Q1_values = []\n",
    "        Q3_values = []\n",
    "    \n",
    "        # Loop over duration thresholds\n",
    "        for threshold in range(minimum_duration__min, 241, 1):  # From 15 to 240, steps of 1\n",
    "            # Filter DataFrame based on duration__min\n",
    "            filtered_df = df_id[df_id.index.get_level_values('duration') >= pd.Timedelta(minutes=threshold)]\n",
    "    \n",
    "            if not filtered_df.empty:\n",
    "                # Compute weighted mean and std for the chosen learned parameter\n",
    "                values = filtered_df[learned_parameter]\n",
    "                \n",
    "                median = np.median(values)\n",
    "                Q1 = np.quantile(values, 0.25)\n",
    "                Q3 = np.quantile(values, 0.75)\n",
    "    \n",
    "                # Append the results\n",
    "                thresholds.append(threshold)\n",
    "                medians.append(median)\n",
    "                Q1_values.append(Q1)\n",
    "                Q3_values.append(Q3)\n",
    "    \n",
    "        # Plot the median for the current ID\n",
    "        plt.plot(thresholds, medians, '.--', color=color, label=f'ID: {id_value}')\n",
    "        \n",
    "        # Add the shaded region for the weighted standard deviation\n",
    "        plt.fill_between(\n",
    "            thresholds,\n",
    "            np.array(Q1_values),\n",
    "            np.array(Q3_values),\n",
    "            color=color,\n",
    "            alpha=0.2,\n",
    "        )\n",
    "    \n",
    "    # Customize the plot\n",
    "    plt.xlabel('Minimum Duration (minutes)')\n",
    "    plt.ylabel(f'Learned {learned_parameter}')\n",
    "    plt.title('Impact of Minimum Duration on Median and Interquartile Range per ID')\n",
    "    plt.legend(bbox_to_anchor=(1.05, 1), loc='upper left', title='ID')\n",
    "    plt.grid(True, linestyle='--', alpha=0.7)\n",
    "    plt.tight_layout()\n",
    "    \n",
    "    # Show the plot\n",
    "    plt.show()\n"
   ]
  },
  {
   "cell_type": "markdown",
   "id": "86fae954-aae3-4537-83e5-4fc90a5eeb54",
   "metadata": {},
   "source": [
    "## Learn ventilation characteristics"
   ]
  },
  {
   "cell_type": "code",
   "execution_count": null,
   "id": "a5373daa-07fe-4178-9f34-8999b556f367",
   "metadata": {},
   "outputs": [],
   "source": [
    "# optionally change the selection which property columns in df_prep are used as properties needed by the learning algorithm\n",
    "property_sources = {\n",
    "    'temp_indoor__degC':        'batch_import_remeha_temp_indoor__degC',\n",
    "    'temp_set__degC':           'batch_import_remeha_temp_set__degC',\n",
    "    'comfortable__bool':        'comfortable__bool',\n",
    "    'temp_outdoor__degC':       'batch_import_KNMI_temp_outdoor__degC',\n",
    "    'wind__m_s_1':              'batch_import_KNMI_wind__m_s_1',\n",
    "    'sol_ghi__W_m_2':           'batch_import_KNMI_sol_ghi__W_m_2', \n",
    "    'g_use_ch_hhv__W':          'g_use_fan_ch_hhv__W',\n",
    "    'eta_ch_hhv__W0':           'eta_ch_hhv__W0', \n",
    "    'g_use_dhw_hhv__W':         'g_use_fan_dhw_hhv__W',\n",
    "    'e__W':                     'device_p1-reader_e__W',    \n",
    "    'occupancy__p':             'device_living_room_occupancy__p',\n",
    "    'co2_indoor__ppm':          'device_living_room_co2_indoor__ppm',\n",
    "    'temp_flow__degC':          'batch_import_remeha_temp_flow__degC',\n",
    "    'temp_ret__degC':           'batch_import_remeha_temp_ret__degC',\n",
    "    'temp_flow_ch__degC':       'batch_import_remeha_temp_flow_ch__degC', # choose between interpolated or not depending on needs of the analysis algorithm\n",
    "    'temp_ret_ch__degC':        'batch_import_remeha_temp_ret_ch__degC',  # choose between interpolated or not depending on needs of the analysis algorithm\n",
    "    # 'temp_flow_ch__degC':       'interpolated_batch_import_remeha_temp_flow_ch__degC', # choose between interpolated or not depending on needs of the analysis algorithm\n",
    "    # 'temp_ret_ch__degC':        'interpolated_batch_import_remeha_temp_ret_ch__degC',  # choose between interpolated or not depending on needs of the analysis algorithm\n",
    "    'temp_flow_ch_max__degC':   'batch_import_remeha_temp_flow_ch_max__degC', \n",
    "    'fan_rotations__min_1':     'batch_import_remeha_fan_rotations__min_1', \n",
    "    'fan_speed__pct':           'fan_speed__pct', \n",
    "    'flow_dstr_pump_speed__pct':'batch_import_remeha_flow_dstr_pump_speed__pct',\n",
    "    'temp_dstr__degC':          'temp_dstr__degC', # added to get mae and rmse values\n",
    "    'ventilation__dm3_s_1':     'predicted_ventilation__dm3_s_1', \n",
    "    'temp_flow_ch_set__degC':   'predicted_temp_flow_ch_set__degC',\n",
    "    'heat_ch__W':               'heat_ch__W',\n",
    "}"
   ]
  },
  {
   "cell_type": "code",
   "execution_count": null,
   "id": "e135f79d-99a0-4f09-a264-ca45a44cb520",
   "metadata": {},
   "outputs": [],
   "source": [
    "req_props_vent ={\n",
    "    'co2_indoor__ppm',\n",
    "    'occupancy__p',\n",
    "    'wind__m_s_1'\n",
    "}\n",
    "\n",
    "req_cols_vent = {property_sources[prop] for prop in req_props_vent & property_sources.keys()}\n",
    "\n",
    "learn_params_vent = {\n",
    "    'aperture_inf_vent__cm2',\n",
    "}\n",
    "\n",
    "learned_params_vent = {'learned_' + param for param in learn_params_vent}\n",
    "\n",
    "predict_props_vent = {\n",
    "    'ventilation__dm3_s_1',\n",
    "    'co2_indoor__ppm', # for testing purposes only\n",
    "}\n",
    "\n",
    "param_hints_vent = {\n",
    "    'wind_chill__K_s_m_1':          wind_chill_nl_avg__K_s_m_1,          # wind chill factor\n",
    "    'aperture_inf__cm2':            aperture_inf_nl_avg__cm2,            # effective infiltration area \n",
    "    'occupancy__p':                 occupancy_nl_avg__p,                 # house occupancy\n",
    "    'ventilation_default__dm3_s_1': 7.0,                                 # default ventilation rate for the entire home\n",
    "    'ventilation_max__dm3_s_1_m_2': 1.0,                                 # maximum ventilation rate per m2 floor area\n",
    "    'co2_outdoor__ppm':             co2_outdoor_eu_avg_2022__ppm,        # average CO₂ outdoor concentration\n",
    "}"
   ]
  },
  {
   "cell_type": "code",
   "execution_count": null,
   "id": "28db7c43-3ec3-4591-a427-8926b2328e67",
   "metadata": {},
   "outputs": [],
   "source": [
    "req_props_vent"
   ]
  },
  {
   "cell_type": "code",
   "execution_count": null,
   "id": "f20213fc-ecf7-4683-9de5-77b1328c44d3",
   "metadata": {},
   "outputs": [],
   "source": [
    "req_cols_vent"
   ]
  },
  {
   "cell_type": "code",
   "execution_count": null,
   "id": "ffabe222-977b-4956-a640-5eb2c71300c1",
   "metadata": {},
   "outputs": [],
   "source": [
    "Plot.plot_missing_data_overview(df_prep, properties_include=[property_sources[prop] for prop in req_props_vent], freq='1W', title_fontsize=8)"
   ]
  },
  {
   "cell_type": "code",
   "execution_count": null,
   "id": "d0f8fa1a-77cf-4bc2-b363-c708ce9b3a0d",
   "metadata": {},
   "outputs": [],
   "source": [
    "# learn_period__d=3\n",
    "learn_period__d=7\n",
    "# max_periods = 10\n",
    "max_periods = None\n",
    "\n",
    "minimum_duration__min = 60"
   ]
  },
  {
   "cell_type": "code",
   "execution_count": null,
   "id": "723bef14-111f-4e95-ae74-204ddbf81188",
   "metadata": {},
   "outputs": [],
   "source": [
    "%%time\n",
    "%autoreload 2\n",
    "df_learned_parameters_per_period, df_predicted_properties = Learner.learn_system_parameters(\n",
    "    df_prep,\n",
    "    df_bldng_data=df_bldng_data,\n",
    "    system_model_fn = Model.ventilation,\n",
    "    job_identification_fn = Learner.periodic_learn_list,\n",
    "    property_sources=property_sources,\n",
    "    learn_params=learn_params_vent,\n",
    "    param_hints=param_hints_vent,\n",
    "    predict_props=predict_props_vent,\n",
    "    req_props=req_props_vent,\n",
    "    duration_threshold=timedelta(minutes=minimum_duration__min),\n",
    "    learn_period__d=learn_period__d,\n",
    "    max_periods=max_periods, # set max_periods to a value other than None, e.g. 100 during testing of learning algorithms\n",
    "    # max_iter=10,\n",
    ")\n"
   ]
  },
  {
   "cell_type": "code",
   "execution_count": null,
   "id": "15fe9ad0-8629-4b82-ad6d-1caeffb2c933",
   "metadata": {},
   "outputs": [],
   "source": [
    "df_prep[property_sources['co2_indoor__ppm']].groupby('id').count()"
   ]
  },
  {
   "cell_type": "code",
   "execution_count": null,
   "id": "1b022466-5b68-42fb-b033-71ee2021b20e",
   "metadata": {},
   "outputs": [],
   "source": [
    "df_predicted_properties.count()"
   ]
  },
  {
   "cell_type": "code",
   "execution_count": null,
   "id": "34cd915a-56e1-4798-9421-5b65bceee065",
   "metadata": {},
   "outputs": [],
   "source": [
    "df_predicted_properties.groupby('id').count()"
   ]
  },
  {
   "cell_type": "code",
   "execution_count": null,
   "id": "64dd48c7-26ec-477d-8ab2-55d5f386a3a6",
   "metadata": {},
   "outputs": [],
   "source": [
    "df_predicted_properties"
   ]
  },
  {
   "cell_type": "code",
   "execution_count": null,
   "id": "1b85dace-e64a-4eba-aea5-b9d68bcc27de",
   "metadata": {},
   "outputs": [],
   "source": [
    "# %%time\n",
    "\n",
    "# # Postprocess ventilation values\n",
    "# def resample_and_fill(group):\n",
    "#     # Ensure 'timestamp' is the index for resampling\n",
    "#     group = group.droplevel('id')  # Temporarily drop 'id' to resample 'timestamp'\n",
    "#     group = group.resample('1min').asfreq()  # Resample to 1-minute frequency\n",
    "#     group['predicted_ventilation__dm3_s_1'] = group['predicted_ventilation__dm3_s_1'].ffill(limit=30)\n",
    "#     return group\n",
    "\n",
    "# # Apply the function per 'id'\n",
    "# df_filled = (\n",
    "#     df_predicted_properties\n",
    "#     .groupby(level='id')\n",
    "#     .apply(resample_and_fill)\n",
    "# )\n",
    "\n",
    "# df_predicted_properties = df_filled.reset_index().set_index(['id', 'timestamp'])"
   ]
  },
  {
   "cell_type": "markdown",
   "id": "077da3c8-b75b-4ff3-a8e0-4c8698c8c7b2",
   "metadata": {},
   "source": [
    "#### Process learned parameters"
   ]
  },
  {
   "cell_type": "code",
   "execution_count": null,
   "id": "1360ff9e-a43b-4b81-93e6-1c07cef5813e",
   "metadata": {},
   "outputs": [],
   "source": [
    "print(f\"We learned parameters for {0 if df_learned_parameters_per_period.empty else len(df_learned_parameters_per_period.index.get_level_values('id').unique())} out of {len(df_prep.index.get_level_values('id').unique())} homes\")"
   ]
  },
  {
   "cell_type": "code",
   "execution_count": null,
   "id": "f516f475-0305-4263-a499-bba890781352",
   "metadata": {},
   "outputs": [],
   "source": [
    "with pd.option_context('display.float_format', '{:.2f}'.format):\n",
    "    error_cols = [prop for prop in df_learned_parameters_per_period.columns if prop.startswith('mae_') or prop.startswith('rmse_')]\n",
    "    if error_cols:\n",
    "        display(df_learned_parameters_per_period[error_cols].describe())"
   ]
  },
  {
   "cell_type": "code",
   "execution_count": null,
   "id": "4e5104fb-79b0-42ac-bd65-d88390b0db97",
   "metadata": {},
   "outputs": [],
   "source": [
    "df_learned_parameters_per_period"
   ]
  },
  {
   "cell_type": "code",
   "execution_count": null,
   "id": "82a035ac-f2fd-4097-849a-f0cef93c7b47",
   "metadata": {},
   "outputs": [],
   "source": [
    "# Determine learned parameters \n",
    "if not df_learned_parameters_per_period.empty:\n",
    "    df_learned_parameters = df_learned_parameters_per_period.groupby('id').median()"
   ]
  },
  {
   "cell_type": "code",
   "execution_count": null,
   "id": "ee0645e9-fb0f-4b23-ac0e-c77ba1d22959",
   "metadata": {},
   "outputs": [],
   "source": [
    "if not df_learned_parameters_per_period.empty:\n",
    "    with pd.option_context('display.float_format', '{:.2f}'.format):\n",
    "        display(df_learned_parameters.describe())"
   ]
  },
  {
   "cell_type": "code",
   "execution_count": null,
   "id": "cd8e8977-6a48-44bc-9433-394b2a83c1cf",
   "metadata": {},
   "outputs": [],
   "source": [
    "if not df_learned_parameters_per_period.empty:\n",
    "    # merge learned data into building metadata\n",
    "    df_bldng_data = df_bldng_data.merge(df_learned_parameters[[prop for prop in df_learned_parameters.columns if prop.startswith('learned_')]],\n",
    "                                        how='left',\n",
    "                                        left_on='id',\n",
    "                                        right_index=True\n",
    "                                       )"
   ]
  },
  {
   "cell_type": "code",
   "execution_count": null,
   "id": "fa9668e3-a246-4d01-b64d-37dd35f1381b",
   "metadata": {
    "scrolled": true
   },
   "outputs": [],
   "source": [
    "with pd.option_context('display.float_format', '{:.2f}'.format):\n",
    "    display(df_bldng_data.T)"
   ]
  },
  {
   "cell_type": "code",
   "execution_count": null,
   "id": "ec613037-f1c5-48b7-b260-31611f4555b3",
   "metadata": {},
   "outputs": [],
   "source": [
    "df_bldng_data.to_parquet(home_metadata_file_path, index=True, engine='pyarrow')"
   ]
  },
  {
   "cell_type": "markdown",
   "id": "b0297cb9-0405-46c4-804c-2d30c9aa42ba",
   "metadata": {},
   "source": [
    "#### Process predicted properties"
   ]
  },
  {
   "cell_type": "code",
   "execution_count": null,
   "id": "91d552db-dd76-4a63-9207-89b4fcc5c958",
   "metadata": {},
   "outputs": [],
   "source": [
    "print(f\"We predicted properties for {0 if df_predicted_properties.empty else len(df_predicted_properties.index.get_level_values('id').unique())} out of {len(df_prep.index.get_level_values('id').unique())} homes\")"
   ]
  },
  {
   "cell_type": "code",
   "execution_count": null,
   "id": "ecee3b5b-4348-4b47-a37f-32804307aefd",
   "metadata": {},
   "outputs": [],
   "source": [
    "df_predicted_properties"
   ]
  },
  {
   "cell_type": "code",
   "execution_count": null,
   "id": "c3189f4f-02bb-4201-8818-90b60e73ce6d",
   "metadata": {},
   "outputs": [],
   "source": [
    "Plot.plot_missing_data_overview(df_predicted_properties, df_predicted_properties.columns, freq='1W', title_fontsize=8)"
   ]
  },
  {
   "cell_type": "code",
   "execution_count": null,
   "id": "94b444e1-5407-4afa-838c-ed51fe076179",
   "metadata": {},
   "outputs": [],
   "source": [
    "# Merge predicted properties back into the main DataFrame\n",
    "if not df_predicted_properties.empty:\n",
    "    df_prep = df_prep.drop(columns=df_prep.columns.intersection(df_predicted_properties.columns))\n",
    "    df_prep = df_prep.merge(df_predicted_properties, left_index=True, right_index=True, how=\"left\")"
   ]
  },
  {
   "cell_type": "code",
   "execution_count": null,
   "id": "76d58933-2cb4-4659-9b69-be5495717826",
   "metadata": {},
   "outputs": [],
   "source": [
    "df_prep.columns"
   ]
  },
  {
   "cell_type": "code",
   "execution_count": null,
   "id": "37415e6b-35d4-40d8-9148-d79387a6b566",
   "metadata": {},
   "outputs": [],
   "source": [
    "property_sources['ventilation__dm3_s_1']"
   ]
  },
  {
   "cell_type": "code",
   "execution_count": null,
   "id": "52232aa0-26f4-4050-875a-b92193787924",
   "metadata": {},
   "outputs": [],
   "source": [
    "[property_sources[prop] for prop in predict_props_vent]"
   ]
  },
  {
   "cell_type": "code",
   "execution_count": null,
   "id": "3efa4707-59fb-4f84-a5f9-d7b49bfcf94e",
   "metadata": {},
   "outputs": [],
   "source": [
    "Plot.plot_missing_data_overview(df_prep, properties_include=[property_sources[prop] for prop in predict_props_vent], freq='1W', title_fontsize=8)"
   ]
  },
  {
   "cell_type": "markdown",
   "id": "5c8b7c12-7c98-4c8f-a9ee-1f4b0e0eee1c",
   "metadata": {},
   "source": [
    "## Learn building parameters"
   ]
  },
  {
   "cell_type": "code",
   "execution_count": null,
   "id": "9dcb768b-3afa-4615-a3ac-3918876ba604",
   "metadata": {},
   "outputs": [],
   "source": [
    "# optionally change the selection which property columns in df_prep are used as properties needed by the learning algorithm\n",
    "property_sources = {\n",
    "    'temp_indoor__degC':        'batch_import_remeha_temp_indoor__degC',\n",
    "    'temp_set__degC':           'batch_import_remeha_temp_set__degC',\n",
    "    'comfortable__bool':        'comfortable__bool',\n",
    "    'temp_outdoor__degC':       'batch_import_KNMI_temp_outdoor__degC',\n",
    "    'wind__m_s_1':              'batch_import_KNMI_wind__m_s_1',\n",
    "    'sol_ghi__W_m_2':           'batch_import_KNMI_sol_ghi__W_m_2', \n",
    "    'g_use_ch_hhv__W':          'g_use_fan_ch_hhv__W',\n",
    "    'eta_ch_hhv__W0':           'eta_ch_hhv__W0', \n",
    "    'g_use_dhw_hhv__W':         'g_use_fan_dhw_hhv__W',\n",
    "    'e__W':                     'device_p1-reader_e__W',    \n",
    "    'occupancy__p':             'device_living_room_occupancy__p',\n",
    "    'co2_indoor__ppm':          'device_living_room_co2_indoor__ppm',\n",
    "    'temp_flow__degC':          'batch_import_remeha_temp_flow__degC',\n",
    "    'temp_ret__degC':           'batch_import_remeha_temp_ret__degC',\n",
    "    'temp_flow_ch__degC':       'batch_import_remeha_temp_flow_ch__degC', # choose between interpolated or not depending on needs of the analysis algorithm\n",
    "    'temp_ret_ch__degC':        'batch_import_remeha_temp_ret_ch__degC',  # choose between interpolated or not depending on needs of the analysis algorithm\n",
    "    # 'temp_flow_ch__degC':       'interpolated_batch_import_remeha_temp_flow_ch__degC', # choose between interpolated or not depending on needs of the analysis algorithm\n",
    "    # 'temp_ret_ch__degC':        'interpolated_batch_import_remeha_temp_ret_ch__degC',  # choose between interpolated or not depending on needs of the analysis algorithm\n",
    "    'temp_flow_ch_max__degC':   'batch_import_remeha_temp_flow_ch_max__degC', \n",
    "    'fan_rotations__min_1':     'batch_import_remeha_fan_rotations__min_1', \n",
    "    'fan_speed__pct':           'fan_speed__pct', \n",
    "    'flow_dstr_pump_speed__pct':'batch_import_remeha_flow_dstr_pump_speed__pct',\n",
    "    'temp_dstr__degC':          'temp_dstr__degC', # added to get mae and rmse values\n",
    "    'ventilation__dm3_s_1':     'predicted_ventilation__dm3_s_1', \n",
    "    'temp_flow_ch_set__degC':   'predicted_temp_flow_ch_set__degC',\n",
    "    'heat_ch__W':               'heat_ch__W',\n",
    "}"
   ]
  },
  {
   "cell_type": "code",
   "execution_count": null,
   "id": "8dff4c33-df95-4392-85ed-470d9eafecfe",
   "metadata": {},
   "outputs": [],
   "source": [
    "# use calulated flow setpoint from the thermostat, but if not learnt, set flow setpoint to 60 degC for learning boiler control\n",
    "if property_sources['temp_flow_ch_set__degC'] not in df_prep.columns:\n",
    "    print(\"temp_flow_ch_set__degC temperatures not learned; setting to 60 degrees\")\n",
    "    df_prep[property_sources['temp_flow_ch_set__degC']] = 60 "
   ]
  },
  {
   "cell_type": "code",
   "execution_count": null,
   "id": "21b71565-0332-4e73-ae6d-4ee424f211ac",
   "metadata": {},
   "outputs": [],
   "source": [
    "req_props_bldng = {\n",
    "    'e__W',\n",
    "    'g_use_ch_hhv__W',\n",
    "    'eta_ch_hhv__W0', \n",
    "    'g_use_dhw_hhv__W',\n",
    "    'occupancy__p',\n",
    "    'sol_ghi__W_m_2',\n",
    "    'wind__m_s_1',\n",
    "    'temp_outdoor__degC',\n",
    "    'temp_indoor__degC',\n",
    "    'heat_ch__W', \n",
    "    # 'ventilation__dm3_s_1', \n",
    "    # 'co2_indoor__ppm',\n",
    "    # 'fan_rotations__min_1',\n",
    "    # 'fan_speed__pct',\n",
    "    # 'flow_dstr_pump_speed__pct',\n",
    "}\n",
    "\n",
    "helper_props_bldng = {\n",
    "    'comfortable__bool',  \n",
    "    'temp_set__degC',\n",
    "    'temp_flow_ch_max__degC',\n",
    "    'temp_flow_ch__degC',   \n",
    "    'temp_ret_ch__degC',\n",
    "    'temp_flow_ch_max__degC',\n",
    "    'temp_flow_ch_set__degC',\n",
    "    'temp_flow__degC',\n",
    "    'temp_ret__degC',\n",
    "    'temp_dstr__degC',\n",
    "    'eta_ch_hhv__W0',\n",
    "    # 'comfortable__bool',\n",
    "    # 'fan_speed__pct',\n",
    "    # 'flow_dstr_pump_speed__pct',\n",
    "}\n",
    "\n",
    "learn_params_bldng = {\n",
    "    'heat_tr_bldng_cond__W_K_1',\n",
    "    'th_inert_bldng__h',\n",
    "    'th_mass_bldng__Wh_K_1',\n",
    "    'aperture_sol__m2',\n",
    "    'aperture_inf__cm2',\n",
    "    # 'heat_tr_dstr__W_K_1',\n",
    "    # 'th_mass_dstr__J_K_1',\n",
    "}\n",
    "\n",
    "param_hints_bldng = {\n",
    "    'heat_tr_bldng_cond__W_K_1':    heat_tr_bldng_nl_avg__W_K_1,         # specific heat loss of the building via conduction\n",
    "    'th_inert_bldng__h':            th_inert_bldng_nl_avg__h,            # thermal inertia\n",
    "    'aperture_sol__m2':             aperture_sol_nl_avg__m2,             # apparent solar aperture\n",
    "    'wind_chill__K_s_m_1':          wind_chill_nl_avg__K_s_m_1,          # wind chill factor\n",
    "    'aperture_inf__cm2':            aperture_inf_nl_avg__cm2,            # effective infiltration area \n",
    "    'occupancy__p':                 occupancy_nl_avg__p,                 # house occupancy\n",
    "    'heat_int__W_p_1':              heat_int_nl_avg__W_p_1,              # heat gain per occupant\n",
    "    'eta_ch_hhv__W0':               eta_ch_nl_avg_hhv__W0,               # home heating efficiency of a gas boiler (based on higher heating value)\n",
    "    'eta_dhw_hhv__W0':              eta_dhw_nl_avg_hhv__W0,              # domestic hot water efficiency\n",
    "    'frac_remain_dhw__0':           frac_remain_dhw_nl_avg__0,           # fraction of domestic hot water heat contributing to heating the home\n",
    "    'g_use_cooking_hhv__W':         g_use_cooking_nl_avg_hhv__W,         # gas power (higher heating value) for cooking \n",
    "    'eta_cooking_hhv__W0':          eta_cooking_nl_avg_hhv__W0,          # cooking efficiency\n",
    "    'frac_remain_cooking__0':       frac_remain_cooking_nl_avg__0,       # fraction of cooking heat contributing to heating the home\n",
    "    'heat_tr_dstr__W_K_1':          heat_tr_dstr_nl_avg__W_K_1,          # heat dissipation capacity of the heat distribution system\n",
    "    'th_mass_dstr__Wh_K_1':         th_mass_dstr_nl_avg__Wh_K_1,         # thermal mass of the heat distribution system\n",
    "    'ventilation_default__dm3_s_1': 7.0,                                 # default ventilation rate for the entire home\n",
    "    'ventilation_max__dm3_s_1_m_2': 1.0,                                 # maximum ventilation rate per m2 floor area\n",
    "    'co2_outdoor__ppm':             co2_outdoor_eu_avg_2022__ppm,        # average CO₂ outdoor concentration\n",
    "}\n",
    "\n",
    "learned_params = {'learned_' + param for param in learn_params_bldng}\n",
    "\n",
    "predict_props_bldng = {\n",
    "    'temp_indoor__degC',\n",
    "}\n"
   ]
  },
  {
   "cell_type": "code",
   "execution_count": null,
   "id": "87a3534d-7367-4b47-8262-50cc334bf846",
   "metadata": {},
   "outputs": [],
   "source": [
    "#define the length of the learning period\n",
    "learn_period__d=7\n",
    "# learn_period__d=3\n",
    "\n",
    "#TO DO: check whether minimum_duration__min is really needed for building parameter learning, or whether there is some other threshold effective (make settable?)\n",
    "minimum_duration__min = 60"
   ]
  },
  {
   "cell_type": "code",
   "execution_count": null,
   "id": "43675a9f-ff85-4003-b6d3-ae90ea75382f",
   "metadata": {},
   "outputs": [],
   "source": [
    "Plot.plot_missing_data_overview(df_prep, properties_include=[property_sources[prop] for prop in req_props_bldng & property_sources.keys()], freq='1W', title_fontsize=8)"
   ]
  },
  {
   "cell_type": "code",
   "execution_count": null,
   "id": "ca349de1-6528-4f8c-9c68-68a99cc4fd28",
   "metadata": {},
   "outputs": [],
   "source": [
    "df_prep[[property_sources[prop] for prop in req_props_bldng]].describe().T"
   ]
  },
  {
   "cell_type": "code",
   "execution_count": null,
   "id": "f5d81278-16db-4112-a46c-6269000d1d29",
   "metadata": {},
   "outputs": [],
   "source": [
    "%%time\n",
    "%autoreload 2\n",
    "df_learned_parameters_per_period, df_predicted_properties = Learner.learn_system_parameters(\n",
    "    df_prep,\n",
    "    df_bldng_data=df_bldng_data,\n",
    "    system_model_fn = Model.building,\n",
    "    job_identification_fn = Learner.periodic_learn_list,\n",
    "    property_sources=property_sources,\n",
    "    learn_params=learn_params_bldng,\n",
    "    param_hints=param_hints_bldng,\n",
    "    predict_props=predict_props_bldng,\n",
    "    req_props=req_props_bldng,\n",
    "    helper_props=helper_props_bldng,\n",
    "    duration_threshold=timedelta(minutes=minimum_duration__min),\n",
    "    learn_period__d=learn_period__d,\n",
    "    max_periods=max_periods, # set max_periods to a value other than None, e.g. 100 during testing of learning algorithms\n",
    "    # max_iter=10,\n",
    ")"
   ]
  },
  {
   "cell_type": "code",
   "execution_count": null,
   "id": "5528505d-26b2-40d5-acc0-ec1835a57753",
   "metadata": {},
   "outputs": [],
   "source": [
    "# Primary metric how well the training phase went\n",
    "print(f\"MAE = {df_learned_parameters_per_period['mae_temp_indoor__degC'].mean():.2f} K (Mean Absolute Error of the learning phase)\")"
   ]
  },
  {
   "cell_type": "markdown",
   "id": "7a8f6a01-ce3d-415d-9f9a-dfdf88fe75dd",
   "metadata": {},
   "source": [
    "#### Process learned parameters"
   ]
  },
  {
   "cell_type": "code",
   "execution_count": null,
   "id": "e9c8872e-db2b-452b-af9c-0d4cf791fc7e",
   "metadata": {},
   "outputs": [],
   "source": [
    "print(f\"We learned parameters for {0 if df_learned_parameters_per_period.empty else len(df_learned_parameters_per_period.index.get_level_values('id').unique())} out of {len(df_prep.index.get_level_values('id').unique())} homes\")"
   ]
  },
  {
   "cell_type": "code",
   "execution_count": null,
   "id": "f8624e54-2fe4-4f4c-be81-ed6ceab6cda5",
   "metadata": {},
   "outputs": [],
   "source": [
    "with pd.option_context('display.float_format', '{:.2f}'.format):\n",
    "    error_cols = [prop for prop in df_learned_parameters_per_period.columns if prop.startswith('mae_') or prop.startswith('rmse_')]\n",
    "    if error_cols:\n",
    "        display(df_learned_parameters_per_period[error_cols].describe())"
   ]
  },
  {
   "cell_type": "code",
   "execution_count": null,
   "id": "0e56dd43-5cbb-40af-b12d-c31afee429a3",
   "metadata": {},
   "outputs": [],
   "source": [
    "df_learned_parameters_per_period"
   ]
  },
  {
   "cell_type": "code",
   "execution_count": null,
   "id": "8af9052e-1409-4bef-9e64-39d3de85ba0c",
   "metadata": {},
   "outputs": [],
   "source": [
    "# Determine learned parameters \n",
    "threshold_duration = timedelta(days=1)\n",
    "\n",
    "df_learned_parameters = df_learned_parameters_per_period[df_learned_parameters_per_period.index.get_level_values('duration') >= threshold_duration].groupby('id').median()"
   ]
  },
  {
   "cell_type": "code",
   "execution_count": null,
   "id": "0ef94da0-5311-4431-bb79-3499f40e5cd9",
   "metadata": {},
   "outputs": [],
   "source": [
    "df_learned_parameters"
   ]
  },
  {
   "cell_type": "code",
   "execution_count": null,
   "id": "12104bf3-1e64-4d6f-92df-2b7f08a0346c",
   "metadata": {},
   "outputs": [],
   "source": [
    "if not df_learned_parameters_per_period.empty:\n",
    "    with pd.option_context('display.float_format', '{:.2f}'.format):\n",
    "        display(df_learned_parameters.describe().T)"
   ]
  },
  {
   "cell_type": "code",
   "execution_count": null,
   "id": "cd8eacb9-85a9-4ea0-96b1-0db85caf10f8",
   "metadata": {},
   "outputs": [],
   "source": [
    "property_sources['g_use_ch_hhv__W']"
   ]
  },
  {
   "cell_type": "code",
   "execution_count": null,
   "id": "b8f6ee64-5a4d-4042-ad51-590e630d1e63",
   "metadata": {},
   "outputs": [],
   "source": [
    "df_prep[property_sources['g_use_ch_hhv__W']].describe()"
   ]
  },
  {
   "cell_type": "markdown",
   "id": "e938f3ac-635f-4e78-aa41-7fd34a2c595b",
   "metadata": {},
   "source": [
    "#### Calculate how well parameters were learned"
   ]
  },
  {
   "cell_type": "code",
   "execution_count": null,
   "id": "fd406b1d-3e14-4625-91a4-00bbb3a02f62",
   "metadata": {},
   "outputs": [],
   "source": [
    "# show essential statistics for the errors; all periods per home\n",
    "df_learned_parameters_per_period[['mae_temp_indoor__degC', 'rmse_temp_indoor__degC']].groupby('id').describe().T"
   ]
  },
  {
   "cell_type": "code",
   "execution_count": null,
   "id": "f63cd1b0-5acf-45ca-a070-55469a1135de",
   "metadata": {},
   "outputs": [],
   "source": [
    "list(df_learned_parameters_per_period.columns)\n"
   ]
  },
  {
   "cell_type": "code",
   "execution_count": null,
   "id": "8ed4a938-ad46-4b87-9a4f-9a62e59079df",
   "metadata": {},
   "outputs": [],
   "source": [
    "if not df_learned_parameters_per_period.empty:\n",
    "    for learned_param in df_learned_parameters_per_period:\n",
    "        Plot.nfh_property_per_id_boxplot(df_learned_parameters_per_period, property_col=learned_param)"
   ]
  },
  {
   "cell_type": "code",
   "execution_count": null,
   "id": "9fe36295-22ed-406e-b1c0-d9513808239a",
   "metadata": {},
   "outputs": [],
   "source": [
    "df_bldng_data.T"
   ]
  },
  {
   "cell_type": "code",
   "execution_count": null,
   "id": "b91d85f3-1c40-448a-b85a-4673c445e95d",
   "metadata": {},
   "outputs": [],
   "source": [
    "if not df_learned_parameters_per_period.empty:\n",
    "    # merge learned data into building metadata\n",
    "    df_bldng_data = df_bldng_data.merge(df_learned_parameters[[prop for prop in df_learned_parameters.columns if prop.startswith('learned_')]],\n",
    "                                        how='left',\n",
    "                                        left_on='id',\n",
    "                                        right_index=True\n",
    "                                       )"
   ]
  },
  {
   "cell_type": "code",
   "execution_count": null,
   "id": "8e691703-94b9-4b68-be7c-ba562b5f7f72",
   "metadata": {},
   "outputs": [],
   "source": [
    "# temporary solution\n",
    "if 'learned_aperture_inf__cm2_y' in df_bldng_data.columns:\n",
    "    df_bldng_data.rename(columns={'learned_aperture_inf__cm2_y': 'learned_aperture_inf__cm2'}, inplace=True)"
   ]
  },
  {
   "cell_type": "code",
   "execution_count": null,
   "id": "dff57ef3-1672-48f6-9935-eee566aacf7b",
   "metadata": {},
   "outputs": [],
   "source": [
    "with pd.option_context('display.float_format', '{:.2f}'.format):\n",
    "    display(df_bldng_data.T)"
   ]
  },
  {
   "cell_type": "code",
   "execution_count": null,
   "id": "7947f68d-d70d-4b19-ba22-a14a9a2ca96a",
   "metadata": {},
   "outputs": [],
   "source": [
    "# # Uncomment this code when needed, e.g. when multiple runs are done\n",
    "\n",
    "# # Remove columns that end with '_x'\n",
    "# df_bldng_data = df_bldng_data.loc[:, ~df_bldng_data.columns.str.endswith('_x')]\n",
    "\n",
    "# # Rename columns to remove '_y' postfix\n",
    "# df_bldng_data = df_bldng_data.rename(columns=lambda col: col[:-2] if col.endswith('_y') else col)\n"
   ]
  },
  {
   "cell_type": "code",
   "execution_count": null,
   "id": "4d42272e-716b-463b-89c5-a0623c321415",
   "metadata": {},
   "outputs": [],
   "source": [
    "df_bldng_data.to_parquet(home_metadata_file_path, index=True, engine='pyarrow')"
   ]
  },
  {
   "cell_type": "code",
   "execution_count": null,
   "id": "cee82ab7-90e1-4c9c-bd3d-3e4dcc5913f4",
   "metadata": {},
   "outputs": [],
   "source": [
    "[f\"learned_{col}\" for col in (learn_params_bldng | learn_params_dstr)]"
   ]
  },
  {
   "cell_type": "code",
   "execution_count": null,
   "id": "36df8c50-e0df-440b-a183-cc1f58d43b7c",
   "metadata": {},
   "outputs": [],
   "source": [
    "df_bldng_data.columns"
   ]
  },
  {
   "cell_type": "code",
   "execution_count": null,
   "id": "0f4b5938-412a-47f9-a5fc-bdfa9995acce",
   "metadata": {},
   "outputs": [],
   "source": [
    "df_learned_parameters_per_pseudonym = df_bldng_data[[\n",
    "    'learned_heat_tr_bldng_cond__W_K_1',\n",
    "    'learned_th_mass_bldng__Wh_K_1',\n",
    "    'learned_th_inert_bldng__h',\n",
    "    'learned_aperture_sol__m2',\n",
    "    'learned_aperture_inf__cm2',\n",
    "    'learned_heat_tr_dstr__W_K_1',\n",
    "    'learned_th_mass_dstr__Wh_K_1',\n",
    "    'learned_th_inert_dstr__h',\n",
    "    # 'flow_dstr_slope__dm3_s_1_pct_1',\n",
    "    # 'flow_dstr_intercept__dm3_s_1',\n",
    "    'pump_head_max__m',\n",
    "    # 'flow_dstr_resistance__Pa_dm_6_s2',\n",
    "    'usable_area__m2',\n",
    "    'floor_heating__bool',\n",
    "]].T"
   ]
  },
  {
   "cell_type": "code",
   "execution_count": null,
   "id": "92325e6b-78c5-469f-a2d7-2e1c1192f333",
   "metadata": {},
   "outputs": [],
   "source": [
    "df_learned_parameters_per_pseudonym"
   ]
  },
  {
   "cell_type": "code",
   "execution_count": null,
   "id": "0d1e10ed-c49d-4d1b-9204-7255375e0412",
   "metadata": {},
   "outputs": [],
   "source": [
    "df_learned_parameters_per_pseudonym.to_excel('rhc_learned_parameters_per_pseudonym.xlsx', index=True)"
   ]
  },
  {
   "cell_type": "markdown",
   "id": "9a1f1707-afd0-43cd-9ca1-fa89fd84e3ae",
   "metadata": {},
   "source": [
    "#### Process predicted properties"
   ]
  },
  {
   "cell_type": "code",
   "execution_count": null,
   "id": "c3cd9bd9-e9d4-4476-8406-125ee2fbc3cb",
   "metadata": {},
   "outputs": [],
   "source": [
    "# Merge predicted properties back into the main DataFrame\n",
    "if not df_predicted_properties.empty:\n",
    "    df_prep = df_prep.drop(columns=df_prep.columns.intersection(df_predicted_properties.columns))\n",
    "    df_prep = df_prep.merge(df_predicted_properties, left_index=True, right_index=True, how=\"left\")"
   ]
  },
  {
   "cell_type": "code",
   "execution_count": null,
   "id": "e8212d90-d948-4bb6-9826-eaa326cc49ce",
   "metadata": {},
   "outputs": [],
   "source": [
    "df_prep.columns"
   ]
  },
  {
   "cell_type": "markdown",
   "id": "760c6be9-bfb4-4e8f-a500-3ad8ac0a60b6",
   "metadata": {},
   "source": [
    "#### Display learned averages"
   ]
  },
  {
   "cell_type": "code",
   "execution_count": null,
   "id": "875636b1-7276-49ae-a9e8-2f794e6cad0b",
   "metadata": {},
   "outputs": [],
   "source": [
    "df_learned_parameters.T"
   ]
  },
  {
   "cell_type": "code",
   "execution_count": null,
   "id": "571138b8-9399-4560-bacd-db147b695b35",
   "metadata": {},
   "outputs": [],
   "source": [
    "with pd.option_context('display.float_format', '{:.2f}'.format):\n",
    "    display(df_learned_parameters[[prop for prop in df_learned_parameters.columns if prop.startswith('avg_')]].mean().T)"
   ]
  },
  {
   "cell_type": "code",
   "execution_count": null,
   "id": "5ee4a90f-bf92-4337-ad12-5d77154bfc36",
   "metadata": {},
   "outputs": [],
   "source": [
    "df_prep['heat_ch__W'].mean()"
   ]
  },
  {
   "cell_type": "code",
   "execution_count": null,
   "id": "0ca61e9e-95c2-4fbe-9ba2-eafe333d7d81",
   "metadata": {},
   "outputs": [],
   "source": [
    "df_learned_parameters['avg_g_use_ch_hhv__W'].describe()"
   ]
  },
  {
   "cell_type": "code",
   "execution_count": null,
   "id": "94ebadd5-1c86-467b-a70e-d3c371326a09",
   "metadata": {},
   "outputs": [],
   "source": [
    "(df_learned_parameters['avg_g_use_ch_hhv__W']*df_learned_parameters['avg_eta_ch_hhv__W0'])"
   ]
  },
  {
   "cell_type": "code",
   "execution_count": null,
   "id": "56522c8e-727e-473d-9740-466d94ede777",
   "metadata": {},
   "outputs": [],
   "source": [
    "%%time \n",
    "# Convert all datetime columns to timezone-naive\n",
    "df_learned_parameters_per_period_no_tz = df_learned_parameters_per_period.reset_index(drop=False).apply(lambda x: x.dt.tz_localize(None) if x.dtype.kind == 'M' else x)\n",
    "\n",
    "# Convert 'duration' index level to total seconds\n",
    "df_learned_parameters_per_period_no_tz['duration'] = df_learned_parameters_per_period_no_tz['duration'].dt.total_seconds()\n",
    "\n",
    "# Export to Excel\n",
    "df_learned_parameters_per_period_no_tz.to_excel(rhc_analysis_results_per_period_file, index=False)"
   ]
  },
  {
   "cell_type": "code",
   "execution_count": null,
   "id": "62438459-9bf3-4e02-b017-03c3b451e5fd",
   "metadata": {},
   "outputs": [],
   "source": [
    "%%time \n",
    "df_prep.to_parquet(rhc_analysis_results_file, index=True, engine='pyarrow')"
   ]
  },
  {
   "cell_type": "code",
   "execution_count": null,
   "id": "ec769fff-5d78-4b6c-89c5-59565b07bafc",
   "metadata": {},
   "outputs": [],
   "source": [
    "df_prep.info()"
   ]
  },
  {
   "cell_type": "markdown",
   "id": "e6e24611-2633-4619-8571-8c0e8d21a8a7",
   "metadata": {},
   "source": [
    "# Validate learned parameters \n",
    "using simulations on unseen data"
   ]
  },
  {
   "cell_type": "markdown",
   "id": "730f7438-71bb-451e-a48b-9fb925d09dad",
   "metadata": {},
   "source": [
    "### Optional: Read heat learning results\n",
    "This step can be used to validate without having to re-do the learning."
   ]
  },
  {
   "cell_type": "code",
   "execution_count": null,
   "id": "9c6f78b9-6692-4958-96dd-bcb6e17f49e0",
   "metadata": {},
   "outputs": [],
   "source": [
    "rhc_data_including_predicted_properties_file_path = 'rhc_results_2025-01-26T182144+0100.parquet'"
   ]
  },
  {
   "cell_type": "code",
   "execution_count": null,
   "id": "4f98e505-7297-4208-9642-af105e9f9d45",
   "metadata": {},
   "outputs": [],
   "source": [
    "%%time\n",
    "\n",
    "# Attempt to read the Parquet file\n",
    "try:\n",
    "    df_predicted = pd.read_parquet(\n",
    "        rhc_data_including_predicted_properties_file_path, \n",
    "        engine='pyarrow',\n",
    "        dtype_backend='numpy_nullable'\n",
    "        )\n",
    "    print(\"File was successfully read without specifying compression codec.\")\n",
    "except Exception as e:\n",
    "    print(f\"Error reading file: {e}\")"
   ]
  },
  {
   "cell_type": "code",
   "execution_count": null,
   "id": "476206d9-33cc-48f2-98ad-8b664c31d4dd",
   "metadata": {},
   "outputs": [],
   "source": [
    "df_predicted.info()"
   ]
  },
  {
   "cell_type": "code",
   "execution_count": null,
   "id": "e5b376ec-89a8-4bda-8e28-73d47f8cc168",
   "metadata": {},
   "outputs": [],
   "source": [
    "df_predicted"
   ]
  },
  {
   "cell_type": "markdown",
   "id": "4c322bcd-b49f-4868-b4a5-291aab168432",
   "metadata": {},
   "source": [
    "### Optional: read learned parameters"
   ]
  },
  {
   "cell_type": "code",
   "execution_count": null,
   "id": "007ad0a7-6525-4f53-81d6-9cd7c9ab440f",
   "metadata": {},
   "outputs": [],
   "source": [
    "learned_parameter_file_path = 'learned_parameters_2025-01-26T182641+0100.parquet'"
   ]
  },
  {
   "cell_type": "code",
   "execution_count": null,
   "id": "befaa4f6-40b8-4546-a3dc-008eb44d7cd0",
   "metadata": {},
   "outputs": [],
   "source": [
    "%%time\n",
    "# Attempt to read the Parquet file\n",
    "try:\n",
    "    df_bldng_data = pd.read_parquet(\n",
    "        home_metadata_file_path, \n",
    "        engine='pyarrow',\n",
    "        dtype_backend='numpy_nullable'\n",
    "        )\n",
    "    print(\"File was successfully read without specifying compression codec.\")\n",
    "except Exception as e:\n",
    "    print(f\"Error reading file: {e}\")"
   ]
  },
  {
   "cell_type": "code",
   "execution_count": null,
   "id": "5097943e-572f-472f-a4c2-80395b74f32e",
   "metadata": {},
   "outputs": [],
   "source": [
    "df_bldng_data.describe().T"
   ]
  },
  {
   "cell_type": "markdown",
   "id": "9020aa78-2605-48cf-8a4d-df5b11381ff7",
   "metadata": {},
   "source": [
    "#### Add post_pump_run__pct"
   ]
  },
  {
   "cell_type": "code",
   "execution_count": null,
   "id": "a12b512c-56c5-4a2d-a207-5178b28aa01f",
   "metadata": {},
   "outputs": [],
   "source": [
    "Plot.nfh_property_per_id_boxplot(df_predicted[df_predicted['batch_import_remeha_boiler_status_pump_post_run__bool'] == True]['batch_import_remeha_flow_dstr_pump_speed__pct'].to_frame(), property_col='batch_import_remeha_flow_dstr_pump_speed__pct')"
   ]
  },
  {
   "cell_type": "code",
   "execution_count": null,
   "id": "5a629cb8-e26a-487f-848b-cd3b16990d79",
   "metadata": {},
   "outputs": [],
   "source": [
    "%%time\n",
    "median_pump_speeds = (\n",
    "    df_predicted[df_predicted['batch_import_remeha_boiler_status_pump_post_run__bool'] == True]\n",
    "    ['batch_import_remeha_flow_dstr_pump_speed__pct']\n",
    "    .groupby('id')\n",
    "    .median()\n",
    ")\n"
   ]
  },
  {
   "cell_type": "code",
   "execution_count": null,
   "id": "5c98bef7-d22b-41ac-a69f-0c8aaa45ce67",
   "metadata": {},
   "outputs": [],
   "source": [
    "%%time\n",
    "if 'post_pump_run__pct' not in df_bldng_data.columns:\n",
    "    df_bldng_data['post_pump_run__pct'] = df_bldng_data.index.map(median_pump_speeds)\n"
   ]
  },
  {
   "cell_type": "code",
   "execution_count": null,
   "id": "fd34f478-4f10-4792-9921-35a469c26fe5",
   "metadata": {},
   "outputs": [],
   "source": [
    "with pd.option_context('display.float_format', '{:.2f}'.format):\n",
    "    display(df_bldng_data.sort_values('brand_model').T)"
   ]
  },
  {
   "cell_type": "code",
   "execution_count": null,
   "id": "a8e33f16-ac14-4283-a6c1-859b71cd5240",
   "metadata": {},
   "outputs": [],
   "source": [
    "df_bldng_data.describe().T"
   ]
  },
  {
   "cell_type": "markdown",
   "id": "7e3b29f3-139b-4c19-a3e1-09d916974ad8",
   "metadata": {},
   "source": [
    "### Add parameters not learned per id\n"
   ]
  },
  {
   "cell_type": "markdown",
   "id": "50b3181c-8a4e-4d3b-be33-23e4c9ab2099",
   "metadata": {},
   "source": [
    "#### Add thermostat parameters"
   ]
  },
  {
   "cell_type": "code",
   "execution_count": null,
   "id": "4339b729-7bd4-496e-93d0-f0ec421f15d1",
   "metadata": {},
   "outputs": [],
   "source": [
    "df_bldng_data['thermostat_hysteresis__K'] = 0.1"
   ]
  },
  {
   "cell_type": "markdown",
   "id": "68ac39a9-39e7-45c5-b356-5d1f1a59b88a",
   "metadata": {},
   "source": [
    "#### Add boiler control parameters"
   ]
  },
  {
   "cell_type": "code",
   "execution_count": null,
   "id": "aa50c00c-e426-421f-b897-00e577898cb8",
   "metadata": {},
   "outputs": [],
   "source": [
    "# Boiler control parameters\n",
    "df_bldng_data['fan_rotations_max_gain__pct_min_1'] = 3.0\n",
    "df_bldng_data['error_threshold_delta_t_flow_flowset__K'] = 10 # temperature margin above flow setpoint at which the 'boiler' temporarily shuts down\n",
    "df_bldng_data['flow_dstr_pump_speed_max_gain__pct_min_1'] = 1500 /  (df_bldng_data['fan_max_ch_rotations__min_1'] - df_bldng_data['fan_min_ch_rotations__min_1']) # maximum speed gain in rpm\n",
    "df_bldng_data['error_threshold_delta_t_flow_ret__K'] = 2 # maximum delta_t_flow_ret_K at which the maximum speed gain should be achieved \n"
   ]
  },
  {
   "cell_type": "markdown",
   "id": "278b1f06-5dc0-4e6e-8dfe-1b8496fc84cc",
   "metadata": {},
   "source": [
    "### Define (subsets of) learning periods and (subsets of) home ids to perform the simulations on"
   ]
  },
  {
   "cell_type": "code",
   "execution_count": null,
   "id": "e23b9c41-fa9b-4dfb-8ca9-1bd4f9ea1405",
   "metadata": {},
   "outputs": [],
   "source": [
    "# time mask for core of winter with most data\n",
    "janfebmrt24_mask = ((df_predicted.index.get_level_values('timestamp') >= pd.to_datetime('2024-01-01 00:00:00+01:00')) \n",
    "                    & \n",
    "                    (df_predicted.index.get_level_values('timestamp') < pd.to_datetime('2024-04-01 00:00:00+02:00'))\n",
    "                   )"
   ]
  },
  {
   "cell_type": "code",
   "execution_count": null,
   "id": "a488c3d5-9e79-4015-b5a9-9a3d05791797",
   "metadata": {},
   "outputs": [],
   "source": [
    "# time mask for one week in winter with almost all ids having data\n",
    "febwk3_mask = ((df_predicted.index.get_level_values('timestamp') >= pd.to_datetime('2024-02-18 00:00:00+01:00'))\n",
    "               & \n",
    "               (df_predicted.index.get_level_values('timestamp') < pd.to_datetime('2024-02-25 00:00:00+01:00'))\n",
    "              )\n"
   ]
  },
  {
   "cell_type": "code",
   "execution_count": null,
   "id": "62bed800-3eb5-4487-8ac4-e40fc28bc07b",
   "metadata": {},
   "outputs": [],
   "source": [
    "# time mask for one week in winter with almost all ids having data\n",
    "feb_mask = ((df_predicted.index.get_level_values('timestamp') >= pd.to_datetime('2024-02-01 00:00:00+01:00'))\n",
    "            & \n",
    "            (df_predicted.index.get_level_values('timestamp') < pd.to_datetime('2024-02-29 00:00:00+01:00'))\n",
    "           )\n"
   ]
  },
  {
   "cell_type": "code",
   "execution_count": null,
   "id": "b8cf38a7-f72d-40ad-afcf-b0462b893431",
   "metadata": {},
   "outputs": [],
   "source": [
    "specific_id = 434931\n",
    "specific_ids = [434931, 450298, 495906]"
   ]
  },
  {
   "cell_type": "markdown",
   "id": "098e7d84-6baa-43f3-9508-1f090a84d1ad",
   "metadata": {},
   "source": [
    "### Optional: Restrict the simulation size"
   ]
  },
  {
   "cell_type": "code",
   "execution_count": null,
   "id": "01cfc81e-8b0b-4394-83b4-159774940076",
   "metadata": {
    "tags": []
   },
   "outputs": [],
   "source": [
    "# Slim dataset down for testing (remember work on full df_predicted during final analysis)\n",
    "idx = pd.IndexSlice\n",
    "df_predicted_filtered = df_predicted[febwk3_mask].loc[idx[[specific_id]], :]\n",
    "# df_predicted_filtered = df_predicted[febwk3_mask].loc[idx[specific_ids], :]\n",
    "# df_predicted_filtered = df_predicted[feb_mask].loc[idx[specific_ids], :]                                                                \n",
    "# df_predicted_filtered = df_predicted[janfebmrt24_mask]   "
   ]
  },
  {
   "cell_type": "code",
   "execution_count": null,
   "id": "50256919-eb0c-48be-a863-e82e629bb4d0",
   "metadata": {
    "tags": []
   },
   "outputs": [],
   "source": [
    "max_periods = 10 # set max_periods to a value other than None, e.g. 10 or 100 during testing of learning algorithms\n",
    "# max_periods = 100 # set max_periods to a value other than None, e.g. 10 or 100 during testing of learning algorithms\n",
    "# max_periods = 1000 # set max_periods to a value other than None, e.g. 10 or 100 during testing of learning algorithms\n",
    "# max_periods = None # set max_periods to a None for full learning"
   ]
  },
  {
   "cell_type": "code",
   "execution_count": null,
   "id": "6f6a6c49-483a-4682-9e14-b9478b6b883e",
   "metadata": {},
   "outputs": [],
   "source": [
    "# property_sources = {\n",
    "#     'temp_indoor__degC':        'batch_import_remeha_temp_indoor__degC',\n",
    "#     'temp_set__degC':           'batch_import_remeha_temp_set__degC',\n",
    "#     'comfortable__bool':        'comfortable__bool',\n",
    "#     'temp_outdoor__degC':       'batch_import_KNMI_temp_outdoor__degC',\n",
    "#     'wind__m_s_1':              'batch_import_KNMI_wind__m_s_1',\n",
    "#     'sol_ghi__W_m_2':           'batch_import_KNMI_sol_ghi__W_m_2', \n",
    "#     'g_use_ch_hhv__W':          'g_use_fan_ch_hhv__W',\n",
    "#     'eta_ch_hhv__W0':           'eta_ch_hhv__W0', \n",
    "#     'g_use_dhw_hhv__W':         'g_use_fan_dhw_hhv__W',\n",
    "#     'e__W':                     'device_p1-reader_e__W',    \n",
    "#     'occupancy__p':             'device_living_room_occupancy__p',\n",
    "#     'co2_indoor__ppm':          'device_living_room_co2_indoor__ppm',\n",
    "#     'temp_flow__degC':          'batch_import_remeha_temp_flow__degC',\n",
    "#     'temp_ret__degC':           'batch_import_remeha_temp_ret__degC',\n",
    "#     'temp_flow_ch__degC':       'batch_import_remeha_temp_flow_ch__degC', # choose between interpolated or not depending on needs of the analysis algorithm\n",
    "#     'temp_ret_ch__degC':        'batch_import_remeha_temp_ret_ch__degC',  # choose between interpolated or not depending on needs of the analysis algorithm\n",
    "#     # 'temp_flow_ch__degC':       'interpolated_batch_import_remeha_temp_flow_ch__degC', # choose between interpolated or not depending on needs of the analysis algorithm\n",
    "#     # 'temp_ret_ch__degC':        'interpolated_batch_import_remeha_temp_ret_ch__degC',  # choose between interpolated or not depending on needs of the analysis algorithm\n",
    "#     'temp_flow_ch_max__degC':   'batch_import_remeha_temp_flow_ch_max__degC', \n",
    "#     'fan_rotations__min_1':     'batch_import_remeha_fan_rotations__min_1', \n",
    "#     'fan_speed__pct':           'fan_speed__pct', \n",
    "#     'flow_dstr_pump_speed__pct':'batch_import_remeha_flow_dstr_pump_speed__pct',\n",
    "#     'temp_dstr__degC':          'temp_dstr__degC', # added to get mae and rmse values\n",
    "#     'ventilation__dm3_s_1':     'predicted_ventilation__dm3_s_1', \n",
    "#     'temp_flow_ch_set__degC':   'predicted_temp_flow_ch_set__degC',\n",
    "#     'heat_ch__W':               'heat_ch__W',\n",
    "# }"
   ]
  },
  {
   "cell_type": "code",
   "execution_count": null,
   "id": "239432aa-4ff9-4924-9adc-a47de51548aa",
   "metadata": {},
   "outputs": [],
   "source": [
    "# optionally change the selection which property columns in df_predicted_filtered are used as properties needed by the learning algorithm\n",
    "property_sources = {\n",
    "    'temp_indoor__degC':        'batch_import_remeha_temp_indoor__degC',\n",
    "    'temp_set__degC':           'batch_import_remeha_temp_set__degC',\n",
    "    'temp_flow_ch_max__degC':   'batch_import_remeha_temp_flow_ch_max__degC', \n",
    "    'temp_outdoor__degC':       'batch_import_KNMI_temp_outdoor__degC',\n",
    "    'wind__m_s_1':              'batch_import_KNMI_wind__m_s_1',\n",
    "    'sol_ghi__W_m_2':           'batch_import_KNMI_sol_ghi__W_m_2', \n",
    "    'air_outdoor__Pa':          'batch_import_KNMI_air_outdoor__Pa', \n",
    "    'gas_std_hhv__J_m_3':       'batch_import_EDSN_actual_gas_std_hhv__J_m_3',\n",
    "    'g_use_dhw_hhv__W':         'g_use_fan_dhw_hhv__W',\n",
    "    'e__W':                     'device_p1-reader_e__W',    \n",
    "    'occupancy__p':             'device_living_room_occupancy__p',\n",
    "    'fan_rotations__min_1':     'batch_import_remeha_fan_rotations__min_1',        # needed for initial value only\n",
    "    'temp_flow_ch__degC':       'batch_import_remeha_temp_flow_ch__degC',          # needed for initial value only\n",
    "    'temp_ret_ch__degC':        'batch_import_remeha_temp_ret_ch__degC',           # needed for initial value only\n",
    "    'flow_dstr_pump_speed__pct':'batch_import_remeha_flow_dstr_pump_speed__pct',   # needed for initial value only\n",
    "}"
   ]
  },
  {
   "cell_type": "code",
   "execution_count": null,
   "id": "468746ed-da67-4dd2-9add-b778f50b2111",
   "metadata": {},
   "outputs": [],
   "source": [
    "req_props_sim = {\n",
    "    'e__W',\n",
    "    'g_use_dhw_hhv__W',\n",
    "    'occupancy__p',\n",
    "    'sol_ghi__W_m_2',\n",
    "    'wind__m_s_1',\n",
    "    'air_outdoor__Pa',\n",
    "    'gas_std_hhv__J_m_3',\n",
    "    'temp_set__degC',\n",
    "    'temp_outdoor__degC',\n",
    "    'temp_indoor__degC',\n",
    "    'temp_flow_ch_max__degC',\n",
    "    # 'ventilation__dm3_s_1', \n",
    "}\n",
    "\n",
    "helper_props_sim = {\n",
    "    'fan_rotations__min_1',\n",
    "    'flow_dstr_pump_speed__pct',\n",
    "    'temp_flow_ch__degC',\n",
    "    'temp_ret_ch__degC',\n",
    "    # 'temp_flow_ch_set__degC',\n",
    "}\n",
    "\n",
    "param_hints_sim = {\n",
    "    'heat_tr_bldng_cond__W_K_1':    heat_tr_bldng_nl_avg__W_K_1,         # specific heat loss of the building via conduction\n",
    "    'th_inert_bldng__h':            th_inert_bldng_nl_avg__h,            # thermal inertia\n",
    "    'aperture_sol__m2':             aperture_sol_nl_avg__m2,             # apparent solar aperture\n",
    "    'wind_chill__K_s_m_1':          wind_chill_nl_avg__K_s_m_1,          # wind chill factor\n",
    "    'aperture_inf__cm2':            aperture_inf_nl_avg__cm2,            # effective infiltration area \n",
    "    'occupancy__p':                 occupancy_nl_avg__p,                 # house occupancy\n",
    "    'heat_int__W_p_1':              heat_int_nl_avg__W_p_1,              # heat gain per occupant\n",
    "    'eta_ch_hhv__W0':               eta_ch_nl_avg_hhv__W0,               # home heating efficiency of a gas boiler (based on higher heating value)\n",
    "    'eta_dhw_hhv__W0':              eta_dhw_nl_avg_hhv__W0,              # domestic hot water efficiency\n",
    "    'frac_remain_dhw__0':           frac_remain_dhw_nl_avg__0,           # fraction of domestic hot water heat contributing to heating the home\n",
    "    'g_use_cooking_hhv__W':         g_use_cooking_nl_avg_hhv__W,         # gas power (higher heating value) for cooking \n",
    "    'eta_cooking_hhv__W0':          eta_cooking_nl_avg_hhv__W0,          # cooking efficiency\n",
    "    'frac_remain_cooking__0':       frac_remain_cooking_nl_avg__0,       # fraction of cooking heat contributing to heating the home\n",
    "    'heat_tr_dstr__W_K_1':          heat_tr_dstr_nl_avg__W_K_1,          # heat dissipation capacity of the heat distribution system\n",
    "    'th_mass_dstr__Wh_K_1':         th_mass_dstr_nl_avg__Wh_K_1,         # thermal mass of the heat distribution system\n",
    "    'ventilation_default__dm3_s_1': 7.0,                                 # default ventilation rate for the entire home\n",
    "    'ventilation_max__dm3_s_1_m_2': 1.0,                                 # maximum ventilation rate per m2 floor area\n",
    "    'co2_outdoor__ppm':             co2_outdoor_eu_avg_2022__ppm,        # average CO₂ outdoor concentration\n",
    "}\n",
    "\n",
    "predict_props_sim = {\n",
    "    'temp_flow_ch_set__degC',\n",
    "    'fan_speed__pct',\n",
    "    'flow_dstr_pump_speed__pct',\n",
    "    'gas_load__pct',\n",
    "    'eta_ch_hhv__W0',\n",
    "    'heat_ch__W',\n",
    "    'temp_flow_ch__degC',\n",
    "    'temp_ret_ch__deg',\n",
    "    'temp_dstr__degC',\n",
    "    'flow_dstr__dm3_s_1',\n",
    "    'heat_dstr__W',\n",
    "    'temp_indoor__degC',\n",
    "}\n"
   ]
  },
  {
   "cell_type": "code",
   "execution_count": null,
   "id": "bdc766bb-9f63-49f2-a973-cdc7cd527686",
   "metadata": {},
   "outputs": [],
   "source": [
    "#define the length of the learning period\n",
    "learn_period__d=7\n",
    "# learn_period__d=3\n",
    "\n",
    "#TO DO: check whether minimum_duration__min is really needed for building parameter learning, or whether there is some other threshold effective (make settable?)\n",
    "minimum_duration__min = 60"
   ]
  },
  {
   "cell_type": "code",
   "execution_count": null,
   "id": "7bd29a8e-5acd-41e4-bb83-2c32fada1168",
   "metadata": {},
   "outputs": [],
   "source": [
    "Plot.plot_missing_data_overview(df_predicted_filtered, properties_include=[property_sources[prop] for prop in req_props_sim & property_sources.keys()], freq='1W', title_fontsize=8)"
   ]
  },
  {
   "cell_type": "code",
   "execution_count": null,
   "id": "d39a519e-a1ff-46f1-a1b7-9635c1e16cba",
   "metadata": {},
   "outputs": [],
   "source": [
    "df_predicted_filtered[[property_sources[prop] for prop in req_props_sim | helper_props_sim]].describe().T"
   ]
  },
  {
   "cell_type": "code",
   "execution_count": null,
   "id": "4947a7c2-2101-4e80-897d-3b6dbbced648",
   "metadata": {},
   "outputs": [],
   "source": [
    "%%time\n",
    "%autoreload 2\n",
    "df_learned_parameters_per_period, df_predicted_properties = Learner.learn_system_parameters(\n",
    "    df_predicted_filtered,\n",
    "    df_bldng_data=df_bldng_data,\n",
    "    system_model_fn = Simulator.integrated_model,\n",
    "    job_identification_fn = Learner.periodic_learn_list,\n",
    "    property_sources=property_sources,\n",
    "    learn_params=None,\n",
    "    param_hints=param_hints_sim,\n",
    "    predict_props=predict_props_sim,\n",
    "    req_props=req_props_sim,\n",
    "    helper_props=helper_props_sim,\n",
    "    duration_threshold=timedelta(minutes=minimum_duration__min),\n",
    "    learn_period__d=learn_period__d,\n",
    "    max_periods=max_periods, # set max_periods to a value other than None, e.g. 100 during testing of learning algorithms\n",
    "    # max_iter=10,\n",
    ")"
   ]
  },
  {
   "cell_type": "markdown",
   "id": "410ff5f0-20dc-4d56-8ffe-96312e6e2fc9",
   "metadata": {},
   "source": [
    "# Scenario analysis"
   ]
  },
  {
   "cell_type": "markdown",
   "id": "d142baa3-ed4d-4bcd-b44f-c260a52c8acb",
   "metadata": {},
   "source": [
    "## Add correction factors to make periods comparable"
   ]
  },
  {
   "cell_type": "code",
   "execution_count": null,
   "id": "0c56f23a-dc1c-4234-9ba0-6e04834d84ad",
   "metadata": {},
   "outputs": [],
   "source": [
    "df_results_per_period = df_learned_parameters_per_period"
   ]
  },
  {
   "cell_type": "code",
   "execution_count": null,
   "id": "c494e151-3e4e-432a-bd36-ec4713c387ec",
   "metadata": {},
   "outputs": [],
   "source": [
    "# Calculate period length in seconds using the 'end' and 'start' MultiIndex levels\n",
    "df_results_per_period['duration__s'] = df_results_per_period.index.get_level_values('duration').total_seconds()"
   ]
  },
  {
   "cell_type": "code",
   "execution_count": null,
   "id": "54d883b9-88a8-49a4-ab98-628af5f1c040",
   "metadata": {},
   "outputs": [],
   "source": [
    "# Calculate total period duration per `id`\n",
    "total_duration__s = df_results_per_period.groupby('id')['duration__s'].transform('sum')"
   ]
  },
  {
   "cell_type": "code",
   "execution_count": null,
   "id": "e207f1cc-0051-409d-a1a1-0690f05a2784",
   "metadata": {},
   "outputs": [],
   "source": [
    "# Calculate `period_avg_int_heat__K`, `period_avg_inf_chill__K`, and `period_avg_vent_chill__K` with division by `learned_heat_tr_bldng_cond__W_K_1`\n",
    "df_results_per_period['period_avg_int_heat__K'] = np.where(\n",
    "    df_results_per_period['learned_heat_tr_bldng_cond__W_K_1'] != 0,\n",
    "    df_results_per_period['avg_heat_int__W'] / df_results_per_period['learned_heat_tr_bldng_cond__W_K_1'],\n",
    "    np.nan\n",
    ")\n",
    "\n",
    "df_results_per_period['period_avg_inf_chill__K'] = np.where(\n",
    "    df_results_per_period['learned_heat_tr_bldng_cond__W_K_1'] != 0,\n",
    "    df_results_per_period['avg_heat_loss_bldng_inf__W'] / df_results_per_period['learned_heat_tr_bldng_cond__W_K_1'],\n",
    "    np.nan\n",
    ")\n",
    "\n",
    "df_results_per_period['period_avg_vent_chill__K'] = np.where(\n",
    "    df_results_per_period['learned_heat_tr_bldng_cond__W_K_1'] != 0,\n",
    "    df_results_per_period['avg_heat_loss_bldng_vent__W'] / df_results_per_period['learned_heat_tr_bldng_cond__W_K_1'],\n",
    "    np.nan\n",
    ")"
   ]
  },
  {
   "cell_type": "code",
   "execution_count": null,
   "id": "9f1114c9-78f9-41f6-9505-060b8c89cbee",
   "metadata": {},
   "outputs": [],
   "source": [
    "# Calculate the weighted sums\n",
    "df_results_per_period['int_heat__K_s'] = df_results_per_period['period_avg_int_heat__K'] * df_results_per_period['duration__s']\n",
    "df_results_per_period['inf_chill__K_s'] = df_results_per_period['period_avg_inf_chill__K'] * df_results_per_period['duration__s']\n",
    "df_results_per_period['vent_chill__K_s'] = df_results_per_period['period_avg_vent_chill__K'] * df_results_per_period['duration__s']\n",
    "df_results_per_period['temp_outdoor__degC_s'] = df_results_per_period['avg_temp_outdoor__degC'] * df_results_per_period['duration__s']"
   ]
  },
  {
   "cell_type": "code",
   "execution_count": null,
   "id": "297e7d9f-23a9-4064-8039-7022ab359222",
   "metadata": {},
   "outputs": [],
   "source": [
    "# Calculate time-weighted averages by dividing the weighted sums by `total_duration__s`\n",
    "df_results_per_period['all_periods_avg_int_heat__K'] = df_results_per_period.groupby('id')['int_heat__K_s'].transform('sum') / total_duration__s\n",
    "df_results_per_period['all_periods_avg_inf_chill__K'] = df_results_per_period.groupby('id')['inf_chill__K_s'].transform('sum') / total_duration__s\n",
    "df_results_per_period['all_periods_avg_vent_chill__K'] = df_results_per_period.groupby('id')['vent_chill__K_s'].transform('sum') / total_duration__s\n",
    "df_results_per_period['all_periods_avg_temp_outdoor__degC'] = df_results_per_period.groupby('id')['temp_outdoor__degC_s'].transform('sum') / total_duration__s"
   ]
  },
  {
   "cell_type": "code",
   "execution_count": null,
   "id": "779db89b-883b-4f5f-a94c-f585a0d32183",
   "metadata": {},
   "outputs": [],
   "source": [
    "# Calculate period heat demand\n",
    "df_results_per_period['period_heat_demand__K'] = (\n",
    "    df_results_per_period['avg_indoor_outdoor_delta__K'] +\n",
    "    df_results_per_period['period_avg_inf_chill__K'] +\n",
    "    df_results_per_period['period_avg_vent_chill__K'] -\n",
    "    df_results_per_period['period_avg_int_heat__K']\n",
    ").clip(lower=0)"
   ]
  },
  {
   "cell_type": "code",
   "execution_count": null,
   "id": "78c8dc04-2cf3-4385-b32b-538eb1ea955d",
   "metadata": {},
   "outputs": [],
   "source": [
    "# Calculate period corrected heat demand \n",
    "df_results_per_period['corrected_heat_demand__K'] = (\n",
    "    df_results_per_period['avg_indoor_outdoor_delta__K'] +\n",
    "    df_results_per_period['all_periods_avg_inf_chill__K'] +\n",
    "    df_results_per_period['all_periods_avg_vent_chill__K'] -\n",
    "    df_results_per_period['all_periods_avg_int_heat__K'] +\n",
    "    (df_results_per_period['avg_temp_outdoor__degC'] - df_results_per_period['all_periods_avg_temp_outdoor__degC'])\n",
    ").clip(lower=0)"
   ]
  },
  {
   "cell_type": "code",
   "execution_count": null,
   "id": "378ee073-9dbd-492c-b265-799c9eb67c32",
   "metadata": {},
   "outputs": [],
   "source": [
    "# Calculate the correction factor, avoiding division by zero\n",
    "df_results_per_period['energy_ch_correction_factor__0'] = np.where(\n",
    "    df_results_per_period['period_heat_demand__K'] != 0,\n",
    "    df_results_per_period['corrected_heat_demand__K'] / df_results_per_period['period_heat_demand__K'],\n",
    "    1.0  # Default to 1.0 if period_heat_demand__K is zero to avoid division by zero\n",
    ")"
   ]
  },
  {
   "cell_type": "code",
   "execution_count": null,
   "id": "40555a7e-77e3-4b11-9128-5f34fa606fde",
   "metadata": {},
   "outputs": [],
   "source": [
    "# Apply the correction factor to calculate corrected_avg_energy_ch__W and corrected_avg_co2_ch__g_s_1\n",
    "df_results_per_period['corrected_avg_energy_ch__W'] = (\n",
    "    df_results_per_period['avg_energy_ch__W'] * df_results_per_period['energy_ch_correction_factor__0']\n",
    ")\n",
    "df_results_per_period['corrected_avg_co2_ch__g_s_1'] = (\n",
    "    df_results_per_period['avg_co2_ch__g_s_1'] * df_results_per_period['energy_ch_correction_factor__0']\n",
    ")"
   ]
  },
  {
   "cell_type": "code",
   "execution_count": null,
   "id": "33cdeb7f-debd-46e2-861d-707f8410c494",
   "metadata": {},
   "outputs": [],
   "source": [
    "with pd.option_context('display.float_format', '{:.2f}'.format):\n",
    "    display(df_results_per_period.describe().T)\n"
   ]
  },
  {
   "cell_type": "code",
   "execution_count": null,
   "id": "5184eecd-9f1f-4d54-a746-72646c0ed9c9",
   "metadata": {},
   "outputs": [],
   "source": [
    "# Optionally drop intermediate columns for a clean final DataFrame\n",
    "# df_results_per_period = df_results_per_period.drop(columns=['period_avg_int_heat__K', 'period_avg_inf_chill__K', 'period_avg_vent_chill__K',\n",
    "#                                                             'int_heat__K_s', 'inf_chill__K_s', 'vent_chill__K_s', 'temp_outdoor__degC_s',\n",
    "#                                                             'heat_demand__K', 'corrected_heat_demand__K'])"
   ]
  },
  {
   "cell_type": "markdown",
   "id": "de343374-4924-4b68-932d-9295f2106e76",
   "metadata": {},
   "source": [
    "## Visualize learned parameters (boxplots per id to illustrate variability)"
   ]
  },
  {
   "cell_type": "code",
   "execution_count": null,
   "id": "e33ff9b5-eb3c-4026-abc2-1b2d5b44ffa0",
   "metadata": {},
   "outputs": [],
   "source": [
    "df_results_per_period[list(learned_params)].describe().T"
   ]
  },
  {
   "cell_type": "code",
   "execution_count": null,
   "id": "cf59db2f-a7cf-4064-8433-1deb29f0c360",
   "metadata": {},
   "outputs": [],
   "source": [
    "df_results_per_period[list(learned_params)].groupby('id').describe().T"
   ]
  },
  {
   "cell_type": "code",
   "execution_count": null,
   "id": "6bd1cdec-902d-4382-a99e-8ae3d4230cdb",
   "metadata": {
    "scrolled": true
   },
   "outputs": [],
   "source": [
    "for learned_param in learned_params:\n",
    "    Plot.nfh_property_per_id_boxplot(df_results_per_period, property_col=learned_param)"
   ]
  },
  {
   "cell_type": "markdown",
   "id": "5449c5bd-9446-4814-82bb-da2a228bc27b",
   "metadata": {},
   "source": [
    "### Visualization of predicted temperatures"
   ]
  },
  {
   "cell_type": "code",
   "execution_count": null,
   "id": "abeff269-5495-4919-a4c6-7907ae0d9330",
   "metadata": {},
   "outputs": [],
   "source": [
    "df_prep['predicted_temp_indoor__degC'].groupby('id').count().to_frame().T"
   ]
  },
  {
   "cell_type": "code",
   "execution_count": null,
   "id": "d6e31980-2133-40d0-b584-60cb1e6be84d",
   "metadata": {},
   "outputs": [],
   "source": [
    "if 'ventilation__dm3_s_1' in predict_props_bldng:\n",
    "    display(df_prep['predicted_ventilation__dm3_s_1'].groupby('id').count().to_frame().T)\n",
    "    display(df_prep['predicted_ventilation__dm3_s_1'].groupby('id').describe().T)"
   ]
  },
  {
   "cell_type": "code",
   "execution_count": null,
   "id": "4eab0dcf-9be7-4d16-8960-0a12a65c157b",
   "metadata": {},
   "outputs": [],
   "source": [
    "if 'ventilation__dm3_s_1' in predict_props_bldng:\n",
    "    display(df_prep['predicted_ventilation__dm3_s_1'])"
   ]
  },
  {
   "cell_type": "code",
   "execution_count": null,
   "id": "29d4dd2f-1659-438b-911d-a4cb3f5edd4f",
   "metadata": {},
   "outputs": [],
   "source": [
    "#Plot only temperatures from all sources for all ids\n",
    "if 'ventilation__dm3_s_1' in predict_props_bldng:\n",
    "    Plot.dataframe_preprocessed_plot(df_prep[['batch_import_remeha_temp_indoor__degC', 'predicted_temp_indoor__degC', 'predicted_ventilation__dm3_s_1']].xs(specific_id, level='id', drop_level=False), units_to_mathtext)\n",
    "else:\n",
    "    Plot.dataframe_preprocessed_plot(df_prep[['batch_import_remeha_temp_indoor__degC', 'predicted_temp_indoor__degC']].xs(specific_id, level='id', drop_level=False), units_to_mathtext)"
   ]
  },
  {
   "cell_type": "markdown",
   "id": "0b2a556e-57d9-4500-8d48-3942d48cd2df",
   "metadata": {},
   "source": [
    "## Visualize calculated metrics for Energy Case, Comfort Case and Carbon Case"
   ]
  },
  {
   "cell_type": "code",
   "execution_count": null,
   "id": "e0073adf-fe5d-4d8d-9143-8ffbd54991bb",
   "metadata": {},
   "outputs": [],
   "source": [
    "metrics = {\n",
    "    'corrected_avg_energy_ch__W',\n",
    "    'avg_comfortable__0',\n",
    "    'corrected_avg_co2_ch__g_s_1'\n",
    "}"
   ]
  },
  {
   "cell_type": "code",
   "execution_count": null,
   "id": "e60b7be6-eda2-46eb-8858-127cae2294d5",
   "metadata": {},
   "outputs": [],
   "source": [
    "df_results_per_period[list(metrics & set(df_results_per_period.columns))].groupby('id').describe().T"
   ]
  },
  {
   "cell_type": "markdown",
   "id": "c6678853-eea3-4356-82f2-eae80d72ec91",
   "metadata": {},
   "source": [
    "## Analyze and visualize intervention A1: change thermostat program"
   ]
  },
  {
   "cell_type": "code",
   "execution_count": null,
   "id": "15c1a7e6-9538-4d6e-b660-93b24f6b3063",
   "metadata": {},
   "outputs": [],
   "source": [
    "# Load the regime change data from Excel\n",
    "regime_changes_A1 = pd.read_excel(regime_change_A1_file_path)"
   ]
  },
  {
   "cell_type": "code",
   "execution_count": null,
   "id": "76614a8e-7ad9-4823-84d6-e5f170c18c9e",
   "metadata": {},
   "outputs": [],
   "source": [
    "# Convert the program change datetime to a datetime object only if the datetime and timezone values are non-empty\n",
    "regime_changes_A1['A_thermostat_program_change_datetime'] = pd.to_datetime(\n",
    "    regime_changes_A1['A_thermostat_program_change_datetime'], errors='coerce'\n",
    ")\n",
    "\n",
    "# Apply timezone localization conditionally\n",
    "regime_changes_A1['A_thermostat_program_change_datetime'] = regime_changes_A1.apply(\n",
    "    lambda row: row['A_thermostat_program_change_datetime'].tz_localize(row['timezone'])\n",
    "    if pd.notna(row['A_thermostat_program_change_datetime']) and pd.notna(row['timezone'])\n",
    "    else row['A_thermostat_program_change_datetime'],\n",
    "    axis=1\n",
    ")"
   ]
  },
  {
   "cell_type": "code",
   "execution_count": null,
   "id": "0e9c8035-4203-4e33-ba65-a9c07418850a",
   "metadata": {},
   "outputs": [],
   "source": [
    "regime_changes_A1 = regime_changes_A1.drop(columns=['timezone'])"
   ]
  },
  {
   "cell_type": "code",
   "execution_count": null,
   "id": "ed028f0d-d44e-44b6-8d73-2f50b38eb2eb",
   "metadata": {},
   "outputs": [],
   "source": [
    "regime_changes_A1['regime_sequence_number'] = regime_changes_A1.groupby('id').cumcount() + 1"
   ]
  },
  {
   "cell_type": "code",
   "execution_count": null,
   "id": "203a5113-da9f-4dfa-a4c6-17892ea347fc",
   "metadata": {},
   "outputs": [],
   "source": [
    "regime_changes_A1"
   ]
  },
  {
   "cell_type": "code",
   "execution_count": null,
   "id": "8842640b-c75a-421f-8fe9-2e51f4fd4f39",
   "metadata": {},
   "outputs": [],
   "source": [
    "df_results_per_period"
   ]
  },
  {
   "cell_type": "code",
   "execution_count": null,
   "id": "5c4cde12-67ec-4530-85f7-51ec3b3025d2",
   "metadata": {},
   "outputs": [],
   "source": [
    "# Label results per period with regime sequence numbers, if there was no regime change in the period\n",
    "\n",
    "# Initialize the regime_sequence_number column\n",
    "df_results_per_period['regime_sequence_number'] = None\n",
    "\n",
    "# reset index\n",
    "df_results_per_period = df_results_per_period.reset_index()\n",
    "\n",
    "# Loop over each row in df_results_per_period\n",
    "for index, row in df_results_per_period.iterrows():\n",
    "    # Get the current id, start, and end for the row\n",
    "    current_id = row['id']\n",
    "    start_time = row['start']\n",
    "    end_time = row['end']\n",
    "    duration = row['duration']\n",
    "\n",
    "    # Check for regime changes within the interval\n",
    "    regime_changes = regime_changes_A1[\n",
    "        (regime_changes_A1['id'] == current_id) &\n",
    "        (regime_changes_A1['A_thermostat_program_change_datetime'] >= start_time) &\n",
    "        (regime_changes_A1['A_thermostat_program_change_datetime'] <= end_time)\n",
    "    ]\n",
    "\n",
    "    # If there are regime changes, do not assign a regime sequence number\n",
    "    if not regime_changes.empty:\n",
    "        continue  # Skip assigning a regime sequence number for this interval\n",
    "\n",
    "    # If there are no regime changes, find the latest regime sequence number before the start\n",
    "    latest_regime = regime_changes_A1[\n",
    "        (regime_changes_A1['id'] == current_id) &\n",
    "        (regime_changes_A1['A_thermostat_program_change_datetime'] <= start_time)\n",
    "    ].sort_values(by='A_thermostat_program_change_datetime', ascending=False)\n",
    "\n",
    "    # Assign the regime sequence number if found\n",
    "    if not latest_regime.empty:\n",
    "        df_results_per_period.at[index, 'regime_sequence_number'] = latest_regime.iloc[0]['regime_sequence_number']\n",
    "\n",
    "\n",
    "\n",
    "# Convert the regime_sequence_number column to integers\n",
    "df_results_per_period['regime_sequence_number'] = pd.to_numeric(df_results_per_period['regime_sequence_number'], downcast='integer')\n",
    "\n",
    "# restore the index\n",
    "df_results_per_period = df_results_per_period.set_index(['id', 'start', 'end', 'duration'])"
   ]
  },
  {
   "cell_type": "code",
   "execution_count": null,
   "id": "f16b1a3f-709f-47ac-9491-e52d15d45b22",
   "metadata": {},
   "outputs": [],
   "source": [
    "regime_changes_A1[['id', 'regime_sequence_number']].groupby('id').describe()"
   ]
  },
  {
   "cell_type": "code",
   "execution_count": null,
   "id": "0f93497f-62ed-452b-ad7c-dfa017dc58a3",
   "metadata": {},
   "outputs": [],
   "source": [
    "df_results_per_period[['regime_sequence_number']].groupby('id').describe()"
   ]
  },
  {
   "cell_type": "code",
   "execution_count": null,
   "id": "55afb2d9-0613-49f3-a2f7-2387392f8533",
   "metadata": {},
   "outputs": [],
   "source": [
    "# Group by 'id' and calculate standard deviation for 'regime_sequence_number'\n",
    "std_values = regime_changes_A1.groupby('id')['regime_sequence_number'].std()\n",
    "\n",
    "# Filter the ids where std > 0\n",
    "id_mask_intervention_A1 = std_values[std_values > 0].index.tolist()"
   ]
  },
  {
   "cell_type": "code",
   "execution_count": null,
   "id": "4ff91698-7486-4259-b74c-41de824b53b9",
   "metadata": {},
   "outputs": [],
   "source": [
    "df_results_per_period.columns.to_list()"
   ]
  },
  {
   "cell_type": "code",
   "execution_count": null,
   "id": "e29c2c19-cba2-4814-8ac9-ccdcbe5807d2",
   "metadata": {},
   "outputs": [],
   "source": [
    "intervention_results_columns_a1 = {\n",
    "    'regime_sequence_number',\n",
    "    'duration__s',\n",
    "    'avg_temp_set__degC',\n",
    "    'avg_temp_indoor__degC',\n",
    "    'avg_temp_outdoor__degC',\n",
    "    'avg_energy_ch__W',\n",
    "    'avg_co2_ch__g_s_1'\n",
    "} | metrics"
   ]
  },
  {
   "cell_type": "code",
   "execution_count": null,
   "id": "cbf03646-a27e-424e-8111-bbae555e7bd0",
   "metadata": {},
   "outputs": [],
   "source": [
    "df_results_per_a1_intervention = (df_results_per_period[df_results_per_period.index.get_level_values('id').isin(id_mask_intervention_A1)][list(intervention_results_columns_a1)]\n",
    "                                  .reset_index()\n",
    "                                  .dropna(subset=['regime_sequence_number'])  # Drop rows where 'regime_sequence_number' is NaN\n",
    "                                  .dropna(subset=metrics) # Drop rows where any of the metrics is NaN\n",
    "                                  .set_index(['id', 'regime_sequence_number', 'start', 'end']))"
   ]
  },
  {
   "cell_type": "code",
   "execution_count": null,
   "id": "967befdd-9fbe-46cd-b57b-5f2d816ec2d2",
   "metadata": {},
   "outputs": [],
   "source": [
    "df_results_per_a1_intervention"
   ]
  },
  {
   "cell_type": "code",
   "execution_count": null,
   "id": "60ce6ea5-e49d-4025-819a-5b5894734ec9",
   "metadata": {},
   "outputs": [],
   "source": [
    "homes_with_thermostat_program_change = df_results_per_a1_intervention.index.get_level_values('id').unique().size\n",
    "print(f\"Number of homes that did a thermostat program change: {homes_with_thermostat_program_change}\")\n",
    "thermostat_programs_in_homes_with_thermostat_change = df_results_per_a1_intervention.index.to_frame(index=False)[['id', 'regime_sequence_number']].drop_duplicates().size\n",
    "print(f\"Number of thermostat programs of these homes: {thermostat_programs_in_homes_with_thermostat_change}\")\n",
    "if homes_with_thermostat_program_change >0:\n",
    "    print(f\"Average number of thermostat programs in homes with thermostat program change: {thermostat_programs_in_homes_with_thermostat_change/homes_with_thermostat_program_change}\")"
   ]
  },
  {
   "cell_type": "markdown",
   "id": "eb217688-c2a2-4a9b-a578-5ff52179ce57",
   "metadata": {},
   "source": [
    "### Filter out learning periods that don't cover a full thermostat program "
   ]
  },
  {
   "cell_type": "code",
   "execution_count": null,
   "id": "028095b5-2df2-4cae-8f57-0cbcb0043bcc",
   "metadata": {},
   "outputs": [],
   "source": [
    "df_results_per_a1_intervention['duration__d'] = df_results_per_a1_intervention['duration__s'] / s_d_1"
   ]
  },
  {
   "cell_type": "code",
   "execution_count": null,
   "id": "aba52f04-63f4-43be-9f21-3546725f06dc",
   "metadata": {},
   "outputs": [],
   "source": [
    "df_results_per_a1_intervention = df_results_per_a1_intervention[df_results_per_a1_intervention['duration__d'] == learn_period__d]"
   ]
  },
  {
   "cell_type": "markdown",
   "id": "9a65d225-84db-4c25-801c-2c7e61c5bc49",
   "metadata": {},
   "source": [
    "### Aggregate regime metrics and keep only ids for which 2 or more regimes can be compared"
   ]
  },
  {
   "cell_type": "code",
   "execution_count": null,
   "id": "775e1e34-910a-4179-b230-d755c426c2c0",
   "metadata": {},
   "outputs": [],
   "source": [
    "df_results_per_a1_intervention_grouped = df_results_per_a1_intervention.groupby(['id', 'regime_sequence_number']).agg({\n",
    "        'duration__d': 'sum',  # Summing this specific column\n",
    "    **{col: 'mean' for col in df_results_per_a1_intervention.columns if col != 'duration__d'}  # Mean for all other columns\n",
    "})\n",
    "\n",
    "# Step 1: Find unique regime counts per `id`\n",
    "unique_counts = df_results_per_a1_intervention_grouped.index.to_frame(index=False).groupby('id')['regime_sequence_number'].nunique()\n",
    "\n",
    "# Step 2: Identify `id`s with more than one unique regime_sequence_number\n",
    "ids_with_multiple_regimes = unique_counts[unique_counts > 1].index\n",
    "\n",
    "# Step 3: Filter the DataFrame to keep only rows with `id`s that have multiple regimes\n",
    "df_results_per_a1_intervention_grouped = df_results_per_a1_intervention_grouped[df_results_per_a1_intervention_grouped.index.get_level_values('id').isin(ids_with_multiple_regimes)]"
   ]
  },
  {
   "cell_type": "code",
   "execution_count": null,
   "id": "1678a375-26a5-4f0a-abc9-e7aa9c9584e4",
   "metadata": {},
   "outputs": [],
   "source": [
    "df_results_per_a1_intervention_limited_grouped = df_results_per_a1_intervention_grouped\n",
    "\n",
    "# df_results_per_a1_intervention_limited_grouped = df_results_per_a1_intervention_grouped[['duration__d',\n",
    "#  'avg_temp_set__degC',\n",
    "#  'avg_temp_indoor__degC',\n",
    "#  'avg_temp_outdoor__degC',\n",
    "#  'corrected_avg_energy_ch__W',\n",
    "#  'avg_comfortable__0',\n",
    "#  'corrected_avg_co2_ch__g_s_1']]"
   ]
  },
  {
   "cell_type": "code",
   "execution_count": null,
   "id": "9dc3357a-b450-4b8d-87dd-01a7b2acde11",
   "metadata": {},
   "outputs": [],
   "source": [
    "df_results_per_a1_intervention_limited_grouped"
   ]
  },
  {
   "cell_type": "code",
   "execution_count": null,
   "id": "5e55d2a8-ac28-4a4c-9842-185294f8459e",
   "metadata": {},
   "outputs": [],
   "source": [
    "%%time \n",
    "# Convert all datetime columns to timezone-naive and export to Excel\n",
    "df_results_per_a1_intervention_limited_grouped.reset_index(drop=False).apply(lambda x: x.dt.tz_localize(None) if x.dtype.kind == 'M' else x).to_excel(\"results_interventions_A1.xlsx\", index=False)"
   ]
  },
  {
   "cell_type": "markdown",
   "id": "31b09df3-1007-4291-9517-c4c619875e13",
   "metadata": {},
   "source": [
    "### Check thermostat program changes via temperature plots"
   ]
  },
  {
   "cell_type": "code",
   "execution_count": null,
   "id": "ffaf860d-6e5d-4aa4-bc0d-51a8444b41b9",
   "metadata": {},
   "outputs": [],
   "source": [
    "temp_property_sources_a1 = {\n",
    "    'temp_indoor__degC':    'batch_import_remeha_temp_indoor__degC',\n",
    "    'temp_set__degC':       'batch_import_remeha_temp_set__degC',\n",
    "    # 'comfortable__bool':    'comfortable__bool',\n",
    "    'temp_outdoor__degC':   'batch_import_KNMI_temp_outdoor__degC',\n",
    "    # 'temp_flow_ch__degC':    'batch_import_remeha_temp_flow_ch__degC',\n",
    "    # 'temp_ret_ch__degC':    'batch_import_remeha_temp_ret_ch__degC',\n",
    "    # 'temp_flow_ch_max__degC':'batch_import_remeha_temp_flow_ch_max__degC', \n",
    "}\n",
    "\n",
    "tempprops_a1 = list(temp_property_sources_a1.values())"
   ]
  },
  {
   "cell_type": "code",
   "execution_count": null,
   "id": "2e9bcea8-9ce3-4678-9516-5cfdd5b08b29",
   "metadata": {},
   "outputs": [],
   "source": [
    "for id in df_results_per_a1_intervention_limited_grouped.index.get_level_values('id').unique():\n",
    "    print(id)\n",
    "    display(df_results_per_a1_intervention_limited_grouped.loc[id])\n",
    "    Plot.dataframe_preprocessed_plot(df_prep[tempprops_a1].xs(id, level='id', drop_level=False), units_to_mathtext)"
   ]
  },
  {
   "cell_type": "code",
   "execution_count": null,
   "id": "434b357c-f6c9-43b3-a565-b3c0f40e234d",
   "metadata": {},
   "outputs": [],
   "source": [
    "# Define your metrics and desired precisions in a dictionary\n",
    "metrics_format = {\n",
    "    'corrected_avg_energy_ch__W': '{:.0f}',  # 0 decimal places\n",
    "    'avg_comfortable__0': '{:.2f}',  # 2 decimal places\n",
    "    'corrected_avg_co2_ch__g_s_1': '{:.3f}'  # 3 decimal places\n",
    "}\n",
    "\n",
    "# Loop through each metric, applying the specified precision\n",
    "for metric, format_str in metrics_format.items():\n",
    "    print(metric)\n",
    "    with pd.option_context('display.float_format', format_str.format):\n",
    "        display(df_results_per_a1_intervention[metric].groupby(['id', 'regime_sequence_number']).describe().T)\n"
   ]
  },
  {
   "cell_type": "code",
   "execution_count": null,
   "id": "0f5e8049-e322-41d5-87b8-eb929ce037df",
   "metadata": {},
   "outputs": [],
   "source": [
    "# Plot.calculated_intervention_metrics_boxplot(df_results_per_a1_intervention_limited_grouped, metrics)"
   ]
  },
  {
   "cell_type": "markdown",
   "id": "3cb2cfea-68ba-44f9-b8b2-0acfc2037ebf",
   "metadata": {},
   "source": [
    "## Analyze and visualize intervention B1: lower maximum supply temperatures"
   ]
  },
  {
   "cell_type": "code",
   "execution_count": null,
   "id": "f5c9e142-a2ac-4e0f-a67f-66998f0399cf",
   "metadata": {},
   "outputs": [],
   "source": [
    "# Load the regime change data from Excel\n",
    "regime_changes_B1 = pd.read_excel(regime_change_B1_file_path)"
   ]
  },
  {
   "cell_type": "code",
   "execution_count": null,
   "id": "f69f5d51-99df-42de-8a31-a64a1d1cf6d4",
   "metadata": {},
   "outputs": [],
   "source": [
    "# Convert the program change datetime to a datetime object only if the datetime and timezone values are non-empty\n",
    "regime_changes_B1['B_temp_flow_ch_max__datetime'] = pd.to_datetime(\n",
    "    regime_changes_B1['B_temp_flow_ch_max__datetime'], errors='coerce'\n",
    ")\n",
    "\n",
    "# Apply timezone localization conditionally\n",
    "regime_changes_B1['B_temp_flow_ch_max__datetime'] = regime_changes_B1.apply(\n",
    "    lambda row: row['B_temp_flow_ch_max__datetime'].tz_localize(row['timezone'])\n",
    "    if pd.notna(row['B_temp_flow_ch_max__datetime']) and pd.notna(row['timezone'])\n",
    "    else row['B_temp_flow_ch_max__datetime'],\n",
    "    axis=1\n",
    ")"
   ]
  },
  {
   "cell_type": "code",
   "execution_count": null,
   "id": "394a2e41-9cb9-407d-b4f7-4cd46234f86b",
   "metadata": {},
   "outputs": [],
   "source": [
    "regime_changes_B1 = regime_changes_B1.drop(columns=['timezone'])"
   ]
  },
  {
   "cell_type": "code",
   "execution_count": null,
   "id": "b02ba70c-26e7-496c-8b23-b791f0e6bdd1",
   "metadata": {},
   "outputs": [],
   "source": [
    "regime_changes_B1['regime_sequence_number'] = regime_changes_B1.groupby('id').cumcount() + 1"
   ]
  },
  {
   "cell_type": "code",
   "execution_count": null,
   "id": "54d5dfa8-2fb0-40a8-a54b-4acccbe01850",
   "metadata": {},
   "outputs": [],
   "source": [
    "regime_changes_B1"
   ]
  },
  {
   "cell_type": "code",
   "execution_count": null,
   "id": "f4f12b4c-b17d-41a9-844c-f26479340d8d",
   "metadata": {},
   "outputs": [],
   "source": [
    "# Label results per period with regime sequence numbers, if there was no regime change in the period\n",
    "\n",
    "# Initialize the regime_sequence_number column\n",
    "df_results_per_period['regime_sequence_number'] = None\n",
    "\n",
    "# reset index\n",
    "df_results_per_period = df_results_per_period.reset_index()\n",
    "\n",
    "# Loop over each row in df_results_per_period\n",
    "for index, row in df_results_per_period.iterrows():\n",
    "    # Get the current id, start, and end for the row\n",
    "    current_id = row['id']\n",
    "    start_time = row['start']\n",
    "    end_time = row['end']\n",
    "\n",
    "    # Check for regime changes within the interval\n",
    "    regime_changes = regime_changes_B1[\n",
    "        (regime_changes_B1['id'] == current_id) &\n",
    "        (regime_changes_B1['B_temp_flow_ch_max__datetime'] >= start_time) &\n",
    "        (regime_changes_B1['B_temp_flow_ch_max__datetime'] <= end_time)\n",
    "    ]\n",
    "\n",
    "    # If there are regime changes, do not assign a regime sequence number\n",
    "    if not regime_changes.empty:\n",
    "        continue  # Skip assigning a regime sequence number for this interval\n",
    "\n",
    "    # If there are no regime changes, find the latest regime sequence number before the start\n",
    "    latest_regime = regime_changes_B1[\n",
    "        (regime_changes_B1['id'] == current_id) &\n",
    "        (regime_changes_B1['B_temp_flow_ch_max__datetime'] <= start_time)\n",
    "    ].sort_values(by='B_temp_flow_ch_max__datetime', ascending=False)\n",
    "\n",
    "    # Assign the regime sequence number if found\n",
    "    if not latest_regime.empty:\n",
    "        df_results_per_period.at[index, 'regime_sequence_number'] = latest_regime.iloc[0]['regime_sequence_number']\n",
    "\n",
    "\n",
    "\n",
    "# Convert the regime_sequence_number column to integers\n",
    "df_results_per_period['regime_sequence_number'] = pd.to_numeric(df_results_per_period['regime_sequence_number'], downcast='integer')\n",
    "\n",
    "# restore the index\n",
    "df_results_per_period = df_results_per_period.set_index(['id', 'start', 'end'])"
   ]
  },
  {
   "cell_type": "code",
   "execution_count": null,
   "id": "6ea2993f-2d46-4415-aae9-7c522fd4cfa6",
   "metadata": {},
   "outputs": [],
   "source": [
    "regime_changes_B1[['id', 'regime_sequence_number']].groupby('id').describe()"
   ]
  },
  {
   "cell_type": "code",
   "execution_count": null,
   "id": "09b2d77a-b8f9-4b3f-9b87-ac46749af5fb",
   "metadata": {},
   "outputs": [],
   "source": [
    "df_results_per_period[['regime_sequence_number']].groupby('id').describe()"
   ]
  },
  {
   "cell_type": "code",
   "execution_count": null,
   "id": "b754f706-e74d-44e1-ba94-30c0d9c9344f",
   "metadata": {},
   "outputs": [],
   "source": [
    "# Group by 'id' and calculate standard deviation for 'regime_sequence_number'\n",
    "std_values = regime_changes_B1.groupby('id')['regime_sequence_number'].std()\n",
    "\n",
    "# Filter the ids where std > 0\n",
    "id_mask_intervention_B1 = std_values[std_values > 0].index.tolist()"
   ]
  },
  {
   "cell_type": "code",
   "execution_count": null,
   "id": "98eba9bd-3827-4882-b3fa-56e8ee179fcc",
   "metadata": {},
   "outputs": [],
   "source": [
    "df_results_per_period.columns.to_list()"
   ]
  },
  {
   "cell_type": "code",
   "execution_count": null,
   "id": "08607b3c-2bc4-4159-8741-18db0c5064a7",
   "metadata": {},
   "outputs": [],
   "source": [
    "intervention_results_columns_b1 = {\n",
    "    'regime_sequence_number',\n",
    "    'duration__s',\n",
    "    'avg_temp_flow_ch_max__degC',\n",
    "    'avg_temp_indoor__degC',\n",
    "    'avg_temp_outdoor__degC',\n",
    "    'avg_energy_ch__W',\n",
    "    'avg_co2_ch__g_s_1'\n",
    "} |  metrics"
   ]
  },
  {
   "cell_type": "code",
   "execution_count": null,
   "id": "eb8125a5-d455-446f-bfa5-3cb0d8b8dd0f",
   "metadata": {},
   "outputs": [],
   "source": [
    "df_results_per_b1_intervention = (df_results_per_period[df_results_per_period.index.get_level_values('id').isin(id_mask_intervention_B1)][list(intervention_results_columns_b1)]\n",
    "                                  .reset_index()\n",
    "                                  .dropna(subset=['regime_sequence_number'])  # Drop rows where 'regime_sequence_number' is NaN\n",
    "                                  .dropna(subset=metrics) # Drop rows where any of the metrics is NaN\n",
    "                                  .set_index(['id', 'regime_sequence_number', 'start', 'end']))"
   ]
  },
  {
   "cell_type": "code",
   "execution_count": null,
   "id": "d316bba5-d963-4e88-a897-0597c04a9971",
   "metadata": {},
   "outputs": [],
   "source": [
    "df_results_per_b1_intervention"
   ]
  },
  {
   "cell_type": "code",
   "execution_count": null,
   "id": "2d83afd8-1488-4481-98e1-39e833012686",
   "metadata": {},
   "outputs": [],
   "source": [
    "homes_with_max_flow_temp_change = len(df_results_per_b1_intervention.index.get_level_values('id').unique())\n",
    "print(f\"Number of homes that changed their max supply temperature: {homes_with_max_flow_temp_change}\")\n",
    "max_flow_temp_regimes_in_homes_with_max_flow_temp_change = len(df_results_per_b1_intervention.index.to_frame(index=False)[['id', 'regime_sequence_number']].drop_duplicates())\n",
    "print(f\"Number of max supply temperature settings in these homes: {max_flow_temp_regimes_in_homes_with_max_flow_temp_change}\")\n",
    "if homes_with_max_flow_temp_change >0:\n",
    "    print(f\"Average number of max supply temperatures settings in homes with such a change: {max_flow_temp_regimes_in_homes_with_max_flow_temp_change/homes_with_max_flow_temp_change}\")\n"
   ]
  },
  {
   "cell_type": "markdown",
   "id": "1422b356-359e-4096-9910-567298fc3763",
   "metadata": {},
   "source": [
    "### Filter out learning periods that don't cover a period - 1 day"
   ]
  },
  {
   "cell_type": "code",
   "execution_count": null,
   "id": "1319217b-4932-46b9-ad42-3bc89b431b8d",
   "metadata": {},
   "outputs": [],
   "source": [
    "df_results_per_b1_intervention['duration__d'] = df_results_per_b1_intervention['duration__s'] / s_d_1"
   ]
  },
  {
   "cell_type": "code",
   "execution_count": null,
   "id": "298767bb-24c4-46a4-a248-a0a8e53a2222",
   "metadata": {},
   "outputs": [],
   "source": [
    "df_results_per_b1_intervention = df_results_per_b1_intervention[df_results_per_b1_intervention['duration__d'] > (learn_period__d - 1)]\n"
   ]
  },
  {
   "cell_type": "code",
   "execution_count": null,
   "id": "ae6a98b6-d7e5-456e-98df-7ce04043edd5",
   "metadata": {},
   "outputs": [],
   "source": [
    "df_results_per_b1_intervention"
   ]
  },
  {
   "cell_type": "markdown",
   "id": "511e7074-ef3d-46c0-bd8b-a70822639469",
   "metadata": {},
   "source": [
    "### Aggregate regime metrics and keep only ids for which 2 or more regimes can be compared"
   ]
  },
  {
   "cell_type": "code",
   "execution_count": null,
   "id": "ad602586-d0c3-46c1-8a02-d1a72c36f256",
   "metadata": {},
   "outputs": [],
   "source": [
    "df_results_per_b1_intervention_grouped = df_results_per_b1_intervention.groupby(['id', 'regime_sequence_number']).agg({\n",
    "        'duration__d': 'sum',  # Summing this specific column\n",
    "    **{col: 'mean' for col in df_results_per_b1_intervention.columns if col != 'duration__d'}  # Mean for all other columns\n",
    "})\n",
    "\n",
    "# Step 1: Find unique regime counts per `id`\n",
    "unique_counts = df_results_per_b1_intervention_grouped.index.to_frame(index=False).groupby('id')['regime_sequence_number'].nunique()\n",
    "\n",
    "# Step 2: Identify `id`s with more than one unique regime_sequence_number\n",
    "ids_with_multiple_regimes = unique_counts[unique_counts > 1].index\n",
    "\n",
    "# Step 3: Filter the DataFrame to keep only rows with `id`s that have multiple regimes\n",
    "df_results_per_b1_intervention_grouped = df_results_per_b1_intervention_grouped[df_results_per_b1_intervention_grouped.index.get_level_values('id').isin(ids_with_multiple_regimes)]"
   ]
  },
  {
   "cell_type": "code",
   "execution_count": null,
   "id": "189d20e7-b1c0-4d86-98fa-c1b57132d14f",
   "metadata": {},
   "outputs": [],
   "source": [
    "df_results_per_b1_intervention_limited_grouped = df_results_per_b1_intervention_grouped\n",
    "\n",
    "# df_results_per_a1_intervention_limited_grouped = df_results_per_a1_intervention_grouped[['duration__d',\n",
    "#  'avg_temp_flow_ch_max__degC',\n",
    "#  'avg_temp_indoor__degC',\n",
    "#  'avg_temp_outdoor__degC',\n",
    "#  'corrected_avg_energy_ch__W',\n",
    "#  'avg_comfortable__0',\n",
    "#  'corrected_avg_co2_ch__g_s_1']]"
   ]
  },
  {
   "cell_type": "code",
   "execution_count": null,
   "id": "c7fc15f8-b665-4bf3-967c-c769ac70ee9f",
   "metadata": {},
   "outputs": [],
   "source": [
    "df_results_per_b1_intervention_limited_grouped"
   ]
  },
  {
   "cell_type": "code",
   "execution_count": null,
   "id": "aeb2428f-55df-4008-98b0-4ae86650f6ea",
   "metadata": {},
   "outputs": [],
   "source": [
    "%%time \n",
    "# Convert all datetime columns to timezone-naive and export to Excel\n",
    "df_results_per_b1_intervention_limited_grouped.reset_index(drop=False).apply(lambda x: x.dt.tz_localize(None) if x.dtype.kind == 'M' else x).to_excel(\"results_interventions_B1.xlsx\", index=False)"
   ]
  },
  {
   "cell_type": "code",
   "execution_count": null,
   "id": "56ba896b-d0ef-4a6f-b086-5667c4235bdc",
   "metadata": {},
   "outputs": [],
   "source": [
    "# Define your metrics and desired precisions in a dictionary\n",
    "metrics_format = {\n",
    "    'corrected_avg_energy_ch__W': '{:.0f}',  # 0 decimal places\n",
    "    'avg_comfortable__0': '{:.2f}',  # 2 decimal places\n",
    "    'corrected_avg_co2_ch__g_s_1': '{:.3f}'  # 3 decimal places\n",
    "}\n",
    "\n",
    "# Loop through each metric, applying the specified precision\n",
    "for metric, format_str in metrics_format.items():\n",
    "    print(metric)\n",
    "    with pd.option_context('display.float_format', format_str.format):\n",
    "        display(df_results_per_b1_intervention[metric].groupby(['id', 'regime_sequence_number']).describe().T)\n"
   ]
  },
  {
   "cell_type": "code",
   "execution_count": null,
   "id": "1ed653f8-5b0e-4876-9724-7b89aa21dbb3",
   "metadata": {},
   "outputs": [],
   "source": [
    "temp_property_sources_b1 = {\n",
    "    'temp_indoor__degC':    'batch_import_remeha_temp_indoor__degC',\n",
    "    'temp_set__degC':       'batch_import_remeha_temp_set__degC',\n",
    "    # 'comfortable__bool':    'comfortable__bool',\n",
    "    'temp_outdoor__degC':   'batch_import_KNMI_temp_outdoor__degC',\n",
    "    'temp_flow_ch__degC':    'batch_import_remeha_temp_flow_ch__degC',\n",
    "    'temp_ret_ch__degC':    'batch_import_remeha_temp_ret_ch__degC',\n",
    "    'temp_flow_ch_max__degC':'batch_import_remeha_temp_flow_ch_max__degC', \n",
    "}\n",
    "\n",
    "tempprops_b1 = list(temp_property_sources_b1.values())"
   ]
  },
  {
   "cell_type": "code",
   "execution_count": null,
   "id": "fe5ddff5-9fa4-4754-b4de-ea9c2afb4f3e",
   "metadata": {},
   "outputs": [],
   "source": [
    "for id in df_results_per_b1_intervention_limited_grouped.index.get_level_values('id').unique():\n",
    "    print(id)\n",
    "    display(df_results_per_b1_intervention_limited_grouped.loc[id])\n",
    "    Plot.dataframe_preprocessed_plot(df_prep[tempprops_b1].xs(id, level='id', drop_level=False), units_to_mathtext)"
   ]
  },
  {
   "cell_type": "code",
   "execution_count": null,
   "id": "93b91b77-668d-4ad6-8bcf-7cc9c88ed56a",
   "metadata": {},
   "outputs": [],
   "source": [
    "# Plot.calculated_intervention_metrics_boxplot(df_results_per_b1_intervention_limited_grouped, metrics)"
   ]
  },
  {
   "cell_type": "code",
   "execution_count": null,
   "id": "90374d5c-465b-4914-a000-2c7835aef7e9",
   "metadata": {},
   "outputs": [],
   "source": []
  }
 ],
 "metadata": {
  "kernelspec": {
   "display_name": "Python 3 (ipykernel)",
   "language": "python",
   "name": "python3"
  },
  "language_info": {
   "codemirror_mode": {
    "name": "ipython",
    "version": 3
   },
   "file_extension": ".py",
   "mimetype": "text/x-python",
   "name": "python",
   "nbconvert_exporter": "python",
   "pygments_lexer": "ipython3",
   "version": "3.11.6"
  },
  "vscode": {
   "interpreter": {
    "hash": "2b52c2ff5431c21ddbe91dac57ae43ca32d3900acacc91a5c2a32f1a3c11d7aa"
   }
  }
 },
 "nbformat": 4,
 "nbformat_minor": 5
}
