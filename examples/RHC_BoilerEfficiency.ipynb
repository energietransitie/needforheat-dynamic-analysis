{
 "cells": [
  {
   "cell_type": "markdown",
   "id": "4ad9af08-360f-4e5e-a01e-566294a88476",
   "metadata": {},
   "source": [
    "#  Boiler efficiency"
   ]
  },
  {
   "cell_type": "code",
   "execution_count": null,
   "id": "4a607ffe-b1f0-4436-82c5-3d77271b173f",
   "metadata": {},
   "outputs": [],
   "source": [
    "from gekko import GEKKO\n",
    "\n",
    "%load_ext autoreload\n",
    "\n",
    "import sys\n",
    "sys.path.append('../data/')\n",
    "sys.path.append('../view/')\n",
    "sys.path.append('../analysis/')\n",
    "\n",
    "from rhc_analysis import BoilerEfficiency, Learner, Model, Comfort, Simulator\n",
    "\n",
    "import numpy as np\n",
    "import pandas as pd\n",
    "\n",
    "import matplotlib.pyplot as plt\n",
    "\n",
    "%matplotlib inline\n",
    "%matplotlib widget\n",
    "\n",
    "from scipy.interpolate import RectBivariateSpline, bisplrep\n",
    "\n",
    "from nfh_utils import *\n",
    "\n",
    "from mpl_toolkits.mplot3d import Axes3D"
   ]
  },
  {
   "cell_type": "code",
   "execution_count": null,
   "id": "2c95df38-aca7-4a31-80c3-c63be4f0a23c",
   "metadata": {},
   "outputs": [],
   "source": [
    "# Initialize the class with the path to your Parquet file\n",
    "\n",
    "boiler_returntemp_load_efficiency_file_path = 'boiler_returntemp_load_efficiency.parquet'\n",
    "boiler_efficiency = BoilerEfficiency(boiler_returntemp_load_efficiency_file_path)"
   ]
  },
  {
   "cell_type": "code",
   "execution_count": null,
   "id": "411a17ce-e2f3-4f30-9d54-71b534442c0f",
   "metadata": {},
   "outputs": [],
   "source": [
    "boiler_models = [\n",
    "    'Remeha Avanta Ace 28c',\n",
    "    'Remeha Avanta Ace 35c',\n",
    "    'Remeha Calenta Ace 28c',\n",
    "    'Remeha Calenta Ace 40c',\n",
    "    'Remeha Calenta Ace 40L',\n",
    "    'Remeha Tzerra Ace 28c',\n",
    "    'Remeha Tzerra Ace 39c',\n",
    "    'Remeha Tzerra Ace Matic 35c'\n",
    "]"
   ]
  },
  {
   "cell_type": "code",
   "execution_count": null,
   "id": "30546041-ffb2-488d-a5b4-9b03e20302fa",
   "metadata": {},
   "outputs": [],
   "source": [
    "# brand_model = 'Remeha Calenta Ace 40L'\n",
    "brand_model = 'Remeha Tzerra Ace Matic 35c'\n"
   ]
  },
  {
   "cell_type": "code",
   "execution_count": null,
   "id": "22920d4d-2e70-4a87-b9ad-8db697a2b507",
   "metadata": {},
   "outputs": [],
   "source": [
    "try:\n",
    "    df_boiler_efficiency = pd.read_parquet(\n",
    "        boiler_returntemp_load_efficiency_file_path,\n",
    "        engine='pyarrow',\n",
    "        dtype_backend='numpy_nullable'\n",
    "    )\n",
    "except Exception as e:\n",
    "    raise IOError(f\"Error reading Parquet file: {e}\")"
   ]
  },
  {
   "cell_type": "code",
   "execution_count": null,
   "id": "0fafe938-0126-4ee1-a65c-2ebcde18dc7c",
   "metadata": {},
   "outputs": [],
   "source": [
    "df_boiler_efficiency.info()"
   ]
  },
  {
   "cell_type": "code",
   "execution_count": null,
   "id": "38b047c0-fdb1-49b2-a76f-22c6bf74aed4",
   "metadata": {},
   "outputs": [],
   "source": [
    "boiler_specific_efficiency = df_boiler_efficiency.loc[brand_model]\n",
    "\n",
    "data_gas_load__pct = np.asarray(boiler_specific_efficiency.index.get_level_values('rounded_load__pct').unique().astype(float))\n",
    "data_temp_ret__degC = np.asarray(boiler_specific_efficiency.index.get_level_values('rounded_temp_ret__degC').unique().astype(float))\n",
    "data_eta_ch_hhv__W0 = np.asarray(boiler_specific_efficiency.unstack(level='rounded_temp_ret__degC').values.astype(float))\n"
   ]
  },
  {
   "cell_type": "markdown",
   "id": "67d59a9b-a7d2-4f46-a033-89d51d32434e",
   "metadata": {},
   "source": [
    "## Plot curve from Remeha"
   ]
  },
  {
   "cell_type": "code",
   "execution_count": null,
   "id": "79fed5f5-c1a2-4103-801a-f1431d923814",
   "metadata": {},
   "outputs": [],
   "source": [
    "for brand_model in boiler_models:\n",
    "    boiler_specific_efficiency = df_boiler_efficiency.loc[brand_model]\n",
    "    \n",
    "    data_gas_load__pct = np.asarray(boiler_specific_efficiency.index.get_level_values('rounded_load__pct').unique().astype(float))\n",
    "    data_temp_ret__degC = np.asarray(boiler_specific_efficiency.index.get_level_values('rounded_temp_ret__degC').unique().astype(float))\n",
    "    data_eta_ch_hhv__W0 = np.asarray(boiler_specific_efficiency.unstack(level='rounded_temp_ret__degC').values.astype(float))\n",
    "    \n",
    "    # Generate meshgrid for plotting\n",
    "    temp_ret_vals, gas_load_vals = np.meshgrid(data_temp_ret__degC, data_gas_load__pct)\n",
    "    \n",
    "    remeha_data_eta_ch_hhv__W0 = data_eta_ch_hhv__W0\n",
    "    \n",
    "    fig = plt.figure()\n",
    "    ax = fig.add_subplot(111, projection='3d')\n",
    "    ax.plot_surface(temp_ret_vals, gas_load_vals, remeha_data_eta_ch_hhv__W0 , cmap='turbo')\n",
    "    ax.set_xlabel('Return Temperature [°C]')\n",
    "    ax.set_ylabel('Gas Load [%]')\n",
    "    ax.set_zlabel('Efficiency (hhv) [W⁰]')\n",
    "    plt.title(f\"{brand_model} curve\", fontsize=16)\n",
    "    plt.show()"
   ]
  },
  {
   "cell_type": "markdown",
   "id": "0acb6f25-01ec-4c3c-a7c2-27facfb96608",
   "metadata": {},
   "source": [
    "## use scipy.interpolate.RectBivariateSpline"
   ]
  },
  {
   "cell_type": "code",
   "execution_count": null,
   "id": "3d479676-898f-4553-b54a-0645ca4eccee",
   "metadata": {},
   "outputs": [],
   "source": [
    "gas_load_eval__pct = 65\n",
    "temp_ret_range__degC = np.linspace(20,70,500)\n",
    "gas_load_range__pct = np.full_like(temp_ret_range__degC, gas_load_eval__pct)"
   ]
  },
  {
   "cell_type": "code",
   "execution_count": null,
   "id": "f2ed3d60-fdec-420c-8dff-8a8a0811e2be",
   "metadata": {},
   "outputs": [],
   "source": [
    "eta_scipy = boiler_efficiency.get_efficiency_hhv_interpolator(brand_model)"
   ]
  },
  {
   "cell_type": "code",
   "execution_count": null,
   "id": "eb06c80c-67c0-43e6-9321-1749066e3c05",
   "metadata": {},
   "outputs": [],
   "source": [
    "eta_scipy(40,50)"
   ]
  },
  {
   "cell_type": "code",
   "execution_count": null,
   "id": "a1a2ec6f-954b-4f25-9e4d-482a0f007656",
   "metadata": {},
   "outputs": [],
   "source": [
    "eta_scipy_eval = [eta_scipy(gas_load_eval__pct, temp_ret__degC) for temp_ret__degC in temp_ret_range__degC]"
   ]
  },
  {
   "cell_type": "code",
   "execution_count": null,
   "id": "459f1ab7-5854-45f4-876c-0b25807d4a95",
   "metadata": {},
   "outputs": [],
   "source": [
    "len(eta_scipy_eval)"
   ]
  },
  {
   "cell_type": "code",
   "execution_count": null,
   "id": "8b12dae3-d311-4114-a34b-7ba3f24d851d",
   "metadata": {},
   "outputs": [],
   "source": [
    "temp_ret_eval__degC = 50"
   ]
  },
  {
   "cell_type": "code",
   "execution_count": null,
   "id": "c4e804bd-35a4-4435-85c8-faf03b9300e6",
   "metadata": {},
   "outputs": [],
   "source": [
    "eta_scipy(gas_load_eval__pct, temp_ret_eval__degC)"
   ]
  },
  {
   "cell_type": "markdown",
   "id": "ca698681-d1a5-4b23-8026-d3833ee51758",
   "metadata": {},
   "source": [
    "## Can we create a GEKKO bspline?"
   ]
  },
  {
   "cell_type": "code",
   "execution_count": null,
   "id": "3be33e84-31d8-4599-8a7a-459eeb0d7db7",
   "metadata": {},
   "outputs": [],
   "source": [
    "%%time \n",
    "# Evaluate GEKKO spline\n",
    "from gekko import GEKKO\n",
    "m = GEKKO(remote=False)\n",
    "\n",
    "gas_load__pct = m.MV(value=gas_load_range__pct)\n",
    "gas_load__pct.STATUS = 0  # No optimization\n",
    "gas_load__pct.FSTATUS = 1 # Use the measured values\n",
    "    \n",
    "temp_ret__degC = m.MV(value=temp_ret_range__degC)\n",
    "temp_ret__degC.STATUS = 0  # No optimization\n",
    "temp_ret__degC.FSTATUS = 1 # Use the measured values\n",
    "\n",
    "eta_ch_hhv__W0 = m.Var()\n",
    "kx=3\n",
    "ky=3\n",
    "m.bspline(gas_load__pct,temp_ret__degC, eta_ch_hhv__W0, \n",
    "          data_gas_load__pct, data_temp_ret__degC, data_eta_ch_hhv__W0, \n",
    "          data=True,\n",
    "          kx=kx,\n",
    "          ky=ky,\n",
    "          # sf=0.1\n",
    "          sf=None\n",
    "         )\n",
    "m.Obj(eta_ch_hhv__W0)\n",
    "m.options.IMODE=2\n",
    "m.solve(disp=False)"
   ]
  },
  {
   "cell_type": "markdown",
   "id": "a357ad6a-2ea4-45f0-91dc-8343b70f4945",
   "metadata": {},
   "source": [
    "##  Plot GEKKO bspline() based Remeha data"
   ]
  },
  {
   "cell_type": "code",
   "execution_count": null,
   "id": "ea19903f-d234-4f27-aa7d-d942ada6f540",
   "metadata": {},
   "outputs": [],
   "source": [
    "%%time \n",
    "for brand_model in boiler_models:\n",
    "    boiler_specific_efficiency = df_boiler_efficiency.loc[brand_model]\n",
    "    \n",
    "    data_gas_load__pct = np.asarray(boiler_specific_efficiency.index.get_level_values('rounded_load__pct').unique().astype(float))\n",
    "    data_temp_ret__degC = np.asarray(boiler_specific_efficiency.index.get_level_values('rounded_temp_ret__degC').unique().astype(float))\n",
    "    data_eta_ch_hhv__W0 = np.asarray(boiler_specific_efficiency.unstack(level='rounded_temp_ret__degC').values.astype(float))\n",
    "    \n",
    "    # Evaluate GEKKO spline\n",
    "    from gekko import GEKKO\n",
    "    m = GEKKO(remote=False)\n",
    "    \n",
    "    # # Create grid for gas load and return temperature\n",
    "    # grid_gas_load__pct, grid_temp_ret__degC = np.meshgrid(data_gas_load__pct, data_temp_ret__degC, indexing=\"ij\")\n",
    "    \n",
    "    # Define the interpolation factor (e.g., 10 times more points); set to 1 to get MAE and RMSE value\n",
    "    interp_factor = 1\n",
    "    \n",
    "    # Generate finer grids\n",
    "    gas_load_vals = np.linspace(min(data_gas_load__pct), max(data_gas_load__pct), len(data_gas_load__pct) * interp_factor)\n",
    "    temp_ret_vals = np.linspace(min(data_temp_ret__degC), max(data_temp_ret__degC), len(data_temp_ret__degC) * interp_factor)\n",
    "    \n",
    "    # Create a meshgrid with the new, finer resolution\n",
    "    grid_gas_load__pct, grid_temp_ret__degC = np.meshgrid(gas_load_vals, temp_ret_vals, indexing=\"ij\") \n",
    "    \n",
    "    # Define Manipulated Variables (MVs)\n",
    "    # Gas load percentage\n",
    "    gas_load__pct = m.MV(value=grid_gas_load__pct.flatten())\n",
    "    gas_load__pct.STATUS = 0  # No optimization\n",
    "    gas_load__pct.FSTATUS = 1 # Use the measured values\n",
    "    \n",
    "    # Return temperature in °C\n",
    "    temp_ret__degC = m.MV(value=grid_temp_ret__degC.flatten())  \n",
    "    temp_ret__degC.STATUS = 0  # No optimization\n",
    "    temp_ret__degC.FSTATUS = 1 # Use the measured value\n",
    "    \n",
    "    eta_ch_hhv__W0 = m.Var()\n",
    "    kx=3\n",
    "    ky=3\n",
    "    m.bspline(gas_load__pct, temp_ret__degC, eta_ch_hhv__W0, \n",
    "              data_gas_load__pct, data_temp_ret__degC, data_eta_ch_hhv__W0, \n",
    "              data=True,\n",
    "              kx=kx,\n",
    "              ky=ky,\n",
    "              # sf=0.1\n",
    "              sf=None\n",
    "             )\n",
    "    m.Obj(eta_ch_hhv__W0)\n",
    "    m.options.IMODE=2\n",
    "    m.solve(disp=False)\n",
    "    \n",
    "    grid_eta_ch_hhv__W0 = np.asarray(eta_ch_hhv__W0.value).astype(float).reshape(len(gas_load_vals), len(temp_ret_vals))\n",
    "    \n",
    "    fig = plt.figure()\n",
    "    ax = fig.add_subplot(111, projection='3d')\n",
    "    ax.plot_surface(grid_gas_load__pct, grid_temp_ret__degC, grid_eta_ch_hhv__W0, cmap='turbo')\n",
    "    ax.set_xlabel('Gas Load [%]')\n",
    "    ax.set_ylabel('Return Temperature [°C]')\n",
    "    ax.set_zlabel('Efficiency (hhv) [W⁰]')\n",
    "    \n",
    "    # Flip the Return Temperature axis so lower values are on the left\n",
    "    ax.invert_xaxis()\n",
    "    ax.view_init(elev=30, azim=30)  # Rotate for better visibility\n",
    "    fig.suptitle(f\"{brand_model} GEKKO bspline curve\", fontsize=16)\n",
    "    if grid_eta_ch_hhv__W0.flatten().shape == data_eta_ch_hhv__W0.flatten().shape:\n",
    "        ax.set_title(f\"MAE = {mae(grid_eta_ch_hhv__W0.flatten(), data_eta_ch_hhv__W0.flatten())*100:.2f} [%-point]; RMSE = {rmse(grid_eta_ch_hhv__W0.flatten(), data_eta_ch_hhv__W0.flatten())*100:.2f} [%-point]\")\n",
    "    plt.show()\n",
    "\n",
    "    m.cleanup()"
   ]
  },
  {
   "cell_type": "code",
   "execution_count": null,
   "id": "39322264-45db-435b-9761-2da5df511bb0",
   "metadata": {},
   "outputs": [],
   "source": [
    "if grid_eta_ch_hhv__W0.flatten().shape == data_eta_ch_hhv__W0.flatten().shape:\n",
    "    print(f\"MAE = {mae(grid_eta_ch_hhv__W0.flatten(), data_eta_ch_hhv__W0.flatten())*100:.2f} [%-point]\")\n",
    "    print(f\"RMSE = {rmse(grid_eta_ch_hhv__W0.flatten(), data_eta_ch_hhv__W0.flatten())*100:.2f} [%-point]\")"
   ]
  },
  {
   "cell_type": "markdown",
   "id": "37279147-b190-4708-87a0-8838b37b6401",
   "metadata": {},
   "source": [
    "##  Can we create a bspline based on RectBivariateSpline knots and coeffs?"
   ]
  },
  {
   "cell_type": "code",
   "execution_count": null,
   "id": "6bbfb8ae-de9e-4bc8-aaeb-73c25ad3bf6d",
   "metadata": {},
   "outputs": [],
   "source": [
    "# Create interpolator\n",
    "interpolator = RectBivariateSpline(\n",
    "    data_gas_load__pct,\n",
    "    data_temp_ret__degC,\n",
    "    data_eta_ch_hhv__W0, \n",
    "    bbox=[\n",
    "          data_gas_load__pct.min(), data_gas_load__pct.max(),\n",
    "          data_temp_ret__degC.min(), data_temp_ret__degC.max(),\n",
    "         ]\n",
    ")\n",
    "\n",
    "# Get knots and coefficients\n",
    "x_knots, y_knots = interpolator.get_knots()\n",
    "coeffs= interpolator.get_coeffs()\n",
    "coeffs_2d = coeffs.reshape((x_knots.shape[0] - kx - 1, y_knots.shape[0] - ky - 1))"
   ]
  },
  {
   "cell_type": "code",
   "execution_count": null,
   "id": "98db3c53-d8f0-4313-9d1a-c6b42013b184",
   "metadata": {},
   "outputs": [],
   "source": [
    "%%time \n",
    "# Evaluate GEKKO spline based on RectBivariateSpline knots and coefficients\n",
    "from gekko import GEKKO\n",
    "m2 = GEKKO(remote=False)\n",
    "\n",
    "gas_load__pct = m2.MV(value=gas_load_range__pct, name='gas_load__pct')\n",
    "gas_load__pct.STATUS = 0  # No optimization\n",
    "gas_load__pct.FSTATUS = 1 # Use the measured values\n",
    "    \n",
    "temp_ret__degC = m2.MV(value=temp_ret_range__degC, name='temp_ret__degC')\n",
    "temp_ret__degC.STATUS = 0  # No optimization\n",
    "temp_ret__degC.FSTATUS = 1 # Use the measured values\n",
    "\n",
    "rbs_eta_hhv__W0 = m2.Var(name='rbs_eta_hhv__W0')\n",
    "kx=3\n",
    "ky=3\n",
    "m2.bspline(gas_load__pct, temp_ret__degC, rbs_eta_hhv__W0, \n",
    "          x_knots, y_knots, coeffs, \n",
    "          data=False,\n",
    "          kx=kx,\n",
    "          ky=ky\n",
    "         )\n",
    "m2.Obj(rbs_eta_hhv__W0)\n",
    "m2.options.IMODE=2\n",
    "m2.solve(disp=False)"
   ]
  },
  {
   "cell_type": "markdown",
   "id": "b97c1596-01f1-4a95-8e96-30347fa9ce3e",
   "metadata": {},
   "source": [
    "##  BSpline based on bisplrep knots and coeffs"
   ]
  },
  {
   "cell_type": "code",
   "execution_count": null,
   "id": "04ab7057-12d4-4f77-9ced-aae9e18e471c",
   "metadata": {},
   "outputs": [],
   "source": [
    "# Check for NaNs in each array and print detailed results\n",
    "has_nan_x = np.any(np.isnan(data_gas_load__pct))\n",
    "has_nan_y = np.any(np.isnan(data_temp_ret__degC))\n",
    "has_nan_z = np.any(np.isnan(data_eta_ch_hhv__W0))\n",
    "\n",
    "print(f\"NaNs in data_gas_load__pct: {has_nan_x}\")\n",
    "print(f\"NaNs in data_temp_ret__degC: {has_nan_y}\")\n",
    "print(f\"NaNs in data_eta_ch_hhv__W0: {has_nan_z}\")\n",
    "\n",
    "# Optionally display the indices where NaNs are found\n",
    "if has_nan_x:\n",
    "    print(\"Indices with NaNs in data_gas_load__pct:\", np.where(np.isnan(data_gas_load__pct)))\n",
    "if has_nan_y:\n",
    "    print(\"Indices with NaNs in data_temp_ret__degC:\", np.where(np.isnan(data_temp_ret__degC)))\n",
    "if has_nan_z:\n",
    "    print(\"Indices with NaNs in data_eta_ch_hhv__W0:\", np.where(np.isnan(data_eta_ch_hhv__W0)))\n"
   ]
  },
  {
   "cell_type": "code",
   "execution_count": null,
   "id": "05079ff2-8c06-4cab-8bef-f162ea8f9bf0",
   "metadata": {},
   "outputs": [],
   "source": [
    "# Meshgrid and flattening\n",
    "x, y = np.meshgrid(data_gas_load__pct, data_temp_ret__degC, indexing='ij')\n",
    "x_flat = x.ravel()\n",
    "y_flat = y.ravel()\n",
    "z_flat = data_eta_ch_hhv__W0.ravel()\n",
    "\n",
    "# Fit the bivariate spline using bisplrep\n",
    "kx, ky = 3, 3  # Cubic spline degrees\n",
    "smoothing_factor = 0.1  # You can adjust this value as needed\n",
    "\n",
    "tck = bisplrep(x_flat, y_flat, z_flat, kx=kx, ky=ky, s=smoothing_factor)\n",
    "\n",
    "# Extract knots and coefficients\n",
    "x_knots, y_knots, coeffs = tck[0], tck[1], tck[2]\n",
    "print(f\"x_knots: {x_knots}, y_knots: {y_knots}, coeffs: {coeffs}\")"
   ]
  },
  {
   "cell_type": "code",
   "execution_count": null,
   "id": "9e8de0f4-8b6e-4193-b945-9c1a84eba369",
   "metadata": {},
   "outputs": [],
   "source": [
    "%%time \n",
    "# Evaluate GEKKO spline based in bisplrep() knots and coefficients\n",
    "m3 = GEKKO(remote=False)\n",
    "\n",
    "gas_load__pct = m3.MV(value=gas_load_range__pct, name='gas_load__pct')\n",
    "gas_load__pct.STATUS = 0  # No optimization\n",
    "gas_load__pct.FSTATUS = 1 # Use the measured values\n",
    "    \n",
    "temp_ret__degC = m3.MV(value=temp_ret_range__degC, name='temp_ret__degC')\n",
    "temp_ret__degC.STATUS = 0  # No optimization\n",
    "temp_ret__degC.FSTATUS = 1 # Use the measured values\n",
    "\n",
    "bisplrep_eta_hhv__W0 = m3.Var(name='bisplrep_eta_hhv__W0')\n",
    "\n",
    "m3.bspline(gas_load__pct, temp_ret__degC, bisplrep_eta_hhv__W0, \n",
    "          x_knots, y_knots, coeffs, \n",
    "          data=False,\n",
    "          kx=kx,\n",
    "          ky=ky\n",
    "         )\n",
    "m3.Obj(bisplrep_eta_hhv__W0)\n",
    "m3.options.IMODE=2\n",
    "m3.solve(disp=False)"
   ]
  },
  {
   "cell_type": "markdown",
   "id": "0b15bb2c-5edf-4926-9a18-9db10f97f8c1",
   "metadata": {},
   "source": [
    "##  Compare in plot"
   ]
  },
  {
   "cell_type": "code",
   "execution_count": null,
   "id": "ca502617-c3c2-4d67-9790-f12fed491721",
   "metadata": {},
   "outputs": [],
   "source": [
    "remeha_data_eta_ch_hhv__w0 = np.asarray(boiler_specific_efficiency.unstack(level='rounded_temp_ret__degC').loc[gas_load_eval__pct]).astype(float)"
   ]
  },
  {
   "cell_type": "code",
   "execution_count": null,
   "id": "4e2b1dca-6754-410d-a8fb-77b2d49027a6",
   "metadata": {},
   "outputs": [],
   "source": [
    "# Create a plot\n",
    "plt.figure(figsize=(10, 6))\n",
    "\n",
    "# Plot both datasets\n",
    "plt.plot(temp_ret_range__degC, eta_scipy_eval, label=\"RectBivariateSpline (Scipy)\", marker=\".\", linestyle=\"--\", color=\"green\", alpha=0.5)\n",
    "# plt.plot(temp_ret__degC.value, eta_ch_hhv__W0.value, label=\"GEKKO bspline\", marker=\".\", linestyle=\"-\", color=\"orange\", alpha=0.5)\n",
    "plt.plot(temp_ret__degC.value, rbs_eta_hhv__W0.value, label=\"GEKKO RBS bspline\", marker=\".\", linestyle=\"-\", color=\"blue\", alpha=0.5)\n",
    "plt.plot(temp_ret__degC.value, bisplrep_eta_hhv__W0.value, label=\"GEKKO bisplrep bspline\", marker=\"x\", linestyle=\"-\", color=\"red\", alpha=0.5)\n",
    "plt.plot(data_temp_ret__degC, remeha_data_eta_ch_hhv__w0, label=\"Remeha data\", marker=\"o\", linestyle=\"-\", color=\"black\", alpha=0.5)\n",
    "# Add titles and labels\n",
    "plt.title(f\"Comparison of Efficiency {brand_model} at gas load {gas_load_eval__pct} %\", fontsize=16)\n",
    "plt.xlabel(\"Return temperature [°C]\", fontsize=14)\n",
    "plt.ylabel(\"Efficiency (hhv) [W⁰]\", fontsize=14)\n",
    "\n",
    "# Add grid and legend\n",
    "plt.grid(True, linestyle=\"--\", alpha=0.7)\n",
    "plt.legend(fontsize=12)\n",
    "\n",
    "# Show the plot\n",
    "plt.tight_layout()\n",
    "plt.show()"
   ]
  },
  {
   "cell_type": "markdown",
   "id": "38ac2a0d-dd3b-46b8-8433-5f4b0db79089",
   "metadata": {},
   "source": [
    "## Can we estimate a piecewise, kinked curve?"
   ]
  },
  {
   "cell_type": "code",
   "execution_count": null,
   "id": "71c58d80-937a-4c2b-99a7-e5ce93cfd6c1",
   "metadata": {},
   "outputs": [],
   "source": [
    "%%time\n",
    "m = GEKKO(remote=False)\n",
    "\n",
    "# Create grid for gas load and return temperature\n",
    "grid_gas_load__pct, grid_temp_ret__degC = np.meshgrid(data_gas_load__pct, data_temp_ret__degC, indexing=\"ij\")\n",
    "\n",
    "# Define Manipulated Variables (MVs)\n",
    "# Gas load percentage\n",
    "gas_load__pct = m.MV(value=grid_gas_load__pct.flatten())\n",
    "gas_load__pct.STATUS = 0  # No optimization\n",
    "gas_load__pct.FSTATUS = 1 # Use the measured values\n",
    "\n",
    "# Return temperature in °C\n",
    "temp_ret__degC = m.MV(value=grid_temp_ret__degC.flatten())  \n",
    "temp_ret__degC.STATUS = 0  # No optimization\n",
    "temp_ret__degC.FSTATUS = 1 # Use the measured value\n",
    "\n",
    "# Define Free Variables (FVs) for parameters to be learned\n",
    "c0 = m.FV(value=55)  # Intercept for condensation temperature\n",
    "c1 = m.FV(value=0.1)  # Slope for condensation temperature\n",
    "c2 = m.FV(value=0.01)  \n",
    "t_cond0 = m.FV(value=1)\n",
    "t_cond1 = m.FV(value=0.1)\n",
    "t_cond2 = m.FV(value=0.01)\n",
    "t_nocond0 = m.FV(value=0.9)\n",
    "t_nocond1 = m.FV(value=0.02)\n",
    "g_cond0 = m.FV(value=0.0)\n",
    "g_cond1 = m.FV(value=0.01)\n",
    "g_cond2 = m.FV(value=0.001)\n",
    "g_nocond0 = m.FV(value=0.0)\n",
    "g_nocond1 = m.FV(value=0.01)\n",
    "g_nocond2 = m.FV(value=0.001)\n",
    "# Set options for estimation\n",
    "for fv in [c0, c1, c2,\n",
    "           t_cond0, t_cond1, t_cond2, \n",
    "           t_nocond0, t_nocond1, \n",
    "           g_cond0, g_cond1, g_cond2, \n",
    "           g_nocond0, g_nocond1, g_nocond2,]:\n",
    "    fv.STATUS = 1  # Allow optimization\n",
    "    fv.FSTATUS = 1 # Use the initial value as a hint for the solver\n",
    "\n",
    "# Define Intermediate Variables\n",
    "temp_cond__degC = m.Intermediate(c0 + c1 * gas_load__pct + c2 * gas_load__pct**2)\n",
    "\n",
    "# efficiency below condensation temperature:  2nd degree polynomial for estimate\n",
    "eta_cond_temp_ch_hhv__W0 = m.Intermediate(t_cond0 + t_cond1 * temp_ret__degC + t_cond2 * temp_ret__degC ** 2)\n",
    "\n",
    "# efficiency above condensation temperature: no condentation: linear estimate\n",
    "eta_nocond_temp_ch_hhv__W0 = m.Intermediate(t_nocond0 + t_nocond1 * temp_ret__degC)\n",
    "\n",
    "# Efficiency estimate based on temperature\n",
    "eta_temp_ch_hhv__W0 = m.Intermediate(\n",
    "    m.if2(temp_ret__degC - temp_cond__degC,  # Condition: below condensation temp\n",
    "          eta_cond_temp_ch_hhv__W0,  # temp_ret__degC < temp_cond__degC;\n",
    "          eta_nocond_temp_ch_hhv__W0)  # temp_ret__degC >= temp_cond__degC: no consendation\n",
    ")\n",
    "\n",
    "# Ensure continuity at condensation temperature\n",
    "m.Equation(\n",
    "    (t_cond0 + t_cond1 * temp_cond__degC + t_cond2 * temp_cond__degC ** 2 + g_cond0 + g_cond1 * gas_load__pct + g_cond2 * gas_load__pct ** 2) ==\n",
    "    (t_nocond0 + t_nocond1 * temp_cond__degC + g_nocond0 + g_nocond1 * gas_load__pct + g_nocond2 * gas_load__pct ** 2)\n",
    ")\n",
    "\n",
    "# gas-load influence on efficiency below condensation temperature (condensation)\n",
    "eta_cond_gas_load_ch_hhv__W0 = m.Intermediate(eta_temp_ch_hhv__W0 + g_cond0 + g_cond1 * gas_load__pct + g_cond2 * gas_load__pct ** 2)\n",
    "\n",
    "# gas-load influence on efficiency above condensation temperature (no condensation)\n",
    "eta_nocond_gas_load_ch_hhv__W0 = m.Intermediate(eta_temp_ch_hhv__W0 + g_nocond0 + g_nocond1 * gas_load__pct + g_nocond2 * gas_load__pct ** 2)\n",
    "\n",
    "# Efficiency estimate including gas load, based on temperature\n",
    "eta_gas_load_temp_ch_hhv__W0 = m.Intermediate(\n",
    "    m.if2(temp_ret__degC - temp_cond__degC,  # Condition: below condensation temp\n",
    "          eta_cond_gas_load_ch_hhv__W0,  # temp_ret__degC < temp_cond__degC;\n",
    "          eta_nocond_gas_load_ch_hhv__W0)  # temp_ret__degC >= temp_cond__degC: no consendation\n",
    ")\n",
    "\n",
    "# Ensure continuity at condensation temperature\n",
    "m.Equation(\n",
    "    (t_cond0 + t_cond1 * temp_cond__degC + t_cond2 * temp_cond__degC ** 2 + g_cond0 + g_cond1 * gas_load__pct + g_cond2 * gas_load__pct ** 2) ==\n",
    "    (t_nocond0 + t_nocond1 * temp_cond__degC + g_nocond0 + g_nocond1 * gas_load__pct + g_nocond2 * gas_load__pct ** 2)\n",
    ")\n",
    "\n",
    "# Full efficiency estimate including gas load dependency\n",
    "eta_ch_hhv__W0 = m.CV(value=data_eta_ch_hhv__W0.flatten())\n",
    "eta_ch_hhv__W0.STATUS = 1  # Include this variable in the optimization (enabled for fitting)\n",
    "eta_ch_hhv__W0.FSTATUS = 1  # Use the measured values\n",
    "\n",
    "m.Equation(eta_ch_hhv__W0 == eta_gas_load_temp_ch_hhv__W0)\n",
    "\n",
    "\n",
    "# Solve model\n",
    "m.options.IMODE = 2  # Parameter estimation mode\n",
    "m.options.EV_TYPE = 2      # RMSE\n",
    "m.solve(disp=True)"
   ]
  },
  {
   "cell_type": "markdown",
   "id": "69315d79-ae61-4687-b5f6-17d46e87d5b4",
   "metadata": {},
   "source": [
    "## Plot fitted kinked curve learned from Remeha data"
   ]
  },
  {
   "cell_type": "code",
   "execution_count": null,
   "id": "ff7f2eae-02fa-4577-ac44-59af5bab0870",
   "metadata": {},
   "outputs": [],
   "source": [
    "# Generate meshgrid for plotting\n",
    "temp_ret_vals, gas_load_vals = np.meshgrid(data_temp_ret__degC, data_gas_load__pct)\n",
    "\n",
    "# Compute condensation temperature\n",
    "temp_cond_vals = c0.value[0] + c1.value[0] * gas_load_vals + c2.value[0] * gas_load_vals**2\n",
    "\n",
    "# Apply piecewise calculation\n",
    "fitted_pw_poly_eta_ch_hhv__W0 = np.where(\n",
    "    temp_ret_vals < temp_cond_vals,  # Below condensation temperature\n",
    "    (t_cond0.value[0] + t_cond1.value[0] * temp_ret_vals + t_cond2.value[0] * temp_ret_vals**2),\n",
    "    (t_nocond0.value[0] + t_nocond1.value[0] * temp_ret_vals)\n",
    ")\n",
    "\n",
    "# Add gas load dependency\n",
    "fitted_pw_poly_eta_ch_hhv__W0 = np.where(\n",
    "    temp_ret_vals < temp_cond_vals,  # Below condensation temperature\n",
    "    fitted_pw_poly_eta_ch_hhv__W0  + (g_cond0.value[0] + g_cond1.value[0] * gas_load_vals + g_cond2.value[0] * gas_load_vals**2),\n",
    "    fitted_pw_poly_eta_ch_hhv__W0  + (g_nocond0.value[0] + g_nocond1.value[0] * gas_load_vals + g_nocond2.value[0] * gas_load_vals**2),\n",
    ")\n",
    "\n",
    "fig = plt.figure()\n",
    "ax = fig.add_subplot(111, projection='3d')\n",
    "ax.plot_surface(temp_ret_vals, gas_load_vals, fitted_pw_poly_eta_ch_hhv__W0 , cmap='turbo')\n",
    "ax.set_xlabel('Return Temperature [°C]')\n",
    "ax.set_ylabel('Gas Load [%]')\n",
    "ax.set_zlabel('Efficiency (hhv) [W⁰]')\n",
    "fig.suptitle(f\"{brand_model} poly-fitted curve\", fontsize=16)\n",
    "ax.set_title(f\"MAE = {mae(fitted_pw_poly_eta_ch_hhv__W0 .flatten(), data_eta_ch_hhv__W0.flatten())*100:.2f} [%-point]; RMSE = {rmse(fitted_pw_poly_eta_ch_hhv__W0 .flatten(), data_eta_ch_hhv__W0.flatten())*100:.2f} [%-point]\")\n",
    "plt.show()"
   ]
  },
  {
   "cell_type": "code",
   "execution_count": null,
   "id": "0480bfda-6cb7-443d-874e-00fc3bff97c2",
   "metadata": {},
   "outputs": [],
   "source": [
    "fitted_pw_poly_eta_ch_hhv__W0 .shape"
   ]
  },
  {
   "cell_type": "code",
   "execution_count": null,
   "id": "3eaaff11-e43e-426e-84c3-4cb6b36ed736",
   "metadata": {},
   "outputs": [],
   "source": [
    "fitted_pw_poly_eta_ch_hhv__W0 .flatten().shape"
   ]
  },
  {
   "cell_type": "code",
   "execution_count": null,
   "id": "eaccc3a3-925a-4818-bddc-2a8a4e6ec46e",
   "metadata": {},
   "outputs": [],
   "source": [
    "print(f\"MAE = {mae(fitted_pw_poly_eta_ch_hhv__W0 .flatten(), data_eta_ch_hhv__W0.flatten())*100:.2f} [%-point]\")\n",
    "print(f\"RMSE = {rmse(fitted_pw_poly_eta_ch_hhv__W0 .flatten(), data_eta_ch_hhv__W0.flatten())*100:.2f} [%-point]\")"
   ]
  },
  {
   "cell_type": "code",
   "execution_count": null,
   "id": "dc7ac8a4-0fb0-4e09-8a9e-a59aae29d2c0",
   "metadata": {},
   "outputs": [],
   "source": [
    "# Print learned parameters\n",
    "print(f\"{brand_model} fitted condensation-kinked curve\")\n",
    "print(f\"c0: {c0.VALUE[0]}, c1: {c1.VALUE[0]}, c2: {c2.VALUE[0]}\")\n",
    "print(f\"t_cond0: {t_cond0.VALUE[0]}, t_cond1: {t_cond1.VALUE[0]}, t_cond2: {t_cond2.VALUE[0]}\")\n",
    "print(f\"t_nocond0: {t_nocond0.VALUE[0]}, t_nocond1: {t_nocond1.VALUE[0]}\")\n",
    "print(f\"g_cond0: {g_cond0.VALUE[0]}, g_cond1: {g_cond1.VALUE[0]}, g_cond2: {g_cond2.VALUE[0]}\")\n",
    "print(f\"g_nocond0: {g_nocond0.VALUE[0]}, g_nocond1: {g_nocond1.VALUE[0]}, g_nocond2: {g_nocond2.VALUE[0]}\")\n",
    "\n",
    "print(f\"MAE = {mae(eta_ch_hhv__W0, data_eta_ch_hhv__W0.flatten())*100:.2f} [%-point]\")\n",
    "print(f\"RMSE = {rmse(eta_ch_hhv__W0, data_eta_ch_hhv__W0.flatten())*100:.2f} [%-point]\")"
   ]
  },
  {
   "cell_type": "markdown",
   "id": "359bbe02-c067-4801-b724-63f47120ecf8",
   "metadata": {},
   "source": [
    "## Alternate rouce, using scipy.optimize.curve_fit"
   ]
  },
  {
   "cell_type": "code",
   "execution_count": null,
   "id": "155ba786-8084-41af-bb59-9267a6b58d48",
   "metadata": {},
   "outputs": [],
   "source": [
    "import scipy.optimize as opt"
   ]
  },
  {
   "cell_type": "code",
   "execution_count": null,
   "id": "068df078-35a3-4bdc-82e5-b38ad5098417",
   "metadata": {},
   "outputs": [],
   "source": [
    "# Create grid for gas load and return temperature\n",
    "grid_gas_load__pct, grid_temp_ret__degC = np.meshgrid(data_gas_load__pct, data_temp_ret__degC, indexing=\"ij\")\n",
    "\n",
    "# Flatten the grid data for curve fitting\n",
    "gas_load_flat = grid_gas_load__pct.flatten()\n",
    "temp_ret_flat = grid_temp_ret__degC.flatten()\n",
    "eta_hhv_flat = data_eta_ch_hhv__W0.flatten()\n",
    "\n",
    "# Define piecewise function\n",
    "def efficiency_model(X, c0, c1, t_cond0, t_cond1, t_cond2, t_nocond0, t_nocond1, g0, g1, g2):\n",
    "    gas_load, temp_ret = X\n",
    "    temp_cond = c0 + c1 * gas_load\n",
    "    \n",
    "    cond_phase = (temp_ret < temp_cond)  # Boolean mask for condensation phase\n",
    "\n",
    "    eta_temp = np.where(\n",
    "        cond_phase,  \n",
    "        t_cond0 + t_cond1 * temp_ret + t_cond2 * temp_ret**2,  # Quadratic model\n",
    "        t_nocond0 + t_nocond1 * temp_ret  # Linear model\n",
    "    )\n",
    "\n",
    "    return eta_temp + g0 + g1 * gas_load + g2 * gas_load**2\n",
    "\n",
    "# Fit the model to the data\n",
    "popt, _ = opt.curve_fit(efficiency_model, (gas_load_flat, temp_ret_flat), eta_hhv_flat, \n",
    "                        p0=[55, 0.1, 1, 0.1, 0.01, 0.9, 0.02, 0.0, 0.01, 0.001])\n",
    "\n",
    "# Extract fitted coefficients\n",
    "c0_fit, c1_fit, t_cond0_fit, t_cond1_fit, t_cond2_fit, t_nocond0_fit, t_nocond1_fit, g0_fit, g1_fit, g2_fit = popt"
   ]
  },
  {
   "cell_type": "code",
   "execution_count": null,
   "id": "e4416263-d6b6-492f-bd69-ec86ec310087",
   "metadata": {},
   "outputs": [],
   "source": [
    "print(\"Fitted parameters:\")\n",
    "print(f\"c0: {c0_fit}, c1: {c1_fit}\")\n",
    "print(f\"t_cond0: {t_cond0_fit}, t_cond1: {t_cond1_fit}, t_cond2: {t_cond2_fit}\")\n",
    "print(f\"t_nocond0: {t_nocond0_fit}, t_nocond1: {t_nocond1_fit}\")\n",
    "print(f\"g0: {g0_fit}, g1: {g1_fit}, g2: {g2_fit}\")"
   ]
  }
 ],
 "metadata": {
  "kernelspec": {
   "display_name": "Python 3 (ipykernel)",
   "language": "python",
   "name": "python3"
  },
  "language_info": {
   "codemirror_mode": {
    "name": "ipython",
    "version": 3
   },
   "file_extension": ".py",
   "mimetype": "text/x-python",
   "name": "python",
   "nbconvert_exporter": "python",
   "pygments_lexer": "ipython3",
   "version": "3.11.6"
  }
 },
 "nbformat": 4,
 "nbformat_minor": 5
}
