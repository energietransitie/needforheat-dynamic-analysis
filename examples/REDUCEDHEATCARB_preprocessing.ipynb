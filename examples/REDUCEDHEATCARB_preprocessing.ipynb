{
 "cells": [
  {
   "cell_type": "markdown",
   "id": "6856fc7c-e654-4ab9-af2e-6bfbb4858976",
   "metadata": {},
   "source": [
    "# Preprocessing REDUCEDHEATARB data"
   ]
  },
  {
   "cell_type": "code",
   "execution_count": null,
   "id": "d099eec7-e0ca-4d52-bd04-e58bffd90633",
   "metadata": {
    "tags": []
   },
   "outputs": [],
   "source": [
    "import pandas as pd\n",
    "import numpy as np\n",
    "import pylab as plt\n",
    "from tqdm.notebook import tqdm\n",
    "\n",
    "# usually, two decimals suffice for displaying DataFrames (NB internally, precision may be higher)\n",
    "pd.options.display.precision = 2\n",
    "\n",
    "import sys\n",
    "sys.path.append('../data/')\n",
    "sys.path.append('../view/')\n",
    "sys.path.append('../analysis/')\n",
    "\n",
    "rhc_raw_properties_file='rhc_raw_properties.parquet'\n",
    "\n",
    "home_data_file_path = \"home_data.parquet\"\n",
    "household_data_excel_file_path=\"household_properties_detailed.xlsx\"\n",
    "boiler_returntemp_load_efficiency_file_path = \"boiler_returntemp_load_efficiency.parquet\"\n",
    "\n",
    "interpolate__min=1 # interpolation to 1 minute intervals (takes more space & time!)\n",
    "rhc_preprocessed_poperties_file='rhc_preprocessed_properties_intv_1_min.parquet'\n",
    "\n",
    "# interpolate__min=5 # default interpolation to 5 minute intervals\n",
    "# rhc_preprocessed_poperties_file='rhc_preprocessed_properties_intv_5_min.parquet'\n",
    "\n",
    "\n",
    "%load_ext autoreload\n",
    "\n",
    "%matplotlib inline\n",
    "%matplotlib widget\n",
    "\n",
    "from preprocessor import Preprocessor\n",
    "from plotter import Plot\n",
    "from nfh_utils import *\n",
    "\n",
    "meta_df = None\n"
   ]
  },
  {
   "cell_type": "markdown",
   "id": "2c867b6c-3e5c-478d-aab5-cc3a0b9f2afc",
   "metadata": {
    "jp-MarkdownHeadingCollapsed": true
   },
   "source": [
    "### Load Measured Data Properties from parquet file"
   ]
  },
  {
   "cell_type": "code",
   "execution_count": null,
   "id": "99763197-f115-4b09-93c0-c70d06c8963b",
   "metadata": {},
   "outputs": [],
   "source": [
    "%%time\n",
    "# Prerequisite: for this example to work, you need to have the b4b_raw_properties.parquet, located in the ../data/ folder.\n",
    "# One way to get this is to run NeedForHeatExtractionBackup.ipynb, REDUCEDHEATCARB_data_merge.ipynb and REDUCEDHEATCARB_sanity_check.ipynb first,\n",
    "# but then you have to run this code on the energietransitiewindesheim.nl server\n",
    "\n",
    "# Attempt to read the Parquet file\n",
    "try:\n",
    "    df_prop = pd.read_parquet(\n",
    "        rhc_raw_properties_file, \n",
    "        engine='pyarrow',\n",
    "        dtype_backend='numpy_nullable'\n",
    "        )\n",
    "    print(\"File was successfully read without specifying compression codec.\")\n",
    "except Exception as e:\n",
    "    print(f\"Error reading file: {e}\")\n",
    "\n",
    "#sorting the DataFrame index is needed to get good performance on certain filters\n",
    "#this guarding code to check whether DataFrames are properly sorted\n",
    "if not df_prop.index.is_monotonic_increasing:\n",
    "    print('df needed index sorting')\n",
    "    df_prop = df_prop.sort_index()  "
   ]
  },
  {
   "cell_type": "code",
   "execution_count": null,
   "id": "c775f6aa-f9c4-4060-b7a3-7ca3f4f29b88",
   "metadata": {},
   "outputs": [],
   "source": [
    "print(f\"df_prop.count().sum(): {df_prop.count().sum():_}\")"
   ]
  },
  {
   "cell_type": "code",
   "execution_count": null,
   "id": "f2b4899d-94f9-4307-92ca-80b55014977c",
   "metadata": {
    "tags": []
   },
   "outputs": [],
   "source": [
    "df_prop.index.unique(level='id').values"
   ]
  },
  {
   "cell_type": "code",
   "execution_count": null,
   "id": "d7c6ae4a-ec39-4ff4-9376-131050ae1a0c",
   "metadata": {},
   "outputs": [],
   "source": [
    "df_prop.index.unique(level='source_category').values"
   ]
  },
  {
   "cell_type": "code",
   "execution_count": null,
   "id": "d3187fc4-cf50-420d-a644-05a90e131443",
   "metadata": {
    "tags": []
   },
   "outputs": [],
   "source": [
    "df_prop.index.unique(level='source_type').values"
   ]
  },
  {
   "cell_type": "code",
   "execution_count": null,
   "id": "780de484-b182-40ac-86a4-aa7df0714e20",
   "metadata": {},
   "outputs": [],
   "source": [
    "%%time\n",
    "# Rename long source type names\n",
    "rename_dict = {\n",
    "    'twomes-co2-occupancy-scd41-m5coreink-firmware': 'living_room',\n",
    "    'twomes-p1-reader-firmware': 'p1-reader'\n",
    "}\n",
    "\n",
    "df_prop = df_prop.rename(index=rename_dict, level='source_type')\n"
   ]
  },
  {
   "cell_type": "code",
   "execution_count": null,
   "id": "1f3ae634-404b-43c9-b6dc-b4906b3f20a2",
   "metadata": {},
   "outputs": [],
   "source": [
    "df_prop.index.unique(level='source_type').values"
   ]
  },
  {
   "cell_type": "code",
   "execution_count": null,
   "id": "41467d69-f38b-4ec0-9775-f19ef2afac53",
   "metadata": {},
   "outputs": [],
   "source": [
    "df_prop"
   ]
  },
  {
   "cell_type": "code",
   "execution_count": null,
   "id": "3cbf8bd2-4c58-4f35-9895-a75330a5aafe",
   "metadata": {},
   "outputs": [],
   "source": [
    "print(f\"df_prop.count().sum(): {df_prop.count().sum():_}\")"
   ]
  },
  {
   "cell_type": "code",
   "execution_count": null,
   "id": "fafe1564-83b7-4f3b-85f2-77e491f23903",
   "metadata": {
    "tags": []
   },
   "outputs": [],
   "source": [
    "df_prop.info()"
   ]
  },
  {
   "cell_type": "markdown",
   "id": "9c266f52-00c9-4858-8f74-d20ff5565520",
   "metadata": {
    "jp-MarkdownHeadingCollapsed": true
   },
   "source": [
    "## Optional filter to try out new preprocessing code on a smaller subsample"
   ]
  },
  {
   "cell_type": "code",
   "execution_count": null,
   "id": "c7e90dfb-f131-4c3c-9cab-0e35f5c0adc5",
   "metadata": {},
   "outputs": [],
   "source": [
    "# mask to filter a small sample\n",
    "small_test__mask = (\n",
    "    # (df_prep.index.get_level_values('id') == 483173)\n",
    "    (df_prop.index.get_level_values('id') == 403603)\n",
    "    & \n",
    "    (df_prop.index.get_level_values('timestamp') >= pd.to_datetime('2024-02-23 00:00:00+01:00'))\n",
    "    & \n",
    "    (df_prop.index.get_level_values('timestamp') < pd.to_datetime('2024-02-26 00:00:00+01:00'))\n",
    ")"
   ]
  },
  {
   "cell_type": "code",
   "execution_count": null,
   "id": "c9494062-adf4-4e8f-b985-74c46e355f10",
   "metadata": {},
   "outputs": [],
   "source": [
    "# # comment out the line below to disable the filter\n",
    "# df_prop = df_prop[small_test__mask]"
   ]
  },
  {
   "cell_type": "code",
   "execution_count": null,
   "id": "a2a59e5c-90fe-4acf-aa9f-cf60cddb8764",
   "metadata": {},
   "outputs": [],
   "source": [
    "df_prop.info()"
   ]
  },
  {
   "cell_type": "markdown",
   "id": "f358df11-1f90-4db2-8693-6016ab0663e4",
   "metadata": {
    "tags": []
   },
   "source": [
    "## Inspecting and preprocessing properties"
   ]
  },
  {
   "cell_type": "code",
   "execution_count": null,
   "id": "a2150463-4077-48ef-b1e9-a102eb53cfe4",
   "metadata": {
    "scrolled": true
   },
   "outputs": [],
   "source": [
    "df_prop.describe().T"
   ]
  },
  {
   "cell_type": "code",
   "execution_count": null,
   "id": "0a155532-934b-4e18-89b6-49b889dcb9c4",
   "metadata": {},
   "outputs": [],
   "source": [
    "df_bools_to_float = df_prop[[col for col in df_prop.columns if col.endswith('__bool')]].copy()\n",
    "for col in df_bools_to_float.columns:\n",
    "    df_bools_to_float[col] = df_bools_to_float[col].astype('float')\n",
    "df_bools_to_float.describe().T.drop(columns='count').style.format(\"{:.2%}\")"
   ]
  },
  {
   "cell_type": "markdown",
   "id": "20078b3f-40cf-4116-9ae1-45df59a07a71",
   "metadata": {},
   "source": [
    "### Preprocessing temp_outdoor__degC"
   ]
  },
  {
   "cell_type": "code",
   "execution_count": null,
   "id": "de9e4ba6-b02f-40ec-9009-8dfa9a2af4f7",
   "metadata": {},
   "outputs": [],
   "source": [
    "prop = 'temp_outdoor__degC'"
   ]
  },
  {
   "cell_type": "code",
   "execution_count": null,
   "id": "674c714f-016d-49c4-8019-bd8d2f4b7449",
   "metadata": {},
   "outputs": [],
   "source": [
    "df_prop[prop].describe().T"
   ]
  },
  {
   "cell_type": "code",
   "execution_count": null,
   "id": "8ba44af1-677f-408f-8fe5-ef081f7404d7",
   "metadata": {},
   "outputs": [],
   "source": [
    "df_prop"
   ]
  },
  {
   "cell_type": "code",
   "execution_count": null,
   "id": "42a04474-e8eb-4f54-990f-71febf25e864",
   "metadata": {
    "scrolled": true,
    "tags": []
   },
   "outputs": [],
   "source": [
    "%matplotlib inline\n",
    "%matplotlib widget\n",
    "# Group by 'id' to plot each ID's data separately\n",
    "grouped = df_prop.groupby('id')[prop]\n",
    "\n",
    "# Plotting\n",
    "plt.figure(figsize=(10, 6))\n",
    "for id_val, group_data in grouped:\n",
    "    if not group_data.empty and not group_data.eq(0).all():\n",
    "        group_data.plot.hist(bins=200, alpha=0.5, label=f'ID {id_val}')\n",
    "\n",
    "plt.title(prop)\n",
    "plt.xlabel(prop)\n",
    "plt.ylabel('Frequency')\n",
    "plt.legend()\n",
    "plt.grid(True)\n",
    "plt.show()"
   ]
  },
  {
   "cell_type": "code",
   "execution_count": null,
   "id": "daf26505-ff24-4d0f-aac8-9a4ac732e670",
   "metadata": {},
   "outputs": [],
   "source": [
    "df_prop, meta_df = Preprocessor.filter_min_max(df_prop, prop, min=-28.0, max=40.0, meta_df=meta_df)"
   ]
  },
  {
   "cell_type": "code",
   "execution_count": null,
   "id": "30cc3cfe-ee48-490e-be1e-c2f46f2eaeeb",
   "metadata": {},
   "outputs": [],
   "source": [
    "meta_df"
   ]
  },
  {
   "cell_type": "code",
   "execution_count": null,
   "id": "57378b10-363f-4730-af64-f82cb0b283e4",
   "metadata": {},
   "outputs": [],
   "source": [
    "df_prop[prop].describe().T"
   ]
  },
  {
   "cell_type": "code",
   "execution_count": null,
   "id": "883c4755-86f5-416c-96f3-4019c0824337",
   "metadata": {
    "scrolled": true,
    "tags": []
   },
   "outputs": [],
   "source": [
    "%matplotlib inline\n",
    "%matplotlib widget\n",
    "df_prop[prop].plot.hist(bins=200, alpha=0.5, title = prop)"
   ]
  },
  {
   "cell_type": "code",
   "execution_count": null,
   "id": "a3ae595c-c187-4158-8afb-66736398a5cf",
   "metadata": {},
   "outputs": [],
   "source": [
    "df_prop"
   ]
  },
  {
   "cell_type": "code",
   "execution_count": null,
   "id": "d2b261da-88f9-4a57-bf54-20332a03670a",
   "metadata": {},
   "outputs": [],
   "source": [
    "# df_prop['remeha_temp_outdoor__degC'].dropna().to_frame(name='remeha_temp_outdoor__degC').unstack(level='id').dropna(axis=1, how='all') # batch_import_remeha_temp_outdoor__degC\n",
    "df_remeha_temp_outdoor__degC = df_prop.loc[(slice(None), slice(None), 'remeha', slice(None)), 'temp_outdoor__degC'].dropna().unstack(level='id').dropna(axis=1, how='all') # batch_import_remeha_temp_outdoor__degC\n"
   ]
  },
  {
   "cell_type": "code",
   "execution_count": null,
   "id": "3dc8f2e4-b97a-4201-8d28-cc71e0920192",
   "metadata": {},
   "outputs": [],
   "source": [
    "df_remeha_temp_outdoor__degC.count()"
   ]
  },
  {
   "cell_type": "code",
   "execution_count": null,
   "id": "49728687-95e1-42b0-860c-30d415d796f2",
   "metadata": {},
   "outputs": [],
   "source": [
    "if not df_remeha_temp_outdoor__degC.empty:\n",
    "    pd.Series(df_remeha_temp_outdoor__degC\n",
    "              .xs('remeha', level='source_type')\n",
    "              .xs('batch_import', level='source_category')[458000]\n",
    "              .dropna()\n",
    "              .to_frame()\n",
    "              .index\n",
    "              .diff()\n",
    "              ).describe()\n"
   ]
  },
  {
   "cell_type": "code",
   "execution_count": null,
   "id": "69dc7c56-0bf0-45a5-acfe-639a8af0e867",
   "metadata": {},
   "outputs": [],
   "source": [
    "if not df_remeha_temp_outdoor__degC.empty:\n",
    "    pd.Series(df_remeha_temp_outdoor__degC\n",
    "              .xs('remeha', level='source_type')\n",
    "              .xs('batch_import', level='source_category')[478667]\n",
    "              .dropna()\n",
    "              .to_frame()\n",
    "              .index\n",
    "              .diff()\n",
    "              ).describe()\n"
   ]
  },
  {
   "cell_type": "code",
   "execution_count": null,
   "id": "21e426c8-ced1-43bc-9a1f-35de326203a3",
   "metadata": {},
   "outputs": [],
   "source": [
    "if not df_remeha_temp_outdoor__degC.empty:\n",
    "    df_remeha_temp_outdoor__degC[458000].dropna().sort_index()"
   ]
  },
  {
   "cell_type": "code",
   "execution_count": null,
   "id": "bc9ce819-fc5a-4841-8243-7f893a3598de",
   "metadata": {},
   "outputs": [],
   "source": [
    "if not df_remeha_temp_outdoor__degC.empty:\n",
    "    df_remeha_temp_outdoor__degC[478667].dropna().sort_index()"
   ]
  },
  {
   "cell_type": "markdown",
   "id": "f56059a2-42cc-4eae-ab7e-8a3e17148e32",
   "metadata": {},
   "source": [
    "### Additional weather interpolation checks\n"
   ]
  },
  {
   "cell_type": "code",
   "execution_count": null,
   "id": "80b7b09c-d3da-45f4-809f-a364d4495dd3",
   "metadata": {},
   "outputs": [],
   "source": [
    "%%time\n",
    "# Attempt to read the Parquet file\n",
    "try:\n",
    "    df_prop = pd.read_parquet(\n",
    "        rhc_raw_properties_file_path, \n",
    "        engine='pyarrow',\n",
    "        dtype_backend='numpy_nullable'\n",
    "        )\n",
    "    print(\"File was successfully read without specifying compression codec.\")\n",
    "except Exception as e:\n",
    "    print(f\"Error reading file: {e}\")\n",
    "\n",
    "#sorting the DataFrame index is needed to get good performance on certain filters\n",
    "#this guarding code to check whether DataFrames are properly sorted\n",
    "if not df_prop.index.is_monotonic_increasing:\n",
    "    print('df needed index sorting')\n",
    "    df_prop = df_prop.sort_index()  "
   ]
  },
  {
   "cell_type": "code",
   "execution_count": null,
   "id": "c296cab0-db83-4892-bfaf-796cc8582764",
   "metadata": {},
   "outputs": [],
   "source": [
    "weather_locations_path = \"weather_interpolation_locations.parquet\""
   ]
  },
  {
   "cell_type": "code",
   "execution_count": null,
   "id": "4a2da362-248e-467d-b95f-e3db4d71bb87",
   "metadata": {},
   "outputs": [],
   "source": [
    "%%time\n",
    "# read df_weather_locations from Parquet file\n",
    "try:\n",
    "    df_weather_locations = pd.read_parquet(\n",
    "        weather_locations_path, \n",
    "        engine='pyarrow',\n",
    "        dtype_backend='numpy_nullable'\n",
    "        )\n",
    "    print(\"File was successfully read without specifying compression codec.\")\n",
    "except Exception as e:\n",
    "    print(f\"Error reading file: {e}\")"
   ]
  },
  {
   "cell_type": "code",
   "execution_count": null,
   "id": "c112d567-d5e6-4227-bb74-8657e5761c34",
   "metadata": {},
   "outputs": [],
   "source": [
    "df_weather_locations"
   ]
  },
  {
   "cell_type": "code",
   "execution_count": null,
   "id": "af11c53c-5ff6-4c00-ab2b-39ec8cbaae85",
   "metadata": {},
   "outputs": [],
   "source": [
    "suspect_df_prop_wind = df_prop.loc[\n",
    "    (df_prop.index.get_level_values('source_category') == 'batch_import') &\n",
    "    (df_prop.index.get_level_values('source_type') == 'KNMI') &\n",
    "    (df_prop['wind__m_s_1'] < 0),\n",
    "    ['wind__m_s_1']\n",
    "]"
   ]
  },
  {
   "cell_type": "code",
   "execution_count": null,
   "id": "f0a9c370-4fdb-4bb3-a6da-0900bd966119",
   "metadata": {},
   "outputs": [],
   "source": [
    "suspect_wind = suspect_df_prop_wind.count().item()\n",
    "total_wind = df_prop['wind__m_s_1'].count().item()\n",
    "print(f\"wind: suspect {suspect_wind:_}; total: {total_wind:_}; fraction: {suspect_wind/total_wind:%}\")"
   ]
  },
  {
   "cell_type": "code",
   "execution_count": null,
   "id": "a4784230-3935-4ccc-b220-2bb6f0ed3dff",
   "metadata": {},
   "outputs": [],
   "source": [
    "suspect_df_prop_wind.index.get_level_values('id').unique()"
   ]
  },
  {
   "cell_type": "code",
   "execution_count": null,
   "id": "2c1b1b6d-448c-4a09-bfbf-a8d0d3654203",
   "metadata": {},
   "outputs": [],
   "source": [
    "suspect_wind_cells = list(df_weather_locations.loc[suspect_df_prop_wind.index.get_level_values('id').unique()]['weather_H3_cell_id'].unique())"
   ]
  },
  {
   "cell_type": "code",
   "execution_count": null,
   "id": "0bf18991-28b6-4ab9-8065-e4fce26faff2",
   "metadata": {},
   "outputs": [],
   "source": [
    "suspect_wind_cells"
   ]
  },
  {
   "cell_type": "code",
   "execution_count": null,
   "id": "a8a09652-0164-46c4-b7f0-29f0116353f9",
   "metadata": {},
   "outputs": [],
   "source": [
    "suspect_df_prop_wind.describe().T"
   ]
  },
  {
   "cell_type": "code",
   "execution_count": null,
   "id": "ddec0db7-d9ff-49b8-9a88-e765d2df585a",
   "metadata": {},
   "outputs": [],
   "source": [
    "suspect_df_prop_sun = df_prop.loc[\n",
    "    (df_prop.index.get_level_values('source_category') == 'batch_import') &\n",
    "    (df_prop.index.get_level_values('source_type') == 'KNMI') &\n",
    "    (df_prop['sol_ghi__W_m_2'] < 0),\n",
    "    ['sol_ghi__W_m_2']\n",
    "]"
   ]
  },
  {
   "cell_type": "code",
   "execution_count": null,
   "id": "e161da2b-245d-4a15-a15a-96458a4b1f60",
   "metadata": {},
   "outputs": [],
   "source": [
    "suspect_sun = suspect_df_prop_sun.count().item()\n",
    "total_sun = df_prop['sol_ghi__W_m_2'].count().item()\n",
    "print(f\"sun: suspect {suspect_sun:_}; total: {total_sun:_}; fraction: {suspect_sun/total_sun:%}\")"
   ]
  },
  {
   "cell_type": "code",
   "execution_count": null,
   "id": "a847475d-8c5e-432f-82e3-eec57d27fdba",
   "metadata": {},
   "outputs": [],
   "source": [
    "suspect_df_prop_sun.index.get_level_values('id').unique()"
   ]
  },
  {
   "cell_type": "code",
   "execution_count": null,
   "id": "8de9ff65-c01b-4574-becd-769a5fc8d261",
   "metadata": {},
   "outputs": [],
   "source": [
    "suspect_sun_cells = list(df_weather_locations.loc[suspect_df_prop_sun.index.get_level_values('id').unique()]['weather_H3_cell_id'].unique())"
   ]
  },
  {
   "cell_type": "code",
   "execution_count": null,
   "id": "dea77b86-f14c-4c22-8295-a65614f31fdd",
   "metadata": {},
   "outputs": [],
   "source": [
    "suspect_df_prop_sun.describe().T"
   ]
  },
  {
   "cell_type": "markdown",
   "id": "73a913e7-8f8d-4f57-8c5b-7a022d8c2e06",
   "metadata": {},
   "source": [
    "### Preprocessing wind__m_s_1\n"
   ]
  },
  {
   "cell_type": "code",
   "execution_count": null,
   "id": "35b66c2f-932c-4cb2-8f2f-ffa07cff9362",
   "metadata": {},
   "outputs": [],
   "source": [
    "prop = 'wind__m_s_1'"
   ]
  },
  {
   "cell_type": "code",
   "execution_count": null,
   "id": "1667ecf2-8f45-472d-8611-c02a319d7858",
   "metadata": {},
   "outputs": [],
   "source": [
    "df_prop[prop].describe().T"
   ]
  },
  {
   "cell_type": "code",
   "execution_count": null,
   "id": "5b82746a-d3ba-44f9-8b24-1c138f11e9c9",
   "metadata": {
    "scrolled": true,
    "tags": []
   },
   "outputs": [],
   "source": [
    "%matplotlib inline\n",
    "%matplotlib widget\n",
    "# Group by 'id' to plot each ID's data separately\n",
    "grouped = df_prop.groupby('id')[prop]\n",
    "\n",
    "# Plotting\n",
    "plt.figure(figsize=(10, 6))\n",
    "for id_val, group_data in grouped:\n",
    "    if not group_data.empty and not group_data.eq(0).all():\n",
    "        group_data.plot.hist(bins=200, alpha=0.5, label=f'ID {id_val}')\n",
    "\n",
    "plt.title(prop)\n",
    "plt.xlabel(prop)\n",
    "plt.ylabel('Frequency')\n",
    "plt.legend()\n",
    "plt.grid(True)\n",
    "plt.show()"
   ]
  },
  {
   "cell_type": "code",
   "execution_count": null,
   "id": "4c46f679-a90f-4fcb-a174-d34bbbc2d91c",
   "metadata": {},
   "outputs": [],
   "source": [
    "# Ensure that geospatial interpolation did not cause negative wind speed values\n",
    "df_prop[prop] = df_prop[prop].clip(lower=0)"
   ]
  },
  {
   "cell_type": "code",
   "execution_count": null,
   "id": "53d0c52b-7d75-467f-b417-230bf4e464bb",
   "metadata": {},
   "outputs": [],
   "source": [
    "df_prop[prop].describe().T"
   ]
  },
  {
   "cell_type": "code",
   "execution_count": null,
   "id": "5a5b2b3c-457d-4a08-86e4-1c1dd93ab645",
   "metadata": {
    "scrolled": true,
    "tags": []
   },
   "outputs": [],
   "source": [
    "%matplotlib inline\n",
    "%matplotlib widget\n",
    "df_prop[prop].plot.hist(bins=200, alpha=0.5, title = prop)"
   ]
  },
  {
   "cell_type": "markdown",
   "id": "4d878f91-895a-47d3-9e8c-b29364b34265",
   "metadata": {},
   "source": [
    "### Preprocessing sol_ghi__W_m_2"
   ]
  },
  {
   "cell_type": "code",
   "execution_count": null,
   "id": "0923308d-11a1-4301-9a3b-54ace4a610b5",
   "metadata": {},
   "outputs": [],
   "source": [
    "prop = 'sol_ghi__W_m_2'"
   ]
  },
  {
   "cell_type": "code",
   "execution_count": null,
   "id": "8506bc6b-53fb-45a4-8480-3ced00eef10c",
   "metadata": {},
   "outputs": [],
   "source": [
    "df_prop[prop].describe().T"
   ]
  },
  {
   "cell_type": "code",
   "execution_count": null,
   "id": "6a949099-ecac-44e3-a215-02b62a1013bf",
   "metadata": {
    "scrolled": true,
    "tags": []
   },
   "outputs": [],
   "source": [
    "%matplotlib inline\n",
    "%matplotlib widget\n",
    "# Group by 'id' to plot each ID's data separately\n",
    "grouped = df_prop.groupby('id')[prop]\n",
    "\n",
    "# Plotting\n",
    "plt.figure(figsize=(10, 6))\n",
    "for id_val, group_data in grouped:\n",
    "    if not group_data.empty and not group_data.eq(0).all():\n",
    "        group_data.plot.hist(bins=200, alpha=0.5, label=f'ID {id_val}')\n",
    "\n",
    "plt.title(prop)\n",
    "plt.xlabel(prop)\n",
    "plt.ylabel('Frequency')\n",
    "plt.legend()\n",
    "plt.grid(True)\n",
    "plt.show()"
   ]
  },
  {
   "cell_type": "code",
   "execution_count": null,
   "id": "38565be0-9d30-4732-a95e-ba3f57b040c2",
   "metadata": {},
   "outputs": [],
   "source": [
    "# Ensure that geospatial interpolation did not cause negative GHI values\n",
    "df_prop[prop] = df_prop[prop].clip(lower=0)"
   ]
  },
  {
   "cell_type": "code",
   "execution_count": null,
   "id": "592336a9-77de-4fff-b70c-8cec83b72d6d",
   "metadata": {},
   "outputs": [],
   "source": [
    "df_prop[prop].describe().T"
   ]
  },
  {
   "cell_type": "code",
   "execution_count": null,
   "id": "79628baf-e202-49c0-a277-77cbc0b1abce",
   "metadata": {
    "scrolled": true,
    "tags": []
   },
   "outputs": [],
   "source": [
    "%matplotlib inline\n",
    "%matplotlib widget\n",
    "df_prop[prop].plot.hist(bins=200, alpha=0.5, title = prop)"
   ]
  },
  {
   "cell_type": "markdown",
   "id": "bfe1a521-537e-4c7f-a6ed-082c0ec07faf",
   "metadata": {},
   "source": [
    "### Preprocessing temp_indoor__degC"
   ]
  },
  {
   "cell_type": "code",
   "execution_count": null,
   "id": "99be4471-d48a-482c-9583-920b736de930",
   "metadata": {},
   "outputs": [],
   "source": [
    "prop = 'temp_indoor__degC'"
   ]
  },
  {
   "cell_type": "code",
   "execution_count": null,
   "id": "ac5a8de9-1acc-4ea5-a708-b80fee747591",
   "metadata": {
    "scrolled": true
   },
   "outputs": [],
   "source": [
    "df_prop[prop].describe().T"
   ]
  },
  {
   "cell_type": "code",
   "execution_count": null,
   "id": "465543b0-98a1-4ce3-91dd-e0a4cd84ce78",
   "metadata": {
    "scrolled": true,
    "tags": []
   },
   "outputs": [],
   "source": [
    "%matplotlib inline\n",
    "%matplotlib widget\n",
    "df_prop[prop].plot.hist(bins=200, alpha=0.5, title = prop)"
   ]
  },
  {
   "cell_type": "code",
   "execution_count": null,
   "id": "26f5caeb-b424-4880-b971-2cb6519152fb",
   "metadata": {},
   "outputs": [],
   "source": [
    "df_prop, meta_df = Preprocessor.filter_min_max(df_prop, prop, min=0.0, max=40.0, meta_df=meta_df)"
   ]
  },
  {
   "cell_type": "code",
   "execution_count": null,
   "id": "b6cb9a02-2916-4903-a3cf-475c8195924c",
   "metadata": {},
   "outputs": [],
   "source": [
    "meta_df"
   ]
  },
  {
   "cell_type": "code",
   "execution_count": null,
   "id": "0a1a37d0-a626-48a6-925b-0318fe7e7aef",
   "metadata": {},
   "outputs": [],
   "source": [
    "df_prop[prop].info()"
   ]
  },
  {
   "cell_type": "code",
   "execution_count": null,
   "id": "01c92a9c-3c23-463e-82c1-d8aedaa5fc6e",
   "metadata": {},
   "outputs": [],
   "source": [
    "df_prop[prop].groupby(level='id').count()"
   ]
  },
  {
   "cell_type": "code",
   "execution_count": null,
   "id": "aa3038f8-695a-491a-ae4f-2d6ebb86b52c",
   "metadata": {
    "scrolled": true
   },
   "outputs": [],
   "source": [
    "df_prop[prop].describe().T"
   ]
  },
  {
   "cell_type": "code",
   "execution_count": null,
   "id": "6355d7c1-f97e-441b-9281-56b837642eec",
   "metadata": {
    "scrolled": true,
    "tags": []
   },
   "outputs": [],
   "source": [
    "%matplotlib inline\n",
    "%matplotlib widget\n",
    "df_prop[prop].plot.hist(bins=200, alpha=0.5, title = prop)"
   ]
  },
  {
   "cell_type": "code",
   "execution_count": null,
   "id": "9597eb74-acbb-4c2a-8a49-7db9cdaf77df",
   "metadata": {
    "scrolled": true,
    "tags": []
   },
   "outputs": [],
   "source": [
    "%matplotlib inline\n",
    "%matplotlib widget\n",
    "df_prop[['temp_indoor__degC', 'temp_set__degC']].plot.hist(bins=200, alpha=0.5, title = 'temp_indoor__degC, temp_set__degC')"
   ]
  },
  {
   "cell_type": "markdown",
   "id": "e07bda8c-8f4f-44b0-a9d1-bd6d72312582",
   "metadata": {},
   "source": [
    "#### Preprocess indoor temperatures per source_category"
   ]
  },
  {
   "cell_type": "code",
   "execution_count": null,
   "id": "9a17f814-2ca0-4999-bfde-fe6fcceb3301",
   "metadata": {},
   "outputs": [],
   "source": [
    "df_prop[prop].groupby(level='source_type', observed=True).describe()"
   ]
  },
  {
   "cell_type": "code",
   "execution_count": null,
   "id": "317b9049-2860-4c94-b51a-6a9197776269",
   "metadata": {},
   "outputs": [],
   "source": [
    "%matplotlib inline\n",
    "%matplotlib widget\n",
    "source_types = df_prop.index.get_level_values('source_type').unique()\n",
    "valid_source_types = [st for st in source_types if not df_prop.xs(st, level='source_type')[prop].dropna().empty]\n",
    "\n",
    "# Create the plot\n",
    "plt.figure(figsize=(10, 6))\n",
    "\n",
    "for source_type in valid_source_types:\n",
    "    # Filter DataFrame for the current source_type and drop NaN values\n",
    "    df_filtered = df_prop.xs(source_type, level='source_type')[prop].dropna()\n",
    "    \n",
    "    # Plot the histogram using matplotlib directly\n",
    "    plt.hist(df_filtered, bins=200, alpha=0.5, density=True, label=source_type)\n",
    "\n",
    "plt.legend()\n",
    "plt.show()"
   ]
  },
  {
   "cell_type": "code",
   "execution_count": null,
   "id": "f4c56c6d-7407-42aa-adbf-d130241f3214",
   "metadata": {},
   "outputs": [],
   "source": [
    "source_types"
   ]
  },
  {
   "cell_type": "code",
   "execution_count": null,
   "id": "eb220aa0-3d2e-4ee8-9c0a-314b3cc6a94d",
   "metadata": {},
   "outputs": [],
   "source": [
    "df_prop.index.dtypes"
   ]
  },
  {
   "cell_type": "code",
   "execution_count": null,
   "id": "e9a74e2b-a679-407b-8fd3-54d9fb89150b",
   "metadata": {},
   "outputs": [],
   "source": [
    "df_prop.info()"
   ]
  },
  {
   "cell_type": "code",
   "execution_count": null,
   "id": "c7ffb49f-8c00-4959-b315-1b87a2818c47",
   "metadata": {},
   "outputs": [],
   "source": [
    "%autoreload 2 \n",
    "df_calibration_factors = Preprocessor.compute_calibration_factors(df_prop, prop, 'living_room', 'remeha', 20)"
   ]
  },
  {
   "cell_type": "code",
   "execution_count": null,
   "id": "a10ed0d9-c64a-491a-b669-6cf0c1a3c742",
   "metadata": {},
   "outputs": [],
   "source": [
    "df_calibration_factors.set_index('id').T"
   ]
  },
  {
   "cell_type": "code",
   "execution_count": null,
   "id": "d7ee5025-0985-451d-90cd-71a256a4f834",
   "metadata": {},
   "outputs": [],
   "source": [
    "pd.DataFrame(df_calibration_factors.mean()).T"
   ]
  },
  {
   "cell_type": "code",
   "execution_count": null,
   "id": "96d1c381-63db-43f6-8789-6026e6bd9158",
   "metadata": {},
   "outputs": [],
   "source": [
    "%%time\n",
    "df_prop, metadata = Preprocessor.create_calibrated_property(df_prop, prop, 'living_room', 'remeha', 20)        \n"
   ]
  },
  {
   "cell_type": "code",
   "execution_count": null,
   "id": "e5e23738-d7b0-48a3-9d4c-4b071912c048",
   "metadata": {},
   "outputs": [],
   "source": [
    "df_prop[prop].groupby(level='source_type', observed=True).describe()"
   ]
  },
  {
   "cell_type": "code",
   "execution_count": null,
   "id": "e8d39e86-347d-4c7a-95fe-0179d7849c55",
   "metadata": {},
   "outputs": [],
   "source": [
    "metadata"
   ]
  },
  {
   "cell_type": "code",
   "execution_count": null,
   "id": "2244dd4b-cfc4-431d-a24d-4f210adc90b0",
   "metadata": {},
   "outputs": [],
   "source": [
    "%matplotlib inline\n",
    "%matplotlib widget\n",
    "source_types = df_prop.index.get_level_values('source_type').unique()\n",
    "valid_source_types = [st for st in source_types if not df_prop.xs(st, level='source_type')[prop].dropna().empty]\n",
    "\n",
    "# Create the plot\n",
    "plt.figure(figsize=(10, 6))\n",
    "\n",
    "for source_type in valid_source_types:\n",
    "    # Filter DataFrame for the current source_type and drop NaN values\n",
    "    df_filtered = df_prop.xs(source_type, level='source_type')[prop].dropna()\n",
    "    \n",
    "    # Plot the histogram using matplotlib directly\n",
    "    plt.hist(df_filtered, bins=200, alpha=0.5, density=True, label=source_type)\n",
    "\n",
    "plt.legend()\n",
    "plt.show()"
   ]
  },
  {
   "cell_type": "markdown",
   "id": "3fc6270f-e734-49e6-97ad-e2d1dfe9693d",
   "metadata": {},
   "source": [
    "### Preprocessing dhw_temp__degC"
   ]
  },
  {
   "cell_type": "code",
   "execution_count": null,
   "id": "ba96178f-401c-42f6-b3c6-3244df3e7f82",
   "metadata": {},
   "outputs": [],
   "source": [
    "prop = 'dhw_temp__degC'"
   ]
  },
  {
   "cell_type": "code",
   "execution_count": null,
   "id": "3f702338-427f-40c6-81c4-e99eb942ad95",
   "metadata": {
    "scrolled": true
   },
   "outputs": [],
   "source": [
    "df_prop[prop].describe().T"
   ]
  },
  {
   "cell_type": "code",
   "execution_count": null,
   "id": "e5514079-db93-4907-9160-af62c1abe7de",
   "metadata": {
    "scrolled": true,
    "tags": []
   },
   "outputs": [],
   "source": [
    "%matplotlib inline\n",
    "%matplotlib widget\n",
    "df_prop[prop].plot.hist(bins=200, alpha=0.5, title = prop)"
   ]
  },
  {
   "cell_type": "code",
   "execution_count": null,
   "id": "8ea2e6b3-b520-421e-833d-896458fa8d2c",
   "metadata": {},
   "outputs": [],
   "source": [
    "df_prop, meta_df = Preprocessor.filter_min_max(df_prop, prop, min=0.0, max=100.0, meta_df=meta_df)"
   ]
  },
  {
   "cell_type": "code",
   "execution_count": null,
   "id": "69cea746-c8a2-40d4-8925-3488de505149",
   "metadata": {},
   "outputs": [],
   "source": [
    "meta_df"
   ]
  },
  {
   "cell_type": "code",
   "execution_count": null,
   "id": "d6b6b3e4-7ec6-4bb5-aa79-d9d6bddf4a5f",
   "metadata": {
    "scrolled": true
   },
   "outputs": [],
   "source": [
    "df_prop[prop].describe().T"
   ]
  },
  {
   "cell_type": "code",
   "execution_count": null,
   "id": "a49b6448-dcd8-4766-b065-0503ff636416",
   "metadata": {
    "tags": []
   },
   "outputs": [],
   "source": [
    "%matplotlib inline\n",
    "%matplotlib widget\n",
    "df_prop[prop].plot.hist(bins=200, alpha=0.5, title = prop)"
   ]
  },
  {
   "cell_type": "markdown",
   "id": "10d4027f-1f91-4dd3-9e26-6f2251fa8a34",
   "metadata": {},
   "source": [
    "### Preprocessing dhw_flow__l_min_1"
   ]
  },
  {
   "cell_type": "code",
   "execution_count": null,
   "id": "5b1c6eba-b12c-4616-9954-d710b0b7e1cf",
   "metadata": {},
   "outputs": [],
   "source": [
    "prop = 'dhw_flow__l_min_1'"
   ]
  },
  {
   "cell_type": "code",
   "execution_count": null,
   "id": "4eeb58f8-14f3-4d44-a2c6-2cbf521f4d8a",
   "metadata": {
    "scrolled": true
   },
   "outputs": [],
   "source": [
    "df_prop[prop].describe().T"
   ]
  },
  {
   "cell_type": "code",
   "execution_count": null,
   "id": "e187b0e3-1121-4210-b6b5-dffa293c88cb",
   "metadata": {
    "scrolled": true,
    "tags": []
   },
   "outputs": [],
   "source": [
    "%matplotlib inline\n",
    "%matplotlib widget\n",
    "df_prop[prop].plot.hist(bins=200, alpha=0.5, title = prop)"
   ]
  },
  {
   "cell_type": "code",
   "execution_count": null,
   "id": "23c2ea7b-672b-41d1-970a-f20cf1920c0f",
   "metadata": {
    "scrolled": true
   },
   "outputs": [],
   "source": [
    "df_prop[prop].info()"
   ]
  },
  {
   "cell_type": "code",
   "execution_count": null,
   "id": "5542b36d-a7f6-4de8-83a6-29d78518f258",
   "metadata": {},
   "outputs": [],
   "source": [
    "df_prop[prop].groupby(level='id').describe().style.map(Preprocessor.highlight_zero, subset=['std'])"
   ]
  },
  {
   "cell_type": "code",
   "execution_count": null,
   "id": "1916763a-9921-4ff6-aebc-9fa43121354c",
   "metadata": {},
   "outputs": [],
   "source": [
    "df_prop, meta_df = Preprocessor.filter_id_prop_with_std_zero(df_prop, prop, meta_df=meta_df)"
   ]
  },
  {
   "cell_type": "code",
   "execution_count": null,
   "id": "d12bf45e-0605-4bf3-993c-90a053bbbeec",
   "metadata": {},
   "outputs": [],
   "source": [
    "meta_df"
   ]
  },
  {
   "cell_type": "code",
   "execution_count": null,
   "id": "ad6eb6fe-bf7d-4e40-8a1c-92cc5aa6ba13",
   "metadata": {},
   "outputs": [],
   "source": [
    "df_prop[prop].groupby(level='id').describe().style.map(Preprocessor.highlight_zero, subset=['std'])"
   ]
  },
  {
   "cell_type": "code",
   "execution_count": null,
   "id": "e0feb769-f20d-4ef0-b15c-5e1eef1ee41b",
   "metadata": {
    "scrolled": true
   },
   "outputs": [],
   "source": [
    "df_prop[prop].describe().T"
   ]
  },
  {
   "cell_type": "code",
   "execution_count": null,
   "id": "03780797-bdc4-433e-9637-79bc8a10c322",
   "metadata": {
    "tags": []
   },
   "outputs": [],
   "source": [
    "%matplotlib inline\n",
    "%matplotlib widget\n",
    "df_prop[prop].plot.hist(bins=200, alpha=0.5, title = prop)"
   ]
  },
  {
   "cell_type": "code",
   "execution_count": null,
   "id": "1dbdfc20-77d5-4033-a17b-d48b93d6e455",
   "metadata": {},
   "outputs": [],
   "source": [
    "df_prop_filtered = df_prop[prop][df_prop[prop] != 0]"
   ]
  },
  {
   "cell_type": "code",
   "execution_count": null,
   "id": "05b04baa-4c4d-4b18-9312-33f442e10197",
   "metadata": {},
   "outputs": [],
   "source": [
    "df_prop_filtered.info()"
   ]
  },
  {
   "cell_type": "code",
   "execution_count": null,
   "id": "cf6685b9-cbd0-4bb1-85fc-57fff8b19e22",
   "metadata": {},
   "outputs": [],
   "source": [
    "df_prop_filtered.describe().T"
   ]
  },
  {
   "cell_type": "code",
   "execution_count": null,
   "id": "0e53e491-94cd-45c7-84f3-d4701411eab9",
   "metadata": {
    "tags": []
   },
   "outputs": [],
   "source": [
    "%matplotlib inline\n",
    "%matplotlib widget\n",
    "df_prop_filtered.plot.hist(bins=200, alpha=0.5, title = prop)"
   ]
  },
  {
   "cell_type": "markdown",
   "id": "bc8c4bf3-5183-47ba-8f44-8a9955db136c",
   "metadata": {},
   "source": [
    "### Preprocessing flow and return temperatures"
   ]
  },
  {
   "cell_type": "markdown",
   "id": "eb969ac8-bf1c-4d41-936a-5ce71c5f904e",
   "metadata": {},
   "source": [
    "#### Preprocessing temp_flow__degC"
   ]
  },
  {
   "cell_type": "code",
   "execution_count": null,
   "id": "355ee5ac-66ee-4fa5-aa13-94eb867d17a0",
   "metadata": {},
   "outputs": [],
   "source": [
    "prop = 'temp_flow__degC'"
   ]
  },
  {
   "cell_type": "code",
   "execution_count": null,
   "id": "b95629f3-690c-42b3-9d9f-194438eca7f7",
   "metadata": {
    "scrolled": true
   },
   "outputs": [],
   "source": [
    "df_prop[prop].describe().T"
   ]
  },
  {
   "cell_type": "code",
   "execution_count": null,
   "id": "e4a73e33-bda6-454d-969d-febbf971c942",
   "metadata": {
    "scrolled": true,
    "tags": []
   },
   "outputs": [],
   "source": [
    "%matplotlib inline\n",
    "%matplotlib widget\n",
    "df_prop[prop].plot.hist(bins=200, alpha=0.5, title = prop)"
   ]
  },
  {
   "cell_type": "code",
   "execution_count": null,
   "id": "dea78ed3-6d25-49bb-a37a-37f070bd67b2",
   "metadata": {},
   "outputs": [],
   "source": [
    "df_prop, meta_df = Preprocessor.filter_min_max(df_prop, prop, min=0.0, max=100.0, meta_df=meta_df)"
   ]
  },
  {
   "cell_type": "code",
   "execution_count": null,
   "id": "0b47676c-c4ac-4a16-9619-f23ed469b433",
   "metadata": {},
   "outputs": [],
   "source": [
    "meta_df"
   ]
  },
  {
   "cell_type": "code",
   "execution_count": null,
   "id": "2e4c65e2-08a5-4724-a3bf-5995ec8eac2d",
   "metadata": {
    "scrolled": true
   },
   "outputs": [],
   "source": [
    "df_prop[prop].describe().T"
   ]
  },
  {
   "cell_type": "markdown",
   "id": "7f84c4fd-fe03-404b-a27a-32eeb6a1c2e1",
   "metadata": {},
   "source": [
    "#### Preprocessing temp_ret__degC"
   ]
  },
  {
   "cell_type": "code",
   "execution_count": null,
   "id": "f8a097bc-a914-4ef8-b90c-84357b9fae25",
   "metadata": {},
   "outputs": [],
   "source": [
    "prop = 'temp_ret__degC'"
   ]
  },
  {
   "cell_type": "code",
   "execution_count": null,
   "id": "846d45c6-9e3b-45bc-9310-036e953c3b65",
   "metadata": {
    "scrolled": true
   },
   "outputs": [],
   "source": [
    "df_prop[prop].describe().T"
   ]
  },
  {
   "cell_type": "code",
   "execution_count": null,
   "id": "1411ad7b-cccc-4552-bccc-5d526e551555",
   "metadata": {},
   "outputs": [],
   "source": [
    "df_prop, meta_df = Preprocessor.filter_min_max(df_prop, prop, min=0.0, max=100.0, meta_df=meta_df)"
   ]
  },
  {
   "cell_type": "code",
   "execution_count": null,
   "id": "fb9bed24-bfd3-403e-a07c-6219de81cfd8",
   "metadata": {},
   "outputs": [],
   "source": [
    "meta_df"
   ]
  },
  {
   "cell_type": "code",
   "execution_count": null,
   "id": "d5bfbeaf-9338-493d-9480-00f8df60aa9d",
   "metadata": {
    "scrolled": true
   },
   "outputs": [],
   "source": [
    "df_prop[prop].describe().T"
   ]
  },
  {
   "cell_type": "markdown",
   "id": "95f4fe54-7ac9-4e49-bfd2-fd2acaa063fa",
   "metadata": {},
   "source": [
    "### Copying and filtering flow and return temperatures valid for CH\n"
   ]
  },
  {
   "cell_type": "code",
   "execution_count": null,
   "id": "dbb00a5a-b768-42c9-b977-a5d6ad92fe4f",
   "metadata": {},
   "outputs": [],
   "source": [
    "%autoreload 2\n",
    "df_prop = Preprocessor.add_filtered_flow_ret_ch_temperatures(df_prop)"
   ]
  },
  {
   "cell_type": "code",
   "execution_count": null,
   "id": "e3301a85-7080-4f7e-b353-e4af4a414e09",
   "metadata": {},
   "outputs": [],
   "source": [
    "df_prop.info()"
   ]
  },
  {
   "cell_type": "code",
   "execution_count": null,
   "id": "6921dda1-ed54-46d5-ad46-9e9937e3b0fc",
   "metadata": {},
   "outputs": [],
   "source": [
    "df_prop[['temp_flow__degC', 'temp_flow_ch__degC', 'temp_ret__degC', 'temp_ret_ch__degC']].describe().T"
   ]
  },
  {
   "cell_type": "code",
   "execution_count": null,
   "id": "8f73f4c8-3a1b-4d93-8550-266be585d088",
   "metadata": {},
   "outputs": [],
   "source": [
    "df_prop['temp_flow_ch__degC'].count()/df_prop['temp_flow__degC'].count()"
   ]
  },
  {
   "cell_type": "code",
   "execution_count": null,
   "id": "95c3add8-0f3c-4c79-8ddb-bd06d3f68c75",
   "metadata": {},
   "outputs": [],
   "source": [
    "df_prop['temp_ret_ch__degC'].count()/df_prop['temp_ret__degC'].count()"
   ]
  },
  {
   "cell_type": "code",
   "execution_count": null,
   "id": "e49614f6-7757-40d7-869c-3b6bec8329a5",
   "metadata": {},
   "outputs": [],
   "source": [
    "%matplotlib inline\n",
    "%matplotlib widget\n",
    "df_prop[['temp_flow_ch__degC', 'temp_flow__degC']].plot.hist(bins=200, alpha=0.5, title = 'temp_flow_ch__degC, temp_flow__degC')"
   ]
  },
  {
   "cell_type": "code",
   "execution_count": null,
   "id": "1f0acdf1-fb36-450d-8899-c2ece7e601b4",
   "metadata": {},
   "outputs": [],
   "source": [
    "%matplotlib inline\n",
    "%matplotlib widget\n",
    "df_prop[['temp_ret_ch__degC', 'temp_ret__degC']].plot.hist(bins=200, alpha=0.5, title = 'temp_ret_ch__degC, temp_ret__degC')"
   ]
  },
  {
   "cell_type": "code",
   "execution_count": null,
   "id": "1cd334df-dc53-4f7b-87a2-e797181949b7",
   "metadata": {},
   "outputs": [],
   "source": [
    "%matplotlib inline\n",
    "%matplotlib widget\n",
    "df_prop[['temp_ret_ch__degC', 'temp_flow_ch__degC']].plot.hist(bins=200, alpha=0.5, title = 'temp_flow_ch__degC, temp_ret_ch__degC')"
   ]
  },
  {
   "cell_type": "code",
   "execution_count": null,
   "id": "d32b92d1-af9a-4ad9-ad3b-52961628b6b4",
   "metadata": {},
   "outputs": [],
   "source": [
    "df_prop[['temp_flow__degC', 'temp_flow_ch__degC', 'temp_ret__degC', 'temp_ret_ch__degC']].groupby('id').describe().T"
   ]
  },
  {
   "cell_type": "markdown",
   "id": "9f7a7df1-bcec-4e0f-9c5d-6caf357e3670",
   "metadata": {},
   "source": [
    "## Inspecting and preprocessing parameters, i.e. constant (?) properties\n"
   ]
  },
  {
   "cell_type": "markdown",
   "id": "03547163-885e-43bd-b887-0023eadb7148",
   "metadata": {},
   "source": [
    "### Preprocessing temp_flow_ch_max__degC (f.k.a. temp_ch_sup_max__degC)"
   ]
  },
  {
   "cell_type": "code",
   "execution_count": null,
   "id": "da9676e9-f156-418b-b66d-9bfd1b3c6807",
   "metadata": {},
   "outputs": [],
   "source": [
    "df_prop['temp_flow_ch_max__degC'].groupby(level='id').describe().T"
   ]
  },
  {
   "cell_type": "markdown",
   "id": "53b5eee4-33ab-4e99-aa8c-1f8bbeacaf3d",
   "metadata": {
    "jp-MarkdownHeadingCollapsed": true
   },
   "source": [
    "### Inspecting power_ch_max__kW"
   ]
  },
  {
   "cell_type": "code",
   "execution_count": null,
   "id": "b04ad041-975b-43e3-aae8-c645dff1a1c0",
   "metadata": {},
   "outputs": [],
   "source": [
    "prop = 'power_ch_max__kW'"
   ]
  },
  {
   "cell_type": "code",
   "execution_count": null,
   "id": "4cfe4463-080d-42f8-ba96-cb6737c9320a",
   "metadata": {},
   "outputs": [],
   "source": [
    "df_prop[prop].groupby(level='id').describe().T"
   ]
  },
  {
   "cell_type": "markdown",
   "id": "48bb817c-b69e-48f8-aa7b-f67559b8c3d6",
   "metadata": {},
   "source": [
    "## Inspecting and preprocessing smart meter values"
   ]
  },
  {
   "cell_type": "code",
   "execution_count": null,
   "id": "7f128217-1ab4-4744-9f60-0adfc1f668d9",
   "metadata": {
    "scrolled": true
   },
   "outputs": [],
   "source": [
    "df_prop['meter_code__str'].unique()"
   ]
  },
  {
   "cell_type": "code",
   "execution_count": null,
   "id": "318cc604-bb1f-4e0d-ab26-9991a1406aa9",
   "metadata": {},
   "outputs": [],
   "source": [
    "df_prop['dsmr_version__0'].unique()"
   ]
  },
  {
   "cell_type": "code",
   "execution_count": null,
   "id": "fb56d422-566f-4f55-b41f-18dadee33de0",
   "metadata": {},
   "outputs": [],
   "source": [
    "df_prop.groupby(['id', 'meter_code__str', 'dsmr_version__0']).size().reset_index(name='count').set_index(['id', 'meter_code__str', 'dsmr_version__0'])"
   ]
  },
  {
   "cell_type": "code",
   "execution_count": null,
   "id": "226f2500-9fd6-4fee-b09c-0bb352572706",
   "metadata": {},
   "outputs": [],
   "source": [
    "use_e_meter_cols = ['e_use_hi_cum__kWh', 'e_use_lo_cum__kWh']\n",
    "ret_e_meter_cols = ['e_ret_hi_cum__kWh', 'e_ret_lo_cum__kWh']\n",
    "all_e_meter_cols = use_e_meter_cols + ret_e_meter_cols"
   ]
  },
  {
   "cell_type": "code",
   "execution_count": null,
   "id": "794deb3a-faf8-4e1a-ad19-61c0374a2e74",
   "metadata": {},
   "outputs": [],
   "source": [
    "props = all_e_meter_cols + ['dsmr_version__0']"
   ]
  },
  {
   "cell_type": "code",
   "execution_count": null,
   "id": "e796bbc5-af34-4e59-8293-70ea880e5b73",
   "metadata": {},
   "outputs": [],
   "source": [
    "df_prop['dsmr_version__0'].unique()"
   ]
  },
  {
   "cell_type": "code",
   "execution_count": null,
   "id": "f0d46a7c-f903-460e-aa23-76692bd87def",
   "metadata": {},
   "outputs": [],
   "source": [
    "df_prop[props].describe()"
   ]
  },
  {
   "cell_type": "code",
   "execution_count": null,
   "id": "312f1082-5e75-47c7-b009-7ea249faef1c",
   "metadata": {},
   "outputs": [],
   "source": [
    "df_prop[props].groupby(level='id').describe().T"
   ]
  },
  {
   "cell_type": "code",
   "execution_count": null,
   "id": "09355511-06b6-4351-af14-40292b668cc5",
   "metadata": {},
   "outputs": [],
   "source": [
    "# %%time\n",
    "# df_prop, meta_df = Preprocessor.filter_electricity_meter_values_fast(df_prop, min_valid_cum__kWh=15.0, meta_df=meta_df)"
   ]
  },
  {
   "cell_type": "code",
   "execution_count": null,
   "id": "f881fd1a-ed26-47e3-b807-2d45caac0dd4",
   "metadata": {},
   "outputs": [],
   "source": [
    "%%time\n",
    "df_prop, meta_df = Preprocessor.filter_electricity_meter_values(df_prop, min_valid_cum__kWh=15.0, meta_df=meta_df)"
   ]
  },
  {
   "cell_type": "code",
   "execution_count": null,
   "id": "cf5ed986-c471-4975-b611-eec6cf2fb635",
   "metadata": {},
   "outputs": [],
   "source": [
    "meta_df"
   ]
  },
  {
   "cell_type": "code",
   "execution_count": null,
   "id": "a73c539a-4ba3-4406-abf8-351d5aede8c8",
   "metadata": {},
   "outputs": [],
   "source": [
    "df_prop['dsmr_version__0'].unique()"
   ]
  },
  {
   "cell_type": "code",
   "execution_count": null,
   "id": "9c608a4e-5542-43b1-9182-c6e25d2e911c",
   "metadata": {},
   "outputs": [],
   "source": [
    "df_prop[props].groupby(level='id').describe().T"
   ]
  },
  {
   "cell_type": "markdown",
   "id": "828f54d1-9e40-4d78-b3ef-c26eb3db8be3",
   "metadata": {},
   "source": [
    "#### Inspecting and preprocessing g_use_cum__m3"
   ]
  },
  {
   "cell_type": "code",
   "execution_count": null,
   "id": "5f135bae-282b-4088-9a29-76fc8b995f26",
   "metadata": {},
   "outputs": [],
   "source": [
    "prop = 'g_use_cum__m3'"
   ]
  },
  {
   "cell_type": "code",
   "execution_count": null,
   "id": "09dca332-88fe-43a9-94e0-0997fc458ba1",
   "metadata": {},
   "outputs": [],
   "source": [
    "df_prop[prop].describe()"
   ]
  },
  {
   "cell_type": "code",
   "execution_count": null,
   "id": "10a43157-2d26-433b-bb30-c0239e4028a4",
   "metadata": {},
   "outputs": [],
   "source": [
    "df_prop[prop].groupby(level='id').describe().sort_values(by='std', ascending=False).T"
   ]
  },
  {
   "cell_type": "code",
   "execution_count": null,
   "id": "48c019ae-261a-47e0-90c6-b691d217b76b",
   "metadata": {
    "scrolled": true
   },
   "outputs": [],
   "source": [
    "%matplotlib inline\n",
    "%matplotlib widget\n",
    "df_prop[prop].plot.hist(bins=400, alpha=0.5, title = prop)"
   ]
  },
  {
   "cell_type": "markdown",
   "id": "570b4ad4-c6b6-44cd-b480-09cef353755c",
   "metadata": {},
   "source": [
    "#### Inspecting and preprocessing meter_code__str"
   ]
  },
  {
   "cell_type": "code",
   "execution_count": null,
   "id": "8e5e7b42-0add-4187-b946-8878fb07904b",
   "metadata": {},
   "outputs": [],
   "source": [
    "prop = 'meter_code__str'"
   ]
  },
  {
   "cell_type": "code",
   "execution_count": null,
   "id": "249eabcd-f2d8-43e2-89c4-99c45808f48c",
   "metadata": {
    "scrolled": true
   },
   "outputs": [],
   "source": [
    "df_prop[prop].unique()"
   ]
  },
  {
   "cell_type": "code",
   "execution_count": null,
   "id": "ba879755-563e-4aef-9ad3-0489c1b568db",
   "metadata": {},
   "outputs": [],
   "source": [
    "df_metercodes = df_prop.groupby(['id', 'meter_code__str', 'dsmr_version__0']).size().reset_index(name='count').set_index(['id', 'meter_code__str', 'dsmr_version__0'])"
   ]
  },
  {
   "cell_type": "code",
   "execution_count": null,
   "id": "3a0cd91a-b47e-4a2a-8052-f8dff3ccd150",
   "metadata": {},
   "outputs": [],
   "source": [
    "df_metercodes"
   ]
  },
  {
   "cell_type": "code",
   "execution_count": null,
   "id": "b499481d-d131-4d3c-8c21-27d1ba710f8d",
   "metadata": {},
   "outputs": [],
   "source": [
    "id_lists = (df_metercodes\n",
    "            .sort_values(by='dsmr_version__0')\n",
    "            .reset_index()\n",
    "            .groupby('dsmr_version__0')['id']\n",
    "             .apply(list))"
   ]
  },
  {
   "cell_type": "code",
   "execution_count": null,
   "id": "4e9e1e1c-58cf-45fd-99ed-85f20aa908c1",
   "metadata": {},
   "outputs": [],
   "source": [
    "id_lists"
   ]
  },
  {
   "cell_type": "code",
   "execution_count": null,
   "id": "c99986de-e6ab-4b19-914d-dc20295db91f",
   "metadata": {},
   "outputs": [],
   "source": [
    "# Print the full content of the Series\n",
    "for key, value in id_lists.items():\n",
    "    print(f\"dsmr_version: {key:.1f}, {len(value)} ids: {sorted(value)}\")"
   ]
  },
  {
   "cell_type": "markdown",
   "id": "a93c99ab-85c8-447d-a080-13641e045dce",
   "metadata": {},
   "source": [
    "# Inspect number of null measurements and time covered before interpolation"
   ]
  },
  {
   "cell_type": "code",
   "execution_count": null,
   "id": "c7e71b7d-6fcb-44ff-ba37-a6f7f8072b34",
   "metadata": {},
   "outputs": [],
   "source": [
    "%%time\n",
    "count_non_null_before_interpolation = Preprocessor.count_non_null_measurements(df_prop).sort_index(axis=1).sort_values(by='total', ascending=False)"
   ]
  },
  {
   "cell_type": "code",
   "execution_count": null,
   "id": "ca4f825a-952e-4f7a-96a8-bb47b466365a",
   "metadata": {},
   "outputs": [],
   "source": [
    "count_non_null_before_interpolation.T.style.map(Preprocessor.highlight_zero)"
   ]
  },
  {
   "cell_type": "code",
   "execution_count": null,
   "id": "408ec0bf-ead2-46c7-8ea5-9a618b92bc62",
   "metadata": {
    "scrolled": true
   },
   "outputs": [],
   "source": [
    "%%time\n",
    "covered_time_before_interpolation = Preprocessor.calculate_covered_time(df_prop).sort_index(axis=1).sort_values(by='total', ascending=False)"
   ]
  },
  {
   "cell_type": "code",
   "execution_count": null,
   "id": "48d72aa9-ee91-4f82-8f73-db43c7d7071f",
   "metadata": {
    "scrolled": true
   },
   "outputs": [],
   "source": [
    "if 'remeha_temp_outdoor__degC' in covered_time_before_interpolation.columns:\n",
    "    display(covered_time_before_interpolation.sort_values(by='remeha_temp_outdoor__degC', ascending=False).T.style.map(Preprocessor.highlight_zero).format(lambda x: f'{x.days} d'))\n",
    "else:\n",
    "    display(covered_time_before_interpolation.T.style.map(Preprocessor.highlight_zero).format(lambda x: f'{x.days} d'))"
   ]
  },
  {
   "cell_type": "markdown",
   "id": "7503b1dd-cc8f-4c3b-949f-d58074195bce",
   "metadata": {},
   "source": [
    "## Plotting data using in analysis"
   ]
  },
  {
   "cell_type": "code",
   "execution_count": null,
   "id": "2041336a-4ab1-414a-99fe-557ee87e69c3",
   "metadata": {
    "tags": []
   },
   "outputs": [],
   "source": [
    "# %%time\n",
    "\n",
    "# #Plot all properties with a single unit for a single id\n",
    "# Plot.dataframe_properties_plot(df_prop.loc[[948634, 999169]][[prop for prop in df_prop.columns.values if prop.split('__')[-1] in['ppm', '0', 'bool']]], units_to_mathtext)"
   ]
  },
  {
   "cell_type": "code",
   "execution_count": null,
   "id": "91850626-b7a4-435f-8d33-497194ad0b39",
   "metadata": {
    "tags": []
   },
   "outputs": [],
   "source": [
    "# props = [prop for prop in df_prop.columns.values if prop.split('__')[-1] in['ppm', '0', 'bool', 'p']]\n",
    "props = ['co2_indoor__ppm', 'occupancy__p', 'onboarded__p']"
   ]
  },
  {
   "cell_type": "code",
   "execution_count": null,
   "id": "97251ed5-0d50-4d42-b48c-2ed35996a825",
   "metadata": {
    "tags": []
   },
   "outputs": [],
   "source": [
    "props"
   ]
  },
  {
   "cell_type": "code",
   "execution_count": null,
   "id": "ca02a2db-a1b4-49bd-9873-49c4b6d121bd",
   "metadata": {
    "tags": []
   },
   "outputs": [],
   "source": [
    "df_prop.info()"
   ]
  },
  {
   "cell_type": "code",
   "execution_count": null,
   "id": "5d95d143-35de-4b06-a65a-f09360dcb87f",
   "metadata": {},
   "outputs": [],
   "source": [
    "list(df_prop.columns)"
   ]
  },
  {
   "cell_type": "code",
   "execution_count": null,
   "id": "1dae8ced-3c83-48ee-8781-d3c46c52f06c",
   "metadata": {
    "tags": []
   },
   "outputs": [],
   "source": [
    "df = df_prop[props] "
   ]
  },
  {
   "cell_type": "code",
   "execution_count": null,
   "id": "1159ccd2-6fba-4ee1-a448-863266c37714",
   "metadata": {},
   "outputs": [],
   "source": [
    "df.describe().T\n"
   ]
  },
  {
   "cell_type": "code",
   "execution_count": null,
   "id": "4718267a-ea99-4ebc-9303-d8c4075a05f1",
   "metadata": {
    "tags": []
   },
   "outputs": [],
   "source": [
    "stats = df.groupby(level=['source_category', 'source_type','id'], observed=True).describe().transpose()\n",
    "stats.columns = stats.columns.swaplevel(0,1)\n",
    "stats = stats.sort_index(axis=1, level=0)\n",
    "stats"
   ]
  },
  {
   "cell_type": "code",
   "execution_count": null,
   "id": "5eed48be-876e-4cb9-9146-fe1d429d94a3",
   "metadata": {
    "tags": []
   },
   "outputs": [],
   "source": [
    "%matplotlib inline\n",
    "%matplotlib widget\n",
    "prop = 'co2_indoor__ppm'\n",
    "df_prop[prop].plot.hist(bins=200, alpha=0.5, title = prop)"
   ]
  },
  {
   "cell_type": "code",
   "execution_count": null,
   "id": "82a1320b-0ba1-4cb7-9987-62147470a72d",
   "metadata": {
    "tags": []
   },
   "outputs": [],
   "source": [
    "%matplotlib inline\n",
    "%matplotlib widget\n",
    "prop = 'flow_dstr_pump_speed__pct'\n",
    "df_prop[prop].plot.hist(bins=200, alpha=0.5, title = prop)"
   ]
  },
  {
   "cell_type": "code",
   "execution_count": null,
   "id": "f2467515-c6df-41ba-ac6f-387f5dc3d4fa",
   "metadata": {
    "tags": []
   },
   "outputs": [],
   "source": [
    "%matplotlib inline\n",
    "%matplotlib widget\n",
    "prop = 'dhw_flow__l_min_1'\n",
    "df_prop[prop].plot.hist(bins=200, alpha=0.5, title = prop)"
   ]
  },
  {
   "cell_type": "markdown",
   "id": "580571f1-8946-4c81-a80f-f43cd44c05ce",
   "metadata": {
    "tags": []
   },
   "source": [
    "## Preprocessing co2_indoor__ppm\n",
    "Filtering out measurement errors of 0 ppm below 5 ppm"
   ]
  },
  {
   "cell_type": "code",
   "execution_count": null,
   "id": "8186ed45-a06a-44d0-8606-c5658481ae31",
   "metadata": {},
   "outputs": [],
   "source": [
    "prop = 'co2_indoor__ppm'"
   ]
  },
  {
   "cell_type": "code",
   "execution_count": null,
   "id": "f5a2e75d-cd19-40bb-8269-88f6831bbc27",
   "metadata": {},
   "outputs": [],
   "source": [
    "%matplotlib inline\n",
    "%matplotlib widget\n",
    "df_prop[prop].plot.hist(bins=200, alpha=0.5, title = prop)"
   ]
  },
  {
   "cell_type": "code",
   "execution_count": null,
   "id": "fc34e5c7-12ae-49ba-ac40-091b2b6a0993",
   "metadata": {
    "tags": []
   },
   "outputs": [],
   "source": [
    "df_prop[prop].groupby(level=['id']).describe().T"
   ]
  },
  {
   "cell_type": "markdown",
   "id": "2a64a88f-c8cd-4ad8-8036-e064aee2407e",
   "metadata": {
    "tags": []
   },
   "source": [
    "#### No need to filter out values below 5 ppm (which would be clear measurement errors)"
   ]
  },
  {
   "cell_type": "code",
   "execution_count": null,
   "id": "6085cc5a-004d-4df7-99f6-41a3842c8c10",
   "metadata": {
    "tags": []
   },
   "outputs": [],
   "source": [
    "df_prop, meta_df = Preprocessor.filter_min_max(df_prop, prop, min=5, meta_df=meta_df)"
   ]
  },
  {
   "cell_type": "code",
   "execution_count": null,
   "id": "0eeca938-352d-4b01-89fb-736d11e5644c",
   "metadata": {},
   "outputs": [],
   "source": [
    "meta_df"
   ]
  },
  {
   "cell_type": "markdown",
   "id": "1565020c-b48c-4bf6-b78f-0cb6f1ad5d14",
   "metadata": {
    "tags": []
   },
   "source": [
    "#### Check to see whether minimum changed"
   ]
  },
  {
   "cell_type": "code",
   "execution_count": null,
   "id": "61f413e8-208d-4264-b054-6f4c6868604c",
   "metadata": {
    "tags": []
   },
   "outputs": [],
   "source": [
    "df_prop[prop].groupby(level=['id']).describe().T"
   ]
  },
  {
   "cell_type": "code",
   "execution_count": null,
   "id": "0a98e119-0650-403c-b1c6-d73bc6254473",
   "metadata": {
    "tags": []
   },
   "outputs": [],
   "source": [
    "%matplotlib inline\n",
    "%matplotlib widget\n",
    "df_prop[prop].plot.hist(bins=200, alpha=0.5, title = prop)\n"
   ]
  },
  {
   "cell_type": "markdown",
   "id": "f03214eb-0ae0-4c03-8eb6-5a1df1c4c43e",
   "metadata": {},
   "source": [
    "## Preprocessing occupancy__p"
   ]
  },
  {
   "cell_type": "code",
   "execution_count": null,
   "id": "906dd407-f9d0-4227-8438-e89cb2d798d8",
   "metadata": {},
   "outputs": [],
   "source": [
    "df_household = pd.read_excel(household_data_excel_file_path,index_col='id')\n",
    "df_prop = df_prop.join(df_household['household__p'], on='id')"
   ]
  },
  {
   "cell_type": "code",
   "execution_count": null,
   "id": "0d6ff67c-4bd6-42bd-94f5-c52068495908",
   "metadata": {},
   "outputs": [],
   "source": [
    "df_prop[['household__p', 'onboarded__p', 'occupancy__p']].describe().T"
   ]
  },
  {
   "cell_type": "code",
   "execution_count": null,
   "id": "3057c2ed-0229-47eb-93a1-86693c191259",
   "metadata": {},
   "outputs": [],
   "source": [
    "df_prop[['household__p', 'onboarded__p', 'occupancy__p']].groupby('id').describe().T"
   ]
  },
  {
   "cell_type": "code",
   "execution_count": null,
   "id": "9ce593fe-bc07-45d8-b7d4-eecd0249943d",
   "metadata": {},
   "outputs": [],
   "source": [
    "%%time\n",
    "# Remove invalid occupancy__p data as long as not everybody is onboarded (i.e. as long as onboarded__p < household_p)\n",
    "#TODO: update meta_df?\n",
    "df_prop.loc[df_prop['onboarded__p'].isna() | (df_prop['onboarded__p'] < df_prop['household__p']), 'occupancy__p'] = np.nan\n",
    "df_prop.drop(columns=['household__p', 'onboarded__p'], inplace=True)"
   ]
  },
  {
   "cell_type": "code",
   "execution_count": null,
   "id": "44a49aed-9054-4a57-b889-1b4ee76fae13",
   "metadata": {},
   "outputs": [],
   "source": [
    "df_prop['occupancy__p'].describe().T"
   ]
  },
  {
   "cell_type": "code",
   "execution_count": null,
   "id": "90951e3f-780e-4456-a9b2-1e409ad8c017",
   "metadata": {},
   "outputs": [],
   "source": [
    "df_prop['occupancy__p'].groupby('id').describe().T"
   ]
  },
  {
   "cell_type": "markdown",
   "id": "179583e7-766d-4861-9099-94125604a213",
   "metadata": {},
   "source": [
    "## After preprocessing, before temporal interpolation"
   ]
  },
  {
   "cell_type": "code",
   "execution_count": null,
   "id": "5ff1ee85-4d26-4c63-9835-59bbe54328fb",
   "metadata": {},
   "outputs": [],
   "source": [
    "meta_df"
   ]
  },
  {
   "cell_type": "code",
   "execution_count": null,
   "id": "b15954da-4ba9-44d1-9cde-844835c2bef0",
   "metadata": {},
   "outputs": [],
   "source": [
    "meta_df.to_excel('rhc_preprocessing.xlsx')"
   ]
  },
  {
   "cell_type": "code",
   "execution_count": null,
   "id": "b02fa358-154a-4d12-b54c-420c8a43f4f9",
   "metadata": {},
   "outputs": [],
   "source": [
    "df_prop.size"
   ]
  },
  {
   "cell_type": "code",
   "execution_count": null,
   "id": "8055699e-fea7-4aee-b4cd-44b31ef186cb",
   "metadata": {},
   "outputs": [],
   "source": [
    "print(f\"df_prop.count().sum(): {df_prop.count().sum():_}\")"
   ]
  },
  {
   "cell_type": "code",
   "execution_count": null,
   "id": "b9f561a2-1125-43ab-870a-bb951f9e521b",
   "metadata": {},
   "outputs": [],
   "source": [
    "df_prop.info()"
   ]
  },
  {
   "cell_type": "markdown",
   "id": "b509e7d0-e74c-4a57-a73c-b8add11e9686",
   "metadata": {
    "tags": []
   },
   "source": [
    "# Temporal interpolation of properties\n"
   ]
  },
  {
   "cell_type": "code",
   "execution_count": null,
   "id": "f1e60f3a-a4f1-46f7-a0ec-b07dcc4f388e",
   "metadata": {},
   "outputs": [],
   "source": [
    "%%time \n",
    "\n",
    "# Define the properties and their respective limit__min values\n",
    "property_limits = {\n",
    "    'boiler_status_blocking_mode__bool': 5,\n",
    "    'boiler_status_burner_start__bool': 5,\n",
    "    'boiler_status_burner_stop__bool': 5,\n",
    "    'boiler_status_burning_ch__bool': 5,\n",
    "    'boiler_status_burning_dhw__bool': 5,\n",
    "    'boiler_status_controlled_stop__bool': 5,\n",
    "    'boiler_status_de_air__bool': 5,\n",
    "    'boiler_status_heat_demand__bool': 5,\n",
    "    'boiler_status_locking_mode__bool': 5,\n",
    "    'boiler_status_pump_post_run__bool': 5,\n",
    "    'boiler_status_standby__bool': 5,\n",
    "    'dhw_flow__l_min_1': 5,\n",
    "    'dhw_temp__degC': 5,\n",
    "    'gas_valve_closed__bool': 5,\n",
    "    'gas_valve_open__bool': 5,\n",
    "    'temp_flow__degC': 5,\n",
    "    'temp_ret__degC': 5,\n",
    "    'fan_rotations__min_1': 5,\n",
    "    'temp_flow_ch__degC': 0,\n",
    "    'temp_ret_ch__degC': 0,\n",
    "    'batch_import_KNMI_temp_outdoor__degC': 4 * 60, # 4 hours\n",
    "    'batch_import_KNMI_sol_ghi__W_m_2': 4 * 60, # 4 hours\n",
    "    'batch_import_KNMI_wind__m_s_1': 4 * 60, # 4 hours\n",
    "    'batch_import_KNMI_air_outdoor__Pa': 4 * 60, # 4 hours\n",
    "    'batch_import_KNMI_air_outdoor_rel_humidity__0': 4 * 60, # 4 hours\n",
    "    'temp_flow_ch_max__degC': 2 * 24 * 60,  # 2 days in minutes\n",
    "    'power_ch_max__kW': 2 * 24 * 60,     # 2 days in minutes\n",
    "    'batch_import_EDSN_actual_gas_std_hhv__J_m_3': 2 * 24 * 60,  # 2 days in minutes\n",
    "    'ch_set_fan_rotations_max__min_1': 2 * 24 * 60,  # 2 days in minutes\n",
    "    'ch_set_fan_rotations_min__min_1': 2 * 24 * 60,   # 2 days in minutes\n",
    "    'e_ret_monthly_hi_cum__kWh': 32 * 24 * 60,   # 32 days in minutes,\n",
    "    'e_ret_monthly_lo_cum__kWh': 32 * 24 * 60,   # 32 days in minutes,\n",
    "    'e_use_monthly_hi_cum__kWh': 32 * 24 * 60,   # 32 days in minutes,\n",
    "    'e_use_monthly_lo_cum__kWh': 32* 24 * 60,   # 32 days in minutes,\n",
    "    'g_use_monthly_cum__m3': 32 * 24 * 60,   # 32 days in minutes,\n",
    "}"
   ]
  },
  {
   "cell_type": "code",
   "execution_count": null,
   "id": "b9479eb8-e7ac-4e18-b3b2-e054e8c96291",
   "metadata": {},
   "outputs": [],
   "source": [
    "# properly sort and index dataframe to prevent performance warnings\n",
    "df_prop = df_prop.sort_index()"
   ]
  },
  {
   "cell_type": "code",
   "execution_count": null,
   "id": "3d80a041-7228-4fb8-a9a0-3ece38f89107",
   "metadata": {
    "tags": []
   },
   "outputs": [],
   "source": [
    "df_prop.info()"
   ]
  },
  {
   "cell_type": "code",
   "execution_count": null,
   "id": "d90503d8-7da0-4d1b-80f0-b921c641c73e",
   "metadata": {},
   "outputs": [],
   "source": [
    "print(f\"df_prop.count().sum(): {df_prop.count().sum():_}\")"
   ]
  },
  {
   "cell_type": "code",
   "execution_count": null,
   "id": "92f5fe61-7604-4f3f-889d-14c65b4501ff",
   "metadata": {},
   "outputs": [],
   "source": [
    "# Create overview of non-null counts per column, source_category, and source_type\n",
    "df_prop.groupby(['source_category', 'source_type'], observed=True).apply(lambda x: x.notna().sum()).reset_index().T"
   ]
  },
  {
   "cell_type": "markdown",
   "id": "82e45365-d0d1-466b-870b-1f6c00fc20e5",
   "metadata": {},
   "source": [
    "## Inspect measurement intervals"
   ]
  },
  {
   "cell_type": "code",
   "execution_count": null,
   "id": "47dddbe3-0b14-4231-afc2-c313a3205aef",
   "metadata": {},
   "outputs": [],
   "source": [
    "%autoreload 2\n",
    "df_intervals = Preprocessor.analyze_intervals(df_prop, default_limit__min=90, property_limits=property_limits, interpolate__min=5)"
   ]
  },
  {
   "cell_type": "code",
   "execution_count": null,
   "id": "838e50d6-db71-4901-86a1-9a6379069f42",
   "metadata": {},
   "outputs": [],
   "source": [
    "def mode(series):\n",
    "    return series.mode().iloc[0] if not series.mode().empty else None"
   ]
  },
  {
   "cell_type": "code",
   "execution_count": null,
   "id": "d78f3b16-9b33-4368-b472-8a7e96869d6b",
   "metadata": {},
   "outputs": [],
   "source": [
    "# Group by 'id', 'source_category', and 'source_type' and calculate descriptive statistics\n",
    "# (df_intervals.groupby(['id', 'source_category', 'source_type'], observed=True)\n",
    "(df_intervals.groupby(['source_category', 'source_type'], observed=True)\n",
    " .agg({'modal_intv__min': ['mean', 'std', 'min', 'max', mode],\n",
    "    'limit__min': ['mean', 'std', 'min', 'max', mode],\n",
    "    'upsample__min': ['mean', 'std', 'min', 'max', mode],\n",
    "    'interpolate__min': ['mean', 'std', 'min', 'max', mode],\n",
    "    'limit': ['mean', 'std', 'min', 'max', mode]\n",
    "})).T"
   ]
  },
  {
   "cell_type": "code",
   "execution_count": null,
   "id": "8fe6e303-31d1-403d-922f-79d5fff25d26",
   "metadata": {},
   "outputs": [],
   "source": [
    "# Slice df_intervals to show only rows where source_category is 'batch_import'\n",
    "df_intervals.loc[(slice(None), 'batch_import', slice(None)), :].sort_values(by='upsample__min', ascending=False)\n"
   ]
  },
  {
   "cell_type": "code",
   "execution_count": null,
   "id": "d2df6ed7-3c91-4b2a-9baa-7e432245341f",
   "metadata": {},
   "outputs": [],
   "source": [
    "df_intervals.loc[(slice(None), 'batch_import', slice(None), 'temp_outdoor__degC'), :]"
   ]
  },
  {
   "cell_type": "code",
   "execution_count": null,
   "id": "6c6ca514-d370-43b0-af16-b43acc812ea0",
   "metadata": {},
   "outputs": [],
   "source": [
    "df_intervals.loc[(slice(None), 'cloud_feed', slice(None), 'g_use_cum__m3'), :]"
   ]
  },
  {
   "cell_type": "code",
   "execution_count": null,
   "id": "105417ac-2324-4af0-a2b8-8e601f1f0b90",
   "metadata": {},
   "outputs": [],
   "source": [
    "df_intervals.loc[(slice(None), 'device', slice(None), 'g_use_cum__m3'), :].sort_values(by='modal_intv__min', ascending=False)"
   ]
  },
  {
   "cell_type": "code",
   "execution_count": null,
   "id": "dc7b83fc-9651-4188-8fc6-a9e8c6607d9a",
   "metadata": {},
   "outputs": [],
   "source": [
    "id_lists = (df_intervals\n",
    " .loc[(slice(None), 'device', slice(None), 'g_use_cum__m3'), :]\n",
    " .sort_values(by='modal_intv__min', ascending=False)\n",
    " .reset_index()\n",
    " .groupby('modal_intv__min')['id']\n",
    " .apply(list))\n",
    "\n",
    "# Print the full content of the Series\n",
    "for key, value in id_lists.items():\n",
    "    print(f\"modal interval (minutes): {key}, {len(value)} ids: {sorted(value)}\")"
   ]
  },
  {
   "cell_type": "markdown",
   "id": "80c752b3-d7d4-4f99-8a64-facc69f784df",
   "metadata": {},
   "source": [
    "The IDs with a modal interval of 60 minutes correspond neatly to the IDs that have a smart meter that adheres to DSMR 4.2, which only support a gas meter reading once per hour"
   ]
  },
  {
   "cell_type": "markdown",
   "id": "be2e23b2-a5e0-4aa2-a19c-5ba719184835",
   "metadata": {},
   "source": [
    "## Perform temporal interpolation"
   ]
  },
  {
   "cell_type": "code",
   "execution_count": null,
   "id": "6b9fce94-b9de-4e21-9bf4-592e3f589e89",
   "metadata": {
    "scrolled": true
   },
   "outputs": [],
   "source": [
    "%%time\n",
    "%autoreload 2\n",
    "\n",
    "# Perform interpolation\n",
    "df_interpolated = Preprocessor.interpolate_time(df_prop=df_prop,\n",
    "                                                default_limit__min=90,\n",
    "                                                property_limits=property_limits,\n",
    "                                                interpolate__min=interpolate__min,\n",
    "                                                restore_original_types=True,\n",
    "                                                inplace=False)"
   ]
  },
  {
   "cell_type": "code",
   "execution_count": null,
   "id": "efe783e2-3fd9-42fa-81f9-9fa43279f3a4",
   "metadata": {},
   "outputs": [],
   "source": [
    "df_interpolated"
   ]
  },
  {
   "cell_type": "code",
   "execution_count": null,
   "id": "a5c34d8b-a4c0-46e0-85f7-a3e053bc7785",
   "metadata": {},
   "outputs": [],
   "source": [
    "print(f\"df_interpolated.count().sum(): {df_interpolated.count().sum():_}\")"
   ]
  },
  {
   "cell_type": "code",
   "execution_count": null,
   "id": "09471f42-bb47-454f-a136-5ae19707cfa0",
   "metadata": {},
   "outputs": [],
   "source": [
    "df_interpolated.info()"
   ]
  },
  {
   "cell_type": "code",
   "execution_count": null,
   "id": "c5c59164-663d-4f06-959f-06725b39843b",
   "metadata": {},
   "outputs": [],
   "source": [
    "df_interpolated.index.dtypes"
   ]
  },
  {
   "cell_type": "code",
   "execution_count": null,
   "id": "917c8890-97fb-40c8-9c27-5884e764edbf",
   "metadata": {},
   "outputs": [],
   "source": [
    "# Create overview of non-null counts per column, source_category, and source_type\n",
    "df_interpolated.groupby(['source_category', 'source_type'], observed=True).apply(lambda x: x.notna().sum()).reset_index().T"
   ]
  },
  {
   "cell_type": "code",
   "execution_count": null,
   "id": "423252ea-7700-4be2-ba73-06412477d36b",
   "metadata": {
    "tags": []
   },
   "outputs": [],
   "source": [
    "df_prop.describe().T"
   ]
  },
  {
   "cell_type": "code",
   "execution_count": null,
   "id": "542a53d9-134a-4b3a-8296-a062dcf73e3b",
   "metadata": {},
   "outputs": [],
   "source": [
    "df_interpolated.describe().T.sort_index()"
   ]
  },
  {
   "cell_type": "code",
   "execution_count": null,
   "id": "dd943de0-4a43-440a-90c8-43a97fc11f94",
   "metadata": {},
   "outputs": [],
   "source": [
    "df_bools_to_float = df_interpolated[[col for col in df_interpolated.columns if col.endswith('__bool')]].copy()\n",
    "for col in df_bools_to_float.columns:\n",
    "    df_bools_to_float[col] = df_bools_to_float[col].astype('float')\n",
    "df_bools_to_float.describe().T.drop(columns='count').style.format(\"{:.2%}\")"
   ]
  },
  {
   "cell_type": "markdown",
   "id": "998d9dd6-c341-4736-81c0-5f1d8c6d85f7",
   "metadata": {},
   "source": [
    "# Inspect number of null measurements and time covered after interpolation"
   ]
  },
  {
   "cell_type": "code",
   "execution_count": null,
   "id": "5abaccf3-eef8-4ce5-b57b-8967ac2333a7",
   "metadata": {},
   "outputs": [],
   "source": [
    "count_non_null_after_interpolation = Preprocessor.count_non_null_measurements(df_interpolated).sort_index(axis=1).sort_values(by='total', ascending=False)"
   ]
  },
  {
   "cell_type": "code",
   "execution_count": null,
   "id": "8499cac1-47f8-46b3-8b3b-cc50bef80e3e",
   "metadata": {},
   "outputs": [],
   "source": [
    "count_non_null_after_interpolation.T.style.map(Preprocessor.highlight_zero)"
   ]
  },
  {
   "cell_type": "code",
   "execution_count": null,
   "id": "d72e4490-f7af-4742-82bc-34f56d2e4215",
   "metadata": {},
   "outputs": [],
   "source": [
    "mandatory_props=['living_room_calibrated_temp_indoor__degC', 'p1-reader_g_use_cum__m3']\n",
    "filter_props = mandatory_props + ['all_mandatory_props']"
   ]
  },
  {
   "cell_type": "code",
   "execution_count": null,
   "id": "d03f1d0f-c722-4b5b-b3d6-dc94656d46ea",
   "metadata": {},
   "outputs": [],
   "source": [
    "covered_time_after_interpolation = Preprocessor.calculate_covered_time(df_interpolated, mandatory_props=mandatory_props).sort_values(by='all_mandatory_props', ascending=False)[filter_props]"
   ]
  },
  {
   "cell_type": "code",
   "execution_count": null,
   "id": "89d2ced6-44f0-447b-981b-38fb331c1c59",
   "metadata": {},
   "outputs": [],
   "source": [
    "covered_time_after_interpolation.T.style.map(Preprocessor.highlight_zero).format(lambda x: f'{x.days} d')"
   ]
  },
  {
   "cell_type": "code",
   "execution_count": null,
   "id": "1d636103-549f-47d2-8eee-bfa8ceff5898",
   "metadata": {},
   "outputs": [],
   "source": [
    "covered_time_after_interpolation.to_excel('rhc_covered_time.xlsx')"
   ]
  },
  {
   "cell_type": "code",
   "execution_count": null,
   "id": "9ecb51c7-7bc5-4569-894f-a2d49648486d",
   "metadata": {},
   "outputs": [],
   "source": [
    "%%time\n",
    "covered_time_after_interpolation = Preprocessor.calculate_covered_time(df_interpolated).sort_index(axis=1).sort_values(by='total', ascending=False)"
   ]
  },
  {
   "cell_type": "code",
   "execution_count": null,
   "id": "72974da2-bcd9-4c97-bb8a-03e805b80d8b",
   "metadata": {},
   "outputs": [],
   "source": [
    "covered_time_after_interpolation.T.style.map(Preprocessor.highlight_zero).format(lambda x: f'{x.days} d')"
   ]
  },
  {
   "cell_type": "markdown",
   "id": "d3e78617-2395-408a-a3fd-ab602a02b9f9",
   "metadata": {
    "tags": []
   },
   "source": [
    "# Converting raw properties dataframe to preprocessed dataframe\n"
   ]
  },
  {
   "cell_type": "code",
   "execution_count": null,
   "id": "83baf056-4fa7-4424-8c86-0664d35134fa",
   "metadata": {},
   "outputs": [],
   "source": [
    "%%time\n",
    "%autoreload 2\n",
    "df_prep = Preprocessor.unstack_source_cat_and_type(df_interpolated)"
   ]
  },
  {
   "cell_type": "code",
   "execution_count": null,
   "id": "71bffcd1-f5ac-40d8-b11b-c8fa47302773",
   "metadata": {
    "tags": []
   },
   "outputs": [],
   "source": [
    "df_prep.info()"
   ]
  },
  {
   "cell_type": "code",
   "execution_count": null,
   "id": "648a5bd3-6909-4e58-974b-56267fbcd9c5",
   "metadata": {},
   "outputs": [],
   "source": [
    "df_prep.index.dtypes"
   ]
  },
  {
   "cell_type": "code",
   "execution_count": null,
   "id": "ae874a71-cff5-4f7f-be4f-d2924e3ce3b7",
   "metadata": {
    "scrolled": true
   },
   "outputs": [],
   "source": [
    "df_prep"
   ]
  },
  {
   "cell_type": "markdown",
   "id": "432ce782-d922-44db-bbf5-9ac002c6b991",
   "metadata": {},
   "source": [
    "# Remove first few minutes of heat distribution flow and return data\n",
    "\n",
    "After temporal interpolation, the first few minutes of flow and return temperatures may not be represtentative for the flow and return temperature of the heat distribution system. Some heat of a DHW tapping may still be influencing the sensors for the flow and return temperature. "
   ]
  },
  {
   "cell_type": "code",
   "execution_count": null,
   "id": "af7964ca-482d-41a3-9920-203c5ceee8fb",
   "metadata": {},
   "outputs": [],
   "source": [
    "filtered_flow_and_return_cols = {'batch_import_remeha_temp_flow_ch__degC', 'batch_import_remeha_temp_ret_ch__degC'}"
   ]
  },
  {
   "cell_type": "code",
   "execution_count": null,
   "id": "207b2925-2c19-4ec4-9b38-c34b6a83d4f7",
   "metadata": {},
   "outputs": [],
   "source": [
    "valid_before = df_prep[list(filtered_flow_and_return_cols)].notna().sum().sum()\n",
    "print(f\"Number of valid flow and return temps before filtering: {valid_before}\")"
   ]
  },
  {
   "cell_type": "code",
   "execution_count": null,
   "id": "9d380f66-8a62-43f9-a1a9-b1e2828ed984",
   "metadata": {},
   "outputs": [],
   "source": [
    "df_prep[['batch_import_remeha_temp_flow_ch__degC', 'batch_import_remeha_temp_ret_ch__degC']].describe()"
   ]
  },
  {
   "cell_type": "code",
   "execution_count": null,
   "id": "c8632587-c21e-4da7-aedb-79e5859d92e1",
   "metadata": {},
   "outputs": [],
   "source": [
    "# Define remove_first__min (number of initial minutes to exclude per streak)\n",
    "%autoreload 2\n",
    "min_streak_length__min = 10\n",
    "remove_first__min = 4 \n",
    "remove_last__min = 0 "
   ]
  },
  {
   "cell_type": "code",
   "execution_count": null,
   "id": "4a71086f-86fa-4194-8baa-ccedc70d1304",
   "metadata": {},
   "outputs": [],
   "source": [
    "clipped_flow_and_return_cols = {'filtered_batch_import_remeha_temp_flow_ch__degC', 'filtered_batch_import_remeha_temp_ret_ch__degC'}"
   ]
  },
  {
   "cell_type": "code",
   "execution_count": null,
   "id": "01507df4-f158-405e-8905-a804863671cf",
   "metadata": {},
   "outputs": [],
   "source": [
    "%%time\n",
    "%autoreload 2\n",
    "df_prep = Preprocessor.add_clipped_flow_return_temps(\n",
    "    df_prep,\n",
    "    sorted(list(filtered_flow_and_return_cols)),\n",
    "    sorted(list(clipped_flow_and_return_cols)),\n",
    "    min_streak_length__min,\n",
    "    remove_first__min,\n",
    "    remove_last__min\n",
    ")"
   ]
  },
  {
   "cell_type": "code",
   "execution_count": null,
   "id": "a47f3170-6185-481e-b0a5-08d269f06ca4",
   "metadata": {},
   "outputs": [],
   "source": [
    "df_prep[list(clipped_flow_and_return_cols)].describe()"
   ]
  },
  {
   "cell_type": "markdown",
   "id": "0fa9e8ac-deb7-4fb4-94c4-4c31fc855913",
   "metadata": {},
   "source": [
    "## Interpolate across flow and return temperatures across gaps not too large"
   ]
  },
  {
   "cell_type": "code",
   "execution_count": null,
   "id": "6b74bcb0-c9bd-4f48-aff8-264528a3b319",
   "metadata": {},
   "outputs": [],
   "source": [
    "# gap_max_duration__min = 60  # in minutes\n",
    "gap_max_duration__min = 5  # in minutes"
   ]
  },
  {
   "cell_type": "code",
   "execution_count": null,
   "id": "95b3b749-4aca-45b5-b662-ba6a0af598f2",
   "metadata": {},
   "outputs": [],
   "source": [
    "interpolated_flow_and_return_cols = {f\"interpolated_{col}\" for col in filtered_flow_and_return_cols}"
   ]
  },
  {
   "cell_type": "code",
   "execution_count": null,
   "id": "6e5059b0-8609-413a-be09-8eb2c2f5e8e6",
   "metadata": {},
   "outputs": [],
   "source": [
    "interpolated_flow_and_return_cols"
   ]
  },
  {
   "cell_type": "code",
   "execution_count": null,
   "id": "d37c99dc-d013-4c90-a414-f4d5e7bb74c6",
   "metadata": {},
   "outputs": [],
   "source": [
    "%%time\n",
    "%autoreload 2\n",
    "df_prep = Preprocessor.interpolate_with_gap_limit(\n",
    "    df_prep, \n",
    "    sorted(list(clipped_flow_and_return_cols)), \n",
    "    sorted(list(interpolated_flow_and_return_cols)), \n",
    "    gap_max_duration__min\n",
    ")"
   ]
  },
  {
   "cell_type": "code",
   "execution_count": null,
   "id": "493c23c0-a4d1-457e-9e2a-685f2d99bb34",
   "metadata": {},
   "outputs": [],
   "source": [
    "df_prep[list(interpolated_flow_and_return_cols)].describe()"
   ]
  },
  {
   "cell_type": "code",
   "execution_count": null,
   "id": "c4e7794d-7b43-4e64-9666-6bf027a1ac94",
   "metadata": {},
   "outputs": [],
   "source": [
    "valid_after = df_prep[list(clipped_flow_and_return_cols)].notna().sum().sum()\n",
    "print(f\"Removed {valid_before - valid_after} values not representative\")\n",
    "print(f\"Number of valid flow and return temps after filtering: {valid_after}\")"
   ]
  },
  {
   "cell_type": "code",
   "execution_count": null,
   "id": "19b65d64-74b4-4c50-adee-933deeb8d62c",
   "metadata": {},
   "outputs": [],
   "source": [
    "valid_interpolated_after = df_prep[list(interpolated_flow_and_return_cols)].notna().sum().sum()\n",
    "print(f\"Added {valid_interpolated_after - valid_after} values not during interpolation\")\n",
    "print(f\"Number of valid flow and return temps after filtering and interpolation: {valid_interpolated_after}\")"
   ]
  },
  {
   "cell_type": "markdown",
   "id": "8b99ac7c-ef37-4a4c-9502-9eaeb7a69b9f",
   "metadata": {},
   "source": [
    "## Calculate heat distribution system temperature\n"
   ]
  },
  {
   "cell_type": "code",
   "execution_count": null,
   "id": "911e7577-66ac-4401-be82-87ea860ccda6",
   "metadata": {},
   "outputs": [],
   "source": [
    "df_prep['temp_dstr__degC'] = (df_prep['batch_import_remeha_temp_flow_ch__degC'] + df_prep['batch_import_remeha_temp_ret_ch__degC']) / 2"
   ]
  },
  {
   "cell_type": "markdown",
   "id": "54a3df8e-2e9f-4d31-ae56-963dd3557ff9",
   "metadata": {},
   "source": [
    "# Convert cumulative smart meter values to average power"
   ]
  },
  {
   "cell_type": "code",
   "execution_count": null,
   "id": "a9afe844-3e79-4ec4-9aa8-d6e9c785165a",
   "metadata": {},
   "outputs": [],
   "source": [
    "meter_props = sorted([item for item in list(df_prep.columns) if item.endswith('_cum__kWh') or item.endswith('_cum__m3')])"
   ]
  },
  {
   "cell_type": "code",
   "execution_count": null,
   "id": "0ed18474-9635-44f4-a58b-f4008ecf7896",
   "metadata": {},
   "outputs": [],
   "source": [
    "%%time\n",
    "%autoreload 2\n",
    "df_prep = Preprocessor.convert_cumulative_to_avg_power(df_prep,\n",
    "                                                       props=meter_props,\n",
    "                                                       heating_value__MJ_m_3=(gas_groningen_nl_avg_std_hhv__J_m_3 / 1e6),\n",
    "                                                       heating_value_name__str='hhv'\n",
    "                                                      )"
   ]
  },
  {
   "cell_type": "code",
   "execution_count": null,
   "id": "4d22f8de-7d61-4009-85a5-1f5dbda25692",
   "metadata": {},
   "outputs": [],
   "source": [
    "print(df_prep.describe().T.to_string())"
   ]
  },
  {
   "cell_type": "code",
   "execution_count": null,
   "id": "10ffddfa-6e18-4b42-823b-e0277d0e05f2",
   "metadata": {},
   "outputs": [],
   "source": [
    "list(df_prep.columns)"
   ]
  },
  {
   "cell_type": "code",
   "execution_count": null,
   "id": "6b195061-402c-480b-9731-fd66050c46af",
   "metadata": {},
   "outputs": [],
   "source": [
    "power_props = [\n",
    "    'device_p1-reader_e_ret_hi__W',\n",
    "    'device_p1-reader_e_ret_lo__W',\n",
    "    'device_p1-reader_e_use_hi__W',\n",
    "    'device_p1-reader_e_use_lo__W'\n",
    "]"
   ]
  },
  {
   "cell_type": "code",
   "execution_count": null,
   "id": "694d3ca6-de55-4bf8-8165-b3c0d10da4be",
   "metadata": {},
   "outputs": [],
   "source": [
    "df_prep[power_props].groupby('id').count().T"
   ]
  },
  {
   "cell_type": "code",
   "execution_count": null,
   "id": "344c4e86-fa7f-41ae-ae80-e3b468c462a7",
   "metadata": {},
   "outputs": [],
   "source": [
    "df_prep[power_props].groupby('id').describe().T"
   ]
  },
  {
   "cell_type": "code",
   "execution_count": null,
   "id": "f9cd8def-39b1-4785-8016-5bbb9c148a00",
   "metadata": {},
   "outputs": [],
   "source": [
    "# Set return power to zero when NaN, but only if both usage value powers are not NaN\n",
    "mask_use_not_nan = df_prep['device_p1-reader_e_use_hi__W'].notna() & df_prep['device_p1-reader_e_use_lo__W'].notna()\n",
    "\n",
    "df_prep.loc[mask_use_not_nan, ['device_p1-reader_e_ret_hi__W', 'device_p1-reader_e_ret_lo__W']] = \\\n",
    "    df_prep.loc[mask_use_not_nan, ['device_p1-reader_e_ret_hi__W', 'device_p1-reader_e_ret_lo__W']].fillna(0)\n"
   ]
  },
  {
   "cell_type": "code",
   "execution_count": null,
   "id": "2b30b9c9-aacb-4bac-b1a6-b5ce9bcf8932",
   "metadata": {},
   "outputs": [],
   "source": [
    "df_prep[power_props].groupby('id').count().T"
   ]
  },
  {
   "cell_type": "code",
   "execution_count": null,
   "id": "f5d3895e-2f17-4f5d-9de2-9b774587e518",
   "metadata": {},
   "outputs": [],
   "source": [
    "df_prep[power_props].groupby('id').describe().T"
   ]
  },
  {
   "cell_type": "markdown",
   "id": "81952524-3d35-4b48-9f1a-07a8077c7136",
   "metadata": {},
   "source": [
    "# Calculate additional properties \n",
    "We may have to move some of these calculations to inside the GEKKO Python model code (e.g. for the what-if scenario simulation)"
   ]
  },
  {
   "cell_type": "markdown",
   "id": "4ebc2d51-9f35-41da-9f09-875563fa8da2",
   "metadata": {},
   "source": [
    "### Calculating electricity data"
   ]
  },
  {
   "cell_type": "code",
   "execution_count": null,
   "id": "3e329ea9-9980-4b57-ae30-e773027bf505",
   "metadata": {},
   "outputs": [],
   "source": [
    "%%time\n",
    "df_prep['device_p1-reader_e_use__W'] = df_prep['device_p1-reader_e_use_hi__W'] + df_prep['device_p1-reader_e_use_lo__W']\n",
    "df_prep['device_p1-reader_e_ret__W'] = df_prep['device_p1-reader_e_ret_hi__W'] + df_prep['device_p1-reader_e_ret_lo__W'] \n",
    "df_prep['device_p1-reader_e__W'] = df_prep['device_p1-reader_e_use__W'] - df_prep['device_p1-reader_e_ret__W'] \n"
   ]
  },
  {
   "cell_type": "markdown",
   "id": "40795be0-18b7-4f14-8c0e-6f2cf4d81d79",
   "metadata": {},
   "source": [
    "### Reading and calculating boiler data "
   ]
  },
  {
   "cell_type": "markdown",
   "id": "ee5d5333-0d48-4868-9517-96816d53fc32",
   "metadata": {},
   "source": [
    "#### Reading home metadata"
   ]
  },
  {
   "cell_type": "code",
   "execution_count": null,
   "id": "536c5e6d-2da0-4d18-b6e6-13ef351c6415",
   "metadata": {},
   "outputs": [],
   "source": [
    "%%time\n",
    "# Attempt to read the Parquet file\n",
    "try:\n",
    "    df_homes = pd.read_parquet(\n",
    "        home_data_file_path, \n",
    "        engine='pyarrow',\n",
    "        dtype_backend='numpy_nullable'\n",
    "        )\n",
    "    print(\"File was successfully read without specifying compression codec.\")\n",
    "except Exception as e:\n",
    "    print(f\"Error reading file: {e}\")"
   ]
  },
  {
   "cell_type": "markdown",
   "id": "ef2b8419-398a-4665-83da-08c94510eee1",
   "metadata": {},
   "source": [
    "#### Merge home data into df_prep"
   ]
  },
  {
   "cell_type": "code",
   "execution_count": null,
   "id": "ad728993-fe1b-4ff8-99aa-d9133e277b78",
   "metadata": {},
   "outputs": [],
   "source": [
    "# Merge df_prep with df_homes to get the brand_model for each id\n",
    "df_prep = df_prep.reset_index().merge(df_homes, on='id').set_index(['id', 'timestamp'])"
   ]
  },
  {
   "cell_type": "markdown",
   "id": "6de9a451-b9bf-4bb5-b11e-00be4a26e6a7",
   "metadata": {},
   "source": [
    "## Calculate gas input power"
   ]
  },
  {
   "cell_type": "markdown",
   "id": "7c1c1aae-94f2-44fa-9873-3efb9db9d33b",
   "metadata": {},
   "source": [
    "### Calculate conversion factors for calorific value, temperature and pressure"
   ]
  },
  {
   "cell_type": "code",
   "execution_count": null,
   "id": "47816011-6d9a-4eb5-8277-9a9035301840",
   "metadata": {},
   "outputs": [],
   "source": [
    "# use the actual higher heating value\n",
    "df_prep.loc[:,'gas_std_hhv__J_m_3'] = df_prep['batch_import_EDSN_actual_gas_std_hhv__J_m_3']\n",
    "\n",
    "# alternatively, use average of actual higher heating value\n",
    "# df_prep.loc[:,'gas_std_hhv__J_m_3'] = df_prep[df_prep['batch_import_remeha_boiler_status_burning_ch__bool'] == True]['batch_import_EDSN_actual_gas_std_hhv__J_m_3'].mean()\n",
    "\n",
    "# alternative, simpler solution: assume higher heating value of groningen gas\n",
    "# df_prep.loc[:,'gas_std_hhv__J_m_3'] = gas_groningen_nl_avg_std_hhv__J_m_3\n",
    "\n",
    "# Calorific value conversion factor from G25.3 gas to the actual gas used \n",
    "df_prep.loc[:,'gas_calorific_factor_g25_3_lhv_to_actual_hhv__J0'] = df_prep['gas_std_hhv__J_m_3'] / gas_g25_3_ref_lhv__J_m_3\n",
    "\n",
    "# Pressure conversion factor from reference pressure (1 atm) to actual pressure (KNMI), including constant overpressure\n",
    "df_prep.loc[:,'gas_pressure_factor_ref_to_actual__J0'] = (\n",
    "    (df_prep['batch_import_KNMI_air_outdoor__Pa'] + overpressure_gas_nl_avg__Pa) \n",
    "    / \n",
    "    (P_std__Pa + overpressure_gas_nl_avg__Pa)\n",
    ")\n",
    "\n",
    "# Temperature conversion factor from reference temperature to actual temperature (of which we only know an average value based on ACM)\n",
    "df_prep.loc[:,'gas_temp_factor_ref_to_actual__J0'] = temp_gas_ref__K / temp_gas_nl_avg__K"
   ]
  },
  {
   "cell_type": "code",
   "execution_count": null,
   "id": "ec06a94e-4bbd-42a6-acde-866290889777",
   "metadata": {},
   "outputs": [],
   "source": [
    "# Calorific value conversion factor from Groningen gas gas to the actual gas used \n",
    "df_prep.loc[:,'gas_calorific_factor_groningen_hhv_to_actual_hhv__J0'] = df_prep['gas_std_hhv__J_m_3'] / gas_groningen_nl_avg_std_hhv__J_m_3\n",
    "\n",
    "# Pressure conversion factor to correct pressure conversion by smart meter (assumed: P_nl_avg__Pa) using actual pressure (KNMI), including constant overpressure\n",
    "df_prep.loc[:,'gas_pressure_factor_correct_smart_meter_to_actual__J0'] = (\n",
    "    (P_nl_avg__Pa + overpressure_gas_nl_avg__Pa)\n",
    "    /\n",
    "    (df_prep['batch_import_KNMI_air_outdoor__Pa'] + overpressure_gas_nl_avg__Pa)\n",
    ")\n"
   ]
  },
  {
   "cell_type": "code",
   "execution_count": null,
   "id": "0a08e2ce-fb9a-4d7b-8277-2ac9421ed2b3",
   "metadata": {},
   "outputs": [],
   "source": [
    "df_prep[[\n",
    "    'batch_import_EDSN_actual_gas_std_hhv__J_m_3',\n",
    "    'gas_calorific_factor_g25_3_lhv_to_actual_hhv__J0',\n",
    "    'gas_calorific_factor_groningen_hhv_to_actual_hhv__J0',\n",
    "    'gas_temp_factor_ref_to_actual__J0',\n",
    "    'gas_pressure_factor_ref_to_actual__J0',\n",
    "    'gas_pressure_factor_correct_smart_meter_to_actual__J0',\n",
    "]].describe().T"
   ]
  },
  {
   "cell_type": "markdown",
   "id": "b9d394d7-14b3-4c23-8d28-96cdda2a15b6",
   "metadata": {},
   "source": [
    "### Calculate gas input power based on boiler fan speed"
   ]
  },
  {
   "cell_type": "code",
   "execution_count": null,
   "id": "90cc6c7c-6019-4e49-9157-69ba00e26cdb",
   "metadata": {},
   "outputs": [],
   "source": [
    "%%time                                         \n",
    "# Create value for boiler load percentage (how far along the current fan RPM is between the min and max)\n",
    "df_prep.loc[:, 'fan_speed__pct'] = (\n",
    "    (df_prep['batch_import_remeha_fan_rotations__min_1'] - df_prep['fan_min_ch_rotations__min_1'])\n",
    "    /\n",
    "    (df_prep['fan_max_ch_rotations__min_1'] - df_prep['fan_min_ch_rotations__min_1'])\n",
    ").astype('Float32').clip(lower=0.0, upper=1.0) * 100  # Convert to percentage\n",
    "\n",
    "# Calculate input power of G25.3 gas as a lineair interpolation btween Qnh_min_lhv__kW and Qnh_max_lhv__kW based on fan_speed__pct\n",
    "df_prep.loc[:, 'g25_3_use_fan_lhv__W'] = (\n",
    "    df_prep['batch_import_remeha_gas_valve_open__bool']   #only include the gas input if the valve was open\n",
    "    * 1e3                                                 # convert from kW to W \n",
    "    *\n",
    "    (df_prep['Qnh_min_lhv__kW'] \n",
    "     + \n",
    "     df_prep['fan_speed__pct'] / 100 * (df_prep['Qnh_max_lhv__kW'] - df_prep['Qnh_min_lhv__kW'])\n",
    "    )\n",
    ").astype('Float32')\n",
    "\n",
    "# Calculate the (unrounded) load percentage, as a value between the minimum and maximum load. \n",
    "df_prep.loc[:, 'g_use_fan_load__pct'] = (\n",
    "    df_prep['g25_3_use_fan_lhv__W'] \n",
    "    /\n",
    "    (df_prep['Qnh_max_lhv__kW'] * 1e3)\n",
    ").astype('Float32').clip(lower=0.0, upper=1.0) * 100"
   ]
  },
  {
   "cell_type": "code",
   "execution_count": null,
   "id": "0a4eb3e2-1cbd-4964-866f-4d5227de0eaf",
   "metadata": {},
   "outputs": [],
   "source": [
    "%matplotlib inline\n",
    "%matplotlib widget\n",
    "prop = 'fan_speed__pct'\n",
    "df_prep[prop].plot.hist(bins=200, alpha=0.5, title = prop)"
   ]
  },
  {
   "cell_type": "code",
   "execution_count": null,
   "id": "de6d0ad2-f02e-48da-8193-e1c894c5819c",
   "metadata": {},
   "outputs": [],
   "source": [
    "%matplotlib inline\n",
    "%matplotlib widget\n",
    "prop = 'g_use_fan_load__pct'\n",
    "df_prep[prop].plot.hist(bins=200, alpha=0.5, title = prop)"
   ]
  },
  {
   "cell_type": "code",
   "execution_count": null,
   "id": "cd124a81-b11b-450e-8c0b-4955cffb7f80",
   "metadata": {},
   "outputs": [],
   "source": [
    "%%time                                         \n",
    "# estimate gas input power at actual pressure and temperature \n",
    "df_prep.loc[:,'g_use_fan_hhv__W'] = (\n",
    "    df_prep['g25_3_use_fan_lhv__W']\n",
    "    *\n",
    "    df_prep['gas_calorific_factor_g25_3_lhv_to_actual_hhv__J0']\n",
    "    *\n",
    "    df_prep['gas_pressure_factor_ref_to_actual__J0'] \n",
    "    *\n",
    "    df_prep['gas_temp_factor_ref_to_actual__J0']\n",
    ")"
   ]
  },
  {
   "cell_type": "code",
   "execution_count": null,
   "id": "e6ac37d8-f5e6-4466-a734-10db77a54ddf",
   "metadata": {},
   "outputs": [],
   "source": [
    "df_prep.loc[:,'g_use_fan_ch_hhv__W'] = df_prep['g_use_fan_hhv__W'] * df_prep['batch_import_remeha_boiler_status_burning_ch__bool']\n",
    "df_prep.loc[:,'g_use_fan_dhw_hhv__W'] = df_prep['g_use_fan_hhv__W'] * df_prep['batch_import_remeha_boiler_status_burning_dhw__bool']"
   ]
  },
  {
   "cell_type": "markdown",
   "id": "813e829e-a5e9-4955-b431-4c1d9472261f",
   "metadata": {},
   "source": [
    "### Calculate gas input power based on Remeha energy counters"
   ]
  },
  {
   "cell_type": "code",
   "execution_count": null,
   "id": "bec2305c-1175-49cf-914e-02010170ee51",
   "metadata": {},
   "outputs": [],
   "source": [
    "%%time                                         \n",
    "# estimate gas input power at actual pressure and temperature \n",
    "df_prep.loc[:,'g_use_boilercounter_dhw_hhv__W'] = (\n",
    "    df_prep['batch_import_remeha_g_use_dhw_lhv__W']\n",
    "    *\n",
    "    df_prep['gas_calorific_factor_g25_3_lhv_to_actual_hhv__J0']\n",
    "    *\n",
    "    df_prep['gas_pressure_factor_ref_to_actual__J0'] \n",
    "    *\n",
    "    df_prep['gas_temp_factor_ref_to_actual__J0']\n",
    ")\n",
    "\n",
    "df_prep.loc[:,'g_use_boilercounter_ch_hhv__W'] = (\n",
    "    df_prep['batch_import_remeha_g_use_ch_lhv__W']\n",
    "    *\n",
    "    df_prep['gas_calorific_factor_g25_3_lhv_to_actual_hhv__J0']\n",
    "    *\n",
    "    df_prep['gas_pressure_factor_ref_to_actual__J0'] \n",
    "    *\n",
    "    df_prep['gas_temp_factor_ref_to_actual__J0']\n",
    ")\n",
    "\n",
    "df_prep.loc[:,'g_use_boilercounter_hhv__W'] = (\n",
    "    df_prep['g_use_boilercounter_ch_hhv__W'] \n",
    "    + \n",
    "    df_prep['g_use_boilercounter_dhw_hhv__W']\n",
    ")"
   ]
  },
  {
   "cell_type": "code",
   "execution_count": null,
   "id": "c4db0c64-e510-4df5-81cd-027cc0c3024c",
   "metadata": {},
   "outputs": [],
   "source": [
    "df_bools_to_float = df_prep[[col for col in df_prep.columns if col.endswith('__bool')]].copy()\n",
    "for col in df_bools_to_float.columns:\n",
    "    df_bools_to_float[col] = df_bools_to_float[col].astype('float')\n",
    "df_bools_to_float.describe().T.drop(columns='count').style.format(\"{:.2%}\")"
   ]
  },
  {
   "cell_type": "markdown",
   "id": "964a5495-6259-4902-b3ff-1a3f5fdc878f",
   "metadata": {},
   "source": [
    "### Calculate actual gas input power for all purposes based on smart meter data"
   ]
  },
  {
   "cell_type": "code",
   "execution_count": null,
   "id": "90f8b6bc-24ab-4d56-a8fa-dffc2a75fa9c",
   "metadata": {},
   "outputs": [],
   "source": [
    "%%time\n",
    "# Smart meters measure and correct for temperature; correct for actual air pressure and  actual calorific value is not yet done; we do it here.\n",
    "\n",
    "df_prep.loc[:,'g_use_p1_hhv__W'] = (\n",
    "    df_prep['device_p1-reader_g_use_hhv__W']\n",
    "    * df_prep['gas_calorific_factor_groningen_hhv_to_actual_hhv__J0']     # calorific conversion factor\n",
    "    * df_prep['gas_pressure_factor_correct_smart_meter_to_actual__J0']    # pressure conversion factor\n",
    ")"
   ]
  },
  {
   "cell_type": "markdown",
   "id": "d1eda778-160e-4181-97e6-badd60c81f8e",
   "metadata": {},
   "source": [
    "## Inspect filtered and interpolated return temperatures"
   ]
  },
  {
   "cell_type": "code",
   "execution_count": null,
   "id": "38c743eb-d9d3-40ee-807b-5010a6dbcdac",
   "metadata": {},
   "outputs": [],
   "source": [
    "units_to_mathtext = {\n",
    "    'degC' : r'$°C$',\n",
    "    'ppm' : r'$ppm$',\n",
    "    '0' : r'$[-]$',\n",
    "    'bool': r'$0:False 1:True$',\n",
    "    'p' : r'$persons$',\n",
    "    'W' : r'$W$',\n",
    "    'W_m_2' : r'$W/m^{2}$',\n",
    "    'm_s_1' : r'$m/s$',\n",
    "    'W0' : r'$W^{0}$',\n",
    "    'min_1' : r'$/min$',\n",
    "    'l_min_1' : r'$L/min$',\n",
    "    'dm3_s_1' : r'$dm^{3}/s$',\n",
    "    'pct': '%',\n",
    "}"
   ]
  },
  {
   "cell_type": "code",
   "execution_count": null,
   "id": "f273877b-2a86-41b0-8821-e3e470e7b341",
   "metadata": {},
   "outputs": [],
   "source": [
    "#mask to filter a test day for flow and return temp filtering and gap bridging\n",
    "returntemp_mask = (\n",
    "    # (df_prep.index.get_level_values('id') == 483173)\n",
    "    (df_prep.index.get_level_values('id') == 403603)\n",
    "    & \n",
    "    (df_prep.index.get_level_values('timestamp') >= pd.to_datetime('2024-02-23 00:00:00+01:00'))\n",
    "    & \n",
    "    (df_prep.index.get_level_values('timestamp') < pd.to_datetime('2024-02-26 00:00:00+01:00'))\n",
    ")"
   ]
  },
  {
   "cell_type": "code",
   "execution_count": null,
   "id": "29772245-e75e-44b0-8444-5ef9f9306b73",
   "metadata": {},
   "outputs": [],
   "source": [
    "replace_boolprops = {'batch_import_remeha_boiler_status_burning_ch__bool',\n",
    "                     'batch_import_remeha_boiler_status_pump_post_run__bool', \n",
    "                     'batch_import_remeha_boiler_status_burning_dhw__bool',\n",
    "                    }"
   ]
  },
  {
   "cell_type": "code",
   "execution_count": null,
   "id": "9a183fc4-d5d2-4f48-92de-5a1b4ad0855f",
   "metadata": {},
   "outputs": [],
   "source": [
    "%%time\n",
    "for prop in replace_boolprops:\n",
    "    df_prep[f\"{prop}01\"] = df_prep[prop].astype('Int8')"
   ]
  },
  {
   "cell_type": "code",
   "execution_count": null,
   "id": "3ca2d601-1881-4a62-82a1-83171598e296",
   "metadata": {},
   "outputs": [],
   "source": [
    "replaced_boolprops = {f\"{prop}01\" for prop in replace_boolprops}"
   ]
  },
  {
   "cell_type": "code",
   "execution_count": null,
   "id": "53c7693f-4ddc-4140-810e-bb1b17630fc9",
   "metadata": {},
   "outputs": [],
   "source": [
    "flow_and_return_cols = {\n",
    "    'batch_import_remeha_temp_flow__degC',\n",
    "    'batch_import_remeha_temp_ret__degC',\n",
    "}"
   ]
  },
  {
   "cell_type": "code",
   "execution_count": null,
   "id": "90ec73b4-ecc7-4d8f-b3e4-ccd650bcac67",
   "metadata": {},
   "outputs": [],
   "source": [
    "base_cols = {\n",
    "    # 'g_use_fan_ch_hhv__W',\n",
    "    # 'g_use_fan_dhw_hhv__W',\n",
    "    # 'batch_import_remeha_dhw_flow__l_min_1',\n",
    "    'batch_import_remeha_flow_dstr_pump_speed__pct',\n",
    "    'g_use_fan_load__pct',\n",
    "    # 'fan_speed__pct',\n",
    "} | replaced_boolprops"
   ]
  },
  {
   "cell_type": "code",
   "execution_count": null,
   "id": "2f7c18a3-9e51-48a8-a941-454e8d515a21",
   "metadata": {},
   "outputs": [],
   "source": [
    "Plot.dataframe_preprocessed_plot(df_prep[returntemp_mask][list(base_cols | flow_and_return_cols)], units_to_mathtext)"
   ]
  },
  {
   "cell_type": "code",
   "execution_count": null,
   "id": "6586d51f-8cec-476c-bdfc-b62bc38c7182",
   "metadata": {},
   "outputs": [],
   "source": [
    "Plot.dataframe_preprocessed_plot(df_prep[returntemp_mask][list(base_cols | filtered_flow_and_return_cols)], units_to_mathtext)"
   ]
  },
  {
   "cell_type": "code",
   "execution_count": null,
   "id": "51cf71fe-d710-4e0e-9787-8e3de434ddda",
   "metadata": {},
   "outputs": [],
   "source": [
    "Plot.dataframe_preprocessed_plot(df_prep[returntemp_mask][list(base_cols | clipped_flow_and_return_cols)], units_to_mathtext)"
   ]
  },
  {
   "cell_type": "code",
   "execution_count": null,
   "id": "11f42eaa-9c55-4d35-8d1d-c18d1cec933b",
   "metadata": {},
   "outputs": [],
   "source": [
    "Plot.dataframe_preprocessed_plot(df_prep[returntemp_mask][list(base_cols | interpolated_flow_and_return_cols)], units_to_mathtext)"
   ]
  },
  {
   "cell_type": "markdown",
   "id": "7405e97e-18b4-4858-85d9-6852d452ff22",
   "metadata": {},
   "source": [
    "# Writing preprocessed interpolated properties to a parquet file"
   ]
  },
  {
   "cell_type": "code",
   "execution_count": null,
   "id": "8f101bba-bc72-4b5f-b72e-b36ba7f1d81c",
   "metadata": {},
   "outputs": [],
   "source": [
    "df_prep.info()"
   ]
  },
  {
   "cell_type": "code",
   "execution_count": null,
   "id": "b0307056-af3e-4860-aa55-356d0805ee14",
   "metadata": {},
   "outputs": [],
   "source": [
    "df_prep.index.dtypes"
   ]
  },
  {
   "cell_type": "code",
   "execution_count": null,
   "id": "1e668523-ab87-4345-9d19-68090a4c9cb7",
   "metadata": {},
   "outputs": [],
   "source": [
    "%%time \n",
    "df_prep.to_parquet(rhc_preprocessed_poperties_file, index=True, engine='pyarrow')"
   ]
  },
  {
   "cell_type": "markdown",
   "id": "426483fb-ddc6-4ace-a6ee-847d2c393a8f",
   "metadata": {},
   "source": [
    "# Missing value overview"
   ]
  },
  {
   "cell_type": "code",
   "execution_count": null,
   "id": "ed3f9bc0-52da-4e23-9165-9f6932fcc626",
   "metadata": {},
   "outputs": [],
   "source": [
    "print(f\"df_prep.count().sum(): {df_prep.count().sum():_}\")"
   ]
  },
  {
   "cell_type": "code",
   "execution_count": null,
   "id": "f4696fd2-18d5-492b-a003-7ba909644266",
   "metadata": {},
   "outputs": [],
   "source": [
    "list(sorted(df_prep.columns))"
   ]
  },
  {
   "cell_type": "code",
   "execution_count": null,
   "id": "9411be93-5049-4c7f-b965-c3ea2d33f551",
   "metadata": {},
   "outputs": [],
   "source": [
    "mandatory_sourceprops =  ['batch_import_KNMI_temp_outdoor__degC', \n",
    "                          'batch_import_KNMI_sol_ghi__W_m_2',\n",
    "                          'batch_import_KNMI_wind__m_s_1',\n",
    "                          'batch_import_KNMI_air_outdoor__Pa',\n",
    "                          'batch_import_remeha_temp_indoor__degC',\n",
    "                          'batch_import_remeha_temp_ret__degC',\n",
    "                          'batch_import_remeha_temp_flow__degC',\n",
    "                          'batch_import_remeha_fan_rotations__min_1',\n",
    "                          'batch_import_EDSN_actual_gas_std_hhv__J_m_3',\n",
    "                          # 'device_p1-reader_g_use_cum__m3'\n",
    "                         ]"
   ]
  },
  {
   "cell_type": "code",
   "execution_count": null,
   "id": "dc32443a-d3dc-4cdc-9f88-0c22a983abc2",
   "metadata": {},
   "outputs": [],
   "source": [
    "Plot.plot_missing_data_overview(df_prep, properties_include=mandatory_sourceprops, freq='1W', title_fontsize=8)"
   ]
  },
  {
   "cell_type": "code",
   "execution_count": null,
   "id": "353f4d79-f0c2-4eb5-917e-b49d77184cbb",
   "metadata": {},
   "outputs": [],
   "source": [
    "Plot.plot_missing_data_overview(df_prep,\n",
    "                                properties_include=['batch_import_KNMI_temp_outdoor__degC',\n",
    "                                                    'batch_import_KNMI_sol_ghi__W_m_2',\n",
    "                                                    'batch_import_KNMI_wind__m_s_1',\n",
    "                                                    'batch_import_KNMI_air_outdoor__Pa',\n",
    "                                                    'batch_import_KNMI_air_outdoor_rel_humidity__0',                                                   ],\n",
    "                                freq='1W', \n",
    "                                title_fontsize=8)"
   ]
  },
  {
   "cell_type": "code",
   "execution_count": null,
   "id": "372d7807-d233-4024-acc8-3859223858d2",
   "metadata": {},
   "outputs": [],
   "source": [
    "Plot.plot_missing_data_overview(df_prep, properties_include=['device_p1-reader_g_use_cum__m3'], freq='1W', title_fontsize=8)"
   ]
  },
  {
   "cell_type": "code",
   "execution_count": null,
   "id": "3f985297-56b8-4803-bc64-fd43b71a5f91",
   "metadata": {},
   "outputs": [],
   "source": [
    "Plot.plot_missing_data_overview(df_prep, properties_include=['batch_import_remeha_temp_outdoor__degC'], freq='1W', title_fontsize=8)"
   ]
  },
  {
   "cell_type": "code",
   "execution_count": null,
   "id": "1dcc2678-017f-4632-b49f-45f01c23705f",
   "metadata": {},
   "outputs": [],
   "source": [
    "Plot.plot_missing_data_overview(df_prep, properties_include=['batch_import_KNMI_temp_outdoor__degC',\n",
    "                                                             'batch_import_KNMI_sol_ghi__W_m_2',\n",
    "                                                             'batch_import_KNMI_wind__m_s_1',\n",
    "                                                             'batch_import_remeha_temp_indoor__degC',\n",
    "                                                             'batch_import_remeha_temp_ret__degC',\n",
    "                                                             'batch_import_remeha_temp_flow__degC',\n",
    "                                                             # 'batch_import_remeha_g_use_ch_lhv__W',\n",
    "                                                             'device_p1-reader_e_use_hi_cum__kWh', \n",
    "                                                             'device_p1-reader_e_use_lo_cum__kWh',\n",
    "                                                             'device_living_room_co2_indoor__ppm',\n",
    "                                                             'device_living_room_occupancy__p', \n",
    "                                                             'device_living_room_rel_humidity__0', \n",
    "                                                             'device_living_room_temp_indoor__degC',\n",
    "                                                             'device_p1-reader_g_use_cum__m3' \n",
    "                                                            ], \n",
    "                                freq='1W', title_fontsize=6)"
   ]
  },
  {
   "cell_type": "code",
   "execution_count": null,
   "id": "47ea309d-a51f-4410-8ce4-3a4c9b470e27",
   "metadata": {},
   "outputs": [],
   "source": [
    "Plot.plot_missing_data_overview(df_prep, properties_include=['device_p1-reader_e_use_hi_cum__kWh', \n",
    "                                                             'device_p1-reader_e_use_lo_cum__kWh',\n",
    "                                                             'device_living_room_co2_indoor__ppm',\n",
    "                                                             'device_living_room_occupancy__p', \n",
    "                                                             'device_living_room_rel_humidity__0', \n",
    "                                                             'device_living_room_temp_indoor__degC',\n",
    "                                                             'device_p1-reader_g_use_cum__m3' \n",
    "                                                            ], \n",
    "                                freq='1W', title_fontsize=8)"
   ]
  },
  {
   "cell_type": "code",
   "execution_count": null,
   "id": "6e8ae85a-d234-4b50-810a-0b7939829ff4",
   "metadata": {},
   "outputs": [],
   "source": [
    "Plot.plot_missing_data_overview(df_prep, properties_include=['batch_import_remeha_temp_indoor__degC'], freq='1W', title_fontsize=8)"
   ]
  },
  {
   "cell_type": "code",
   "execution_count": null,
   "id": "49a508da-c8a5-4ae6-bdc9-e4108e2f565c",
   "metadata": {},
   "outputs": [],
   "source": [
    "Plot.plot_missing_data_overview(df_prep, properties_include=['device_living_room_co2_indoor__ppm',\n",
    "                                                             'device_living_room_occupancy__p', \n",
    "                                                             'device_living_room_rel_humidity__0', \n",
    "                                                             'device_living_room_temp_indoor__degC'\n",
    "                                                            ], freq='1W', title_fontsize=8)"
   ]
  },
  {
   "cell_type": "code",
   "execution_count": null,
   "id": "64dd97fb-ca71-4bb6-909f-d925af7864bb",
   "metadata": {},
   "outputs": [],
   "source": [
    "Plot.plot_missing_data_overview(df_prep, properties_include=['device_living_room_calibrated_temp_indoor__degC'], freq='1W', title_fontsize=8)"
   ]
  },
  {
   "cell_type": "code",
   "execution_count": null,
   "id": "d673824c-3803-4567-bbc3-e8a7ec677e66",
   "metadata": {},
   "outputs": [],
   "source": [
    "Plot.plot_missing_data_overview(df_prep, properties_include=['batch_import_remeha_temp_indoor__degC', 'device_living_room_calibrated_temp_indoor__degC'], freq='1W', title_fontsize=8)"
   ]
  },
  {
   "cell_type": "code",
   "execution_count": null,
   "id": "cd64302d-2b87-43e1-8b4c-c61f1aacee00",
   "metadata": {},
   "outputs": [],
   "source": [
    "Plot.plot_missing_data_overview(df_prep, properties_include=['cloud_feed_enelogic_g_use_cum__m3'], freq='1W', title_fontsize=8)"
   ]
  },
  {
   "cell_type": "code",
   "execution_count": null,
   "id": "d1d2fcbb-dda2-4998-8ee1-fba72555532b",
   "metadata": {},
   "outputs": [],
   "source": [
    "Plot.plot_missing_data_overview(df_prep, properties_include=['batch_import_enelogic_g_use_monthly_cum__m3'], freq='1M', title_fontsize=8)"
   ]
  },
  {
   "cell_type": "markdown",
   "id": "9dcd52a2-dc99-4671-9357-830037969b08",
   "metadata": {},
   "source": [
    "## Alternative plot: using colored axes\n"
   ]
  },
  {
   "cell_type": "code",
   "execution_count": null,
   "id": "6d6a4bf1-81da-410c-9f96-bc6290c4e713",
   "metadata": {},
   "outputs": [],
   "source": [
    "%%time\n",
    "Plot.plot_data_availability(df_prep, properties_include=mandatory_sourceprops, alpha=0.5, figsize=(12, 12), title_fontsize=8)\n"
   ]
  },
  {
   "cell_type": "code",
   "execution_count": null,
   "id": "2f77609a-037d-4fe3-a518-18b78fbd2f8a",
   "metadata": {},
   "outputs": [],
   "source": [
    "%%time\n",
    "Plot.plot_data_availability(df_prep, properties_include=['cloud_feed_enelogic_g_use_cum__m3'], alpha=0.5, figsize=(12, 12), title_fontsize=8)\n"
   ]
  },
  {
   "cell_type": "markdown",
   "id": "96c2a2df-ee1b-4dee-9b4f-392cfddfd660",
   "metadata": {},
   "source": [
    "# Histograms of streak length\n"
   ]
  },
  {
   "cell_type": "code",
   "execution_count": null,
   "id": "07514258-1397-4572-a9f0-4aaad5e34b1b",
   "metadata": {},
   "outputs": [],
   "source": [
    "df_prep.info()"
   ]
  },
  {
   "cell_type": "code",
   "execution_count": null,
   "id": "19d05c9a-3e8f-43e6-a765-a1903a0b3549",
   "metadata": {},
   "outputs": [],
   "source": [
    "Preprocessor.calculate_streak_durations(df_prep, mandatory_sourceprops)"
   ]
  },
  {
   "cell_type": "code",
   "execution_count": null,
   "id": "c58b4c56-3cf2-4916-86e0-a671dec196e9",
   "metadata": {},
   "outputs": [],
   "source": [
    "Preprocessor.calculate_streak_durations(df_prep, ['cloud_feed_enelogic_g_use_cum__m3'])"
   ]
  },
  {
   "cell_type": "code",
   "execution_count": null,
   "id": "1bffe9ca-4fea-4251-a56d-b4a487cc4ab1",
   "metadata": {},
   "outputs": [],
   "source": [
    "Preprocessor.calculate_streak_durations(df_prep, ['device_p1-reader_g_use_cum__m3'])"
   ]
  },
  {
   "cell_type": "code",
   "execution_count": null,
   "id": "d5901d8d-6de6-4937-862a-77ccc1267e3d",
   "metadata": {},
   "outputs": [],
   "source": [
    "Preprocessor.calculate_streak_durations(df_prep, ['device_living_room_co2_indoor__ppm'])"
   ]
  },
  {
   "cell_type": "code",
   "execution_count": null,
   "id": "466aa85a-e0b9-45bc-a58f-a531c3f4136e",
   "metadata": {},
   "outputs": [],
   "source": [
    "Preprocessor.calculate_streak_durations(df_prep, ['batch_import_remeha_temp_ret_ch__degC'])"
   ]
  },
  {
   "cell_type": "markdown",
   "id": "3a3b11c1-4641-425e-888a-285581f28209",
   "metadata": {
    "tags": []
   },
   "source": [
    "# Plotting results: time series before and after preprocessing"
   ]
  },
  {
   "cell_type": "code",
   "execution_count": null,
   "id": "d39bed76-c1a7-4b7b-b309-f03f47797a73",
   "metadata": {
    "tags": []
   },
   "outputs": [],
   "source": [
    "# %%time\n",
    "# #Plot all properties with a single unit for a single id\n",
    "# Plot.dataframe_properties_plot(df_prop.loc[[401632]][[prop for prop in df_prop.columns.values if prop.split('__')[-1] == 'm3']], units_to_mathtext)"
   ]
  },
  {
   "cell_type": "code",
   "execution_count": null,
   "id": "0c1e9406-ccbf-4185-99f5-9e2b25ca9c79",
   "metadata": {
    "tags": []
   },
   "outputs": [],
   "source": [
    "# %%time\n",
    "# #Plot all preprocessed properties with a single unit for a single id\n",
    "# Plot.dataframe_preprocessed_plot(df_prep.loc[[401632]][[prop for prop in df_prep.columns.values if prop.split('__')[-1] == 'degC']], units_to_mathtext)"
   ]
  },
  {
   "cell_type": "code",
   "execution_count": null,
   "id": "b39a7289-0664-4816-8867-3e7a3ab2fcc4",
   "metadata": {},
   "outputs": [],
   "source": [
    "# TO DO: add prop_ and prep_ in a `prop-prep` column; merge into single dataframe and unstack, thus allowing for close inspection of preprocessed data"
   ]
  },
  {
   "cell_type": "markdown",
   "id": "de68063b-39e2-416f-aff3-780be94cb803",
   "metadata": {
    "tags": []
   },
   "source": [
    "# Other examples: temp_indoor__degC, minmax filtering and using the static outlier filter, per id\n",
    "Filtering out extreme temperatures based on mean and standard deviation per room"
   ]
  },
  {
   "cell_type": "code",
   "execution_count": null,
   "id": "e6b2725c-83d5-4e57-a8cc-3d41d2cf0334",
   "metadata": {
    "tags": []
   },
   "outputs": [],
   "source": [
    "prop = 'temp_indoor__degC'"
   ]
  },
  {
   "cell_type": "code",
   "execution_count": null,
   "id": "f155e727-e7f9-497b-9b18-eacd93510208",
   "metadata": {
    "tags": []
   },
   "outputs": [],
   "source": [
    "%matplotlib inline\n",
    "%matplotlib widget\n",
    "\n",
    "df_prop[prop].plot.hist(bins=200, alpha=0.5, title = prop)\n"
   ]
  }
 ],
 "metadata": {
  "kernelspec": {
   "display_name": "Python 3 (ipykernel)",
   "language": "python",
   "name": "python3"
  },
  "language_info": {
   "codemirror_mode": {
    "name": "ipython",
    "version": 3
   },
   "file_extension": ".py",
   "mimetype": "text/x-python",
   "name": "python",
   "nbconvert_exporter": "python",
   "pygments_lexer": "ipython3",
   "version": "3.11.6"
  }
 },
 "nbformat": 4,
 "nbformat_minor": 5
}
