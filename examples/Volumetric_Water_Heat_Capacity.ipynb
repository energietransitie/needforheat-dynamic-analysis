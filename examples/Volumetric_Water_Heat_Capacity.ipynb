{
 "cells": [
  {
   "cell_type": "markdown",
   "id": "92725b02-5db2-4ab7-8bf4-b1480394a2f1",
   "metadata": {},
   "source": [
    "# Water density in GEKKO"
   ]
  },
  {
   "cell_type": "code",
   "execution_count": null,
   "id": "133e64a7-8640-42c6-9b83-fcdb147d28b8",
   "metadata": {},
   "outputs": [],
   "source": [
    "%load_ext autoreload\n",
    "\n",
    "import sys\n",
    "sys.path.append('../data/')\n",
    "sys.path.append('../view/')\n",
    "sys.path.append('../analysis/')\n",
    "\n",
    "import numpy as np\n",
    "import pandas as pd\n",
    "import matplotlib.pyplot as plt\n",
    "%matplotlib inline\n",
    "%matplotlib widget\n",
    "\n",
    "from nfh_utils import *"
   ]
  },
  {
   "cell_type": "markdown",
   "id": "84ecb427-b437-4b68-9237-7d713403681c",
   "metadata": {},
   "source": [
    "## Compute poly fit"
   ]
  },
  {
   "cell_type": "code",
   "execution_count": null,
   "id": "a74f66ad-116d-4a21-93b1-d9eeddb1682a",
   "metadata": {},
   "outputs": [],
   "source": [
    "%%time\n",
    "temp_range = np.linspace(10, 80, 100)  # Temperatures in °C\n",
    "\n",
    "# Compute volumetric heat capacity using CoolProp\n",
    "volumetric_heat_capacity = water_volumetric_heat_capacity__J_dm_3_K_1(temp_range, np.array(heat_dstr_nl_avg_abs__Pa))\n",
    "\n",
    "# Fit a polynomial\n",
    "degree = 3  # Try different degrees (3-5) for best fit\n",
    "coeffs = np.polyfit(temp_range, volumetric_heat_capacity, degree)\n",
    "poly_fit = np.polyval(coeffs, temp_range)\n",
    "\n",
    "# Plot results\n",
    "fig = plt.figure()\n",
    "plt.plot(temp_range, volumetric_heat_capacity, 'o', label='CoolProp Data')\n",
    "plt.plot(temp_range, poly_fit, '-', label=f'Poly Fit (deg {degree})')\n",
    "plt.xlabel('Temperature [°C]')\n",
    "plt.ylabel('Volumetric Heat Capacity [J/(dm³·K)]')\n",
    "plt.legend()\n",
    "plt.show()\n",
    "\n",
    "# Print polynomial coefficients\n",
    "print(\"Polynomial Coefficients:\", coeffs)\n",
    "\n",
    "# Compute Errors\n",
    "errors = poly_fit - volumetric_heat_capacity\n",
    "absolute_errors = np.abs(errors)\n",
    "\n",
    "# Mean Error and Mean Absolute Error\n",
    "mean_error = np.mean(errors)\n",
    "mean_absolute_error = np.mean(absolute_errors)\n",
    "\n",
    "print(f\"Mean Error (ME): {mean_error}  [J/(dm³·K)]\")\n",
    "print(f\"Mean Absolute Error (MAE): {mean_absolute_error}  [J/(dm³·K)]\")"
   ]
  },
  {
   "cell_type": "code",
   "execution_count": null,
   "id": "ff0580cd-1cb6-45ab-89ee-50b10a0d7c95",
   "metadata": {},
   "outputs": [],
   "source": [
    "list(coeffs)"
   ]
  },
  {
   "cell_type": "markdown",
   "id": "5041ab44-8522-491d-bf76-4aad57b27d4e",
   "metadata": {},
   "source": [
    "## Compute weighted poly fit"
   ]
  },
  {
   "cell_type": "code",
   "execution_count": null,
   "id": "948934b1-7fb9-4351-9082-3e7383b9f027",
   "metadata": {},
   "outputs": [],
   "source": [
    "rhc_data_including_predicted_properties_file_path = 'rhc_results_2025-01-26T182144+0100.parquet'"
   ]
  },
  {
   "cell_type": "code",
   "execution_count": null,
   "id": "cf81da70-4315-4189-b394-6b4d4df333ba",
   "metadata": {},
   "outputs": [],
   "source": [
    "%%time\n",
    "\n",
    "# Attempt to read the Parquet file\n",
    "try:\n",
    "    df_predicted = pd.read_parquet(\n",
    "        rhc_data_including_predicted_properties_file_path, \n",
    "        engine='pyarrow',\n",
    "        dtype_backend='numpy_nullable'\n",
    "        )\n",
    "    print(\"File was successfully read without specifying compression codec.\")\n",
    "except Exception as e:\n",
    "    print(f\"Error reading file: {e}\")\n",
    "\n",
    "# This seems needed to restore the timezone. TODO: check root cause & fix root cause\n",
    "df_predicted = df_predicted.tz_convert('Europe/Amsterdam', level='timestamp')"
   ]
  },
  {
   "cell_type": "code",
   "execution_count": null,
   "id": "49df2968-8cdf-4b46-957c-5b73c9c096b0",
   "metadata": {},
   "outputs": [],
   "source": [
    "df_predicted['temp_dstr__degC'].describe()"
   ]
  },
  {
   "cell_type": "code",
   "execution_count": null,
   "id": "c7040cf2-8b77-4464-af96-0033ee2e5177",
   "metadata": {},
   "outputs": [],
   "source": [
    "%matplotlib inline\n",
    "%matplotlib widget\n",
    "fig = plt.figure()\n",
    "prop = 'temp_dstr__degC'\n",
    "df_predicted[prop].plot.hist(bins=100, alpha=0.5, title = prop, density=True)\n"
   ]
  },
  {
   "cell_type": "code",
   "execution_count": null,
   "id": "4ab92622-80d8-4707-ae4b-2b9dbf91933a",
   "metadata": {},
   "outputs": [],
   "source": [
    "water_volumetric_heat_capacity__J_dm_3_K_1(df_predicted['temp_dstr__degC'].min(), heat_dstr_nl_avg_abs__Pa)"
   ]
  },
  {
   "cell_type": "code",
   "execution_count": null,
   "id": "001c7e41-3fb1-465c-8139-04532c3ebd90",
   "metadata": {},
   "outputs": [],
   "source": [
    "water_volumetric_heat_capacity__J_dm_3_K_1(df_predicted['temp_dstr__degC'].max(), heat_dstr_nl_avg_abs__Pa)"
   ]
  },
  {
   "cell_type": "code",
   "execution_count": null,
   "id": "5c6f7cfd-1bed-48b3-94ba-09ba886e3f86",
   "metadata": {},
   "outputs": [],
   "source": [
    "%%time\n",
    "df_predicted_clean = df_predicted.dropna(subset=['temp_dstr__degC'])\n",
    "step_degC = 0.5  # Desired bin step size\n",
    "temp_dstr_min__degC = np.floor(df_predicted_clean['temp_dstr__degC'].min() / step_degC) * step_degC\n",
    "temp_dstr_max__degC = np.ceil(df_predicted_clean['temp_dstr__degC'].max() / step_degC) * step_degC\n",
    "\n",
    "# Generate bins with the exact step size\n",
    "temp_dstr_range__degC = np.arange(temp_dstr_min__degC, temp_dstr_max__degC + step_degC, step_degC)\n",
    "\n",
    "# Compute the histogram\n",
    "temp_dstr_bin_counts__degC, bin_edges = np.histogram(df_predicted_clean['temp_dstr__degC'], bins=len(temp_dstr_range__degC), density=True)\n",
    "\n",
    "# Use midpoints of bins as the temp range reference points\n",
    "temp_dstr_bin_centers__degC = (bin_edges[:-1] + bin_edges[1:]) / 2\n",
    "\n",
    "# Compute volumetric heat capacity using CoolProp\n",
    "volumetric_heat_capacity = water_volumetric_heat_capacity__J_dm_3_K_1(temp_dstr_bin_centers__degC, np.array(heat_dstr_nl_avg_abs__Pa))\n",
    "\n",
    "# Fit a polynomial\n",
    "degree = 3  # Try different degrees (3-5) for best fit\n",
    "coeffs = np.polyfit(temp_dstr_bin_centers__degC, volumetric_heat_capacity, degree, w=temp_dstr_bin_counts__degC)"
   ]
  },
  {
   "cell_type": "code",
   "execution_count": null,
   "id": "86763220-d062-4ab1-b3bf-b9631ecae92d",
   "metadata": {},
   "outputs": [],
   "source": [
    "list(coeffs)"
   ]
  },
  {
   "cell_type": "code",
   "execution_count": null,
   "id": "4c6a7b4d-255e-467e-b066-40410d2b7cb3",
   "metadata": {},
   "outputs": [],
   "source": [
    "poly_fit = np.polyval(coeffs, temp_dstr_bin_centers__degC)"
   ]
  },
  {
   "cell_type": "code",
   "execution_count": null,
   "id": "f7b3254e-4d1b-4e81-a545-7f171ca9e42c",
   "metadata": {},
   "outputs": [],
   "source": [
    "# Plot results\n",
    "fig = plt.figure()\n",
    "plt.plot(temp_dstr_bin_centers__degC, volumetric_heat_capacity, 'o', label='CoolProp Data')\n",
    "plt.plot(temp_dstr_bin_centers__degC, poly_fit, '-', label=f'Weighted Poly Fit (deg {degree})')\n",
    "plt.xlabel('Temperature [°C]')\n",
    "plt.ylabel('Volumetric Heat Capacity [J/(dm³·K)]')\n",
    "plt.legend()\n",
    "plt.show()\n",
    "\n",
    "# Print polynomial coefficients\n",
    "print(\"Polynomial Coefficients:\", coeffs)\n",
    "\n",
    "# Compute Errors\n",
    "errors = poly_fit - volumetric_heat_capacity\n",
    "absolute_errors = np.abs(errors)\n",
    "\n",
    "# Compute Errors\n",
    "errors = poly_fit - volumetric_heat_capacity\n",
    "absolute_errors = np.abs(errors)\n",
    "\n",
    "# Weighted Mean Error (WME) using np.average\n",
    "weighted_mean_error = np.average(errors, weights=temp_dstr_bin_counts__degC)\n",
    "\n",
    "# Weighted Mean Absolute Error (WMAE) using np.average\n",
    "weighted_mean_absolute_error = np.average(absolute_errors, weights=temp_dstr_bin_counts__degC)\n",
    "\n",
    "print(f\"Weighted Mean Error (WME): {weighted_mean_error}  [J/(dm³·K)]\")\n",
    "print(f\"Weighted Mean Absolute Error (WMAE): {weighted_mean_absolute_error}  [J/(dm³·K)]\")\n"
   ]
  }
 ],
 "metadata": {
  "kernelspec": {
   "display_name": "Python 3 (ipykernel)",
   "language": "python",
   "name": "python3"
  },
  "language_info": {
   "codemirror_mode": {
    "name": "ipython",
    "version": 3
   },
   "file_extension": ".py",
   "mimetype": "text/x-python",
   "name": "python",
   "nbconvert_exporter": "python",
   "pygments_lexer": "ipython3",
   "version": "3.11.6"
  }
 },
 "nbformat": 4,
 "nbformat_minor": 5
}
